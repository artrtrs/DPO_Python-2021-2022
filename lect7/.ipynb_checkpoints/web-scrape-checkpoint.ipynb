{
 "cells": [
  {
   "cell_type": "markdown",
   "metadata": {},
   "source": [
    "# Python для анализа данных\n",
    "\n",
    "*Алла Тамбовцева, НИУ ВШЭ*"
   ]
  },
  {
<<<<<<< Updated upstream
<<<<<<< Updated upstream
   "cell_type": "code",
   "execution_count": 29,
   "metadata": {},
   "outputs": [
    {
     "name": "stdout",
     "output_type": "stream",
     "text": [
      "Ошибка\n"
     ]
    }
   ],
   "source": [
    "# необходимо проверить правильная ли последовательность скобок\n",
    "# например, это удобный способ для парсинга html: например, <> - аналог (), </> - аналог {}\n",
    "s = '[]()[[[[(((())))]]]]{{[()]}}'\n",
    "#s = '[[]]'\n",
    "\n",
    "stack = []\n",
    "#stack[0] = s[0]\n",
    "nErr = 0\n",
    "\n",
    "for x in s:\n",
    "    if x in ('[', '(', '{'):\n",
    "        stack.append(x)\n",
    "    else:\n",
    "        if(len(stack)>0):\n",
    "            prev = stack[-1]\n",
    "        \n",
    "            if (x == '}' and prev != '{'):\n",
    "                nErr += 1\n",
    "            elif (x == ')' and prev != '('):\n",
    "                nErr += 1\n",
    "            elif (x == ']' and prev != '['):\n",
    "                nErr += 1\n",
    " \n",
    "if nErr > 0:\n",
    "    print('Ошибка')\n",
    "else:\n",
    "    print('Все ок')\n",
    "#print(stack)\n",
    "    \n"
   ]
  },
  {
=======
>>>>>>> Stashed changes
=======
>>>>>>> Stashed changes
   "cell_type": "markdown",
   "metadata": {},
   "source": [
    "## Web-scraping\n",
    "\n",
    "Мы уже немного познакомились со структурой html-файлов, теперь попробуем выгрузить информацию из реальной страницы, а точнее, с реального сайта [nplus1.ru](https://nplus1.ru/).\n",
    "\n",
    "**Наша задача:** выгрузить недавние новости в датафрейм `pandas`, чтобы потом сохранить все в csv-файл.\n",
    "\n",
    "Сначала сгрузим весь html-код страницы и сохраним его в отдельную переменную. Для этого нам понадобится библиотека `requests`. Импортируем её:"
   ]
  },
  {
   "cell_type": "code",
<<<<<<< Updated upstream
<<<<<<< Updated upstream
   "execution_count": 30,
=======
   "execution_count": 1,
>>>>>>> Stashed changes
=======
   "execution_count": 1,
>>>>>>> Stashed changes
   "metadata": {},
   "outputs": [],
   "source": [
    "import requests"
   ]
  },
  {
   "cell_type": "markdown",
   "metadata": {},
   "source": [
    "Сохраним ссылку на главную страницу сайта в переменную `url` для удобства и выгрузим страницу. (Разумеется, это будет работать при подключении к интернету. Если соединение будет отключено, Python выдаст `NewConnectionError`)."
   ]
  },
  {
   "cell_type": "code",
<<<<<<< Updated upstream
<<<<<<< Updated upstream
   "execution_count": 32,
=======
   "execution_count": 2,
>>>>>>> Stashed changes
=======
   "execution_count": 2,
>>>>>>> Stashed changes
   "metadata": {},
   "outputs": [],
   "source": [
    "url = 'https://nplus1.ru/' # сохраняем\n",
    "page = requests.get(url) # загружаем страницу по ссылке"
   ]
  },
  {
   "cell_type": "markdown",
   "metadata": {},
   "source": [
    "Если мы просто посмотрим на объект, мы ничего особенного не увидим:"
   ]
  },
  {
   "cell_type": "code",
<<<<<<< Updated upstream
<<<<<<< Updated upstream
   "execution_count": 33,
=======
   "execution_count": 3,
>>>>>>> Stashed changes
=======
   "execution_count": 3,
>>>>>>> Stashed changes
   "metadata": {},
   "outputs": [
    {
     "data": {
      "text/plain": [
       "<Response [200]>"
      ]
     },
<<<<<<< Updated upstream
<<<<<<< Updated upstream
     "execution_count": 33,
=======
     "execution_count": 3,
>>>>>>> Stashed changes
=======
     "execution_count": 3,
>>>>>>> Stashed changes
     "metadata": {},
     "output_type": "execute_result"
    }
   ],
   "source": [
    "page  # response 200 - страница загружена"
   ]
  },
  {
<<<<<<< Updated upstream
<<<<<<< Updated upstream
   "cell_type": "code",
   "execution_count": 38,
   "metadata": {},
   "outputs": [
    {
     "data": {
      "text/plain": [
       "'<!doctype html>\\n<html class=\"no-js bg-fixed \" style=\"background-image:url(https://nplus1.ru/images/2021/09/28/6dcddecc418eb2afd45b87260f5b168f.jpg)\" lang=\"\">\\n<head>\\n    \\n    <meta charset=\"utf-8\">\\n    <meta http-equiv=\"x-ua-compatible\" content=\"ie=edge\">\\n    <meta name=\"viewport\" content=\"width=device-width, initial-scale=1\">\\n        <meta name=\"apple-mobile-web-app-capable\" content=\"yes\">\\n    <meta name=\"apple-mobile-web-app-status-bar-style\" content=\"black\">\\n                <meta name=\\'wmail-verification\\' content=\\'7991d7eb02d759f05b9050e111a7e3eb\\' />\\n\\n    <link rel=\"canonical\" href=\"https://nplus1.ru\" />\\n\\n        <title>N+1: научные статьи, новости, открытия</title>\\n\\n    \\t\\n\\t\\n    \\n\\n        <!-- for Google -->\\n        <meta name=\"description\" content=\"N+1: научные статьи, новости, открытия\" />\\n        \\n        <meta name=\"author\" content=\"\" />\\n        <meta name=\"copyright\" content=\"\" />\\n\\n        <!-- for Facebook -->\\n        <meta property=\"og:title\" content=\"N+1: научные статьи, новости, открытия\" />\\n                <meta property=\"og:image\" content=\"https://nplus1.ru/i/logo.png\" />\\n        <meta property=\"og:url\" content=\"https://nplus1.ru\" />\\n        <meta property=\"og:description\" content=\"N+1: научные статьи, новости, открытия\" />\\n        <!-- for Twitter -->\\n        <meta name=\"twitter:card\" content=\"summary_large_image\">\\n        <meta name=\"twitter:site\" content=\"@nplusodin\" />\\n        <meta name=\"twitter:title\" content=\"N+1: научные статьи, новости, открытия\" />\\n        <meta name=\"twitter:description\" content=\"N+1: научные статьи, новости, открытия\" />\\n        <meta name=\"twitter:image\" content=\"https://nplus1.ru/i/logo.png\" />\\n        \\n        <meta name=\"yandex-verification\" content=\"8c90b02c84ac3b72\" />\\n        \\n\\n        <link rel=\\'alternate\\' type=\\'application/rss+xml\\' title=\\'RSS\\' href=\\'https://nplus1.ru/rss\\'>\\n\\n    <link rel=\"stylesheet\" href=\"/css/font-awesome.min.css\">\\n    <link rel=\"stylesheet\" href=\"/css/main.min.css?v=1631810034\">\\n    <link rel=\"stylesheet\" href=\"/css/desktop.min.css?v=1452887696\">\\n    <link rel=\"stylesheet\" href=\"/css/tablet.min.css?v=1499281342\">\\n    <link rel=\"stylesheet\" href=\"/css/mobile.min.css?v=1603187018\">\\n    \\n    <script src=\"//ajax.googleapis.com/ajax/libs/jquery/1.11.2/jquery.min.js\"></script>\\n\\n    <script src=\"//cdnjs.cloudflare.com/ajax/libs/modernizr/2.8.3/modernizr.min.js\"></script>     \\n    \\n            <script type=\"text/javascript\" src=\"/js/lib/adfox.asyn.code.ver3.js\"> </script>\\n\\t\\t<script type=\"text/javascript\" src=\"/js/lib/adfox.asyn.code.scroll.js\"> </script>\\n\\t    <script src=\"https://yastatic.net/pcode/adfox/loader.js\" crossorigin=\"anonymous\"></script>\\n        <script async id=\"__lxGc__rtr\" type=\"text/javascript\" src=\"//s.clickiocdn.com/t/195458/360.js\"></script>\\n        <script async type=\"text/javascript\" src=\"//s.luxupcdnc.com/t/common_402.js\"></script>\\t\\t\\n\\n\\t\\t<!--  ad -->\\n\\t\\t<script type=\"text/javascript\">\\n\\t\\t    var __colAdLoaded = false;\\n\\t\\t    var __topAdLoaded = false;\\n\\t\\t    \\n\\t\\t    var __id = \"\";\\n\\t\\t    \\n\\t\\t    function detectAd(id){\\n\\t\\t        var _ad = document.getElementById(\"AdFox_banner_\"+id);\\n\\t\\t    \\t    console.debug(_ad);\\n\\t\\t        \\n\\t\\t        __id = id;\\n\\t\\t        if(_ad != null && _ad.innerHTML == \"\"){\\n\\t\\t            $(\".col-ad\").remove();\\n\\t\\t        }\\n\\t\\t        __colAdLoaded = true;\\n\\t\\t    }\\n\\t\\t    function detectAdTop(id){\\n\\t\\t        __topAdLoaded = true;\\n\\t\\t    }\\n\\t\\t</script>\\n\\t\\t<!-- /ad -->\\n\\t\\t\\n\\t\\t\\n\\t\\t    \\n\\n\\n<script type=\"application/ld+json\"> { \"@context\": \"http://schema.org\", \"@type\": \"WebSite\", \"url\": \"https://nplus1.ru\", \"name\": \"N+1: научные статьи, новости, открытия\", \"description\": \"N+1: научные статьи, новости, открытия\", \"image\": \"https://nplus1.ru/i/logo.png\", \"publisher\": { \"@type\": \"Organization\", \"name\": \"N+1\", \"logo\": { \"@type\":\"ImageObject\", \"url\": \"https://nplus1.ru/i/logo-alt.png\" }, \"sameAs\": [ \"https://www.facebook.com/nplusone\", \"https://twitter.com/nplusodin\", \"https://vk.com/nplusone\", \"https://ok.ru/nplus1\", \"https://soundcloud.com/nplus_1\", \"https://t.me/nplusone\" ] }, \"potentialAction\":{ \"@type\":\"SearchAction\", \"target\":\"https://nplus1.ru/search?q={search_term_string}\", \"query-input\":\"required name=search_term_string\" } } </script>\\n</head>\\n<body style=\"background-image:url(https://nplus1.ru/images/2021/09/28/6dcddecc418eb2afd45b87260f5b168f.jpg)\" class=\"_main  \">\\n\\n<div class=\"shadow-overlay\"></div>\\n<link property=\\'\\' rel=\\'stylesheet\\' href=\\'//s.luxupcdnc.com/cp/all/cookies_policy.css\\' />\\n<script type=\\'text/javascript\\'>_cookies_policy = {dark:0,bottom:1,text:\\'Этот сайт использует cookies для улучшения качества работы\\',link:\\'Подробнее\\',href:\\'https://nplus1.ru/cookies-policy\\',button:\\'Закрыть\\'};</script>\\n<script async type=\\'text/javascript\\' src=\\'//s.luxupcdnc.com/cp/all/cookies_policy.js\\'></script>\\n\\n\\n\\n\\n\\n\\n\\n    <div id=\"viewport\">\\n\\t<div id=\"shadow\"></div>\\n        <div class=\"ad ad-top\">\\n        \\n                                                    \\n                    <!--AdFox START-->\\n<!--yandex_nplus1adv-->\\n<!--Площадка: N + 1 / * / *-->\\n<!--Тип баннера: Растяжка_100%х250-->\\n<!--Расположение: <верх страницы>-->\\n<div id=\"adfox_162739969569252320\"></div>\\n<script>\\n    window.yaContextCb.push(()=>{\\n        Ya.adfoxCode.create({\\n            ownerId: 386110,\\n        containerId: \\'adfox_162739969569252320\\',\\n            params: {\\n                pp: \\'g\\',\\n            ps: \\'fbio\\',\\n            p2: \\'hhkj\\'\\n            }\\n        })\\n    })\\n</script>\\n\\n\\n\\n\\t\\t  \\n            \\n        </div>\\n        <header id=\"header-mobile\">\\n            \\n            <div class=\"container\">\\n                <a href=\"#\" class=\"action-menu pull-left\"><i class=\"icon icon-navicon\"></i></a>\\n                <a href=\"/\" class=\"link-logo\"><img src=\"/i/logo-mobile.png\"/></a>\\n                <a href=\"#\" class=\"action-search pull-right\"><i class=\"icon icon-search\"></i></a>\\n                <form action=\"/search\" method=\"get\" class=\"form-search\">\\n                    <div class=\"control\">\\n                        <input type=\"text\" name=\"q\" placeholder=\"Найти\" value=\"\"/>\\n                    </div>\\n                    <a href=\"#\" class=\"action-search-close\">×</a>\\n                </form>\\n            </div>\\n            <nav class=\"nav-rubrics\">\\n    <ul>\\n                <li>\\n            <a href=\"/rubric/astronomy\" class=\"\">Астрономия</a>\\n        </li>    \\n                <li>\\n            <a href=\"/rubric/physics\" class=\"\">Физика</a>\\n        </li>    \\n                <li>\\n            <a href=\"/rubric/biology\" class=\"\">Биология</a>\\n        </li>    \\n                <li>\\n            <a href=\"/rubric/robots-drones\" class=\"\">Роботы и дроны</a>\\n        </li>    \\n        \\n                                    <li>\\n                    <a href=\"/theme/explainatorium\" class=\"\">Давайте разберемся</a>\\n                </li>\\n                            <li>\\n                    <a href=\"/theme/bookshelf\" class=\"\">Книжная полка</a>\\n                </li>\\n                            <li>\\n                    <a href=\"/theme/Courses\" class=\"\">Курсы</a>\\n                </li>\\n                            <li>\\n                    <a href=\"/theme/coronavirus-history\" class=\"\">Коронавирусные хроники</a>\\n                </li>\\n                            <li>\\n                    <a href=\"/theme/offline\" class=\"\">N + Offline</a>\\n                </li>\\n                    \\n            </ul>\\n</nav>\\n\\n        </header>\\n        \\n    \\n        <div id=\"layout\" class=\"js-mediator-container\">\\n            <!-- header -->\\n                        <header id=\"header\" class=\"_middle\">\\n    <div class=\"row\">\\n        \\n        <div class=\"col col-logo\">\\n            <a href=\"/\" class=\"link-logo\"></a>\\n        </div>\\n        <div class=\"col col-nav-main\">\\n            <form action=\"/search\" method=\"get\" class=\"form-search\">\\n                <div class=\"control\">\\n                    <input type=\"text\" name=\"q\" placeholder=\"Найти\" value=\"\"/>\\n                </div>\\n                <a href=\"#\" class=\"action-search-close\">×</a>\\n            </form>\\n            \\n            <nav class=\"nav-rubrics\">\\n    <ul>\\n                <li>\\n            <a href=\"/rubric/astronomy\" class=\"\">Астрономия</a>\\n        </li>    \\n                <li>\\n            <a href=\"/rubric/physics\" class=\"\">Физика</a>\\n        </li>    \\n                <li>\\n            <a href=\"/rubric/biology\" class=\"\">Биология</a>\\n        </li>    \\n                <li>\\n            <a href=\"/rubric/robots-drones\" class=\"\">Роботы и дроны</a>\\n        </li>    \\n        \\n        \\n                <li>\\n            <a href=\"#\" class=\"action-search\"><i class=\"icon icon-search\"></i></a>\\n        </li>\\n            </ul>\\n</nav>            <nav class=\"nav-themes\">\\n    <ul>\\n                <li data-name=\"explainatorium\">\\n            <a href=\"/theme/explainatorium\" class=\"\">Давайте разберемся</a>\\n        </li>    \\n                <li data-name=\"bookshelf\">\\n            <a href=\"/theme/bookshelf\" class=\"\">Книжная полка</a>\\n        </li>    \\n                <li data-name=\"Courses\">\\n            <a href=\"/theme/Courses\" class=\"\">Курсы</a>\\n        </li>    \\n                <li data-name=\"coronavirus-history\">\\n            <a href=\"/theme/coronavirus-history\" class=\"\">Коронавирусные хроники</a>\\n        </li>    \\n                <li data-name=\"offline\">\\n            <a href=\"/theme/offline\" class=\"\">N + Offline</a>\\n        </li>    \\n            </ul>\\n</nav>            \\n        </div>\\n    </div>\\n        <div class=\"container line-up\">\\n        <div class=\"line line-second\">\\n                                            <a href=\"https://nplus1.ru/blog/2021/09/27/Its-The-end-of-the-world\" class=\"action-line-toggle\">\\n                    <div class=\"heading\"><span></span></div>\\n                </a>\\n                                <a href=\"https://nplus1.ru/blog/2021/09/27/Its-The-end-of-the-world\" class=\"container-link\">\\n                    <div class=\"heading\"><span>Книжная полка</span></div>\\n                    <div class=\"link\"><span>Адам Робертс &laquo;Вот и всё. Зачем мы пугаем себя концом света?&raquo;</span></div>\\n                </a>\\n                                <a href=\"https://nplus1.ru/blog/2021/09/23/cosmological-koans\" class=\"container-link\">\\n                    <div class=\"heading\"><span>Книжная полка</span></div>\\n                    <div class=\"link\"><span>Энтони Агирре &laquo;Космологические коаны. Путешествие в самое сердце физической реальности&raquo;</span></div>\\n                </a>\\n                                <a href=\"https://nplus1.ru/blog/2021/09/21/the-French-Revolution\" class=\"container-link\">\\n                    <div class=\"heading\"><span>Премия &laquo;Просветитель&raquo;</span></div>\\n                    <div class=\"link\"><span>Дмитрий Бовыкин, Дмитрий Чудинов &laquo;Французская революция&raquo;</span></div>\\n                </a>\\n                                <a href=\"https://nplus1.ru/blog/2021/09/16/lone-survivors\" class=\"container-link\">\\n                    <div class=\"heading\"><span>Книжная полка</span></div>\\n                    <div class=\"link\"><span>Крис Стрингер &laquo;Остались одни. Единственный вид людей на земле&raquo;</span></div>\\n                </a>\\n                                <a href=\"https://nplus1.ru/blog/2021/09/14/bones-inside-and-out\" class=\"container-link\">\\n                    <div class=\"heading\"><span>Книжная полка</span></div>\\n                    <div class=\"link\"><span>Рой Миллз &laquo;Кости: внутри и снаружи&raquo;</span></div>\\n                </a>\\n                                <a href=\"https://nplus1.ru/blog/2021/09/09/13lost\" class=\"container-link\">\\n                    <div class=\"heading\"><span>Время удивительных историй</span></div>\\n                    <div class=\"link\"><span>Берестяная грамота, которая нашлась дважды</span></div>\\n                </a>\\n                                <a href=\"https://nplus1.ru/blog/2021/09/08/when-the-earth-had-two-moons\" class=\"container-link\">\\n                    <div class=\"heading\"><span>Книжная полка</span></div>\\n                    <div class=\"link\"><span>Эрик Асфог &laquo;Когда у Земли было две Луны: Планеты-каннибалы, ледяные гиганты, грязевые кометы и другие светила ночного неба&raquo;</span></div>\\n                </a>\\n                                <a href=\"https://nplus1.ru/blog/2021/09/06/stress-pain-and-opioids\" class=\"container-link\">\\n                    <div class=\"heading\"><span>Премия &laquo;Просветитель&raquo;</span></div>\\n                    <div class=\"link\"><span>Сергей Парин &laquo;Стресс, боль и опиоиды. Об эндорфинах и не только&raquo;</span></div>\\n                </a>\\n                                <a href=\"https://nplus1.ru/blog/2021/08/27/infinite-powers\" class=\"container-link\">\\n                    <div class=\"heading\"><span>Книжная полка</span></div>\\n                    <div class=\"link\"><span>Стивен Строгац &laquo;Бесконечная сила. Как математический анализ раскрывает тайны Вселенной&raquo; </span></div>\\n                </a>\\n                                                \\t\\t           \\t<a href=\"https://nplus1.ru/blog/2021/09/28/unsere-welt-neu-denken\" class=\"container-link active\">\\n        \\t        \\t<div class=\"heading\"><span>Книжная полка</span></div>\\n            \\t    \\t<div class=\"link\"><span>Майя Гёпель &laquo;Мир после нас: Как не дать планете погибнуть&raquo;</span></div>\\n\\t\\t            </a>\\n\\t                                    \\n            <!-- here -->\\n                    </div>\\n        \\n    </div>\\n    </header>                        <!-- /header -->\\n            <!--  hero -->\\n                                    <!-- /hero -->\\n            <!-- main section -->\\n            <section id=\"main\">\\n                \\n                    \\n    \\n    \\n    <!--   dynamic content -->\\n                    <div class=\"row\" data-adaptive=\"1\" data-middle-class=\"row-wrap _indent-bottom-no\" data-tablet-class=\"row-wrap\" data-mobile-class=\"row-wrap\">\\n    <div class=\"col col-2\" data-adaptive=\"1\" data-mobile-toggle=\"col-2 col-1\">\\n        <article class=\"item item-main item-main-  _exist-image\" data-relevance=\"\" data-image=\"\" style=background-image:url(https://nplus1.ru/images/2021/09/28/225b9d2b834b7a0b6b499fc443b8dd32.gif)>\\n\\n    <a href=\"/news/2021/09/28/desmodus-rotundus\" data-id=\"30762\" >\\n        <div class=\"caption\">\\n                                                                    \\n                \\n                                <div class=\"date\">\\n                    <span class=\"name\" title=\"2021-09-28\">21:05</span>\\n                </div>\\n                                \\n                                    <h3>Самки обыкновенных вампиров попили крови вместе с подругами и родственницами</h3>\\n                                \\n                \\n                \\n                \\n                \\n                                                </div>\\n    </a>\\n    </article>    </div>\\n    <div class=\"col col-1 col-ad-prev\" data-adaptive=\"1\" data-middle-class=\"_swap col-1 _indent-bottom\">\\n                                <article class=\"item item-news item-news-  _exist-image\" data-relevance=\"\" data-image=\"\" >\\n\\n    <a href=\"/news/2021/09/28/starlink-geo\" data-id=\"30756\" >\\n        <div class=\"caption\">\\n                                                                    \\n                \\n                                <div class=\"date\">\\n                    <span class=\"name\" title=\"2021-09-28\">19:52</span>\\n                </div>\\n                                \\n                                    <h3>Сигналы Starlink и высотомер использовали для геолокации с точностью в несколько метров</h3>\\n                                \\n                \\n                \\n                \\n                \\n                                                </div>\\n    </a>\\n    </article>                                            <article class=\"item item-news item-news-  _exist-image\" data-relevance=\"\" data-image=\"\" >\\n\\n    <a href=\"/news/2021/09/28/grs-hubble\" data-id=\"30763\" >\\n        <div class=\"caption\">\\n                                                                    \\n                \\n                                <div class=\"date\">\\n                    <span class=\"name\" title=\"2021-09-28\">19:13</span>\\n                </div>\\n                                \\n                                    <h3>&laquo;Хаббл&raquo; выявил увеличение скорости ветра в Большом Красном Пятне</h3>\\n                                \\n                \\n                \\n                \\n                \\n                                                </div>\\n    </a>\\n    </article>                                            <article class=\"item item-news item-news-  _exist-image\" data-relevance=\"\" data-image=\"\" >\\n\\n    <a href=\"/news/2021/09/28/twins-methylation\" data-id=\"30760\" >\\n        <div class=\"caption\">\\n                                                                    \\n                \\n                                <div class=\"date\">\\n                    <span class=\"name\" title=\"2021-09-28\">18:00</span>\\n                </div>\\n                                \\n                                    <h3>У однояйцевых близнецов обнаружили общий паттерн метилирования ДНК</h3>\\n                                \\n                \\n                \\n                \\n                \\n                                                </div>\\n    </a>\\n    </article>                        </div>\\n    <div class=\"col col-1 _tablet-hidden col-ad\" data-adaptive=\"1\" data-middle-class=\"col-1 _swap _indent-bottom\" data-mobile-class=\"col-1 _indent-bottom\">\\n        <div class=\"ad ad-col border\">\\n\\t            </div>\\n    </div>\\n    <div class=\"col col-1 col-ad-next\" data-adaptive=\"1\" data-middle-class=\"col-full _indent-bottom-no\">\\n                                <article class=\"item item-news item-news-  _exist-image\" data-relevance=\"\" data-image=\"\" >\\n\\n    <a href=\"/news/2021/09/28/block3\" data-id=\"30764\" >\\n        <div class=\"caption\">\\n                                                                    \\n                \\n                                <div class=\"date\">\\n                    <span class=\"name\" title=\"2021-09-28\">17:53</span>\\n                </div>\\n                                \\n                                    <h3>Американцы получили обновленную версию Super Hornet</h3>\\n                                \\n                \\n                \\n                \\n                \\n                                                </div>\\n    </a>\\n    </article>                                            <article class=\"item item-news item-news-  _exist-image\" data-relevance=\"\" data-image=\"\" >\\n\\n    <a href=\"/news/2021/09/28/wasp-127-clouds\" data-id=\"30734\" >\\n        <div class=\"caption\">\\n                                                                    \\n                \\n                                <div class=\"date\">\\n                    <span class=\"name\" title=\"2021-09-28\">16:33</span>\\n                </div>\\n                                \\n                                    <h3>Астрономы измерили высоту облачного слоя на горячем сатурне с большой точностью</h3>\\n                                \\n                \\n                \\n                \\n                \\n                                                </div>\\n    </a>\\n    </article>                                            <article class=\"item item-news item-news-  _exist-image\" data-relevance=\"\" data-image=\"\" >\\n\\n    <a href=\"/news/2021/09/28/merlin\" data-id=\"30759\" >\\n        <div class=\"caption\">\\n                                                                    \\n                \\n                                <div class=\"date\">\\n                    <span class=\"name\" title=\"2021-09-28\">14:38</span>\\n                </div>\\n                                \\n                                    <h3>Смоленский НИИ разработал разведывательный беспилотник &laquo;Мерлин-ВР&raquo;</h3>\\n                                \\n                \\n                \\n                \\n                \\n                                                </div>\\n    </a>\\n    </article>                        </div>\\n</div>\\n<div class=\"row\" data-adaptive=\"1\" data-middle-class=\"row-wrap\" data-tablet-class=\"row-wrap\" data-mobile-class=\"row-wrap\">\\n    <!--  fixed 8 -->\\n                <div class=\"col col-2\" data-adaptive=\"1\" data-middle-toggle=\"col-2 col-3\" data-mobile-toggle=\"col-2 col-1\" data-tablet-class=\"col-1\">\\n        <article class=\"item item-article item-article-secondary  _exist-image\" data-relevance=\"\" data-image=\"https://nplus1.ru/images/2021/07/14/b8157a16e88b15b4479f7651c9164603.jpg\" style=background-image:url(https://nplus1.ru/images/2021/07/14/3c0c65e4e131ac78914a5c8cb91b5e8a.jpg)>\\n\\n    <a href=\"/material/2021/09/28/animals-have-it\" data-id=\"29492\" >\\n        <div class=\"caption\">\\n                                                                                    <h3>Древняя натура</h3>\\n                    <p class=\"subtitle\">Что мы узнали о вредных привычках благодаря животным</p>\\n                                    </div>\\n    </a>\\n        <nav class=\"nav-rubricator\">\\n        <ul>\\n            \\n                        <li>\\n                <a class=\"link-rubric\" href=\"/rubric/partners\">Партнерский материал</a>\\n            </li>\\n                                    <li>\\n                <a class=\"link-theme\" href=\"/theme/nosmoke\">Когда рассеется дым</a>\\n            </li>\\n                    </ul>\\n    </nav>\\n    </article>    </div>\\n    <div class=\"col col-2\" data-adaptive=\"1\" data-middle-toggle=\"col-2 col-1\" data-mobile-toggle=\"col-2 col-1\" data-tablet-class=\"col-1\">\\n        <article class=\"item item-article item-article-secondary  _exist-image\" data-relevance=\"\" data-image=\"https://nplus1.ru/images/2021/09/28/f6ea5e0ba76d3c8f4b49f22024238284.jpg\" style=background-image:url(https://nplus1.ru/images/2021/09/28/e9075f0fbbdf4101b6705822cafcaecb.jpg)>\\n\\n    <a href=\"/news/2021/09/28/tissue-or-landscape\" data-id=\"30618\" >\\n        <div class=\"caption\">\\n                                                                                    <h3>Космос внутри</h3>\\n                    <p class=\"subtitle\">Отличите ли вы спутниковый снимок от среза человеческой ткани</p>\\n                                    </div>\\n    </a>\\n        <nav class=\"nav-rubricator\">\\n        <ul>\\n            \\n                        <li>\\n                <a class=\"link-rubric\" href=\"/rubric/astronomy\">Астрономия</a>\\n            </li>\\n                                    <li>\\n                <a class=\"link-theme\" href=\"/theme/bellezza\">Красота</a>\\n            </li>\\n                    </ul>\\n    </nav>\\n    </article>    </div>\\n        <!-- /fixed 8 -->\\n</div>\\n\\n<div class=\"row\" data-adaptive=\"1\" data-middle-class=\"row-wrap\" data-tablet-class=\"row-wrap\" data-mobile-class=\"row-wrap\">\\n    <div class=\"col col-1\"  data-adaptive=\"1\" data-middle-class=\"col-1 _indent-bottom\" data-tablet-class=\"col-1 _indent-bottom\">\\n                                <article class=\"item item-news item-news-  _exist-image\" data-relevance=\"\" data-image=\"\" >\\n\\n    <a href=\"/news/2021/09/28/dolmen-spain\" data-id=\"30754\" >\\n        <div class=\"caption\">\\n                                                                    \\n                \\n                                <div class=\"date\">\\n                    <span class=\"name\" title=\"2021-09-28\">13:46</span>\\n                </div>\\n                                \\n                                    <h3>Древние жители Испании захоронили кремированные останки в коридорной гробнице</h3>\\n                                \\n                \\n                \\n                \\n                \\n                                                </div>\\n    </a>\\n    </article>                                            <article class=\"item item-news item-news-  _exist-image\" data-relevance=\"\" data-image=\"\" >\\n\\n    <a href=\"/news/2021/09/28/life-covid\" data-id=\"30753\" >\\n        <div class=\"caption\">\\n                                                                    \\n                \\n                                <div class=\"date\">\\n                    <span class=\"name\" title=\"2021-09-28\">11:46</span>\\n                </div>\\n                                \\n                                    <h3>Ожидаемая продолжительность жизни европейцев за пандемию снизилась на 0,5&ndash;1,7 года</h3>\\n                                \\n                \\n                \\n                \\n                \\n                                                </div>\\n    </a>\\n    </article>                                            <article class=\"item item-news item-news-  _exist-image\" data-relevance=\"\" data-image=\"\" >\\n\\n    <a href=\"/news/2021/09/28/hawc\" data-id=\"30755\" >\\n        <div class=\"caption\">\\n                                                                    \\n                \\n                                <div class=\"date\">\\n                    <span class=\"name\" title=\"2021-09-28\">11:32</span>\\n                </div>\\n                                \\n                                    <h3>Американцы успешно запустили гиперзвуковую ракету HAWC</h3>\\n                                \\n                \\n                \\n                \\n                \\n                                                </div>\\n    </a>\\n    </article>                        </div>\\n    \\n        <div class=\"col col-1 _swap\" data-adaptive=\"1\" data-desktop-swap=\"0\" data-tablet-swap=\"0\" data-middle-class=\"col-full\" data-tablet-class=\"col-1 _indent-bottom _indent-right-no\">\\n            \\n                                <article class=\"item item-news item-news-  _exist-image\" data-relevance=\"\" data-image=\"\" >\\n\\n    <a href=\"/news/2021/09/28/seated-burials\" data-id=\"30750\" >\\n        <div class=\"caption\">\\n                                                                    \\n                \\n                                <div class=\"date\">\\n                    <span class=\"name\" title=\"2021-09-28\">10:57</span>\\n                </div>\\n                                \\n                                    <h3>Сидячие захоронения из Волго-Уралья датировали финалом средней бронзы</h3>\\n                                \\n                \\n                \\n                \\n                \\n                                                </div>\\n    </a>\\n    </article>                                            <article class=\"item item-news item-news-  _exist-image\" data-relevance=\"\" data-image=\"\" >\\n\\n    <a href=\"/news/2021/09/28/archaehierax-sylvestris\" data-id=\"30752\" >\\n        <div class=\"caption\">\\n                                                                    \\n                \\n                                <div class=\"date\">\\n                    <span class=\"name\" title=\"2021-09-28\">09:36</span>\\n                </div>\\n                                \\n                                    <h3>Австралийцы описали &laquo;лесного древнего ястреба&raquo; возрастом 25 миллионов лет</h3>\\n                                \\n                \\n                \\n                \\n                \\n                                                </div>\\n    </a>\\n    </article>                                            <article class=\"item item-news item-news-  _exist-image\" data-relevance=\"\" data-image=\"\" >\\n\\n    <a href=\"/news/2021/09/28/spicomellus-afer\" data-id=\"30729\" >\\n        <div class=\"caption\">\\n                                                                    \\n                \\n                                <div class=\"date\">\\n                    <span class=\"name\" title=\"2021-09-28\">09:11</span>\\n                </div>\\n                                \\n                                    <h3>Древнейшего анкилозавра описали по уникальному шипастому ребру</h3>\\n                                \\n                \\n                \\n                \\n                \\n                                                </div>\\n    </a>\\n    </article>                                </div>\\n    <!--  fixed 15 -->\\n            <div class=\"col col-1\" data-adaptive=\"1\">\\n        <article class=\"item item-blog item-blog-  _exist-image\" data-relevance=\"\" data-image=\"\" style=background-image:url(https://nplus1.ru/images/2021/09/28/5e07a3b165d614cd2e6a0f0fb4af8ad9.jpg)>\\n\\n    <a href=\"/blog/2021/09/28/unsere-welt-neu-denken\" data-id=\"30758\" >\\n        <div class=\"caption\">\\n                                    <div class=\"heading\">\\n                <p>Ex libris/Книжная полка</p>\\n            </div>\\n            <div class=\"author\">\\n    <img class=\"avatar\" src=\"https://nplus1.ru/images/2019/04/09/36720ef38be61db31217d1acaf157f36.jpg\" width=\"90\" height=\"90\" data-mask=\"avatar90\"></img>\\n    <div class=\"meta\">\\n        <p class=\"name\">&laquo;Альпина Паблишер&raquo;</p>\\n        <p class=\"specs\">Книжное издательство</p>\\n    </div>\\n</div>            <div class=\"lead\">\\n                <p>\\n                    Если сохранение, не говоря уж о регенерации, природы несовместимо с постоянным экономическим ростом, следует понизить уровень материального благосостояния. Такой вариант менее популярен, потому что людям придется обходиться меньшим и от многого отказаться.\\n                </p>\\n            </div>\\n                                            </div>\\n    </a>\\n    </article>    </div>\\n        <!-- /fixed 15 -->\\n    <!--  fixed 16 -->\\n            <div class=\"col col-1 _swap\" data-adaptive=\"1\" data-middle-swap=\"0\">\\n        <article class=\"item item-blog item-blog-  _exist-image\" data-relevance=\"\" data-image=\"\" style=background-image:url(https://nplus1.ru/images/2021/09/27/fbf37348d8d95acabc80bded5ba062fc.jpg)>\\n\\n    <a href=\"/blog/2021/09/27/Its-The-end-of-the-world\" data-id=\"30743\" >\\n        <div class=\"caption\">\\n                                    <div class=\"heading\">\\n                <p>Ex libris/Книжная полка</p>\\n            </div>\\n            <div class=\"author\">\\n    <img class=\"avatar\" src=\"https://nplus1.ru/images/2019/08/27/64bd651210ac7351a04bcdac2855a9b8.jpg\" width=\"90\" height=\"90\" data-mask=\"avatar90\"></img>\\n    <div class=\"meta\">\\n        <p class=\"name\">&laquo;Individuum&raquo;  </p>\\n        <p class=\"specs\">Книжное издательство</p>\\n    </div>\\n</div>            <div class=\"lead\">\\n                <p>\\n                    В среднем каждый вид млекопитающих существует около миллиона лет, а потому маловероятно, что мы доживем до момента, когда усиливающийся жар Солнца сделает нашу планету необитаемой. Может, нас тревожит понимание того, что мы разделяем злой рок со Вселенной?\\n                </p>\\n            </div>\\n                                            </div>\\n    </a>\\n    </article>    </div>\\n        <!-- /fixed 16 -->\\n</div>\\n<div class=\"row\" data-adaptive=\"1\" data-middle-class=\"row-wrap\" data-tablet-class=\"row-wrap\" data-mobile-class=\"row-wrap\">\\n    <!--  fixed 17 -->\\n                <div class=\"col col-2\" data-adaptive=\"1\" data-middle-toggle=\"col-2 col-3\" data-mobile-toggle=\"col-2 col-1\" data-tablet-class=\"col-1\">\\n        <article class=\"item item-article item-article-secondary  _exist-image\" data-relevance=\"\" data-image=\"https://nplus1.ru/images/2021/09/24/3698595be07af5d91ffcb48769e3dd1f.gif\" style=background-image:url(https://nplus1.ru/images/2021/09/24/df85cfcc94dd8a8e3f82f2495a5879a2.gif)>\\n\\n    <a href=\"/material/2021/09/24/worms\" data-id=\"30721\" >\\n        <div class=\"caption\">\\n                                                                                    <h3>Владыки вечности</h3>\\n                    <p class=\"subtitle\">Великие черви &laquo;Дюны&raquo; глазами зоологов</p>\\n                                    </div>\\n    </a>\\n        <nav class=\"nav-rubricator\">\\n        <ul>\\n            \\n                        <li>\\n                <a class=\"link-rubric\" href=\"/rubric/mezzanine\">Мезонин</a>\\n            </li>\\n                                </ul>\\n    </nav>\\n    </article>    </div>\\n    <div class=\"col col-2\" data-adaptive=\"1\" data-middle-toggle=\"col-2 col-1\" data-mobile-toggle=\"col-2 col-1\" data-tablet-class=\"col-1\">\\n        <article class=\"item item-article item-article-secondary  _exist-image\" data-relevance=\"\" data-image=\"https://nplus1.ru/images/2021/09/20/51c16bb94c40f3852454640b90b92333.jpg\" style=background-image:url(https://nplus1.ru/images/2021/09/20/4bf78568eba4eb9628884c3ac5f32cda.jpg)>\\n\\n    <a href=\"/material/2021/09/21/apy-13\" data-id=\"30652\" >\\n        <div class=\"caption\">\\n                                                                                    <h3>Небо над нами</h3>\\n                    <p class=\"subtitle\">Победители и призеры конкурса Astronomy Photographer of the Year 2021</p>\\n                                    </div>\\n    </a>\\n        <nav class=\"nav-rubricator\">\\n        <ul>\\n            \\n                        <li>\\n                <a class=\"link-rubric\" href=\"/rubric/astronomy\">Астрономия</a>\\n            </li>\\n                                    <li>\\n                <a class=\"link-theme\" href=\"/theme/aphoto\">Астрофотография</a>\\n            </li>\\n                    </ul>\\n    </nav>\\n    </article>    </div>\\n        <!-- /fixed 17 -->\\n</div>\\n<div class=\"row\" data-adaptive=\"1\" data-middle-class=\"row-wrap\" data-tablet-class=\"row-wrap\" data-mobile-class=\"row-wrap\">\\n    <div class=\"col col-1\"  data-adaptive=\"1\" data-middle-class=\"col-1 _indent-bottom\" data-tablet-class=\"col-1 _indent-bottom\">   \\n                             <article class=\"item item-news item-news-  _exist-image\" data-relevance=\"\" data-image=\"\" >\\n\\n    <a href=\"/news/2021/09/27/SED\" data-id=\"30748\" >\\n        <div class=\"caption\">\\n                                                                    \\n                \\n                                <div class=\"date\">\\n                    <span class=\"name\" title=\"2021-09-27\">вчера</span>\\n                </div>\\n                                \\n                                    <h3>Медики предложили пересмотреть рекомендации по оптимальному пребыванию на солнце</h3>\\n                                \\n                \\n                \\n                \\n                \\n                                                </div>\\n    </a>\\n    </article>                                 <article class=\"item item-news item-news-  _exist-image\" data-relevance=\"\" data-image=\"\" >\\n\\n    <a href=\"/news/2021/09/27/darpa-subt\" data-id=\"30745\" >\\n        <div class=\"caption\">\\n                                                                    \\n                \\n                                <div class=\"date\">\\n                    <span class=\"name\" title=\"2021-09-27\">вчера</span>\\n                </div>\\n                                \\n                                    <h3>DARPA объявила итоги соревнований подземных роботов</h3>\\n                                \\n                \\n                \\n                \\n                \\n                                                </div>\\n    </a>\\n    </article>                                 <article class=\"item item-news item-news-  _exist-image\" data-relevance=\"\" data-image=\"\" >\\n\\n    <a href=\"/news/2021/09/27/plocepasser-mahali\" data-id=\"30735\" >\\n        <div class=\"caption\">\\n                                                                    \\n                \\n                                <div class=\"date\">\\n                    <span class=\"name\" title=\"2021-09-27\">вчера</span>\\n                </div>\\n                                \\n                                    <h3>Подросшие дочери ткачиковых воробьев помогли подтвердить гипотезу альтруистической подстраховки</h3>\\n                                \\n                \\n                \\n                \\n                \\n                                                </div>\\n    </a>\\n    </article>                     </div>\\n    \\n    <div class=\"col col-1 _swap\" data-adaptive=\"1\" data-desktop-swap=\"0\" data-tablet-swap=\"0\" data-middle-class=\"col-full\" data-tablet-class=\"col-1 _indent-bottom _indent-right-no\">\\n                             <article class=\"item item-news item-news-  _exist-image\" data-relevance=\"\" data-image=\"\" >\\n\\n    <a href=\"/news/2021/09/27/ch-6\" data-id=\"30751\" >\\n        <div class=\"caption\">\\n                                                                    \\n                \\n                                <div class=\"date\">\\n                    <span class=\"name\" title=\"2021-09-27\">вчера</span>\\n                </div>\\n                                \\n                                    <h3>Китайцы построили прототип вооруженного разведывательного беспилотника</h3>\\n                                \\n                \\n                \\n                \\n                \\n                                                </div>\\n    </a>\\n    </article>                                 <article class=\"item item-news item-news-  _exist-image\" data-relevance=\"\" data-image=\"\" >\\n\\n    <a href=\"/news/2021/09/27/shutdown-of-southern-ocean-convection\" data-id=\"30744\" >\\n        <div class=\"caption\">\\n                                                                    \\n                \\n                                <div class=\"date\">\\n                    <span class=\"name\" title=\"2021-09-27\">вчера</span>\\n                </div>\\n                                \\n                                    <h3>Интенсивность глобального потепления связали с ослаблением циркуляции в Южном океане</h3>\\n                                \\n                \\n                \\n                \\n                \\n                                                </div>\\n    </a>\\n    </article>                                 <article class=\"item item-news item-news-  _exist-image\" data-relevance=\"\" data-image=\"\" >\\n\\n    <a href=\"/news/2021/09/27/lasker-2021\" data-id=\"30749\" >\\n        <div class=\"caption\">\\n                                                                    \\n                \\n                                <div class=\"date\">\\n                    <span class=\"name\" title=\"2021-09-27\">вчера</span>\\n                </div>\\n                                \\n                                    <h3>Премию Ласкера вручили за работы по оптогенетике и создание мРНК вакцин</h3>\\n                                \\n                \\n                \\n                \\n                \\n                                                </div>\\n    </a>\\n    </article>                     </div>\\n    <!--  fixed 24 -->\\n            <div class=\"col col-1\" >\\n        <article class=\"item item-blog item-blog-  _exist-image\" data-relevance=\"\" data-image=\"\" style=background-image:url(https://nplus1.ru/images/2021/09/23/d5ec4ce44bf977273b8c5591599933fc.jpg)>\\n\\n    <a href=\"/blog/2021/09/23/cosmological-koans\" data-id=\"30700\" >\\n        <div class=\"caption\">\\n                                    <div class=\"heading\">\\n                <p>Ex libris/Книжная полка</p>\\n            </div>\\n            <div class=\"author\">\\n    <img class=\"avatar\" src=\"https://nplus1.ru/images/2020/07/29/ee85583e5ba42d07ef28368ba3d7e723.jpg\" width=\"90\" height=\"90\" data-mask=\"avatar90\"></img>\\n    <div class=\"meta\">\\n        <p class=\"name\">&laquo;АСТ: Corpus&raquo;</p>\\n        <p class=\"specs\">Книжное издательство</p>\\n    </div>\\n</div>            <div class=\"lead\">\\n                <p>\\n                    Проблема спуска с горы с затратой наименьшего усилия &mdash; очень распространенный тип задачи о выборе пути в пространстве, когда какой то параметр минимизируется. Мы часто ищем путь наименьшей длины, то есть хотим попасть к месту назначения самым быстрым способом.\\n                </p>\\n            </div>\\n                                            </div>\\n    </a>\\n    </article>    </div>\\n        <!-- /fixed 24 -->\\n    <!--  fixed 25 -->\\n            <div class=\"col col-1 _swap\" data-adaptive=\"1\" data-middle-swap=\"0\" data-middle-class=\"col-1 _indent-bottom\">\\n        <article class=\"item item-blog item-blog-  _exist-image\" data-relevance=\"\" data-image=\"\" style=background-image:url(https://nplus1.ru/images/2021/09/21/8af0cf824abb87a7fa99e69973735fa8.jpg)>\\n\\n    <a href=\"/blog/2021/09/21/the-French-Revolution\" data-id=\"30682\" >\\n        <div class=\"caption\">\\n                                    <div class=\"heading\">\\n                <p>Ex libris/Премия &laquo;Просветитель&raquo;</p>\\n            </div>\\n            <div class=\"author\">\\n    <img class=\"avatar\" src=\"https://nplus1.ru/images/2018/02/06/1ccc6e9960399e0551870d97fc98b306.jpg\" width=\"90\" height=\"90\" data-mask=\"avatar90\"></img>\\n    <div class=\"meta\">\\n        <p class=\"name\">Альпина нон-фикшн</p>\\n        <p class=\"specs\">Научно-популярное издательство</p>\\n    </div>\\n</div>            <div class=\"lead\">\\n                <p>\\n                    Весть о парижских событиях и о том, что прежней власти фактически больше нет и теперь &laquo;все можно&raquo;, побудила низы, страдавшие от безработицы и дороговизны, к попыткам улучшить свое положение за счет более обеспеченных сограждан. В ряде провинций прокатилась волна разграблений замков и поместий.\\n                </p>\\n            </div>\\n                                            </div>\\n    </a>\\n    </article>    </div>\\n        <!-- /fixed 25 -->\\n</div>\\n<div class=\"row\" data-adaptive=\"1\" data-middle-class=\"row-wrap\" data-tablet-class=\"row-wrap\" data-mobile-class=\"row-wrap\">\\n    <!--  fixed 26 -->\\n                <div class=\"col col-2\" data-adaptive=\"1\" data-middle-toggle=\"col-2 col-3\" data-mobile-toggle=\"col-2 col-1\" data-tablet-class=\"col-1\">\\n        <article class=\"item item-article item-article-secondary  _exist-image\" data-relevance=\"\" data-image=\"https://nplus1.ru/images/2021/09/20/9ecd161a02d7e7b691cc89a094ba5d37.gif\" style=background-image:url(https://nplus1.ru/images/2021/09/20/8cc3202deff7c390289167ac7ae2fea8.gif)>\\n\\n    <a href=\"/material/2021/09/20/who-is-oetzi\" data-id=\"30637\" >\\n        <div class=\"caption\">\\n                                                                                    <h3>Из пропасти во льду</h3>\\n                    <p class=\"subtitle\">Что ученые узнали о &laquo;ледяном человеке&raquo; за 30 лет со дня находки</p>\\n                                    </div>\\n    </a>\\n        <nav class=\"nav-rubricator\">\\n        <ul>\\n            \\n                        <li>\\n                <a class=\"link-rubric\" href=\"/rubric/archaeology\">Археология</a>\\n            </li>\\n                                </ul>\\n    </nav>\\n    </article>    </div>\\n    <div class=\"col col-2\" data-adaptive=\"1\" data-middle-toggle=\"col-2 col-1\" data-mobile-toggle=\"col-2 col-1\" data-tablet-class=\"col-1\">\\n        <article class=\"item item-article item-article-secondary  _exist-image\" data-relevance=\"\" data-image=\"https://nplus1.ru/images/2021/09/17/63213c9052ea34fd669949227fa4d57b.jpg\" style=background-image:url(https://nplus1.ru/images/2021/09/17/fc6ca19149b2fec4a01a0ce43c1145de.jpg)>\\n\\n    <a href=\"/news/2021/09/17/penguin-test\" data-id=\"30630\" >\\n        <div class=\"caption\">\\n                                                                                    <h3>Тест на пингвина</h3>\\n                    <p class=\"subtitle\">Разберитесь с мифами о пингвинах</p>\\n                                    </div>\\n    </a>\\n        <nav class=\"nav-rubricator\">\\n        <ul>\\n            \\n                        <li>\\n                <a class=\"link-rubric\" href=\"/rubric/zoology\">Зоология</a>\\n            </li>\\n                                </ul>\\n    </nav>\\n    </article>    </div>\\n        <!-- /fixed 26 -->\\n</div>\\n                <!-- / dynamic content -->\\n            </section>\\n            <!-- / main section -->\\n            \\n\\n            <div id=\"wrapper-footer\">\\n            <section id=\"difficult\" class=\"_middle\">\\n    <!-- Slider main container -->\\n    <div class=\"swiper-container\">\\n        <!-- Additional required wrapper -->\\n        <div class=\"swiper-wrapper\">\\n                        <div class=\"swiper-slide\">\\n                <div class=\"heading\">\\n                    <div class=\"num\">\\n                        <div class=\"value\">8.3</div>\\n                    </div>\\n                    <p>Коэффициент сложности</p>\\n                </div>\\n                <h3><a href=\"/news/2021/09/24/magic-people-voodoo-people\">Физик нашел новые магические числа для зарядов на сфере</a></h3>\\n            </div>\\n                        <div class=\"swiper-slide\">\\n                <div class=\"heading\">\\n                    <div class=\"num\">\\n                        <div class=\"value\">8.2</div>\\n                    </div>\\n                    <p>Коэффициент сложности</p>\\n                </div>\\n                <h3><a href=\"/news/2021/09/21/raman-transfer\">Свет помог собрать ультрахолодную молекулу из двух атомов</a></h3>\\n            </div>\\n                        <div class=\"swiper-slide\">\\n                <div class=\"heading\">\\n                    <div class=\"num\">\\n                        <div class=\"value\">7.9</div>\\n                    </div>\\n                    <p>Коэффициент сложности</p>\\n                </div>\\n                <h3><a href=\"/material/2021/09/23/vtb-devops\">Пять стадий DevOps</a></h3>\\n            </div>\\n                        <div class=\"swiper-slide\">\\n                <div class=\"heading\">\\n                    <div class=\"num\">\\n                        <div class=\"value\">7.3</div>\\n                    </div>\\n                    <p>Коэффициент сложности</p>\\n                </div>\\n                <h3><a href=\"/news/2021/09/23/single-phonon-evidence\">Добавление и вычитание одиночного фонона увидели при комнатной температуре</a></h3>\\n            </div>\\n                        <div class=\"swiper-slide\">\\n                <div class=\"heading\">\\n                    <div class=\"num\">\\n                        <div class=\"value\">6.8</div>\\n                    </div>\\n                    <p>Коэффициент сложности</p>\\n                </div>\\n                <h3><a href=\"/news/2021/09/22/100ms-coherence\">Время когерентности молекулярных кубитов повысили на порядок</a></h3>\\n            </div>\\n                        <div class=\"swiper-slide\">\\n                <div class=\"heading\">\\n                    <div class=\"num\">\\n                        <div class=\"value\">6.6</div>\\n                    </div>\\n                    <p>Коэффициент сложности</p>\\n                </div>\\n                <h3><a href=\"/news/2021/09/24/quantum-limit-planet\">Экзопланеты предложили искать в квантовом пределе</a></h3>\\n            </div>\\n                        <div class=\"swiper-slide\">\\n                <div class=\"heading\">\\n                    <div class=\"num\">\\n                        <div class=\"value\">6.5</div>\\n                    </div>\\n                    <p>Коэффициент сложности</p>\\n                </div>\\n                <h3><a href=\"/news/2021/09/22/single-photon-nonlinear\">Однофотонную нелинейность реализовали при комнатной температуре</a></h3>\\n            </div>\\n                        <div class=\"swiper-slide\">\\n                <div class=\"heading\">\\n                    <div class=\"num\">\\n                        <div class=\"value\">5.9</div>\\n                    </div>\\n                    <p>Коэффициент сложности</p>\\n                </div>\\n                <h3><a href=\"/news/2021/09/24/it-hears-you\">Круглые черви оказались способны слышать всем телом</a></h3>\\n            </div>\\n                        <div class=\"swiper-slide\">\\n                <div class=\"heading\">\\n                    <div class=\"num\">\\n                        <div class=\"value\">5.1</div>\\n                    </div>\\n                    <p>Коэффициент сложности</p>\\n                </div>\\n                <h3><a href=\"/news/2021/09/24/circular-resonance\">Аномальную ионизацию атомов объяснили резонансами </a></h3>\\n            </div>\\n                        <div class=\"swiper-slide\">\\n                <div class=\"heading\">\\n                    <div class=\"num\">\\n                        <div class=\"value\">4.9</div>\\n                    </div>\\n                    <p>Коэффициент сложности</p>\\n                </div>\\n                <h3><a href=\"/news/2021/09/27/optical-levitation\">Из оптически левитирующих частиц предложили сделать гироскоп</a></h3>\\n            </div>\\n                        \\n        </div>\\n        <!-- If we need pagination -->\\n        <div class=\"swiper-pagination\"></div>\\n        <div class=\"swiper-button-prev\"></div>\\n        <div class=\"swiper-button-next\"></div>\\n    </div>\\n    <h6>Самое сложное</h6>\\n</section>\\n\\n<div class=\"container\">\\n    <div class=\"line\">\\n                                    <a href=\"https://nplus1.ru/blog/2021/09/27/Its-The-end-of-the-world\" class=\"action-line-toggle\">\\n                    <div class=\"heading\"><span></span></div>\\n                </a>\\n                                <a href=\"https://nplus1.ru/blog/2021/09/27/Its-The-end-of-the-world\" class=\"container-link\">\\n                    <div class=\"heading\"><span>Книжная полка</span></div>\\n                    <div class=\"link\"><span>Адам Робертс &laquo;Вот и всё. Зачем мы пугаем себя концом света?&raquo;</span></div>\\n                </a>\\n                                <a href=\"https://nplus1.ru/blog/2021/09/23/cosmological-koans\" class=\"container-link\">\\n                    <div class=\"heading\"><span>Книжная полка</span></div>\\n                    <div class=\"link\"><span>Энтони Агирре &laquo;Космологические коаны. Путешествие в самое сердце физической реальности&raquo;</span></div>\\n                </a>\\n                                <a href=\"https://nplus1.ru/blog/2021/09/21/the-French-Revolution\" class=\"container-link\">\\n                    <div class=\"heading\"><span>Премия &laquo;Просветитель&raquo;</span></div>\\n                    <div class=\"link\"><span>Дмитрий Бовыкин, Дмитрий Чудинов &laquo;Французская революция&raquo;</span></div>\\n                </a>\\n                                <a href=\"https://nplus1.ru/blog/2021/09/16/lone-survivors\" class=\"container-link\">\\n                    <div class=\"heading\"><span>Книжная полка</span></div>\\n                    <div class=\"link\"><span>Крис Стрингер &laquo;Остались одни. Единственный вид людей на земле&raquo;</span></div>\\n                </a>\\n                                <a href=\"https://nplus1.ru/blog/2021/09/14/bones-inside-and-out\" class=\"container-link\">\\n                    <div class=\"heading\"><span>Книжная полка</span></div>\\n                    <div class=\"link\"><span>Рой Миллз &laquo;Кости: внутри и снаружи&raquo;</span></div>\\n                </a>\\n                                <a href=\"https://nplus1.ru/blog/2021/09/09/13lost\" class=\"container-link\">\\n                    <div class=\"heading\"><span>Время удивительных историй</span></div>\\n                    <div class=\"link\"><span>Берестяная грамота, которая нашлась дважды</span></div>\\n                </a>\\n                                <a href=\"https://nplus1.ru/blog/2021/09/08/when-the-earth-had-two-moons\" class=\"container-link\">\\n                    <div class=\"heading\"><span>Книжная полка</span></div>\\n                    <div class=\"link\"><span>Эрик Асфог &laquo;Когда у Земли было две Луны: Планеты-каннибалы, ледяные гиганты, грязевые кометы и другие светила ночного неба&raquo;</span></div>\\n                </a>\\n                                <a href=\"https://nplus1.ru/blog/2021/09/06/stress-pain-and-opioids\" class=\"container-link\">\\n                    <div class=\"heading\"><span>Премия &laquo;Просветитель&raquo;</span></div>\\n                    <div class=\"link\"><span>Сергей Парин &laquo;Стресс, боль и опиоиды. Об эндорфинах и не только&raquo;</span></div>\\n                </a>\\n                                <a href=\"https://nplus1.ru/blog/2021/08/27/infinite-powers\" class=\"container-link\">\\n                    <div class=\"heading\"><span>Книжная полка</span></div>\\n                    <div class=\"link\"><span>Стивен Строгац &laquo;Бесконечная сила. Как математический анализ раскрывает тайны Вселенной&raquo; </span></div>\\n                </a>\\n                \\t            <a href=\"https://nplus1.ru/blog/2021/09/28/unsere-welt-neu-denken\" class=\"container-link active\">\\n    \\t            <div class=\"heading\"><span>Книжная полка</span></div>\\n        \\t        <div class=\"link\"><span>Майя Гёпель &laquo;Мир после нас: Как не дать планете погибнуть&raquo;</span></div>\\n            \\t</a>\\n                        </div>\\n</div>\\n\\n<script async src=\"https://cdn.onthe.io/io.js/QCyUUwp6IVuR\"></script>\\n<script>\\nwindow._io_config = window._io_config || {};\\nwindow._io_config[\"0.2.0\"] = window._io_config[\"0.2.0\"] || [];\\nwindow._io_config[\"0.2.0\"].push({\\n    page_url: document.location.toString(),\\n    page_url_canonical: document.querySelector(\\'link[rel=\"canonical\"]\\').href,\\n    page_title: document.querySelector(\\'title\\').innerHTML,\\n    page_type: \"main\",\\n    page_language: \"ru\"\\n});\\n</script>\\n\\n            <div class=\"ad ad-col border\">\\n                    \\t    </div>\\n\\n            <!-- footer -->\\n            <footer id=\"footer\">\\n    <div class=\"row\" data-adaptive=\"1\" data-middle-class=\"row-wrap\" data-tablet-class=\"row-wrap\" data-mobile-class=\"row-wrap\">\\n        <div class=\"col col-logo\">\\n            <a href=\"/\" class=\"link-logo\"><img src=\"/i/logo-alt.png\"/></a>\\n        </div>\\n        <div class=\"col col-footer-desc\">\\n            <nav class=\"nav-pages\">\\n                <ul>\\n                    <li>\\n                        <a href=\"/about\">О нас</a>\\n                    </li>\\n                    <li>\\n                        <a href=\"https://nplus.pro\" target=\"_blank\">N + Production</a>\\n                    </li>\\n                    <li>\\n                        <a href=\"/adv\">Рекламодателям</a>\\n                    </li>\\n                    <li>\\n                        <a href=\"/rules\">Наши материалы</a>\\n                    </li>\\n                    <li>\\n                        <a href=\"/vacancy\">Вакансии</a>\\n                    </li>\\n                    <li>\\n                        <a href=\"/difficult\">Сложность</a>\\n                    </li>\\n                </ul>\\n            </nav>\\n            <div class=\"desc\">\\n                <p>&copy; 2021 <i>N&nbsp;+&nbsp;1</i> Интернет-издание &nbsp; Свидетельство о регистрации СМИ Эл № ФС77-67614</p>\\n                                \\n                    <p>Использование всех текстовых материалов без изменений в некоммерческих целях разрешается со ссылкой на <i>N&nbsp;+&nbsp;1</i>. \\n                        Все аудиовизуальные произведения являются собственностью своих авторов и правообладателей и используются \\n                        только в образовательных и информационных целях. Если вы являетесь собственником того или иного произведения \\n                        и не согласны с его размещением на нашем сайте, пожалуйста, напишите на kirill@nplus1.ru</p>\\n                    <p>Материалы, опубликованные в разделе «Блоги», отражают позиции их авторов, которые могут не совпадать с мнением редакции.</p>\\n                    <p>Сайт может содержать контент, не предназначенный для лиц младше 18 лет.</p>\\n                    <p>\\n                        <a href=\"https://nplus1.ru/personal-data-policy\" class=\"pd\">Политика обработки персональных данных пользователей сайта</a>\\n                    </p>\\n                    <p>\\n                        <script async type=\"text/javascript\" src=\"//s.luxupcdnc.com/t/consent_195458.js\"></script> \\n                        <a href=\"#\" onclick=\"if(window.__lxG__consent__ !== undefined) {window.__lxG__consent__.showConsent()} else {alert(\\'This function works only for users from the European Economic Area (EEA).\\')}; return false\">Change privacy settings</a>\\n                    </p>\\n                \\n                <p>\\n                                    </p>\\n            </div>\\n        </div>\\n        <div class=\"col col-1 pull-right\">\\n            <nav class=\"nav-social\">\\n                <ul>\\n                    <li>\\n                        <a href=\"https://t.me/nplusone\"><i class=\"fa fa-telegram\"></i></a>\\n                    </li>\\n                    <li>\\n                        <a href=\"http://vk.com/nplusone\"><i class=\"fa fa-vk\"></i></a>\\n                    </li>\\n                    <li>\\n                        <a href=\"https://www.facebook.com/nplusone\"><i class=\"fa fa-facebook\"></i></a>\\n                    </li>\\n                    <li>\\n                        <a href=\"https://twitter.com/nplusodin\"><i class=\"fa fa-twitter\"></i></a>\\n                    </li>\\n                    <li>\\n                        <a href=\"https://ok.ru/nplus1\"><i class=\"fa fa-odnoklassniki\"></i></a>\\n                    </li>\\n                    <li>\\n                        <a href=\"https://soundcloud.com/nplus_1\"><i class=\"fa fa-soundcloud\"></i></a>\\n                    </li>\\n                    <li>\\n                        <a href=\"/rss\"><i class=\"fa fa-rss\"></i></a>\\n                    </li>\\n                </ul>\\n            </nav>\\n            <div class=\"partners\">\\n                \\t\\t\\t\\t\\t\\t\\t\\t\\t\\t\\t\\t\\n\\t\\t\\t\\t\\n                <!-- Rating@Mail.ru counter -->\\n<script type=\"text/javascript\">\\nvar _tmr = window._tmr || (window._tmr = []);\\n_tmr.push({id: \"3084572\", type: \"pageView\", start: (new Date()).getTime()});\\n(function (d, w, id) {\\n  if (d.getElementById(id)) return;\\n  var ts = d.createElement(\"script\"); ts.type = \"text/javascript\"; ts.async = true; ts.id = id;\\n  ts.src = \"https://top-fwz1.mail.ru/js/code.js\";\\n  var f = function () {var s = d.getElementsByTagName(\"script\")[0]; s.parentNode.insertBefore(ts, s);};\\n  if (w.opera == \"[object Opera]\") { d.addEventListener(\"DOMContentLoaded\", f, false); } else { f(); }\\n})(document, window, \"topmailru-code\");\\n</script><noscript><div>\\n<img src=\"https://top-fwz1.mail.ru/counter?id=3084572;js=na\" style=\"border:0;position:absolute;left:-9999px;\" alt=\"Top.Mail.Ru\" />\\n</div></noscript>\\n<!-- //Rating@Mail.ru counter -->\\n\\n\\n\\n            </div>\\n        </div>\\n    </div>\\n</footer>            <!-- / footer -->\\n            </div>\\n        </div>\\n    \\n    </div>\\n    \\n\\n<!-- Google Tag Manager -->\\n<script>(function(w,d,s,l,i){w[l]=w[l]||[];w[l].push({\\'gtm.start\\':\\nnew Date().getTime(),event:\\'gtm.js\\'});var f=d.getElementsByTagName(s)[0],\\nj=d.createElement(s),dl=l!=\\'dataLayer\\'?\\'&l=\\'+l:\\'\\';j.async=true;j.src=\\n\\'https://www.googletagmanager.com/gtm.js?id=\\'+i+dl;f.parentNode.insertBefore(j,f);\\n})(window,document,\\'script\\',\\'dataLayer\\',\\'GTM-MNJC58\\');</script>\\n<!-- End Google Tag Manager -->\\n\\n<!-- Google Tag Manager (noscript) -->\\n<noscript><iframe src=\"https://www.googletagmanager.com/ns.html?id=GTM-MNJC58\"\\nheight=\"0\" width=\"0\" style=\"display:none;visibility:hidden\"></iframe></noscript>\\n<!-- End Google Tag Manager (noscript) -->\\n\\n\\n\\n    <noscript><div><img src=\"//mc.yandex.ru/watch/29654565\" style=\"position:absolute; left:-9999px;\" alt=\"\" /></div></noscript>\\n\\t\\t\\n\\t\\n\\t</div>\\n\\n\\n\\n<script src=\"/js/lib/js.cookie.js\"></script>\\n<script src=\"/js/lib/jquery.swap.js\"></script>\\n<script src=\"/js/lib/swiper.jquery.min.js\"></script>\\n<script src=\"/js/lib/svg.js\"></script>\\n<script src=\"/js/lib/jquery.mobile-events.min.js\"></script>\\n<script src=\"/js/lib/social-likes.min.js\"></script>\\n<script src=\"/js/lib/jquery.sticky.js\"></script>\\n\\n\\n<!--   project scripts -->\\n<script src=\"/js/main.min.js?v=1632760428\"></script>\\n<!-- / project scripts -->\\n\\n\\n\\n\\n<!-- Quantcast Tag -->\\n<script type=\"text/javascript\">\\nvar _qevents = _qevents || [];\\n\\n(function() {\\nvar elem = document.createElement(\\'script\\');\\nelem.src = (document.location.protocol == \"https:\" ? \"https://secure\" : \"http://edge\") + \".quantserve.com/quant.js\";\\nelem.async = true;\\nelem.type = \"text/javascript\";\\nvar scpt = document.getElementsByTagName(\\'script\\')[0];\\nscpt.parentNode.insertBefore(elem, scpt);\\n})();\\n\\n_qevents.push({\\nqacct:\"p-s3ftDEFzEW5x7\"\\n});\\n</script>\\n\\n<noscript>\\n<div style=\"display:none;\">\\n<img src=\"//pixel.quantserve.com/pixel/p-s3ftDEFzEW5x7.gif\" border=\"0\" height=\"1\" width=\"1\" alt=\"Quantcast\"/>\\n</div>\\n</noscript>\\n<!-- End Quantcast tag -->\\n</body>\\n</html>'"
      ]
     },
     "execution_count": 38,
     "metadata": {},
     "output_type": "execute_result"
    }
   ],
   "source": [
    "page.text"
   ]
  },
  {
=======
>>>>>>> Stashed changes
=======
>>>>>>> Stashed changes
   "cell_type": "markdown",
   "metadata": {},
   "source": [
    "Импортируем функцию `BeautifulSoup` из библиотеки `bs4` (от *beautifulsoup4*) и заберём со страницы `page` код html в виде текста. "
   ]
  },
  {
   "cell_type": "code",
<<<<<<< Updated upstream
<<<<<<< Updated upstream
   "execution_count": 39,
=======
   "execution_count": 4,
>>>>>>> Stashed changes
=======
   "execution_count": 4,
>>>>>>> Stashed changes
   "metadata": {},
   "outputs": [],
   "source": [
    "from bs4 import BeautifulSoup  # не спрашивайте, почему BeautifulSoup"
   ]
  },
  {
   "cell_type": "code",
<<<<<<< Updated upstream
<<<<<<< Updated upstream
   "execution_count": 41,
   "metadata": {},
   "outputs": [],
   "source": [
    "soup = BeautifulSoup(page.text, 'lxml')\n",
    "\n",
    "# lxml - отдельная библиотека для парсинга xml\n",
    "# можно html"
=======
=======
>>>>>>> Stashed changes
   "execution_count": 5,
   "metadata": {},
   "outputs": [],
   "source": [
    "soup = BeautifulSoup(page.text, 'lxml')"
<<<<<<< Updated upstream
>>>>>>> Stashed changes
=======
>>>>>>> Stashed changes
   ]
  },
  {
   "cell_type": "markdown",
   "metadata": {},
   "source": [
    "Если выведем `soup` на экран, мы увидим то же самое, что в режиме разработчика или в режиме происмотра исходного кода (`view-source` через *Ctrl+U* в Google Chrome)."
   ]
  },
  {
   "cell_type": "code",
<<<<<<< Updated upstream
<<<<<<< Updated upstream
   "execution_count": 42,
   "metadata": {},
   "outputs": [
    {
     "data": {
      "text/plain": [
       "<!DOCTYPE html>\n",
       "<html class=\"no-js bg-fixed\" lang=\"\" style=\"background-image:url(https://nplus1.ru/images/2021/09/28/6dcddecc418eb2afd45b87260f5b168f.jpg)\">\n",
       "<head>\n",
       "<meta charset=\"utf-8\"/>\n",
       "<meta content=\"ie=edge\" http-equiv=\"x-ua-compatible\"/>\n",
       "<meta content=\"width=device-width, initial-scale=1\" name=\"viewport\"/>\n",
       "<meta content=\"yes\" name=\"apple-mobile-web-app-capable\"/>\n",
       "<meta content=\"black\" name=\"apple-mobile-web-app-status-bar-style\"/>\n",
       "<meta content=\"7991d7eb02d759f05b9050e111a7e3eb\" name=\"wmail-verification\"/>\n",
       "<link href=\"https://nplus1.ru\" rel=\"canonical\"/>\n",
       "<title>N+1: научные статьи, новости, открытия</title>\n",
       "<!-- for Google -->\n",
       "<meta content=\"N+1: научные статьи, новости, открытия\" name=\"description\"/>\n",
       "<meta content=\"\" name=\"author\"/>\n",
       "<meta content=\"\" name=\"copyright\"/>\n",
       "<!-- for Facebook -->\n",
       "<meta content=\"N+1: научные статьи, новости, открытия\" property=\"og:title\"/>\n",
       "<meta content=\"https://nplus1.ru/i/logo.png\" property=\"og:image\"/>\n",
       "<meta content=\"https://nplus1.ru\" property=\"og:url\"/>\n",
       "<meta content=\"N+1: научные статьи, новости, открытия\" property=\"og:description\"/>\n",
       "<!-- for Twitter -->\n",
       "<meta content=\"summary_large_image\" name=\"twitter:card\"/>\n",
       "<meta content=\"@nplusodin\" name=\"twitter:site\"/>\n",
       "<meta content=\"N+1: научные статьи, новости, открытия\" name=\"twitter:title\"/>\n",
       "<meta content=\"N+1: научные статьи, новости, открытия\" name=\"twitter:description\"/>\n",
       "<meta content=\"https://nplus1.ru/i/logo.png\" name=\"twitter:image\"/>\n",
       "<meta content=\"8c90b02c84ac3b72\" name=\"yandex-verification\"/>\n",
       "<link href=\"https://nplus1.ru/rss\" rel=\"alternate\" title=\"RSS\" type=\"application/rss+xml\"/>\n",
       "<link href=\"/css/font-awesome.min.css\" rel=\"stylesheet\"/>\n",
       "<link href=\"/css/main.min.css?v=1631810034\" rel=\"stylesheet\"/>\n",
       "<link href=\"/css/desktop.min.css?v=1452887696\" rel=\"stylesheet\"/>\n",
       "<link href=\"/css/tablet.min.css?v=1499281342\" rel=\"stylesheet\"/>\n",
       "<link href=\"/css/mobile.min.css?v=1603187018\" rel=\"stylesheet\"/>\n",
       "<script src=\"//ajax.googleapis.com/ajax/libs/jquery/1.11.2/jquery.min.js\"></script>\n",
       "<script src=\"//cdnjs.cloudflare.com/ajax/libs/modernizr/2.8.3/modernizr.min.js\"></script>\n",
       "<script src=\"/js/lib/adfox.asyn.code.ver3.js\" type=\"text/javascript\"> </script>\n",
       "<script src=\"/js/lib/adfox.asyn.code.scroll.js\" type=\"text/javascript\"> </script>\n",
       "<script crossorigin=\"anonymous\" src=\"https://yastatic.net/pcode/adfox/loader.js\"></script>\n",
       "<script async=\"\" id=\"__lxGc__rtr\" src=\"//s.clickiocdn.com/t/195458/360.js\" type=\"text/javascript\"></script>\n",
       "<script async=\"\" src=\"//s.luxupcdnc.com/t/common_402.js\" type=\"text/javascript\"></script>\n",
       "<!--  ad -->\n",
       "<script type=\"text/javascript\">\n",
       "\t\t    var __colAdLoaded = false;\n",
       "\t\t    var __topAdLoaded = false;\n",
       "\t\t    \n",
       "\t\t    var __id = \"\";\n",
       "\t\t    \n",
       "\t\t    function detectAd(id){\n",
       "\t\t        var _ad = document.getElementById(\"AdFox_banner_\"+id);\n",
       "\t\t    \t    console.debug(_ad);\n",
       "\t\t        \n",
       "\t\t        __id = id;\n",
       "\t\t        if(_ad != null && _ad.innerHTML == \"\"){\n",
       "\t\t            $(\".col-ad\").remove();\n",
       "\t\t        }\n",
       "\t\t        __colAdLoaded = true;\n",
       "\t\t    }\n",
       "\t\t    function detectAdTop(id){\n",
       "\t\t        __topAdLoaded = true;\n",
       "\t\t    }\n",
       "\t\t</script>\n",
       "<!-- /ad -->\n",
       "<script type=\"application/ld+json\"> { \"@context\": \"http://schema.org\", \"@type\": \"WebSite\", \"url\": \"https://nplus1.ru\", \"name\": \"N+1: научные статьи, новости, открытия\", \"description\": \"N+1: научные статьи, новости, открытия\", \"image\": \"https://nplus1.ru/i/logo.png\", \"publisher\": { \"@type\": \"Organization\", \"name\": \"N+1\", \"logo\": { \"@type\":\"ImageObject\", \"url\": \"https://nplus1.ru/i/logo-alt.png\" }, \"sameAs\": [ \"https://www.facebook.com/nplusone\", \"https://twitter.com/nplusodin\", \"https://vk.com/nplusone\", \"https://ok.ru/nplus1\", \"https://soundcloud.com/nplus_1\", \"https://t.me/nplusone\" ] }, \"potentialAction\":{ \"@type\":\"SearchAction\", \"target\":\"https://nplus1.ru/search?q={search_term_string}\", \"query-input\":\"required name=search_term_string\" } } </script>\n",
       "</head>\n",
       "<body class=\"_main\" style=\"background-image:url(https://nplus1.ru/images/2021/09/28/6dcddecc418eb2afd45b87260f5b168f.jpg)\">\n",
       "<div class=\"shadow-overlay\"></div>\n",
       "<link href=\"//s.luxupcdnc.com/cp/all/cookies_policy.css\" property=\"\" rel=\"stylesheet\"/>\n",
       "<script type=\"text/javascript\">_cookies_policy = {dark:0,bottom:1,text:'Этот сайт использует cookies для улучшения качества работы',link:'Подробнее',href:'https://nplus1.ru/cookies-policy',button:'Закрыть'};</script>\n",
       "<script async=\"\" src=\"//s.luxupcdnc.com/cp/all/cookies_policy.js\" type=\"text/javascript\"></script>\n",
       "<div id=\"viewport\">\n",
       "<div id=\"shadow\"></div>\n",
       "<div class=\"ad ad-top\">\n",
       "<!--AdFox START-->\n",
       "<!--yandex_nplus1adv-->\n",
       "<!--Площадка: N + 1 / * / *-->\n",
       "<!--Тип баннера: Растяжка_100%х250-->\n",
       "<!--Расположение: <верх страницы>-->\n",
       "<div id=\"adfox_162739969569252320\"></div>\n",
       "<script>\n",
       "    window.yaContextCb.push(()=>{\n",
       "        Ya.adfoxCode.create({\n",
       "            ownerId: 386110,\n",
       "        containerId: 'adfox_162739969569252320',\n",
       "            params: {\n",
       "                pp: 'g',\n",
       "            ps: 'fbio',\n",
       "            p2: 'hhkj'\n",
       "            }\n",
       "        })\n",
       "    })\n",
       "</script>\n",
       "</div>\n",
       "<header id=\"header-mobile\">\n",
       "<div class=\"container\">\n",
       "<a class=\"action-menu pull-left\" href=\"#\"><i class=\"icon icon-navicon\"></i></a>\n",
       "<a class=\"link-logo\" href=\"/\"><img src=\"/i/logo-mobile.png\"/></a>\n",
       "<a class=\"action-search pull-right\" href=\"#\"><i class=\"icon icon-search\"></i></a>\n",
       "<form action=\"/search\" class=\"form-search\" method=\"get\">\n",
       "<div class=\"control\">\n",
       "<input name=\"q\" placeholder=\"Найти\" type=\"text\" value=\"\"/>\n",
       "</div>\n",
       "<a class=\"action-search-close\" href=\"#\">×</a>\n",
       "</form>\n",
       "</div>\n",
       "<nav class=\"nav-rubrics\">\n",
       "<ul>\n",
       "<li>\n",
       "<a class=\"\" href=\"/rubric/astronomy\">Астрономия</a>\n",
       "</li>\n",
       "<li>\n",
       "<a class=\"\" href=\"/rubric/physics\">Физика</a>\n",
       "</li>\n",
       "<li>\n",
       "<a class=\"\" href=\"/rubric/biology\">Биология</a>\n",
       "</li>\n",
       "<li>\n",
       "<a class=\"\" href=\"/rubric/robots-drones\">Роботы и дроны</a>\n",
       "</li>\n",
       "<li>\n",
       "<a class=\"\" href=\"/theme/explainatorium\">Давайте разберемся</a>\n",
       "</li>\n",
       "<li>\n",
       "<a class=\"\" href=\"/theme/bookshelf\">Книжная полка</a>\n",
       "</li>\n",
       "<li>\n",
       "<a class=\"\" href=\"/theme/Courses\">Курсы</a>\n",
       "</li>\n",
       "<li>\n",
       "<a class=\"\" href=\"/theme/coronavirus-history\">Коронавирусные хроники</a>\n",
       "</li>\n",
       "<li>\n",
       "<a class=\"\" href=\"/theme/offline\">N + Offline</a>\n",
       "</li>\n",
       "</ul>\n",
       "</nav>\n",
       "</header>\n",
       "<div class=\"js-mediator-container\" id=\"layout\">\n",
       "<!-- header -->\n",
       "<header class=\"_middle\" id=\"header\">\n",
       "<div class=\"row\">\n",
       "<div class=\"col col-logo\">\n",
       "<a class=\"link-logo\" href=\"/\"></a>\n",
       "</div>\n",
       "<div class=\"col col-nav-main\">\n",
       "<form action=\"/search\" class=\"form-search\" method=\"get\">\n",
       "<div class=\"control\">\n",
       "<input name=\"q\" placeholder=\"Найти\" type=\"text\" value=\"\"/>\n",
       "</div>\n",
       "<a class=\"action-search-close\" href=\"#\">×</a>\n",
       "</form>\n",
       "<nav class=\"nav-rubrics\">\n",
       "<ul>\n",
       "<li>\n",
       "<a class=\"\" href=\"/rubric/astronomy\">Астрономия</a>\n",
       "</li>\n",
       "<li>\n",
       "<a class=\"\" href=\"/rubric/physics\">Физика</a>\n",
       "</li>\n",
       "<li>\n",
       "<a class=\"\" href=\"/rubric/biology\">Биология</a>\n",
       "</li>\n",
       "<li>\n",
       "<a class=\"\" href=\"/rubric/robots-drones\">Роботы и дроны</a>\n",
       "</li>\n",
       "<li>\n",
       "<a class=\"action-search\" href=\"#\"><i class=\"icon icon-search\"></i></a>\n",
       "</li>\n",
       "</ul>\n",
       "</nav> <nav class=\"nav-themes\">\n",
       "<ul>\n",
       "<li data-name=\"explainatorium\">\n",
       "<a class=\"\" href=\"/theme/explainatorium\">Давайте разберемся</a>\n",
       "</li>\n",
       "<li data-name=\"bookshelf\">\n",
       "<a class=\"\" href=\"/theme/bookshelf\">Книжная полка</a>\n",
       "</li>\n",
       "<li data-name=\"Courses\">\n",
       "<a class=\"\" href=\"/theme/Courses\">Курсы</a>\n",
       "</li>\n",
       "<li data-name=\"coronavirus-history\">\n",
       "<a class=\"\" href=\"/theme/coronavirus-history\">Коронавирусные хроники</a>\n",
       "</li>\n",
       "<li data-name=\"offline\">\n",
       "<a class=\"\" href=\"/theme/offline\">N + Offline</a>\n",
       "</li>\n",
       "</ul>\n",
       "</nav>\n",
       "</div>\n",
       "</div>\n",
       "<div class=\"container line-up\">\n",
       "<div class=\"line line-second\">\n",
       "<a class=\"action-line-toggle\" href=\"https://nplus1.ru/blog/2021/09/27/Its-The-end-of-the-world\">\n",
       "<div class=\"heading\"><span></span></div>\n",
       "</a>\n",
       "<a class=\"container-link\" href=\"https://nplus1.ru/blog/2021/09/27/Its-The-end-of-the-world\">\n",
       "<div class=\"heading\"><span>Книжная полка</span></div>\n",
       "<div class=\"link\"><span>Адам Робертс «Вот и всё. Зачем мы пугаем себя концом света?»</span></div>\n",
       "</a>\n",
       "<a class=\"container-link\" href=\"https://nplus1.ru/blog/2021/09/23/cosmological-koans\">\n",
       "<div class=\"heading\"><span>Книжная полка</span></div>\n",
       "<div class=\"link\"><span>Энтони Агирре «Космологические коаны. Путешествие в самое сердце физической реальности»</span></div>\n",
       "</a>\n",
       "<a class=\"container-link\" href=\"https://nplus1.ru/blog/2021/09/21/the-French-Revolution\">\n",
       "<div class=\"heading\"><span>Премия «Просветитель»</span></div>\n",
       "<div class=\"link\"><span>Дмитрий Бовыкин, Дмитрий Чудинов «Французская революция»</span></div>\n",
       "</a>\n",
       "<a class=\"container-link\" href=\"https://nplus1.ru/blog/2021/09/16/lone-survivors\">\n",
       "<div class=\"heading\"><span>Книжная полка</span></div>\n",
       "<div class=\"link\"><span>Крис Стрингер «Остались одни. Единственный вид людей на земле»</span></div>\n",
       "</a>\n",
       "<a class=\"container-link\" href=\"https://nplus1.ru/blog/2021/09/14/bones-inside-and-out\">\n",
       "<div class=\"heading\"><span>Книжная полка</span></div>\n",
       "<div class=\"link\"><span>Рой Миллз «Кости: внутри и снаружи»</span></div>\n",
       "</a>\n",
       "<a class=\"container-link\" href=\"https://nplus1.ru/blog/2021/09/09/13lost\">\n",
       "<div class=\"heading\"><span>Время удивительных историй</span></div>\n",
       "<div class=\"link\"><span>Берестяная грамота, которая нашлась дважды</span></div>\n",
       "</a>\n",
       "<a class=\"container-link\" href=\"https://nplus1.ru/blog/2021/09/08/when-the-earth-had-two-moons\">\n",
       "<div class=\"heading\"><span>Книжная полка</span></div>\n",
       "<div class=\"link\"><span>Эрик Асфог «Когда у Земли было две Луны: Планеты-каннибалы, ледяные гиганты, грязевые кометы и другие светила ночного неба»</span></div>\n",
       "</a>\n",
       "<a class=\"container-link\" href=\"https://nplus1.ru/blog/2021/09/06/stress-pain-and-opioids\">\n",
       "<div class=\"heading\"><span>Премия «Просветитель»</span></div>\n",
       "<div class=\"link\"><span>Сергей Парин «Стресс, боль и опиоиды. Об эндорфинах и не только»</span></div>\n",
       "</a>\n",
       "<a class=\"container-link\" href=\"https://nplus1.ru/blog/2021/08/27/infinite-powers\">\n",
       "<div class=\"heading\"><span>Книжная полка</span></div>\n",
       "<div class=\"link\"><span>Стивен Строгац «Бесконечная сила. Как математический анализ раскрывает тайны Вселенной» </span></div>\n",
       "</a>\n",
       "<a class=\"container-link active\" href=\"https://nplus1.ru/blog/2021/09/28/unsere-welt-neu-denken\">\n",
       "<div class=\"heading\"><span>Книжная полка</span></div>\n",
       "<div class=\"link\"><span>Майя Гёпель «Мир после нас: Как не дать планете погибнуть»</span></div>\n",
       "</a>\n",
       "<!-- here -->\n",
       "</div>\n",
       "</div>\n",
       "</header> <!-- /header -->\n",
       "<!--  hero -->\n",
       "<!-- /hero -->\n",
       "<!-- main section -->\n",
       "<section id=\"main\">\n",
       "<!--   dynamic content -->\n",
       "<div class=\"row\" data-adaptive=\"1\" data-middle-class=\"row-wrap _indent-bottom-no\" data-mobile-class=\"row-wrap\" data-tablet-class=\"row-wrap\">\n",
       "<div class=\"col col-2\" data-adaptive=\"1\" data-mobile-toggle=\"col-2 col-1\">\n",
       "<article class=\"item item-main item-main- _exist-image\" data-image=\"\" data-relevance=\"\" style=\"background-image:url(https://nplus1.ru/images/2021/09/28/225b9d2b834b7a0b6b499fc443b8dd32.gif)\">\n",
       "<a data-id=\"30762\" href=\"/news/2021/09/28/desmodus-rotundus\">\n",
       "<div class=\"caption\">\n",
       "<div class=\"date\">\n",
       "<span class=\"name\" title=\"2021-09-28\">21:05</span>\n",
       "</div>\n",
       "<h3>Самки обыкновенных вампиров попили крови вместе с подругами и родственницами</h3>\n",
       "</div>\n",
       "</a>\n",
       "</article> </div>\n",
       "<div class=\"col col-1 col-ad-prev\" data-adaptive=\"1\" data-middle-class=\"_swap col-1 _indent-bottom\">\n",
       "<article class=\"item item-news item-news- _exist-image\" data-image=\"\" data-relevance=\"\">\n",
       "<a data-id=\"30756\" href=\"/news/2021/09/28/starlink-geo\">\n",
       "<div class=\"caption\">\n",
       "<div class=\"date\">\n",
       "<span class=\"name\" title=\"2021-09-28\">19:52</span>\n",
       "</div>\n",
       "<h3>Сигналы Starlink и высотомер использовали для геолокации с точностью в несколько метров</h3>\n",
       "</div>\n",
       "</a>\n",
       "</article> <article class=\"item item-news item-news- _exist-image\" data-image=\"\" data-relevance=\"\">\n",
       "<a data-id=\"30763\" href=\"/news/2021/09/28/grs-hubble\">\n",
       "<div class=\"caption\">\n",
       "<div class=\"date\">\n",
       "<span class=\"name\" title=\"2021-09-28\">19:13</span>\n",
       "</div>\n",
       "<h3>«Хаббл» выявил увеличение скорости ветра в Большом Красном Пятне</h3>\n",
       "</div>\n",
       "</a>\n",
       "</article> <article class=\"item item-news item-news- _exist-image\" data-image=\"\" data-relevance=\"\">\n",
       "<a data-id=\"30760\" href=\"/news/2021/09/28/twins-methylation\">\n",
       "<div class=\"caption\">\n",
       "<div class=\"date\">\n",
       "<span class=\"name\" title=\"2021-09-28\">18:00</span>\n",
       "</div>\n",
       "<h3>У однояйцевых близнецов обнаружили общий паттерн метилирования ДНК</h3>\n",
       "</div>\n",
       "</a>\n",
       "</article> </div>\n",
       "<div class=\"col col-1 _tablet-hidden col-ad\" data-adaptive=\"1\" data-middle-class=\"col-1 _swap _indent-bottom\" data-mobile-class=\"col-1 _indent-bottom\">\n",
       "<div class=\"ad ad-col border\">\n",
       "</div>\n",
       "</div>\n",
       "<div class=\"col col-1 col-ad-next\" data-adaptive=\"1\" data-middle-class=\"col-full _indent-bottom-no\">\n",
       "<article class=\"item item-news item-news- _exist-image\" data-image=\"\" data-relevance=\"\">\n",
       "<a data-id=\"30764\" href=\"/news/2021/09/28/block3\">\n",
       "<div class=\"caption\">\n",
       "<div class=\"date\">\n",
       "<span class=\"name\" title=\"2021-09-28\">17:53</span>\n",
       "</div>\n",
       "<h3>Американцы получили обновленную версию Super Hornet</h3>\n",
       "</div>\n",
       "</a>\n",
       "</article> <article class=\"item item-news item-news- _exist-image\" data-image=\"\" data-relevance=\"\">\n",
       "<a data-id=\"30734\" href=\"/news/2021/09/28/wasp-127-clouds\">\n",
       "<div class=\"caption\">\n",
       "<div class=\"date\">\n",
       "<span class=\"name\" title=\"2021-09-28\">16:33</span>\n",
       "</div>\n",
       "<h3>Астрономы измерили высоту облачного слоя на горячем сатурне с большой точностью</h3>\n",
       "</div>\n",
       "</a>\n",
       "</article> <article class=\"item item-news item-news- _exist-image\" data-image=\"\" data-relevance=\"\">\n",
       "<a data-id=\"30759\" href=\"/news/2021/09/28/merlin\">\n",
       "<div class=\"caption\">\n",
       "<div class=\"date\">\n",
       "<span class=\"name\" title=\"2021-09-28\">14:38</span>\n",
       "</div>\n",
       "<h3>Смоленский НИИ разработал разведывательный беспилотник «Мерлин-ВР»</h3>\n",
       "</div>\n",
       "</a>\n",
       "</article> </div>\n",
       "</div>\n",
       "<div class=\"row\" data-adaptive=\"1\" data-middle-class=\"row-wrap\" data-mobile-class=\"row-wrap\" data-tablet-class=\"row-wrap\">\n",
       "<!--  fixed 8 -->\n",
       "<div class=\"col col-2\" data-adaptive=\"1\" data-middle-toggle=\"col-2 col-3\" data-mobile-toggle=\"col-2 col-1\" data-tablet-class=\"col-1\">\n",
       "<article class=\"item item-article item-article-secondary _exist-image\" data-image=\"https://nplus1.ru/images/2021/07/14/b8157a16e88b15b4479f7651c9164603.jpg\" data-relevance=\"\" style=\"background-image:url(https://nplus1.ru/images/2021/07/14/3c0c65e4e131ac78914a5c8cb91b5e8a.jpg)\">\n",
       "<a data-id=\"29492\" href=\"/material/2021/09/28/animals-have-it\">\n",
       "<div class=\"caption\">\n",
       "<h3>Древняя натура</h3>\n",
       "<p class=\"subtitle\">Что мы узнали о вредных привычках благодаря животным</p>\n",
       "</div>\n",
       "</a>\n",
       "<nav class=\"nav-rubricator\">\n",
       "<ul>\n",
       "<li>\n",
       "<a class=\"link-rubric\" href=\"/rubric/partners\">Партнерский материал</a>\n",
       "</li>\n",
       "<li>\n",
       "<a class=\"link-theme\" href=\"/theme/nosmoke\">Когда рассеется дым</a>\n",
       "</li>\n",
       "</ul>\n",
       "</nav>\n",
       "</article> </div>\n",
       "<div class=\"col col-2\" data-adaptive=\"1\" data-middle-toggle=\"col-2 col-1\" data-mobile-toggle=\"col-2 col-1\" data-tablet-class=\"col-1\">\n",
       "<article class=\"item item-article item-article-secondary _exist-image\" data-image=\"https://nplus1.ru/images/2021/09/28/f6ea5e0ba76d3c8f4b49f22024238284.jpg\" data-relevance=\"\" style=\"background-image:url(https://nplus1.ru/images/2021/09/28/e9075f0fbbdf4101b6705822cafcaecb.jpg)\">\n",
       "<a data-id=\"30618\" href=\"/news/2021/09/28/tissue-or-landscape\">\n",
       "<div class=\"caption\">\n",
       "<h3>Космос внутри</h3>\n",
       "<p class=\"subtitle\">Отличите ли вы спутниковый снимок от среза человеческой ткани</p>\n",
       "</div>\n",
       "</a>\n",
       "<nav class=\"nav-rubricator\">\n",
       "<ul>\n",
       "<li>\n",
       "<a class=\"link-rubric\" href=\"/rubric/astronomy\">Астрономия</a>\n",
       "</li>\n",
       "<li>\n",
       "<a class=\"link-theme\" href=\"/theme/bellezza\">Красота</a>\n",
       "</li>\n",
       "</ul>\n",
       "</nav>\n",
       "</article> </div>\n",
       "<!-- /fixed 8 -->\n",
       "</div>\n",
       "<div class=\"row\" data-adaptive=\"1\" data-middle-class=\"row-wrap\" data-mobile-class=\"row-wrap\" data-tablet-class=\"row-wrap\">\n",
       "<div class=\"col col-1\" data-adaptive=\"1\" data-middle-class=\"col-1 _indent-bottom\" data-tablet-class=\"col-1 _indent-bottom\">\n",
       "<article class=\"item item-news item-news- _exist-image\" data-image=\"\" data-relevance=\"\">\n",
       "<a data-id=\"30754\" href=\"/news/2021/09/28/dolmen-spain\">\n",
       "<div class=\"caption\">\n",
       "<div class=\"date\">\n",
       "<span class=\"name\" title=\"2021-09-28\">13:46</span>\n",
       "</div>\n",
       "<h3>Древние жители Испании захоронили кремированные останки в коридорной гробнице</h3>\n",
       "</div>\n",
       "</a>\n",
       "</article> <article class=\"item item-news item-news- _exist-image\" data-image=\"\" data-relevance=\"\">\n",
       "<a data-id=\"30753\" href=\"/news/2021/09/28/life-covid\">\n",
       "<div class=\"caption\">\n",
       "<div class=\"date\">\n",
       "<span class=\"name\" title=\"2021-09-28\">11:46</span>\n",
       "</div>\n",
       "<h3>Ожидаемая продолжительность жизни европейцев за пандемию снизилась на 0,5–1,7 года</h3>\n",
       "</div>\n",
       "</a>\n",
       "</article> <article class=\"item item-news item-news- _exist-image\" data-image=\"\" data-relevance=\"\">\n",
       "<a data-id=\"30755\" href=\"/news/2021/09/28/hawc\">\n",
       "<div class=\"caption\">\n",
       "<div class=\"date\">\n",
       "<span class=\"name\" title=\"2021-09-28\">11:32</span>\n",
       "</div>\n",
       "<h3>Американцы успешно запустили гиперзвуковую ракету HAWC</h3>\n",
       "</div>\n",
       "</a>\n",
       "</article> </div>\n",
       "<div class=\"col col-1 _swap\" data-adaptive=\"1\" data-desktop-swap=\"0\" data-middle-class=\"col-full\" data-tablet-class=\"col-1 _indent-bottom _indent-right-no\" data-tablet-swap=\"0\">\n",
       "<article class=\"item item-news item-news- _exist-image\" data-image=\"\" data-relevance=\"\">\n",
       "<a data-id=\"30750\" href=\"/news/2021/09/28/seated-burials\">\n",
       "<div class=\"caption\">\n",
       "<div class=\"date\">\n",
       "<span class=\"name\" title=\"2021-09-28\">10:57</span>\n",
       "</div>\n",
       "<h3>Сидячие захоронения из Волго-Уралья датировали финалом средней бронзы</h3>\n",
       "</div>\n",
       "</a>\n",
       "</article> <article class=\"item item-news item-news- _exist-image\" data-image=\"\" data-relevance=\"\">\n",
       "<a data-id=\"30752\" href=\"/news/2021/09/28/archaehierax-sylvestris\">\n",
       "<div class=\"caption\">\n",
       "<div class=\"date\">\n",
       "<span class=\"name\" title=\"2021-09-28\">09:36</span>\n",
       "</div>\n",
       "<h3>Австралийцы описали «лесного древнего ястреба» возрастом 25 миллионов лет</h3>\n",
       "</div>\n",
       "</a>\n",
       "</article> <article class=\"item item-news item-news- _exist-image\" data-image=\"\" data-relevance=\"\">\n",
       "<a data-id=\"30729\" href=\"/news/2021/09/28/spicomellus-afer\">\n",
       "<div class=\"caption\">\n",
       "<div class=\"date\">\n",
       "<span class=\"name\" title=\"2021-09-28\">09:11</span>\n",
       "</div>\n",
       "<h3>Древнейшего анкилозавра описали по уникальному шипастому ребру</h3>\n",
       "</div>\n",
       "</a>\n",
       "</article> </div>\n",
       "<!--  fixed 15 -->\n",
       "<div class=\"col col-1\" data-adaptive=\"1\">\n",
       "<article class=\"item item-blog item-blog- _exist-image\" data-image=\"\" data-relevance=\"\" style=\"background-image:url(https://nplus1.ru/images/2021/09/28/5e07a3b165d614cd2e6a0f0fb4af8ad9.jpg)\">\n",
       "<a data-id=\"30758\" href=\"/blog/2021/09/28/unsere-welt-neu-denken\">\n",
       "<div class=\"caption\">\n",
       "<div class=\"heading\">\n",
       "<p>Ex libris/Книжная полка</p>\n",
       "</div>\n",
       "<div class=\"author\">\n",
       "<img class=\"avatar\" data-mask=\"avatar90\" height=\"90\" src=\"https://nplus1.ru/images/2019/04/09/36720ef38be61db31217d1acaf157f36.jpg\" width=\"90\"/>\n",
       "<div class=\"meta\">\n",
       "<p class=\"name\">«Альпина Паблишер»</p>\n",
       "<p class=\"specs\">Книжное издательство</p>\n",
       "</div>\n",
       "</div> <div class=\"lead\">\n",
       "<p>\n",
       "                    Если сохранение, не говоря уж о регенерации, природы несовместимо с постоянным экономическим ростом, следует понизить уровень материального благосостояния. Такой вариант менее популярен, потому что людям придется обходиться меньшим и от многого отказаться.\n",
       "                </p>\n",
       "</div>\n",
       "</div>\n",
       "</a>\n",
       "</article> </div>\n",
       "<!-- /fixed 15 -->\n",
       "<!--  fixed 16 -->\n",
       "<div class=\"col col-1 _swap\" data-adaptive=\"1\" data-middle-swap=\"0\">\n",
       "<article class=\"item item-blog item-blog- _exist-image\" data-image=\"\" data-relevance=\"\" style=\"background-image:url(https://nplus1.ru/images/2021/09/27/fbf37348d8d95acabc80bded5ba062fc.jpg)\">\n",
       "<a data-id=\"30743\" href=\"/blog/2021/09/27/Its-The-end-of-the-world\">\n",
       "<div class=\"caption\">\n",
       "<div class=\"heading\">\n",
       "<p>Ex libris/Книжная полка</p>\n",
       "</div>\n",
       "<div class=\"author\">\n",
       "<img class=\"avatar\" data-mask=\"avatar90\" height=\"90\" src=\"https://nplus1.ru/images/2019/08/27/64bd651210ac7351a04bcdac2855a9b8.jpg\" width=\"90\"/>\n",
       "<div class=\"meta\">\n",
       "<p class=\"name\">«Individuum»  </p>\n",
       "<p class=\"specs\">Книжное издательство</p>\n",
       "</div>\n",
       "</div> <div class=\"lead\">\n",
       "<p>\n",
       "                    В среднем каждый вид млекопитающих существует около миллиона лет, а потому маловероятно, что мы доживем до момента, когда усиливающийся жар Солнца сделает нашу планету необитаемой. Может, нас тревожит понимание того, что мы разделяем злой рок со Вселенной?\n",
       "                </p>\n",
       "</div>\n",
       "</div>\n",
       "</a>\n",
       "</article> </div>\n",
       "<!-- /fixed 16 -->\n",
       "</div>\n",
       "<div class=\"row\" data-adaptive=\"1\" data-middle-class=\"row-wrap\" data-mobile-class=\"row-wrap\" data-tablet-class=\"row-wrap\">\n",
       "<!--  fixed 17 -->\n",
       "<div class=\"col col-2\" data-adaptive=\"1\" data-middle-toggle=\"col-2 col-3\" data-mobile-toggle=\"col-2 col-1\" data-tablet-class=\"col-1\">\n",
       "<article class=\"item item-article item-article-secondary _exist-image\" data-image=\"https://nplus1.ru/images/2021/09/24/3698595be07af5d91ffcb48769e3dd1f.gif\" data-relevance=\"\" style=\"background-image:url(https://nplus1.ru/images/2021/09/24/df85cfcc94dd8a8e3f82f2495a5879a2.gif)\">\n",
       "<a data-id=\"30721\" href=\"/material/2021/09/24/worms\">\n",
       "<div class=\"caption\">\n",
       "<h3>Владыки вечности</h3>\n",
       "<p class=\"subtitle\">Великие черви «Дюны» глазами зоологов</p>\n",
       "</div>\n",
       "</a>\n",
       "<nav class=\"nav-rubricator\">\n",
       "<ul>\n",
       "<li>\n",
       "<a class=\"link-rubric\" href=\"/rubric/mezzanine\">Мезонин</a>\n",
       "</li>\n",
       "</ul>\n",
       "</nav>\n",
       "</article> </div>\n",
       "<div class=\"col col-2\" data-adaptive=\"1\" data-middle-toggle=\"col-2 col-1\" data-mobile-toggle=\"col-2 col-1\" data-tablet-class=\"col-1\">\n",
       "<article class=\"item item-article item-article-secondary _exist-image\" data-image=\"https://nplus1.ru/images/2021/09/20/51c16bb94c40f3852454640b90b92333.jpg\" data-relevance=\"\" style=\"background-image:url(https://nplus1.ru/images/2021/09/20/4bf78568eba4eb9628884c3ac5f32cda.jpg)\">\n",
       "<a data-id=\"30652\" href=\"/material/2021/09/21/apy-13\">\n",
       "<div class=\"caption\">\n",
       "<h3>Небо над нами</h3>\n",
       "<p class=\"subtitle\">Победители и призеры конкурса Astronomy Photographer of the Year 2021</p>\n",
       "</div>\n",
       "</a>\n",
       "<nav class=\"nav-rubricator\">\n",
       "<ul>\n",
       "<li>\n",
       "<a class=\"link-rubric\" href=\"/rubric/astronomy\">Астрономия</a>\n",
       "</li>\n",
       "<li>\n",
       "<a class=\"link-theme\" href=\"/theme/aphoto\">Астрофотография</a>\n",
       "</li>\n",
       "</ul>\n",
       "</nav>\n",
       "</article> </div>\n",
       "<!-- /fixed 17 -->\n",
       "</div>\n",
       "<div class=\"row\" data-adaptive=\"1\" data-middle-class=\"row-wrap\" data-mobile-class=\"row-wrap\" data-tablet-class=\"row-wrap\">\n",
       "<div class=\"col col-1\" data-adaptive=\"1\" data-middle-class=\"col-1 _indent-bottom\" data-tablet-class=\"col-1 _indent-bottom\">\n",
       "<article class=\"item item-news item-news- _exist-image\" data-image=\"\" data-relevance=\"\">\n",
       "<a data-id=\"30748\" href=\"/news/2021/09/27/SED\">\n",
       "<div class=\"caption\">\n",
       "<div class=\"date\">\n",
       "<span class=\"name\" title=\"2021-09-27\">вчера</span>\n",
       "</div>\n",
       "<h3>Медики предложили пересмотреть рекомендации по оптимальному пребыванию на солнце</h3>\n",
       "</div>\n",
       "</a>\n",
       "</article> <article class=\"item item-news item-news- _exist-image\" data-image=\"\" data-relevance=\"\">\n",
       "<a data-id=\"30745\" href=\"/news/2021/09/27/darpa-subt\">\n",
       "<div class=\"caption\">\n",
       "<div class=\"date\">\n",
       "<span class=\"name\" title=\"2021-09-27\">вчера</span>\n",
       "</div>\n",
       "<h3>DARPA объявила итоги соревнований подземных роботов</h3>\n",
       "</div>\n",
       "</a>\n",
       "</article> <article class=\"item item-news item-news- _exist-image\" data-image=\"\" data-relevance=\"\">\n",
       "<a data-id=\"30735\" href=\"/news/2021/09/27/plocepasser-mahali\">\n",
       "<div class=\"caption\">\n",
       "<div class=\"date\">\n",
       "<span class=\"name\" title=\"2021-09-27\">вчера</span>\n",
       "</div>\n",
       "<h3>Подросшие дочери ткачиковых воробьев помогли подтвердить гипотезу альтруистической подстраховки</h3>\n",
       "</div>\n",
       "</a>\n",
       "</article> </div>\n",
       "<div class=\"col col-1 _swap\" data-adaptive=\"1\" data-desktop-swap=\"0\" data-middle-class=\"col-full\" data-tablet-class=\"col-1 _indent-bottom _indent-right-no\" data-tablet-swap=\"0\">\n",
       "<article class=\"item item-news item-news- _exist-image\" data-image=\"\" data-relevance=\"\">\n",
       "<a data-id=\"30751\" href=\"/news/2021/09/27/ch-6\">\n",
       "<div class=\"caption\">\n",
       "<div class=\"date\">\n",
       "<span class=\"name\" title=\"2021-09-27\">вчера</span>\n",
       "</div>\n",
       "<h3>Китайцы построили прототип вооруженного разведывательного беспилотника</h3>\n",
       "</div>\n",
       "</a>\n",
       "</article> <article class=\"item item-news item-news- _exist-image\" data-image=\"\" data-relevance=\"\">\n",
       "<a data-id=\"30744\" href=\"/news/2021/09/27/shutdown-of-southern-ocean-convection\">\n",
       "<div class=\"caption\">\n",
       "<div class=\"date\">\n",
       "<span class=\"name\" title=\"2021-09-27\">вчера</span>\n",
       "</div>\n",
       "<h3>Интенсивность глобального потепления связали с ослаблением циркуляции в Южном океане</h3>\n",
       "</div>\n",
       "</a>\n",
       "</article> <article class=\"item item-news item-news- _exist-image\" data-image=\"\" data-relevance=\"\">\n",
       "<a data-id=\"30749\" href=\"/news/2021/09/27/lasker-2021\">\n",
       "<div class=\"caption\">\n",
       "<div class=\"date\">\n",
       "<span class=\"name\" title=\"2021-09-27\">вчера</span>\n",
       "</div>\n",
       "<h3>Премию Ласкера вручили за работы по оптогенетике и создание мРНК вакцин</h3>\n",
       "</div>\n",
       "</a>\n",
       "</article> </div>\n",
       "<!--  fixed 24 -->\n",
       "<div class=\"col col-1\">\n",
       "<article class=\"item item-blog item-blog- _exist-image\" data-image=\"\" data-relevance=\"\" style=\"background-image:url(https://nplus1.ru/images/2021/09/23/d5ec4ce44bf977273b8c5591599933fc.jpg)\">\n",
       "<a data-id=\"30700\" href=\"/blog/2021/09/23/cosmological-koans\">\n",
       "<div class=\"caption\">\n",
       "<div class=\"heading\">\n",
       "<p>Ex libris/Книжная полка</p>\n",
       "</div>\n",
       "<div class=\"author\">\n",
       "<img class=\"avatar\" data-mask=\"avatar90\" height=\"90\" src=\"https://nplus1.ru/images/2020/07/29/ee85583e5ba42d07ef28368ba3d7e723.jpg\" width=\"90\"/>\n",
       "<div class=\"meta\">\n",
       "<p class=\"name\">«АСТ: Corpus»</p>\n",
       "<p class=\"specs\">Книжное издательство</p>\n",
       "</div>\n",
       "</div> <div class=\"lead\">\n",
       "<p>\n",
       "                    Проблема спуска с горы с затратой наименьшего усилия — очень распространенный тип задачи о выборе пути в пространстве, когда какой то параметр минимизируется. Мы часто ищем путь наименьшей длины, то есть хотим попасть к месту назначения самым быстрым способом.\n",
       "                </p>\n",
       "</div>\n",
       "</div>\n",
       "</a>\n",
       "</article> </div>\n",
       "<!-- /fixed 24 -->\n",
       "<!--  fixed 25 -->\n",
       "<div class=\"col col-1 _swap\" data-adaptive=\"1\" data-middle-class=\"col-1 _indent-bottom\" data-middle-swap=\"0\">\n",
       "<article class=\"item item-blog item-blog- _exist-image\" data-image=\"\" data-relevance=\"\" style=\"background-image:url(https://nplus1.ru/images/2021/09/21/8af0cf824abb87a7fa99e69973735fa8.jpg)\">\n",
       "<a data-id=\"30682\" href=\"/blog/2021/09/21/the-French-Revolution\">\n",
       "<div class=\"caption\">\n",
       "<div class=\"heading\">\n",
       "<p>Ex libris/Премия «Просветитель»</p>\n",
       "</div>\n",
       "<div class=\"author\">\n",
       "<img class=\"avatar\" data-mask=\"avatar90\" height=\"90\" src=\"https://nplus1.ru/images/2018/02/06/1ccc6e9960399e0551870d97fc98b306.jpg\" width=\"90\"/>\n",
       "<div class=\"meta\">\n",
       "<p class=\"name\">Альпина нон-фикшн</p>\n",
       "<p class=\"specs\">Научно-популярное издательство</p>\n",
       "</div>\n",
       "</div> <div class=\"lead\">\n",
       "<p>\n",
       "                    Весть о парижских событиях и о том, что прежней власти фактически больше нет и теперь «все можно», побудила низы, страдавшие от безработицы и дороговизны, к попыткам улучшить свое положение за счет более обеспеченных сограждан. В ряде провинций прокатилась волна разграблений замков и поместий.\n",
       "                </p>\n",
       "</div>\n",
       "</div>\n",
       "</a>\n",
       "</article> </div>\n",
       "<!-- /fixed 25 -->\n",
       "</div>\n",
       "<div class=\"row\" data-adaptive=\"1\" data-middle-class=\"row-wrap\" data-mobile-class=\"row-wrap\" data-tablet-class=\"row-wrap\">\n",
       "<!--  fixed 26 -->\n",
       "<div class=\"col col-2\" data-adaptive=\"1\" data-middle-toggle=\"col-2 col-3\" data-mobile-toggle=\"col-2 col-1\" data-tablet-class=\"col-1\">\n",
       "<article class=\"item item-article item-article-secondary _exist-image\" data-image=\"https://nplus1.ru/images/2021/09/20/9ecd161a02d7e7b691cc89a094ba5d37.gif\" data-relevance=\"\" style=\"background-image:url(https://nplus1.ru/images/2021/09/20/8cc3202deff7c390289167ac7ae2fea8.gif)\">\n",
       "<a data-id=\"30637\" href=\"/material/2021/09/20/who-is-oetzi\">\n",
       "<div class=\"caption\">\n",
       "<h3>Из пропасти во льду</h3>\n",
       "<p class=\"subtitle\">Что ученые узнали о «ледяном человеке» за 30 лет со дня находки</p>\n",
       "</div>\n",
       "</a>\n",
       "<nav class=\"nav-rubricator\">\n",
       "<ul>\n",
       "<li>\n",
       "<a class=\"link-rubric\" href=\"/rubric/archaeology\">Археология</a>\n",
       "</li>\n",
       "</ul>\n",
       "</nav>\n",
       "</article> </div>\n",
       "<div class=\"col col-2\" data-adaptive=\"1\" data-middle-toggle=\"col-2 col-1\" data-mobile-toggle=\"col-2 col-1\" data-tablet-class=\"col-1\">\n",
       "<article class=\"item item-article item-article-secondary _exist-image\" data-image=\"https://nplus1.ru/images/2021/09/17/63213c9052ea34fd669949227fa4d57b.jpg\" data-relevance=\"\" style=\"background-image:url(https://nplus1.ru/images/2021/09/17/fc6ca19149b2fec4a01a0ce43c1145de.jpg)\">\n",
       "<a data-id=\"30630\" href=\"/news/2021/09/17/penguin-test\">\n",
       "<div class=\"caption\">\n",
       "<h3>Тест на пингвина</h3>\n",
       "<p class=\"subtitle\">Разберитесь с мифами о пингвинах</p>\n",
       "</div>\n",
       "</a>\n",
       "<nav class=\"nav-rubricator\">\n",
       "<ul>\n",
       "<li>\n",
       "<a class=\"link-rubric\" href=\"/rubric/zoology\">Зоология</a>\n",
       "</li>\n",
       "</ul>\n",
       "</nav>\n",
       "</article> </div>\n",
       "<!-- /fixed 26 -->\n",
       "</div>\n",
       "<!-- / dynamic content -->\n",
       "</section>\n",
       "<!-- / main section -->\n",
       "<div id=\"wrapper-footer\">\n",
       "<section class=\"_middle\" id=\"difficult\">\n",
       "<!-- Slider main container -->\n",
       "<div class=\"swiper-container\">\n",
       "<!-- Additional required wrapper -->\n",
       "<div class=\"swiper-wrapper\">\n",
       "<div class=\"swiper-slide\">\n",
       "<div class=\"heading\">\n",
       "<div class=\"num\">\n",
       "<div class=\"value\">8.3</div>\n",
       "</div>\n",
       "<p>Коэффициент сложности</p>\n",
       "</div>\n",
       "<h3><a href=\"/news/2021/09/24/magic-people-voodoo-people\">Физик нашел новые магические числа для зарядов на сфере</a></h3>\n",
       "</div>\n",
       "<div class=\"swiper-slide\">\n",
       "<div class=\"heading\">\n",
       "<div class=\"num\">\n",
       "<div class=\"value\">8.2</div>\n",
       "</div>\n",
       "<p>Коэффициент сложности</p>\n",
       "</div>\n",
       "<h3><a href=\"/news/2021/09/21/raman-transfer\">Свет помог собрать ультрахолодную молекулу из двух атомов</a></h3>\n",
       "</div>\n",
       "<div class=\"swiper-slide\">\n",
       "<div class=\"heading\">\n",
       "<div class=\"num\">\n",
       "<div class=\"value\">7.9</div>\n",
       "</div>\n",
       "<p>Коэффициент сложности</p>\n",
       "</div>\n",
       "<h3><a href=\"/material/2021/09/23/vtb-devops\">Пять стадий DevOps</a></h3>\n",
       "</div>\n",
       "<div class=\"swiper-slide\">\n",
       "<div class=\"heading\">\n",
       "<div class=\"num\">\n",
       "<div class=\"value\">7.3</div>\n",
       "</div>\n",
       "<p>Коэффициент сложности</p>\n",
       "</div>\n",
       "<h3><a href=\"/news/2021/09/23/single-phonon-evidence\">Добавление и вычитание одиночного фонона увидели при комнатной температуре</a></h3>\n",
       "</div>\n",
       "<div class=\"swiper-slide\">\n",
       "<div class=\"heading\">\n",
       "<div class=\"num\">\n",
       "<div class=\"value\">6.8</div>\n",
       "</div>\n",
       "<p>Коэффициент сложности</p>\n",
       "</div>\n",
       "<h3><a href=\"/news/2021/09/22/100ms-coherence\">Время когерентности молекулярных кубитов повысили на порядок</a></h3>\n",
       "</div>\n",
       "<div class=\"swiper-slide\">\n",
       "<div class=\"heading\">\n",
       "<div class=\"num\">\n",
       "<div class=\"value\">6.6</div>\n",
       "</div>\n",
       "<p>Коэффициент сложности</p>\n",
       "</div>\n",
       "<h3><a href=\"/news/2021/09/24/quantum-limit-planet\">Экзопланеты предложили искать в квантовом пределе</a></h3>\n",
       "</div>\n",
       "<div class=\"swiper-slide\">\n",
       "<div class=\"heading\">\n",
       "<div class=\"num\">\n",
       "<div class=\"value\">6.5</div>\n",
       "</div>\n",
       "<p>Коэффициент сложности</p>\n",
       "</div>\n",
       "<h3><a href=\"/news/2021/09/22/single-photon-nonlinear\">Однофотонную нелинейность реализовали при комнатной температуре</a></h3>\n",
       "</div>\n",
       "<div class=\"swiper-slide\">\n",
       "<div class=\"heading\">\n",
       "<div class=\"num\">\n",
       "<div class=\"value\">5.9</div>\n",
       "</div>\n",
       "<p>Коэффициент сложности</p>\n",
       "</div>\n",
       "<h3><a href=\"/news/2021/09/24/it-hears-you\">Круглые черви оказались способны слышать всем телом</a></h3>\n",
       "</div>\n",
       "<div class=\"swiper-slide\">\n",
       "<div class=\"heading\">\n",
       "<div class=\"num\">\n",
       "<div class=\"value\">5.1</div>\n",
       "</div>\n",
       "<p>Коэффициент сложности</p>\n",
       "</div>\n",
       "<h3><a href=\"/news/2021/09/24/circular-resonance\">Аномальную ионизацию атомов объяснили резонансами </a></h3>\n",
       "</div>\n",
       "<div class=\"swiper-slide\">\n",
       "<div class=\"heading\">\n",
       "<div class=\"num\">\n",
       "<div class=\"value\">4.9</div>\n",
       "</div>\n",
       "<p>Коэффициент сложности</p>\n",
       "</div>\n",
       "<h3><a href=\"/news/2021/09/27/optical-levitation\">Из оптически левитирующих частиц предложили сделать гироскоп</a></h3>\n",
       "</div>\n",
       "</div>\n",
       "<!-- If we need pagination -->\n",
       "<div class=\"swiper-pagination\"></div>\n",
       "<div class=\"swiper-button-prev\"></div>\n",
       "<div class=\"swiper-button-next\"></div>\n",
       "</div>\n",
       "<h6>Самое сложное</h6>\n",
       "</section>\n",
       "<div class=\"container\">\n",
       "<div class=\"line\">\n",
       "<a class=\"action-line-toggle\" href=\"https://nplus1.ru/blog/2021/09/27/Its-The-end-of-the-world\">\n",
       "<div class=\"heading\"><span></span></div>\n",
       "</a>\n",
       "<a class=\"container-link\" href=\"https://nplus1.ru/blog/2021/09/27/Its-The-end-of-the-world\">\n",
       "<div class=\"heading\"><span>Книжная полка</span></div>\n",
       "<div class=\"link\"><span>Адам Робертс «Вот и всё. Зачем мы пугаем себя концом света?»</span></div>\n",
       "</a>\n",
       "<a class=\"container-link\" href=\"https://nplus1.ru/blog/2021/09/23/cosmological-koans\">\n",
       "<div class=\"heading\"><span>Книжная полка</span></div>\n",
       "<div class=\"link\"><span>Энтони Агирре «Космологические коаны. Путешествие в самое сердце физической реальности»</span></div>\n",
       "</a>\n",
       "<a class=\"container-link\" href=\"https://nplus1.ru/blog/2021/09/21/the-French-Revolution\">\n",
       "<div class=\"heading\"><span>Премия «Просветитель»</span></div>\n",
       "<div class=\"link\"><span>Дмитрий Бовыкин, Дмитрий Чудинов «Французская революция»</span></div>\n",
       "</a>\n",
       "<a class=\"container-link\" href=\"https://nplus1.ru/blog/2021/09/16/lone-survivors\">\n",
       "<div class=\"heading\"><span>Книжная полка</span></div>\n",
       "<div class=\"link\"><span>Крис Стрингер «Остались одни. Единственный вид людей на земле»</span></div>\n",
       "</a>\n",
       "<a class=\"container-link\" href=\"https://nplus1.ru/blog/2021/09/14/bones-inside-and-out\">\n",
       "<div class=\"heading\"><span>Книжная полка</span></div>\n",
       "<div class=\"link\"><span>Рой Миллз «Кости: внутри и снаружи»</span></div>\n",
       "</a>\n",
       "<a class=\"container-link\" href=\"https://nplus1.ru/blog/2021/09/09/13lost\">\n",
       "<div class=\"heading\"><span>Время удивительных историй</span></div>\n",
       "<div class=\"link\"><span>Берестяная грамота, которая нашлась дважды</span></div>\n",
       "</a>\n",
       "<a class=\"container-link\" href=\"https://nplus1.ru/blog/2021/09/08/when-the-earth-had-two-moons\">\n",
       "<div class=\"heading\"><span>Книжная полка</span></div>\n",
       "<div class=\"link\"><span>Эрик Асфог «Когда у Земли было две Луны: Планеты-каннибалы, ледяные гиганты, грязевые кометы и другие светила ночного неба»</span></div>\n",
       "</a>\n",
       "<a class=\"container-link\" href=\"https://nplus1.ru/blog/2021/09/06/stress-pain-and-opioids\">\n",
       "<div class=\"heading\"><span>Премия «Просветитель»</span></div>\n",
       "<div class=\"link\"><span>Сергей Парин «Стресс, боль и опиоиды. Об эндорфинах и не только»</span></div>\n",
       "</a>\n",
       "<a class=\"container-link\" href=\"https://nplus1.ru/blog/2021/08/27/infinite-powers\">\n",
       "<div class=\"heading\"><span>Книжная полка</span></div>\n",
       "<div class=\"link\"><span>Стивен Строгац «Бесконечная сила. Как математический анализ раскрывает тайны Вселенной» </span></div>\n",
       "</a>\n",
       "<a class=\"container-link active\" href=\"https://nplus1.ru/blog/2021/09/28/unsere-welt-neu-denken\">\n",
       "<div class=\"heading\"><span>Книжная полка</span></div>\n",
       "<div class=\"link\"><span>Майя Гёпель «Мир после нас: Как не дать планете погибнуть»</span></div>\n",
       "</a>\n",
       "</div>\n",
       "</div>\n",
       "<script async=\"\" src=\"https://cdn.onthe.io/io.js/QCyUUwp6IVuR\"></script>\n",
       "<script>\n",
       "window._io_config = window._io_config || {};\n",
       "window._io_config[\"0.2.0\"] = window._io_config[\"0.2.0\"] || [];\n",
       "window._io_config[\"0.2.0\"].push({\n",
       "    page_url: document.location.toString(),\n",
       "    page_url_canonical: document.querySelector('link[rel=\"canonical\"]').href,\n",
       "    page_title: document.querySelector('title').innerHTML,\n",
       "    page_type: \"main\",\n",
       "    page_language: \"ru\"\n",
       "});\n",
       "</script>\n",
       "<div class=\"ad ad-col border\">\n",
       "</div>\n",
       "<!-- footer -->\n",
       "<footer id=\"footer\">\n",
       "<div class=\"row\" data-adaptive=\"1\" data-middle-class=\"row-wrap\" data-mobile-class=\"row-wrap\" data-tablet-class=\"row-wrap\">\n",
       "<div class=\"col col-logo\">\n",
       "<a class=\"link-logo\" href=\"/\"><img src=\"/i/logo-alt.png\"/></a>\n",
       "</div>\n",
       "<div class=\"col col-footer-desc\">\n",
       "<nav class=\"nav-pages\">\n",
       "<ul>\n",
       "<li>\n",
       "<a href=\"/about\">О нас</a>\n",
       "</li>\n",
       "<li>\n",
       "<a href=\"https://nplus.pro\" target=\"_blank\">N + Production</a>\n",
       "</li>\n",
       "<li>\n",
       "<a href=\"/adv\">Рекламодателям</a>\n",
       "</li>\n",
       "<li>\n",
       "<a href=\"/rules\">Наши материалы</a>\n",
       "</li>\n",
       "<li>\n",
       "<a href=\"/vacancy\">Вакансии</a>\n",
       "</li>\n",
       "<li>\n",
       "<a href=\"/difficult\">Сложность</a>\n",
       "</li>\n",
       "</ul>\n",
       "</nav>\n",
       "<div class=\"desc\">\n",
       "<p>© 2021 <i>N + 1</i> Интернет-издание   Свидетельство о регистрации СМИ Эл № ФС77-67614</p>\n",
       "<p>Использование всех текстовых материалов без изменений в некоммерческих целях разрешается со ссылкой на <i>N + 1</i>. \n",
       "                        Все аудиовизуальные произведения являются собственностью своих авторов и правообладателей и используются \n",
       "                        только в образовательных и информационных целях. Если вы являетесь собственником того или иного произведения \n",
       "                        и не согласны с его размещением на нашем сайте, пожалуйста, напишите на kirill@nplus1.ru</p>\n",
       "<p>Материалы, опубликованные в разделе «Блоги», отражают позиции их авторов, которые могут не совпадать с мнением редакции.</p>\n",
       "<p>Сайт может содержать контент, не предназначенный для лиц младше 18 лет.</p>\n",
       "<p>\n",
       "<a class=\"pd\" href=\"https://nplus1.ru/personal-data-policy\">Политика обработки персональных данных пользователей сайта</a>\n",
       "</p>\n",
       "<p>\n",
       "<script async=\"\" src=\"//s.luxupcdnc.com/t/consent_195458.js\" type=\"text/javascript\"></script>\n",
       "<a href=\"#\" onclick=\"if(window.__lxG__consent__ !== undefined) {window.__lxG__consent__.showConsent()} else {alert('This function works only for users from the European Economic Area (EEA).')}; return false\">Change privacy settings</a>\n",
       "</p>\n",
       "<p>\n",
       "</p>\n",
       "</div>\n",
       "</div>\n",
       "<div class=\"col col-1 pull-right\">\n",
       "<nav class=\"nav-social\">\n",
       "<ul>\n",
       "<li>\n",
       "<a href=\"https://t.me/nplusone\"><i class=\"fa fa-telegram\"></i></a>\n",
       "</li>\n",
       "<li>\n",
       "<a href=\"http://vk.com/nplusone\"><i class=\"fa fa-vk\"></i></a>\n",
       "</li>\n",
       "<li>\n",
       "<a href=\"https://www.facebook.com/nplusone\"><i class=\"fa fa-facebook\"></i></a>\n",
       "</li>\n",
       "<li>\n",
       "<a href=\"https://twitter.com/nplusodin\"><i class=\"fa fa-twitter\"></i></a>\n",
       "</li>\n",
       "<li>\n",
       "<a href=\"https://ok.ru/nplus1\"><i class=\"fa fa-odnoklassniki\"></i></a>\n",
       "</li>\n",
       "<li>\n",
       "<a href=\"https://soundcloud.com/nplus_1\"><i class=\"fa fa-soundcloud\"></i></a>\n",
       "</li>\n",
       "<li>\n",
       "<a href=\"/rss\"><i class=\"fa fa-rss\"></i></a>\n",
       "</li>\n",
       "</ul>\n",
       "</nav>\n",
       "<div class=\"partners\">\n",
       "<!-- Rating@Mail.ru counter -->\n",
       "<script type=\"text/javascript\">\n",
       "var _tmr = window._tmr || (window._tmr = []);\n",
       "_tmr.push({id: \"3084572\", type: \"pageView\", start: (new Date()).getTime()});\n",
       "(function (d, w, id) {\n",
       "  if (d.getElementById(id)) return;\n",
       "  var ts = d.createElement(\"script\"); ts.type = \"text/javascript\"; ts.async = true; ts.id = id;\n",
       "  ts.src = \"https://top-fwz1.mail.ru/js/code.js\";\n",
       "  var f = function () {var s = d.getElementsByTagName(\"script\")[0]; s.parentNode.insertBefore(ts, s);};\n",
       "  if (w.opera == \"[object Opera]\") { d.addEventListener(\"DOMContentLoaded\", f, false); } else { f(); }\n",
       "})(document, window, \"topmailru-code\");\n",
       "</script><noscript><div>\n",
       "<img alt=\"Top.Mail.Ru\" src=\"https://top-fwz1.mail.ru/counter?id=3084572;js=na\" style=\"border:0;position:absolute;left:-9999px;\"/>\n",
       "</div></noscript>\n",
       "<!-- //Rating@Mail.ru counter -->\n",
       "</div>\n",
       "</div>\n",
       "</div>\n",
       "</footer> <!-- / footer -->\n",
       "</div>\n",
       "</div>\n",
       "</div>\n",
       "<!-- Google Tag Manager -->\n",
       "<script>(function(w,d,s,l,i){w[l]=w[l]||[];w[l].push({'gtm.start':\n",
       "new Date().getTime(),event:'gtm.js'});var f=d.getElementsByTagName(s)[0],\n",
       "j=d.createElement(s),dl=l!='dataLayer'?'&l='+l:'';j.async=true;j.src=\n",
       "'https://www.googletagmanager.com/gtm.js?id='+i+dl;f.parentNode.insertBefore(j,f);\n",
       "})(window,document,'script','dataLayer','GTM-MNJC58');</script>\n",
       "<!-- End Google Tag Manager -->\n",
       "<!-- Google Tag Manager (noscript) -->\n",
       "<noscript><iframe height=\"0\" src=\"https://www.googletagmanager.com/ns.html?id=GTM-MNJC58\" style=\"display:none;visibility:hidden\" width=\"0\"></iframe></noscript>\n",
       "<!-- End Google Tag Manager (noscript) -->\n",
       "<noscript><div><img alt=\"\" src=\"//mc.yandex.ru/watch/29654565\" style=\"position:absolute; left:-9999px;\"/></div></noscript>\n",
       "<script src=\"/js/lib/js.cookie.js\"></script>\n",
       "<script src=\"/js/lib/jquery.swap.js\"></script>\n",
       "<script src=\"/js/lib/swiper.jquery.min.js\"></script>\n",
       "<script src=\"/js/lib/svg.js\"></script>\n",
       "<script src=\"/js/lib/jquery.mobile-events.min.js\"></script>\n",
       "<script src=\"/js/lib/social-likes.min.js\"></script>\n",
       "<script src=\"/js/lib/jquery.sticky.js\"></script>\n",
       "<!--   project scripts -->\n",
       "<script src=\"/js/main.min.js?v=1632760428\"></script>\n",
       "<!-- / project scripts -->\n",
       "<!-- Quantcast Tag -->\n",
       "<script type=\"text/javascript\">\n",
       "var _qevents = _qevents || [];\n",
       "\n",
       "(function() {\n",
       "var elem = document.createElement('script');\n",
       "elem.src = (document.location.protocol == \"https:\" ? \"https://secure\" : \"http://edge\") + \".quantserve.com/quant.js\";\n",
       "elem.async = true;\n",
       "elem.type = \"text/javascript\";\n",
       "var scpt = document.getElementsByTagName('script')[0];\n",
       "scpt.parentNode.insertBefore(elem, scpt);\n",
       "})();\n",
       "\n",
       "_qevents.push({\n",
       "qacct:\"p-s3ftDEFzEW5x7\"\n",
       "});\n",
       "</script>\n",
       "<noscript>\n",
       "<div style=\"display:none;\">\n",
       "<img alt=\"Quantcast\" border=\"0\" height=\"1\" src=\"//pixel.quantserve.com/pixel/p-s3ftDEFzEW5x7.gif\" width=\"1\"/>\n",
       "</div>\n",
       "</noscript>\n",
       "<!-- End Quantcast tag -->\n",
       "</body>\n",
       "</html>"
      ]
     },
     "execution_count": 42,
     "metadata": {},
     "output_type": "execute_result"
    }
   ],
=======
   "execution_count": null,
   "metadata": {},
   "outputs": [],
>>>>>>> Stashed changes
=======
   "execution_count": null,
   "metadata": {},
   "outputs": [],
>>>>>>> Stashed changes
   "source": [
    "soup"
   ]
  },
  {
   "cell_type": "markdown",
   "metadata": {},
   "source": [
    "Для просмотра выглядит не очень удобно.  «Причешем» наш `soup` – воспользуемся методом `.prettify()` в сочетании с функцией `print()`."
   ]
  },
  {
   "cell_type": "code",
<<<<<<< Updated upstream
<<<<<<< Updated upstream
   "execution_count": 44,
   "metadata": {},
   "outputs": [
    {
     "name": "stdout",
     "output_type": "stream",
     "text": [
      "<!DOCTYPE html>\n",
      "<html class=\"no-js bg-fixed\" lang=\"\" style=\"background-image:url(https://nplus1.ru/images/2021/09/28/6dcddecc418eb2afd45b87260f5b168f.jpg)\">\n",
      " <head>\n",
      "  <meta charset=\"utf-8\"/>\n",
      "  <meta content=\"ie=edge\" http-equiv=\"x-ua-compatible\"/>\n",
      "  <meta content=\"width=device-width, initial-scale=1\" name=\"viewport\"/>\n",
      "  <meta content=\"yes\" name=\"apple-mobile-web-app-capable\"/>\n",
      "  <meta content=\"black\" name=\"apple-mobile-web-app-status-bar-style\"/>\n",
      "  <meta content=\"7991d7eb02d759f05b9050e111a7e3eb\" name=\"wmail-verification\"/>\n",
      "  <link href=\"https://nplus1.ru\" rel=\"canonical\"/>\n",
      "  <title>\n",
      "   N+1: научные статьи, новости, открытия\n",
      "  </title>\n",
      "  <!-- for Google -->\n",
      "  <meta content=\"N+1: научные статьи, новости, открытия\" name=\"description\"/>\n",
      "  <meta content=\"\" name=\"author\"/>\n",
      "  <meta content=\"\" name=\"copyright\"/>\n",
      "  <!-- for Facebook -->\n",
      "  <meta content=\"N+1: научные статьи, новости, открытия\" property=\"og:title\"/>\n",
      "  <meta content=\"https://nplus1.ru/i/logo.png\" property=\"og:image\"/>\n",
      "  <meta content=\"https://nplus1.ru\" property=\"og:url\"/>\n",
      "  <meta content=\"N+1: научные статьи, новости, открытия\" property=\"og:description\"/>\n",
      "  <!-- for Twitter -->\n",
      "  <meta content=\"summary_large_image\" name=\"twitter:card\"/>\n",
      "  <meta content=\"@nplusodin\" name=\"twitter:site\"/>\n",
      "  <meta content=\"N+1: научные статьи, новости, открытия\" name=\"twitter:title\"/>\n",
      "  <meta content=\"N+1: научные статьи, новости, открытия\" name=\"twitter:description\"/>\n",
      "  <meta content=\"https://nplus1.ru/i/logo.png\" name=\"twitter:image\"/>\n",
      "  <meta content=\"8c90b02c84ac3b72\" name=\"yandex-verification\"/>\n",
      "  <link href=\"https://nplus1.ru/rss\" rel=\"alternate\" title=\"RSS\" type=\"application/rss+xml\"/>\n",
      "  <link href=\"/css/font-awesome.min.css\" rel=\"stylesheet\"/>\n",
      "  <link href=\"/css/main.min.css?v=1631810034\" rel=\"stylesheet\"/>\n",
      "  <link href=\"/css/desktop.min.css?v=1452887696\" rel=\"stylesheet\"/>\n",
      "  <link href=\"/css/tablet.min.css?v=1499281342\" rel=\"stylesheet\"/>\n",
      "  <link href=\"/css/mobile.min.css?v=1603187018\" rel=\"stylesheet\"/>\n",
      "  <script src=\"//ajax.googleapis.com/ajax/libs/jquery/1.11.2/jquery.min.js\">\n",
      "  </script>\n",
      "  <script src=\"//cdnjs.cloudflare.com/ajax/libs/modernizr/2.8.3/modernizr.min.js\">\n",
      "  </script>\n",
      "  <script src=\"/js/lib/adfox.asyn.code.ver3.js\" type=\"text/javascript\">\n",
      "  </script>\n",
      "  <script src=\"/js/lib/adfox.asyn.code.scroll.js\" type=\"text/javascript\">\n",
      "  </script>\n",
      "  <script crossorigin=\"anonymous\" src=\"https://yastatic.net/pcode/adfox/loader.js\">\n",
      "  </script>\n",
      "  <script async=\"\" id=\"__lxGc__rtr\" src=\"//s.clickiocdn.com/t/195458/360.js\" type=\"text/javascript\">\n",
      "  </script>\n",
      "  <script async=\"\" src=\"//s.luxupcdnc.com/t/common_402.js\" type=\"text/javascript\">\n",
      "  </script>\n",
      "  <!--  ad -->\n",
      "  <script type=\"text/javascript\">\n",
      "   var __colAdLoaded = false;\n",
      "\t\t    var __topAdLoaded = false;\n",
      "\t\t    \n",
      "\t\t    var __id = \"\";\n",
      "\t\t    \n",
      "\t\t    function detectAd(id){\n",
      "\t\t        var _ad = document.getElementById(\"AdFox_banner_\"+id);\n",
      "\t\t    \t    console.debug(_ad);\n",
      "\t\t        \n",
      "\t\t        __id = id;\n",
      "\t\t        if(_ad != null && _ad.innerHTML == \"\"){\n",
      "\t\t            $(\".col-ad\").remove();\n",
      "\t\t        }\n",
      "\t\t        __colAdLoaded = true;\n",
      "\t\t    }\n",
      "\t\t    function detectAdTop(id){\n",
      "\t\t        __topAdLoaded = true;\n",
      "\t\t    }\n",
      "  </script>\n",
      "  <!-- /ad -->\n",
      "  <script type=\"application/ld+json\">\n",
      "   { \"@context\": \"http://schema.org\", \"@type\": \"WebSite\", \"url\": \"https://nplus1.ru\", \"name\": \"N+1: научные статьи, новости, открытия\", \"description\": \"N+1: научные статьи, новости, открытия\", \"image\": \"https://nplus1.ru/i/logo.png\", \"publisher\": { \"@type\": \"Organization\", \"name\": \"N+1\", \"logo\": { \"@type\":\"ImageObject\", \"url\": \"https://nplus1.ru/i/logo-alt.png\" }, \"sameAs\": [ \"https://www.facebook.com/nplusone\", \"https://twitter.com/nplusodin\", \"https://vk.com/nplusone\", \"https://ok.ru/nplus1\", \"https://soundcloud.com/nplus_1\", \"https://t.me/nplusone\" ] }, \"potentialAction\":{ \"@type\":\"SearchAction\", \"target\":\"https://nplus1.ru/search?q={search_term_string}\", \"query-input\":\"required name=search_term_string\" } }\n",
      "  </script>\n",
      " </head>\n",
      " <body class=\"_main\" style=\"background-image:url(https://nplus1.ru/images/2021/09/28/6dcddecc418eb2afd45b87260f5b168f.jpg)\">\n",
      "  <div class=\"shadow-overlay\">\n",
      "  </div>\n",
      "  <link href=\"//s.luxupcdnc.com/cp/all/cookies_policy.css\" property=\"\" rel=\"stylesheet\"/>\n",
      "  <script type=\"text/javascript\">\n",
      "   _cookies_policy = {dark:0,bottom:1,text:'Этот сайт использует cookies для улучшения качества работы',link:'Подробнее',href:'https://nplus1.ru/cookies-policy',button:'Закрыть'};\n",
      "  </script>\n",
      "  <script async=\"\" src=\"//s.luxupcdnc.com/cp/all/cookies_policy.js\" type=\"text/javascript\">\n",
      "  </script>\n",
      "  <div id=\"viewport\">\n",
      "   <div id=\"shadow\">\n",
      "   </div>\n",
      "   <div class=\"ad ad-top\">\n",
      "    <!--AdFox START-->\n",
      "    <!--yandex_nplus1adv-->\n",
      "    <!--Площадка: N + 1 / * / *-->\n",
      "    <!--Тип баннера: Растяжка_100%х250-->\n",
      "    <!--Расположение: <верх страницы>-->\n",
      "    <div id=\"adfox_162739969569252320\">\n",
      "    </div>\n",
      "    <script>\n",
      "     window.yaContextCb.push(()=>{\n",
      "        Ya.adfoxCode.create({\n",
      "            ownerId: 386110,\n",
      "        containerId: 'adfox_162739969569252320',\n",
      "            params: {\n",
      "                pp: 'g',\n",
      "            ps: 'fbio',\n",
      "            p2: 'hhkj'\n",
      "            }\n",
      "        })\n",
      "    })\n",
      "    </script>\n",
      "   </div>\n",
      "   <header id=\"header-mobile\">\n",
      "    <div class=\"container\">\n",
      "     <a class=\"action-menu pull-left\" href=\"#\">\n",
      "      <i class=\"icon icon-navicon\">\n",
      "      </i>\n",
      "     </a>\n",
      "     <a class=\"link-logo\" href=\"/\">\n",
      "      <img src=\"/i/logo-mobile.png\"/>\n",
      "     </a>\n",
      "     <a class=\"action-search pull-right\" href=\"#\">\n",
      "      <i class=\"icon icon-search\">\n",
      "      </i>\n",
      "     </a>\n",
      "     <form action=\"/search\" class=\"form-search\" method=\"get\">\n",
      "      <div class=\"control\">\n",
      "       <input name=\"q\" placeholder=\"Найти\" type=\"text\" value=\"\"/>\n",
      "      </div>\n",
      "      <a class=\"action-search-close\" href=\"#\">\n",
      "       ×\n",
      "      </a>\n",
      "     </form>\n",
      "    </div>\n",
      "    <nav class=\"nav-rubrics\">\n",
      "     <ul>\n",
      "      <li>\n",
      "       <a class=\"\" href=\"/rubric/astronomy\">\n",
      "        Астрономия\n",
      "       </a>\n",
      "      </li>\n",
      "      <li>\n",
      "       <a class=\"\" href=\"/rubric/physics\">\n",
      "        Физика\n",
      "       </a>\n",
      "      </li>\n",
      "      <li>\n",
      "       <a class=\"\" href=\"/rubric/biology\">\n",
      "        Биология\n",
      "       </a>\n",
      "      </li>\n",
      "      <li>\n",
      "       <a class=\"\" href=\"/rubric/robots-drones\">\n",
      "        Роботы и дроны\n",
      "       </a>\n",
      "      </li>\n",
      "      <li>\n",
      "       <a class=\"\" href=\"/theme/explainatorium\">\n",
      "        Давайте разберемся\n",
      "       </a>\n",
      "      </li>\n",
      "      <li>\n",
      "       <a class=\"\" href=\"/theme/bookshelf\">\n",
      "        Книжная полка\n",
      "       </a>\n",
      "      </li>\n",
      "      <li>\n",
      "       <a class=\"\" href=\"/theme/Courses\">\n",
      "        Курсы\n",
      "       </a>\n",
      "      </li>\n",
      "      <li>\n",
      "       <a class=\"\" href=\"/theme/coronavirus-history\">\n",
      "        Коронавирусные хроники\n",
      "       </a>\n",
      "      </li>\n",
      "      <li>\n",
      "       <a class=\"\" href=\"/theme/offline\">\n",
      "        N + Offline\n",
      "       </a>\n",
      "      </li>\n",
      "     </ul>\n",
      "    </nav>\n",
      "   </header>\n",
      "   <div class=\"js-mediator-container\" id=\"layout\">\n",
      "    <!-- header -->\n",
      "    <header class=\"_middle\" id=\"header\">\n",
      "     <div class=\"row\">\n",
      "      <div class=\"col col-logo\">\n",
      "       <a class=\"link-logo\" href=\"/\">\n",
      "       </a>\n",
      "      </div>\n",
      "      <div class=\"col col-nav-main\">\n",
      "       <form action=\"/search\" class=\"form-search\" method=\"get\">\n",
      "        <div class=\"control\">\n",
      "         <input name=\"q\" placeholder=\"Найти\" type=\"text\" value=\"\"/>\n",
      "        </div>\n",
      "        <a class=\"action-search-close\" href=\"#\">\n",
      "         ×\n",
      "        </a>\n",
      "       </form>\n",
      "       <nav class=\"nav-rubrics\">\n",
      "        <ul>\n",
      "         <li>\n",
      "          <a class=\"\" href=\"/rubric/astronomy\">\n",
      "           Астрономия\n",
      "          </a>\n",
      "         </li>\n",
      "         <li>\n",
      "          <a class=\"\" href=\"/rubric/physics\">\n",
      "           Физика\n",
      "          </a>\n",
      "         </li>\n",
      "         <li>\n",
      "          <a class=\"\" href=\"/rubric/biology\">\n",
      "           Биология\n",
      "          </a>\n",
      "         </li>\n",
      "         <li>\n",
      "          <a class=\"\" href=\"/rubric/robots-drones\">\n",
      "           Роботы и дроны\n",
      "          </a>\n",
      "         </li>\n",
      "         <li>\n",
      "          <a class=\"action-search\" href=\"#\">\n",
      "           <i class=\"icon icon-search\">\n",
      "           </i>\n",
      "          </a>\n",
      "         </li>\n",
      "        </ul>\n",
      "       </nav>\n",
      "       <nav class=\"nav-themes\">\n",
      "        <ul>\n",
      "         <li data-name=\"explainatorium\">\n",
      "          <a class=\"\" href=\"/theme/explainatorium\">\n",
      "           Давайте разберемся\n",
      "          </a>\n",
      "         </li>\n",
      "         <li data-name=\"bookshelf\">\n",
      "          <a class=\"\" href=\"/theme/bookshelf\">\n",
      "           Книжная полка\n",
      "          </a>\n",
      "         </li>\n",
      "         <li data-name=\"Courses\">\n",
      "          <a class=\"\" href=\"/theme/Courses\">\n",
      "           Курсы\n",
      "          </a>\n",
      "         </li>\n",
      "         <li data-name=\"coronavirus-history\">\n",
      "          <a class=\"\" href=\"/theme/coronavirus-history\">\n",
      "           Коронавирусные хроники\n",
      "          </a>\n",
      "         </li>\n",
      "         <li data-name=\"offline\">\n",
      "          <a class=\"\" href=\"/theme/offline\">\n",
      "           N + Offline\n",
      "          </a>\n",
      "         </li>\n",
      "        </ul>\n",
      "       </nav>\n",
      "      </div>\n",
      "     </div>\n",
      "     <div class=\"container line-up\">\n",
      "      <div class=\"line line-second\">\n",
      "       <a class=\"action-line-toggle\" href=\"https://nplus1.ru/blog/2021/09/27/Its-The-end-of-the-world\">\n",
      "        <div class=\"heading\">\n",
      "         <span>\n",
      "         </span>\n",
      "        </div>\n",
      "       </a>\n",
      "       <a class=\"container-link\" href=\"https://nplus1.ru/blog/2021/09/27/Its-The-end-of-the-world\">\n",
      "        <div class=\"heading\">\n",
      "         <span>\n",
      "          Книжная полка\n",
      "         </span>\n",
      "        </div>\n",
      "        <div class=\"link\">\n",
      "         <span>\n",
      "          Адам Робертс «Вот и всё. Зачем мы пугаем себя концом света?»\n",
      "         </span>\n",
      "        </div>\n",
      "       </a>\n",
      "       <a class=\"container-link\" href=\"https://nplus1.ru/blog/2021/09/23/cosmological-koans\">\n",
      "        <div class=\"heading\">\n",
      "         <span>\n",
      "          Книжная полка\n",
      "         </span>\n",
      "        </div>\n",
      "        <div class=\"link\">\n",
      "         <span>\n",
      "          Энтони Агирре «Космологические коаны. Путешествие в самое сердце физической реальности»\n",
      "         </span>\n",
      "        </div>\n",
      "       </a>\n",
      "       <a class=\"container-link\" href=\"https://nplus1.ru/blog/2021/09/21/the-French-Revolution\">\n",
      "        <div class=\"heading\">\n",
      "         <span>\n",
      "          Премия «Просветитель»\n",
      "         </span>\n",
      "        </div>\n",
      "        <div class=\"link\">\n",
      "         <span>\n",
      "          Дмитрий Бовыкин, Дмитрий Чудинов «Французская революция»\n",
      "         </span>\n",
      "        </div>\n",
      "       </a>\n",
      "       <a class=\"container-link\" href=\"https://nplus1.ru/blog/2021/09/16/lone-survivors\">\n",
      "        <div class=\"heading\">\n",
      "         <span>\n",
      "          Книжная полка\n",
      "         </span>\n",
      "        </div>\n",
      "        <div class=\"link\">\n",
      "         <span>\n",
      "          Крис Стрингер «Остались одни. Единственный вид людей на земле»\n",
      "         </span>\n",
      "        </div>\n",
      "       </a>\n",
      "       <a class=\"container-link\" href=\"https://nplus1.ru/blog/2021/09/14/bones-inside-and-out\">\n",
      "        <div class=\"heading\">\n",
      "         <span>\n",
      "          Книжная полка\n",
      "         </span>\n",
      "        </div>\n",
      "        <div class=\"link\">\n",
      "         <span>\n",
      "          Рой Миллз «Кости: внутри и снаружи»\n",
      "         </span>\n",
      "        </div>\n",
      "       </a>\n",
      "       <a class=\"container-link\" href=\"https://nplus1.ru/blog/2021/09/09/13lost\">\n",
      "        <div class=\"heading\">\n",
      "         <span>\n",
      "          Время удивительных историй\n",
      "         </span>\n",
      "        </div>\n",
      "        <div class=\"link\">\n",
      "         <span>\n",
      "          Берестяная грамота, которая нашлась дважды\n",
      "         </span>\n",
      "        </div>\n",
      "       </a>\n",
      "       <a class=\"container-link\" href=\"https://nplus1.ru/blog/2021/09/08/when-the-earth-had-two-moons\">\n",
      "        <div class=\"heading\">\n",
      "         <span>\n",
      "          Книжная полка\n",
      "         </span>\n",
      "        </div>\n",
      "        <div class=\"link\">\n",
      "         <span>\n",
      "          Эрик Асфог «Когда у Земли было две Луны: Планеты-каннибалы, ледяные гиганты, грязевые кометы и другие светила ночного неба»\n",
      "         </span>\n",
      "        </div>\n",
      "       </a>\n",
      "       <a class=\"container-link\" href=\"https://nplus1.ru/blog/2021/09/06/stress-pain-and-opioids\">\n",
      "        <div class=\"heading\">\n",
      "         <span>\n",
      "          Премия «Просветитель»\n",
      "         </span>\n",
      "        </div>\n",
      "        <div class=\"link\">\n",
      "         <span>\n",
      "          Сергей Парин «Стресс, боль и опиоиды. Об эндорфинах и не только»\n",
      "         </span>\n",
      "        </div>\n",
      "       </a>\n",
      "       <a class=\"container-link\" href=\"https://nplus1.ru/blog/2021/08/27/infinite-powers\">\n",
      "        <div class=\"heading\">\n",
      "         <span>\n",
      "          Книжная полка\n",
      "         </span>\n",
      "        </div>\n",
      "        <div class=\"link\">\n",
      "         <span>\n",
      "          Стивен Строгац «Бесконечная сила. Как математический анализ раскрывает тайны Вселенной»\n",
      "         </span>\n",
      "        </div>\n",
      "       </a>\n",
      "       <a class=\"container-link active\" href=\"https://nplus1.ru/blog/2021/09/28/unsere-welt-neu-denken\">\n",
      "        <div class=\"heading\">\n",
      "         <span>\n",
      "          Книжная полка\n",
      "         </span>\n",
      "        </div>\n",
      "        <div class=\"link\">\n",
      "         <span>\n",
      "          Майя Гёпель «Мир после нас: Как не дать планете погибнуть»\n",
      "         </span>\n",
      "        </div>\n",
      "       </a>\n",
      "       <!-- here -->\n",
      "      </div>\n",
      "     </div>\n",
      "    </header>\n",
      "    <!-- /header -->\n",
      "    <!--  hero -->\n",
      "    <!-- /hero -->\n",
      "    <!-- main section -->\n",
      "    <section id=\"main\">\n",
      "     <!--   dynamic content -->\n",
      "     <div class=\"row\" data-adaptive=\"1\" data-middle-class=\"row-wrap _indent-bottom-no\" data-mobile-class=\"row-wrap\" data-tablet-class=\"row-wrap\">\n",
      "      <div class=\"col col-2\" data-adaptive=\"1\" data-mobile-toggle=\"col-2 col-1\">\n",
      "       <article class=\"item item-main item-main- _exist-image\" data-image=\"\" data-relevance=\"\" style=\"background-image:url(https://nplus1.ru/images/2021/09/28/225b9d2b834b7a0b6b499fc443b8dd32.gif)\">\n",
      "        <a data-id=\"30762\" href=\"/news/2021/09/28/desmodus-rotundus\">\n",
      "         <div class=\"caption\">\n",
      "          <div class=\"date\">\n",
      "           <span class=\"name\" title=\"2021-09-28\">\n",
      "            21:05\n",
      "           </span>\n",
      "          </div>\n",
      "          <h3>\n",
      "           Самки обыкновенных вампиров попили крови вместе с подругами и родственницами\n",
      "          </h3>\n",
      "         </div>\n",
      "        </a>\n",
      "       </article>\n",
      "      </div>\n",
      "      <div class=\"col col-1 col-ad-prev\" data-adaptive=\"1\" data-middle-class=\"_swap col-1 _indent-bottom\">\n",
      "       <article class=\"item item-news item-news- _exist-image\" data-image=\"\" data-relevance=\"\">\n",
      "        <a data-id=\"30756\" href=\"/news/2021/09/28/starlink-geo\">\n",
      "         <div class=\"caption\">\n",
      "          <div class=\"date\">\n",
      "           <span class=\"name\" title=\"2021-09-28\">\n",
      "            19:52\n",
      "           </span>\n",
      "          </div>\n",
      "          <h3>\n",
      "           Сигналы Starlink и высотомер использовали для геолокации с точностью в несколько метров\n",
      "          </h3>\n",
      "         </div>\n",
      "        </a>\n",
      "       </article>\n",
      "       <article class=\"item item-news item-news- _exist-image\" data-image=\"\" data-relevance=\"\">\n",
      "        <a data-id=\"30763\" href=\"/news/2021/09/28/grs-hubble\">\n",
      "         <div class=\"caption\">\n",
      "          <div class=\"date\">\n",
      "           <span class=\"name\" title=\"2021-09-28\">\n",
      "            19:13\n",
      "           </span>\n",
      "          </div>\n",
      "          <h3>\n",
      "           «Хаббл» выявил увеличение скорости ветра в Большом Красном Пятне\n",
      "          </h3>\n",
      "         </div>\n",
      "        </a>\n",
      "       </article>\n",
      "       <article class=\"item item-news item-news- _exist-image\" data-image=\"\" data-relevance=\"\">\n",
      "        <a data-id=\"30760\" href=\"/news/2021/09/28/twins-methylation\">\n",
      "         <div class=\"caption\">\n",
      "          <div class=\"date\">\n",
      "           <span class=\"name\" title=\"2021-09-28\">\n",
      "            18:00\n",
      "           </span>\n",
      "          </div>\n",
      "          <h3>\n",
      "           У однояйцевых близнецов обнаружили общий паттерн метилирования ДНК\n",
      "          </h3>\n",
      "         </div>\n",
      "        </a>\n",
      "       </article>\n",
      "      </div>\n",
      "      <div class=\"col col-1 _tablet-hidden col-ad\" data-adaptive=\"1\" data-middle-class=\"col-1 _swap _indent-bottom\" data-mobile-class=\"col-1 _indent-bottom\">\n",
      "       <div class=\"ad ad-col border\">\n",
      "       </div>\n",
      "      </div>\n",
      "      <div class=\"col col-1 col-ad-next\" data-adaptive=\"1\" data-middle-class=\"col-full _indent-bottom-no\">\n",
      "       <article class=\"item item-news item-news- _exist-image\" data-image=\"\" data-relevance=\"\">\n",
      "        <a data-id=\"30764\" href=\"/news/2021/09/28/block3\">\n",
      "         <div class=\"caption\">\n",
      "          <div class=\"date\">\n",
      "           <span class=\"name\" title=\"2021-09-28\">\n",
      "            17:53\n",
      "           </span>\n",
      "          </div>\n",
      "          <h3>\n",
      "           Американцы получили обновленную версию Super Hornet\n",
      "          </h3>\n",
      "         </div>\n",
      "        </a>\n",
      "       </article>\n",
      "       <article class=\"item item-news item-news- _exist-image\" data-image=\"\" data-relevance=\"\">\n",
      "        <a data-id=\"30734\" href=\"/news/2021/09/28/wasp-127-clouds\">\n",
      "         <div class=\"caption\">\n",
      "          <div class=\"date\">\n",
      "           <span class=\"name\" title=\"2021-09-28\">\n",
      "            16:33\n",
      "           </span>\n",
      "          </div>\n",
      "          <h3>\n",
      "           Астрономы измерили высоту облачного слоя на горячем сатурне с большой точностью\n",
      "          </h3>\n",
      "         </div>\n",
      "        </a>\n",
      "       </article>\n",
      "       <article class=\"item item-news item-news- _exist-image\" data-image=\"\" data-relevance=\"\">\n",
      "        <a data-id=\"30759\" href=\"/news/2021/09/28/merlin\">\n",
      "         <div class=\"caption\">\n",
      "          <div class=\"date\">\n",
      "           <span class=\"name\" title=\"2021-09-28\">\n",
      "            14:38\n",
      "           </span>\n",
      "          </div>\n",
      "          <h3>\n",
      "           Смоленский НИИ разработал разведывательный беспилотник «Мерлин-ВР»\n",
      "          </h3>\n",
      "         </div>\n",
      "        </a>\n",
      "       </article>\n",
      "      </div>\n",
      "     </div>\n",
      "     <div class=\"row\" data-adaptive=\"1\" data-middle-class=\"row-wrap\" data-mobile-class=\"row-wrap\" data-tablet-class=\"row-wrap\">\n",
      "      <!--  fixed 8 -->\n",
      "      <div class=\"col col-2\" data-adaptive=\"1\" data-middle-toggle=\"col-2 col-3\" data-mobile-toggle=\"col-2 col-1\" data-tablet-class=\"col-1\">\n",
      "       <article class=\"item item-article item-article-secondary _exist-image\" data-image=\"https://nplus1.ru/images/2021/07/14/b8157a16e88b15b4479f7651c9164603.jpg\" data-relevance=\"\" style=\"background-image:url(https://nplus1.ru/images/2021/07/14/3c0c65e4e131ac78914a5c8cb91b5e8a.jpg)\">\n",
      "        <a data-id=\"29492\" href=\"/material/2021/09/28/animals-have-it\">\n",
      "         <div class=\"caption\">\n",
      "          <h3>\n",
      "           Древняя натура\n",
      "          </h3>\n",
      "          <p class=\"subtitle\">\n",
      "           Что мы узнали о вредных привычках благодаря животным\n",
      "          </p>\n",
      "         </div>\n",
      "        </a>\n",
      "        <nav class=\"nav-rubricator\">\n",
      "         <ul>\n",
      "          <li>\n",
      "           <a class=\"link-rubric\" href=\"/rubric/partners\">\n",
      "            Партнерский материал\n",
      "           </a>\n",
      "          </li>\n",
      "          <li>\n",
      "           <a class=\"link-theme\" href=\"/theme/nosmoke\">\n",
      "            Когда рассеется дым\n",
      "           </a>\n",
      "          </li>\n",
      "         </ul>\n",
      "        </nav>\n",
      "       </article>\n",
      "      </div>\n",
      "      <div class=\"col col-2\" data-adaptive=\"1\" data-middle-toggle=\"col-2 col-1\" data-mobile-toggle=\"col-2 col-1\" data-tablet-class=\"col-1\">\n",
      "       <article class=\"item item-article item-article-secondary _exist-image\" data-image=\"https://nplus1.ru/images/2021/09/28/f6ea5e0ba76d3c8f4b49f22024238284.jpg\" data-relevance=\"\" style=\"background-image:url(https://nplus1.ru/images/2021/09/28/e9075f0fbbdf4101b6705822cafcaecb.jpg)\">\n",
      "        <a data-id=\"30618\" href=\"/news/2021/09/28/tissue-or-landscape\">\n",
      "         <div class=\"caption\">\n",
      "          <h3>\n",
      "           Космос внутри\n",
      "          </h3>\n",
      "          <p class=\"subtitle\">\n",
      "           Отличите ли вы спутниковый снимок от среза человеческой ткани\n",
      "          </p>\n",
      "         </div>\n",
      "        </a>\n",
      "        <nav class=\"nav-rubricator\">\n",
      "         <ul>\n",
      "          <li>\n",
      "           <a class=\"link-rubric\" href=\"/rubric/astronomy\">\n",
      "            Астрономия\n",
      "           </a>\n",
      "          </li>\n",
      "          <li>\n",
      "           <a class=\"link-theme\" href=\"/theme/bellezza\">\n",
      "            Красота\n",
      "           </a>\n",
      "          </li>\n",
      "         </ul>\n",
      "        </nav>\n",
      "       </article>\n",
      "      </div>\n",
      "      <!-- /fixed 8 -->\n",
      "     </div>\n",
      "     <div class=\"row\" data-adaptive=\"1\" data-middle-class=\"row-wrap\" data-mobile-class=\"row-wrap\" data-tablet-class=\"row-wrap\">\n",
      "      <div class=\"col col-1\" data-adaptive=\"1\" data-middle-class=\"col-1 _indent-bottom\" data-tablet-class=\"col-1 _indent-bottom\">\n",
      "       <article class=\"item item-news item-news- _exist-image\" data-image=\"\" data-relevance=\"\">\n",
      "        <a data-id=\"30754\" href=\"/news/2021/09/28/dolmen-spain\">\n",
      "         <div class=\"caption\">\n",
      "          <div class=\"date\">\n",
      "           <span class=\"name\" title=\"2021-09-28\">\n",
      "            13:46\n",
      "           </span>\n",
      "          </div>\n",
      "          <h3>\n",
      "           Древние жители Испании захоронили кремированные останки в коридорной гробнице\n",
      "          </h3>\n",
      "         </div>\n",
      "        </a>\n",
      "       </article>\n",
      "       <article class=\"item item-news item-news- _exist-image\" data-image=\"\" data-relevance=\"\">\n",
      "        <a data-id=\"30753\" href=\"/news/2021/09/28/life-covid\">\n",
      "         <div class=\"caption\">\n",
      "          <div class=\"date\">\n",
      "           <span class=\"name\" title=\"2021-09-28\">\n",
      "            11:46\n",
      "           </span>\n",
      "          </div>\n",
      "          <h3>\n",
      "           Ожидаемая продолжительность жизни европейцев за пандемию снизилась на 0,5–1,7 года\n",
      "          </h3>\n",
      "         </div>\n",
      "        </a>\n",
      "       </article>\n",
      "       <article class=\"item item-news item-news- _exist-image\" data-image=\"\" data-relevance=\"\">\n",
      "        <a data-id=\"30755\" href=\"/news/2021/09/28/hawc\">\n",
      "         <div class=\"caption\">\n",
      "          <div class=\"date\">\n",
      "           <span class=\"name\" title=\"2021-09-28\">\n",
      "            11:32\n",
      "           </span>\n",
      "          </div>\n",
      "          <h3>\n",
      "           Американцы успешно запустили гиперзвуковую ракету HAWC\n",
      "          </h3>\n",
      "         </div>\n",
      "        </a>\n",
      "       </article>\n",
      "      </div>\n",
      "      <div class=\"col col-1 _swap\" data-adaptive=\"1\" data-desktop-swap=\"0\" data-middle-class=\"col-full\" data-tablet-class=\"col-1 _indent-bottom _indent-right-no\" data-tablet-swap=\"0\">\n",
      "       <article class=\"item item-news item-news- _exist-image\" data-image=\"\" data-relevance=\"\">\n",
      "        <a data-id=\"30750\" href=\"/news/2021/09/28/seated-burials\">\n",
      "         <div class=\"caption\">\n",
      "          <div class=\"date\">\n",
      "           <span class=\"name\" title=\"2021-09-28\">\n",
      "            10:57\n",
      "           </span>\n",
      "          </div>\n",
      "          <h3>\n",
      "           Сидячие захоронения из Волго-Уралья датировали финалом средней бронзы\n",
      "          </h3>\n",
      "         </div>\n",
      "        </a>\n",
      "       </article>\n",
      "       <article class=\"item item-news item-news- _exist-image\" data-image=\"\" data-relevance=\"\">\n",
      "        <a data-id=\"30752\" href=\"/news/2021/09/28/archaehierax-sylvestris\">\n",
      "         <div class=\"caption\">\n",
      "          <div class=\"date\">\n",
      "           <span class=\"name\" title=\"2021-09-28\">\n",
      "            09:36\n",
      "           </span>\n",
      "          </div>\n",
      "          <h3>\n",
      "           Австралийцы описали «лесного древнего ястреба» возрастом 25 миллионов лет\n",
      "          </h3>\n",
      "         </div>\n",
      "        </a>\n",
      "       </article>\n",
      "       <article class=\"item item-news item-news- _exist-image\" data-image=\"\" data-relevance=\"\">\n",
      "        <a data-id=\"30729\" href=\"/news/2021/09/28/spicomellus-afer\">\n",
      "         <div class=\"caption\">\n",
      "          <div class=\"date\">\n",
      "           <span class=\"name\" title=\"2021-09-28\">\n",
      "            09:11\n",
      "           </span>\n",
      "          </div>\n",
      "          <h3>\n",
      "           Древнейшего анкилозавра описали по уникальному шипастому ребру\n",
      "          </h3>\n",
      "         </div>\n",
      "        </a>\n",
      "       </article>\n",
      "      </div>\n",
      "      <!--  fixed 15 -->\n",
      "      <div class=\"col col-1\" data-adaptive=\"1\">\n",
      "       <article class=\"item item-blog item-blog- _exist-image\" data-image=\"\" data-relevance=\"\" style=\"background-image:url(https://nplus1.ru/images/2021/09/28/5e07a3b165d614cd2e6a0f0fb4af8ad9.jpg)\">\n",
      "        <a data-id=\"30758\" href=\"/blog/2021/09/28/unsere-welt-neu-denken\">\n",
      "         <div class=\"caption\">\n",
      "          <div class=\"heading\">\n",
      "           <p>\n",
      "            Ex libris/Книжная полка\n",
      "           </p>\n",
      "          </div>\n",
      "          <div class=\"author\">\n",
      "           <img class=\"avatar\" data-mask=\"avatar90\" height=\"90\" src=\"https://nplus1.ru/images/2019/04/09/36720ef38be61db31217d1acaf157f36.jpg\" width=\"90\"/>\n",
      "           <div class=\"meta\">\n",
      "            <p class=\"name\">\n",
      "             «Альпина Паблишер»\n",
      "            </p>\n",
      "            <p class=\"specs\">\n",
      "             Книжное издательство\n",
      "            </p>\n",
      "           </div>\n",
      "          </div>\n",
      "          <div class=\"lead\">\n",
      "           <p>\n",
      "            Если сохранение, не говоря уж о регенерации, природы несовместимо с постоянным экономическим ростом, следует понизить уровень материального благосостояния. Такой вариант менее популярен, потому что людям придется обходиться меньшим и от многого отказаться.\n",
      "           </p>\n",
      "          </div>\n",
      "         </div>\n",
      "        </a>\n",
      "       </article>\n",
      "      </div>\n",
      "      <!-- /fixed 15 -->\n",
      "      <!--  fixed 16 -->\n",
      "      <div class=\"col col-1 _swap\" data-adaptive=\"1\" data-middle-swap=\"0\">\n",
      "       <article class=\"item item-blog item-blog- _exist-image\" data-image=\"\" data-relevance=\"\" style=\"background-image:url(https://nplus1.ru/images/2021/09/27/fbf37348d8d95acabc80bded5ba062fc.jpg)\">\n",
      "        <a data-id=\"30743\" href=\"/blog/2021/09/27/Its-The-end-of-the-world\">\n",
      "         <div class=\"caption\">\n",
      "          <div class=\"heading\">\n",
      "           <p>\n",
      "            Ex libris/Книжная полка\n",
      "           </p>\n",
      "          </div>\n",
      "          <div class=\"author\">\n",
      "           <img class=\"avatar\" data-mask=\"avatar90\" height=\"90\" src=\"https://nplus1.ru/images/2019/08/27/64bd651210ac7351a04bcdac2855a9b8.jpg\" width=\"90\"/>\n",
      "           <div class=\"meta\">\n",
      "            <p class=\"name\">\n",
      "             «Individuum»\n",
      "            </p>\n",
      "            <p class=\"specs\">\n",
      "             Книжное издательство\n",
      "            </p>\n",
      "           </div>\n",
      "          </div>\n",
      "          <div class=\"lead\">\n",
      "           <p>\n",
      "            В среднем каждый вид млекопитающих существует около миллиона лет, а потому маловероятно, что мы доживем до момента, когда усиливающийся жар Солнца сделает нашу планету необитаемой. Может, нас тревожит понимание того, что мы разделяем злой рок со Вселенной?\n",
      "           </p>\n",
      "          </div>\n",
      "         </div>\n",
      "        </a>\n",
      "       </article>\n",
      "      </div>\n",
      "      <!-- /fixed 16 -->\n",
      "     </div>\n",
      "     <div class=\"row\" data-adaptive=\"1\" data-middle-class=\"row-wrap\" data-mobile-class=\"row-wrap\" data-tablet-class=\"row-wrap\">\n",
      "      <!--  fixed 17 -->\n",
      "      <div class=\"col col-2\" data-adaptive=\"1\" data-middle-toggle=\"col-2 col-3\" data-mobile-toggle=\"col-2 col-1\" data-tablet-class=\"col-1\">\n",
      "       <article class=\"item item-article item-article-secondary _exist-image\" data-image=\"https://nplus1.ru/images/2021/09/24/3698595be07af5d91ffcb48769e3dd1f.gif\" data-relevance=\"\" style=\"background-image:url(https://nplus1.ru/images/2021/09/24/df85cfcc94dd8a8e3f82f2495a5879a2.gif)\">\n",
      "        <a data-id=\"30721\" href=\"/material/2021/09/24/worms\">\n",
      "         <div class=\"caption\">\n",
      "          <h3>\n",
      "           Владыки вечности\n",
      "          </h3>\n",
      "          <p class=\"subtitle\">\n",
      "           Великие черви «Дюны» глазами зоологов\n",
      "          </p>\n",
      "         </div>\n",
      "        </a>\n",
      "        <nav class=\"nav-rubricator\">\n",
      "         <ul>\n",
      "          <li>\n",
      "           <a class=\"link-rubric\" href=\"/rubric/mezzanine\">\n",
      "            Мезонин\n",
      "           </a>\n",
      "          </li>\n",
      "         </ul>\n",
      "        </nav>\n",
      "       </article>\n",
      "      </div>\n",
      "      <div class=\"col col-2\" data-adaptive=\"1\" data-middle-toggle=\"col-2 col-1\" data-mobile-toggle=\"col-2 col-1\" data-tablet-class=\"col-1\">\n",
      "       <article class=\"item item-article item-article-secondary _exist-image\" data-image=\"https://nplus1.ru/images/2021/09/20/51c16bb94c40f3852454640b90b92333.jpg\" data-relevance=\"\" style=\"background-image:url(https://nplus1.ru/images/2021/09/20/4bf78568eba4eb9628884c3ac5f32cda.jpg)\">\n",
      "        <a data-id=\"30652\" href=\"/material/2021/09/21/apy-13\">\n",
      "         <div class=\"caption\">\n",
      "          <h3>\n",
      "           Небо над нами\n",
      "          </h3>\n",
      "          <p class=\"subtitle\">\n",
      "           Победители и призеры конкурса Astronomy Photographer of the Year 2021\n",
      "          </p>\n",
      "         </div>\n",
      "        </a>\n",
      "        <nav class=\"nav-rubricator\">\n",
      "         <ul>\n",
      "          <li>\n",
      "           <a class=\"link-rubric\" href=\"/rubric/astronomy\">\n",
      "            Астрономия\n",
      "           </a>\n",
      "          </li>\n",
      "          <li>\n",
      "           <a class=\"link-theme\" href=\"/theme/aphoto\">\n",
      "            Астрофотография\n",
      "           </a>\n",
      "          </li>\n",
      "         </ul>\n",
      "        </nav>\n",
      "       </article>\n",
      "      </div>\n",
      "      <!-- /fixed 17 -->\n",
      "     </div>\n",
      "     <div class=\"row\" data-adaptive=\"1\" data-middle-class=\"row-wrap\" data-mobile-class=\"row-wrap\" data-tablet-class=\"row-wrap\">\n",
      "      <div class=\"col col-1\" data-adaptive=\"1\" data-middle-class=\"col-1 _indent-bottom\" data-tablet-class=\"col-1 _indent-bottom\">\n",
      "       <article class=\"item item-news item-news- _exist-image\" data-image=\"\" data-relevance=\"\">\n",
      "        <a data-id=\"30748\" href=\"/news/2021/09/27/SED\">\n",
      "         <div class=\"caption\">\n",
      "          <div class=\"date\">\n",
      "           <span class=\"name\" title=\"2021-09-27\">\n",
      "            вчера\n",
      "           </span>\n",
      "          </div>\n",
      "          <h3>\n",
      "           Медики предложили пересмотреть рекомендации по оптимальному пребыванию на солнце\n",
      "          </h3>\n",
      "         </div>\n",
      "        </a>\n",
      "       </article>\n",
      "       <article class=\"item item-news item-news- _exist-image\" data-image=\"\" data-relevance=\"\">\n",
      "        <a data-id=\"30745\" href=\"/news/2021/09/27/darpa-subt\">\n",
      "         <div class=\"caption\">\n",
      "          <div class=\"date\">\n",
      "           <span class=\"name\" title=\"2021-09-27\">\n",
      "            вчера\n",
      "           </span>\n",
      "          </div>\n",
      "          <h3>\n",
      "           DARPA объявила итоги соревнований подземных роботов\n",
      "          </h3>\n",
      "         </div>\n",
      "        </a>\n",
      "       </article>\n",
      "       <article class=\"item item-news item-news- _exist-image\" data-image=\"\" data-relevance=\"\">\n",
      "        <a data-id=\"30735\" href=\"/news/2021/09/27/plocepasser-mahali\">\n",
      "         <div class=\"caption\">\n",
      "          <div class=\"date\">\n",
      "           <span class=\"name\" title=\"2021-09-27\">\n",
      "            вчера\n",
      "           </span>\n",
      "          </div>\n",
      "          <h3>\n",
      "           Подросшие дочери ткачиковых воробьев помогли подтвердить гипотезу альтруистической подстраховки\n",
      "          </h3>\n",
      "         </div>\n",
      "        </a>\n",
      "       </article>\n",
      "      </div>\n",
      "      <div class=\"col col-1 _swap\" data-adaptive=\"1\" data-desktop-swap=\"0\" data-middle-class=\"col-full\" data-tablet-class=\"col-1 _indent-bottom _indent-right-no\" data-tablet-swap=\"0\">\n",
      "       <article class=\"item item-news item-news- _exist-image\" data-image=\"\" data-relevance=\"\">\n",
      "        <a data-id=\"30751\" href=\"/news/2021/09/27/ch-6\">\n",
      "         <div class=\"caption\">\n",
      "          <div class=\"date\">\n",
      "           <span class=\"name\" title=\"2021-09-27\">\n",
      "            вчера\n",
      "           </span>\n",
      "          </div>\n",
      "          <h3>\n",
      "           Китайцы построили прототип вооруженного разведывательного беспилотника\n",
      "          </h3>\n",
      "         </div>\n",
      "        </a>\n",
      "       </article>\n",
      "       <article class=\"item item-news item-news- _exist-image\" data-image=\"\" data-relevance=\"\">\n",
      "        <a data-id=\"30744\" href=\"/news/2021/09/27/shutdown-of-southern-ocean-convection\">\n",
      "         <div class=\"caption\">\n",
      "          <div class=\"date\">\n",
      "           <span class=\"name\" title=\"2021-09-27\">\n",
      "            вчера\n",
      "           </span>\n",
      "          </div>\n",
      "          <h3>\n",
      "           Интенсивность глобального потепления связали с ослаблением циркуляции в Южном океане\n",
      "          </h3>\n",
      "         </div>\n",
      "        </a>\n",
      "       </article>\n",
      "       <article class=\"item item-news item-news- _exist-image\" data-image=\"\" data-relevance=\"\">\n",
      "        <a data-id=\"30749\" href=\"/news/2021/09/27/lasker-2021\">\n",
      "         <div class=\"caption\">\n",
      "          <div class=\"date\">\n",
      "           <span class=\"name\" title=\"2021-09-27\">\n",
      "            вчера\n",
      "           </span>\n",
      "          </div>\n",
      "          <h3>\n",
      "           Премию Ласкера вручили за работы по оптогенетике и создание мРНК вакцин\n",
      "          </h3>\n",
      "         </div>\n",
      "        </a>\n",
      "       </article>\n",
      "      </div>\n",
      "      <!--  fixed 24 -->\n",
      "      <div class=\"col col-1\">\n",
      "       <article class=\"item item-blog item-blog- _exist-image\" data-image=\"\" data-relevance=\"\" style=\"background-image:url(https://nplus1.ru/images/2021/09/23/d5ec4ce44bf977273b8c5591599933fc.jpg)\">\n",
      "        <a data-id=\"30700\" href=\"/blog/2021/09/23/cosmological-koans\">\n",
      "         <div class=\"caption\">\n",
      "          <div class=\"heading\">\n",
      "           <p>\n",
      "            Ex libris/Книжная полка\n",
      "           </p>\n",
      "          </div>\n",
      "          <div class=\"author\">\n",
      "           <img class=\"avatar\" data-mask=\"avatar90\" height=\"90\" src=\"https://nplus1.ru/images/2020/07/29/ee85583e5ba42d07ef28368ba3d7e723.jpg\" width=\"90\"/>\n",
      "           <div class=\"meta\">\n",
      "            <p class=\"name\">\n",
      "             «АСТ: Corpus»\n",
      "            </p>\n",
      "            <p class=\"specs\">\n",
      "             Книжное издательство\n",
      "            </p>\n",
      "           </div>\n",
      "          </div>\n",
      "          <div class=\"lead\">\n",
      "           <p>\n",
      "            Проблема спуска с горы с затратой наименьшего усилия — очень распространенный тип задачи о выборе пути в пространстве, когда какой то параметр минимизируется. Мы часто ищем путь наименьшей длины, то есть хотим попасть к месту назначения самым быстрым способом.\n",
      "           </p>\n",
      "          </div>\n",
      "         </div>\n",
      "        </a>\n",
      "       </article>\n",
      "      </div>\n",
      "      <!-- /fixed 24 -->\n",
      "      <!--  fixed 25 -->\n",
      "      <div class=\"col col-1 _swap\" data-adaptive=\"1\" data-middle-class=\"col-1 _indent-bottom\" data-middle-swap=\"0\">\n",
      "       <article class=\"item item-blog item-blog- _exist-image\" data-image=\"\" data-relevance=\"\" style=\"background-image:url(https://nplus1.ru/images/2021/09/21/8af0cf824abb87a7fa99e69973735fa8.jpg)\">\n",
      "        <a data-id=\"30682\" href=\"/blog/2021/09/21/the-French-Revolution\">\n",
      "         <div class=\"caption\">\n",
      "          <div class=\"heading\">\n",
      "           <p>\n",
      "            Ex libris/Премия «Просветитель»\n",
      "           </p>\n",
      "          </div>\n",
      "          <div class=\"author\">\n",
      "           <img class=\"avatar\" data-mask=\"avatar90\" height=\"90\" src=\"https://nplus1.ru/images/2018/02/06/1ccc6e9960399e0551870d97fc98b306.jpg\" width=\"90\"/>\n",
      "           <div class=\"meta\">\n",
      "            <p class=\"name\">\n",
      "             Альпина нон-фикшн\n",
      "            </p>\n",
      "            <p class=\"specs\">\n",
      "             Научно-популярное издательство\n",
      "            </p>\n",
      "           </div>\n",
      "          </div>\n",
      "          <div class=\"lead\">\n",
      "           <p>\n",
      "            Весть о парижских событиях и о том, что прежней власти фактически больше нет и теперь «все можно», побудила низы, страдавшие от безработицы и дороговизны, к попыткам улучшить свое положение за счет более обеспеченных сограждан. В ряде провинций прокатилась волна разграблений замков и поместий.\n",
      "           </p>\n",
      "          </div>\n",
      "         </div>\n",
      "        </a>\n",
      "       </article>\n",
      "      </div>\n",
      "      <!-- /fixed 25 -->\n",
      "     </div>\n",
      "     <div class=\"row\" data-adaptive=\"1\" data-middle-class=\"row-wrap\" data-mobile-class=\"row-wrap\" data-tablet-class=\"row-wrap\">\n",
      "      <!--  fixed 26 -->\n",
      "      <div class=\"col col-2\" data-adaptive=\"1\" data-middle-toggle=\"col-2 col-3\" data-mobile-toggle=\"col-2 col-1\" data-tablet-class=\"col-1\">\n",
      "       <article class=\"item item-article item-article-secondary _exist-image\" data-image=\"https://nplus1.ru/images/2021/09/20/9ecd161a02d7e7b691cc89a094ba5d37.gif\" data-relevance=\"\" style=\"background-image:url(https://nplus1.ru/images/2021/09/20/8cc3202deff7c390289167ac7ae2fea8.gif)\">\n",
      "        <a data-id=\"30637\" href=\"/material/2021/09/20/who-is-oetzi\">\n",
      "         <div class=\"caption\">\n",
      "          <h3>\n",
      "           Из пропасти во льду\n",
      "          </h3>\n",
      "          <p class=\"subtitle\">\n",
      "           Что ученые узнали о «ледяном человеке» за 30 лет со дня находки\n",
      "          </p>\n",
      "         </div>\n",
      "        </a>\n",
      "        <nav class=\"nav-rubricator\">\n",
      "         <ul>\n",
      "          <li>\n",
      "           <a class=\"link-rubric\" href=\"/rubric/archaeology\">\n",
      "            Археология\n",
      "           </a>\n",
      "          </li>\n",
      "         </ul>\n",
      "        </nav>\n",
      "       </article>\n",
      "      </div>\n",
      "      <div class=\"col col-2\" data-adaptive=\"1\" data-middle-toggle=\"col-2 col-1\" data-mobile-toggle=\"col-2 col-1\" data-tablet-class=\"col-1\">\n",
      "       <article class=\"item item-article item-article-secondary _exist-image\" data-image=\"https://nplus1.ru/images/2021/09/17/63213c9052ea34fd669949227fa4d57b.jpg\" data-relevance=\"\" style=\"background-image:url(https://nplus1.ru/images/2021/09/17/fc6ca19149b2fec4a01a0ce43c1145de.jpg)\">\n",
      "        <a data-id=\"30630\" href=\"/news/2021/09/17/penguin-test\">\n",
      "         <div class=\"caption\">\n",
      "          <h3>\n",
      "           Тест на пингвина\n",
      "          </h3>\n",
      "          <p class=\"subtitle\">\n",
      "           Разберитесь с мифами о пингвинах\n",
      "          </p>\n",
      "         </div>\n",
      "        </a>\n",
      "        <nav class=\"nav-rubricator\">\n",
      "         <ul>\n",
      "          <li>\n",
      "           <a class=\"link-rubric\" href=\"/rubric/zoology\">\n",
      "            Зоология\n",
      "           </a>\n",
      "          </li>\n",
      "         </ul>\n",
      "        </nav>\n",
      "       </article>\n",
      "      </div>\n",
      "      <!-- /fixed 26 -->\n",
      "     </div>\n",
      "     <!-- / dynamic content -->\n",
      "    </section>\n",
      "    <!-- / main section -->\n",
      "    <div id=\"wrapper-footer\">\n",
      "     <section class=\"_middle\" id=\"difficult\">\n",
      "      <!-- Slider main container -->\n",
      "      <div class=\"swiper-container\">\n",
      "       <!-- Additional required wrapper -->\n",
      "       <div class=\"swiper-wrapper\">\n",
      "        <div class=\"swiper-slide\">\n",
      "         <div class=\"heading\">\n",
      "          <div class=\"num\">\n",
      "           <div class=\"value\">\n",
      "            8.3\n",
      "           </div>\n",
      "          </div>\n",
      "          <p>\n",
      "           Коэффициент сложности\n",
      "          </p>\n",
      "         </div>\n",
      "         <h3>\n",
      "          <a href=\"/news/2021/09/24/magic-people-voodoo-people\">\n",
      "           Физик нашел новые магические числа для зарядов на сфере\n",
      "          </a>\n",
      "         </h3>\n",
      "        </div>\n",
      "        <div class=\"swiper-slide\">\n",
      "         <div class=\"heading\">\n",
      "          <div class=\"num\">\n",
      "           <div class=\"value\">\n",
      "            8.2\n",
      "           </div>\n",
      "          </div>\n",
      "          <p>\n",
      "           Коэффициент сложности\n",
      "          </p>\n",
      "         </div>\n",
      "         <h3>\n",
      "          <a href=\"/news/2021/09/21/raman-transfer\">\n",
      "           Свет помог собрать ультрахолодную молекулу из двух атомов\n",
      "          </a>\n",
      "         </h3>\n",
      "        </div>\n",
      "        <div class=\"swiper-slide\">\n",
      "         <div class=\"heading\">\n",
      "          <div class=\"num\">\n",
      "           <div class=\"value\">\n",
      "            7.9\n",
      "           </div>\n",
      "          </div>\n",
      "          <p>\n",
      "           Коэффициент сложности\n",
      "          </p>\n",
      "         </div>\n",
      "         <h3>\n",
      "          <a href=\"/material/2021/09/23/vtb-devops\">\n",
      "           Пять стадий DevOps\n",
      "          </a>\n",
      "         </h3>\n",
      "        </div>\n",
      "        <div class=\"swiper-slide\">\n",
      "         <div class=\"heading\">\n",
      "          <div class=\"num\">\n",
      "           <div class=\"value\">\n",
      "            7.3\n",
      "           </div>\n",
      "          </div>\n",
      "          <p>\n",
      "           Коэффициент сложности\n",
      "          </p>\n",
      "         </div>\n",
      "         <h3>\n",
      "          <a href=\"/news/2021/09/23/single-phonon-evidence\">\n",
      "           Добавление и вычитание одиночного фонона увидели при комнатной температуре\n",
      "          </a>\n",
      "         </h3>\n",
      "        </div>\n",
      "        <div class=\"swiper-slide\">\n",
      "         <div class=\"heading\">\n",
      "          <div class=\"num\">\n",
      "           <div class=\"value\">\n",
      "            6.8\n",
      "           </div>\n",
      "          </div>\n",
      "          <p>\n",
      "           Коэффициент сложности\n",
      "          </p>\n",
      "         </div>\n",
      "         <h3>\n",
      "          <a href=\"/news/2021/09/22/100ms-coherence\">\n",
      "           Время когерентности молекулярных кубитов повысили на порядок\n",
      "          </a>\n",
      "         </h3>\n",
      "        </div>\n",
      "        <div class=\"swiper-slide\">\n",
      "         <div class=\"heading\">\n",
      "          <div class=\"num\">\n",
      "           <div class=\"value\">\n",
      "            6.6\n",
      "           </div>\n",
      "          </div>\n",
      "          <p>\n",
      "           Коэффициент сложности\n",
      "          </p>\n",
      "         </div>\n",
      "         <h3>\n",
      "          <a href=\"/news/2021/09/24/quantum-limit-planet\">\n",
      "           Экзопланеты предложили искать в квантовом пределе\n",
      "          </a>\n",
      "         </h3>\n",
      "        </div>\n",
      "        <div class=\"swiper-slide\">\n",
      "         <div class=\"heading\">\n",
      "          <div class=\"num\">\n",
      "           <div class=\"value\">\n",
      "            6.5\n",
      "           </div>\n",
      "          </div>\n",
      "          <p>\n",
      "           Коэффициент сложности\n",
      "          </p>\n",
      "         </div>\n",
      "         <h3>\n",
      "          <a href=\"/news/2021/09/22/single-photon-nonlinear\">\n",
      "           Однофотонную нелинейность реализовали при комнатной температуре\n",
      "          </a>\n",
      "         </h3>\n",
      "        </div>\n",
      "        <div class=\"swiper-slide\">\n",
      "         <div class=\"heading\">\n",
      "          <div class=\"num\">\n",
      "           <div class=\"value\">\n",
      "            5.9\n",
      "           </div>\n",
      "          </div>\n",
      "          <p>\n",
      "           Коэффициент сложности\n",
      "          </p>\n",
      "         </div>\n",
      "         <h3>\n",
      "          <a href=\"/news/2021/09/24/it-hears-you\">\n",
      "           Круглые черви оказались способны слышать всем телом\n",
      "          </a>\n",
      "         </h3>\n",
      "        </div>\n",
      "        <div class=\"swiper-slide\">\n",
      "         <div class=\"heading\">\n",
      "          <div class=\"num\">\n",
      "           <div class=\"value\">\n",
      "            5.1\n",
      "           </div>\n",
      "          </div>\n",
      "          <p>\n",
      "           Коэффициент сложности\n",
      "          </p>\n",
      "         </div>\n",
      "         <h3>\n",
      "          <a href=\"/news/2021/09/24/circular-resonance\">\n",
      "           Аномальную ионизацию атомов объяснили резонансами\n",
      "          </a>\n",
      "         </h3>\n",
      "        </div>\n",
      "        <div class=\"swiper-slide\">\n",
      "         <div class=\"heading\">\n",
      "          <div class=\"num\">\n",
      "           <div class=\"value\">\n",
      "            4.9\n",
      "           </div>\n",
      "          </div>\n",
      "          <p>\n",
      "           Коэффициент сложности\n",
      "          </p>\n",
      "         </div>\n",
      "         <h3>\n",
      "          <a href=\"/news/2021/09/27/optical-levitation\">\n",
      "           Из оптически левитирующих частиц предложили сделать гироскоп\n",
      "          </a>\n",
      "         </h3>\n",
      "        </div>\n",
      "       </div>\n",
      "       <!-- If we need pagination -->\n",
      "       <div class=\"swiper-pagination\">\n",
      "       </div>\n",
      "       <div class=\"swiper-button-prev\">\n",
      "       </div>\n",
      "       <div class=\"swiper-button-next\">\n",
      "       </div>\n",
      "      </div>\n",
      "      <h6>\n",
      "       Самое сложное\n",
      "      </h6>\n",
      "     </section>\n",
      "     <div class=\"container\">\n",
      "      <div class=\"line\">\n",
      "       <a class=\"action-line-toggle\" href=\"https://nplus1.ru/blog/2021/09/27/Its-The-end-of-the-world\">\n",
      "        <div class=\"heading\">\n",
      "         <span>\n",
      "         </span>\n",
      "        </div>\n",
      "       </a>\n",
      "       <a class=\"container-link\" href=\"https://nplus1.ru/blog/2021/09/27/Its-The-end-of-the-world\">\n",
      "        <div class=\"heading\">\n",
      "         <span>\n",
      "          Книжная полка\n",
      "         </span>\n",
      "        </div>\n",
      "        <div class=\"link\">\n",
      "         <span>\n",
      "          Адам Робертс «Вот и всё. Зачем мы пугаем себя концом света?»\n",
      "         </span>\n",
      "        </div>\n",
      "       </a>\n",
      "       <a class=\"container-link\" href=\"https://nplus1.ru/blog/2021/09/23/cosmological-koans\">\n",
      "        <div class=\"heading\">\n",
      "         <span>\n",
      "          Книжная полка\n",
      "         </span>\n",
      "        </div>\n",
      "        <div class=\"link\">\n",
      "         <span>\n",
      "          Энтони Агирре «Космологические коаны. Путешествие в самое сердце физической реальности»\n",
      "         </span>\n",
      "        </div>\n",
      "       </a>\n",
      "       <a class=\"container-link\" href=\"https://nplus1.ru/blog/2021/09/21/the-French-Revolution\">\n",
      "        <div class=\"heading\">\n",
      "         <span>\n",
      "          Премия «Просветитель»\n",
      "         </span>\n",
      "        </div>\n",
      "        <div class=\"link\">\n",
      "         <span>\n",
      "          Дмитрий Бовыкин, Дмитрий Чудинов «Французская революция»\n",
      "         </span>\n",
      "        </div>\n",
      "       </a>\n",
      "       <a class=\"container-link\" href=\"https://nplus1.ru/blog/2021/09/16/lone-survivors\">\n",
      "        <div class=\"heading\">\n",
      "         <span>\n",
      "          Книжная полка\n",
      "         </span>\n",
      "        </div>\n",
      "        <div class=\"link\">\n",
      "         <span>\n",
      "          Крис Стрингер «Остались одни. Единственный вид людей на земле»\n",
      "         </span>\n",
      "        </div>\n",
      "       </a>\n",
      "       <a class=\"container-link\" href=\"https://nplus1.ru/blog/2021/09/14/bones-inside-and-out\">\n",
      "        <div class=\"heading\">\n",
      "         <span>\n",
      "          Книжная полка\n",
      "         </span>\n",
      "        </div>\n",
      "        <div class=\"link\">\n",
      "         <span>\n",
      "          Рой Миллз «Кости: внутри и снаружи»\n",
      "         </span>\n",
      "        </div>\n",
      "       </a>\n",
      "       <a class=\"container-link\" href=\"https://nplus1.ru/blog/2021/09/09/13lost\">\n",
      "        <div class=\"heading\">\n",
      "         <span>\n",
      "          Время удивительных историй\n",
      "         </span>\n",
      "        </div>\n",
      "        <div class=\"link\">\n",
      "         <span>\n",
      "          Берестяная грамота, которая нашлась дважды\n",
      "         </span>\n",
      "        </div>\n",
      "       </a>\n",
      "       <a class=\"container-link\" href=\"https://nplus1.ru/blog/2021/09/08/when-the-earth-had-two-moons\">\n",
      "        <div class=\"heading\">\n",
      "         <span>\n",
      "          Книжная полка\n",
      "         </span>\n",
      "        </div>\n",
      "        <div class=\"link\">\n",
      "         <span>\n",
      "          Эрик Асфог «Когда у Земли было две Луны: Планеты-каннибалы, ледяные гиганты, грязевые кометы и другие светила ночного неба»\n",
      "         </span>\n",
      "        </div>\n",
      "       </a>\n",
      "       <a class=\"container-link\" href=\"https://nplus1.ru/blog/2021/09/06/stress-pain-and-opioids\">\n",
      "        <div class=\"heading\">\n",
      "         <span>\n",
      "          Премия «Просветитель»\n",
      "         </span>\n",
      "        </div>\n",
      "        <div class=\"link\">\n",
      "         <span>\n",
      "          Сергей Парин «Стресс, боль и опиоиды. Об эндорфинах и не только»\n",
      "         </span>\n",
      "        </div>\n",
      "       </a>\n",
      "       <a class=\"container-link\" href=\"https://nplus1.ru/blog/2021/08/27/infinite-powers\">\n",
      "        <div class=\"heading\">\n",
      "         <span>\n",
      "          Книжная полка\n",
      "         </span>\n",
      "        </div>\n",
      "        <div class=\"link\">\n",
      "         <span>\n",
      "          Стивен Строгац «Бесконечная сила. Как математический анализ раскрывает тайны Вселенной»\n",
      "         </span>\n",
      "        </div>\n",
      "       </a>\n",
      "       <a class=\"container-link active\" href=\"https://nplus1.ru/blog/2021/09/28/unsere-welt-neu-denken\">\n",
      "        <div class=\"heading\">\n",
      "         <span>\n",
      "          Книжная полка\n",
      "         </span>\n",
      "        </div>\n",
      "        <div class=\"link\">\n",
      "         <span>\n",
      "          Майя Гёпель «Мир после нас: Как не дать планете погибнуть»\n",
      "         </span>\n",
      "        </div>\n",
      "       </a>\n",
      "      </div>\n",
      "     </div>\n",
      "     <script async=\"\" src=\"https://cdn.onthe.io/io.js/QCyUUwp6IVuR\">\n",
      "     </script>\n",
      "     <script>\n",
      "      window._io_config = window._io_config || {};\n",
      "window._io_config[\"0.2.0\"] = window._io_config[\"0.2.0\"] || [];\n",
      "window._io_config[\"0.2.0\"].push({\n",
      "    page_url: document.location.toString(),\n",
      "    page_url_canonical: document.querySelector('link[rel=\"canonical\"]').href,\n",
      "    page_title: document.querySelector('title').innerHTML,\n",
      "    page_type: \"main\",\n",
      "    page_language: \"ru\"\n",
      "});\n",
      "     </script>\n",
      "     <div class=\"ad ad-col border\">\n",
      "     </div>\n",
      "     <!-- footer -->\n",
      "     <footer id=\"footer\">\n",
      "      <div class=\"row\" data-adaptive=\"1\" data-middle-class=\"row-wrap\" data-mobile-class=\"row-wrap\" data-tablet-class=\"row-wrap\">\n",
      "       <div class=\"col col-logo\">\n",
      "        <a class=\"link-logo\" href=\"/\">\n",
      "         <img src=\"/i/logo-alt.png\"/>\n",
      "        </a>\n",
      "       </div>\n",
      "       <div class=\"col col-footer-desc\">\n",
      "        <nav class=\"nav-pages\">\n",
      "         <ul>\n",
      "          <li>\n",
      "           <a href=\"/about\">\n",
      "            О нас\n",
      "           </a>\n",
      "          </li>\n",
      "          <li>\n",
      "           <a href=\"https://nplus.pro\" target=\"_blank\">\n",
      "            N + Production\n",
      "           </a>\n",
      "          </li>\n",
      "          <li>\n",
      "           <a href=\"/adv\">\n",
      "            Рекламодателям\n",
      "           </a>\n",
      "          </li>\n",
      "          <li>\n",
      "           <a href=\"/rules\">\n",
      "            Наши материалы\n",
      "           </a>\n",
      "          </li>\n",
      "          <li>\n",
      "           <a href=\"/vacancy\">\n",
      "            Вакансии\n",
      "           </a>\n",
      "          </li>\n",
      "          <li>\n",
      "           <a href=\"/difficult\">\n",
      "            Сложность\n",
      "           </a>\n",
      "          </li>\n",
      "         </ul>\n",
      "        </nav>\n",
      "        <div class=\"desc\">\n",
      "         <p>\n",
      "          © 2021\n",
      "          <i>\n",
      "           N + 1\n",
      "          </i>\n",
      "          Интернет-издание   Свидетельство о регистрации СМИ Эл № ФС77-67614\n",
      "         </p>\n",
      "         <p>\n",
      "          Использование всех текстовых материалов без изменений в некоммерческих целях разрешается со ссылкой на\n",
      "          <i>\n",
      "           N + 1\n",
      "          </i>\n",
      "          . \n",
      "                        Все аудиовизуальные произведения являются собственностью своих авторов и правообладателей и используются \n",
      "                        только в образовательных и информационных целях. Если вы являетесь собственником того или иного произведения \n",
      "                        и не согласны с его размещением на нашем сайте, пожалуйста, напишите на kirill@nplus1.ru\n",
      "         </p>\n",
      "         <p>\n",
      "          Материалы, опубликованные в разделе «Блоги», отражают позиции их авторов, которые могут не совпадать с мнением редакции.\n",
      "         </p>\n",
      "         <p>\n",
      "          Сайт может содержать контент, не предназначенный для лиц младше 18 лет.\n",
      "         </p>\n",
      "         <p>\n",
      "          <a class=\"pd\" href=\"https://nplus1.ru/personal-data-policy\">\n",
      "           Политика обработки персональных данных пользователей сайта\n",
      "          </a>\n",
      "         </p>\n",
      "         <p>\n",
      "          <script async=\"\" src=\"//s.luxupcdnc.com/t/consent_195458.js\" type=\"text/javascript\">\n",
      "          </script>\n",
      "          <a href=\"#\" onclick=\"if(window.__lxG__consent__ !== undefined) {window.__lxG__consent__.showConsent()} else {alert('This function works only for users from the European Economic Area (EEA).')}; return false\">\n",
      "           Change privacy settings\n",
      "          </a>\n",
      "         </p>\n",
      "         <p>\n",
      "         </p>\n",
      "        </div>\n",
      "       </div>\n",
      "       <div class=\"col col-1 pull-right\">\n",
      "        <nav class=\"nav-social\">\n",
      "         <ul>\n",
      "          <li>\n",
      "           <a href=\"https://t.me/nplusone\">\n",
      "            <i class=\"fa fa-telegram\">\n",
      "            </i>\n",
      "           </a>\n",
      "          </li>\n",
      "          <li>\n",
      "           <a href=\"http://vk.com/nplusone\">\n",
      "            <i class=\"fa fa-vk\">\n",
      "            </i>\n",
      "           </a>\n",
      "          </li>\n",
      "          <li>\n",
      "           <a href=\"https://www.facebook.com/nplusone\">\n",
      "            <i class=\"fa fa-facebook\">\n",
      "            </i>\n",
      "           </a>\n",
      "          </li>\n",
      "          <li>\n",
      "           <a href=\"https://twitter.com/nplusodin\">\n",
      "            <i class=\"fa fa-twitter\">\n",
      "            </i>\n",
      "           </a>\n",
      "          </li>\n",
      "          <li>\n",
      "           <a href=\"https://ok.ru/nplus1\">\n",
      "            <i class=\"fa fa-odnoklassniki\">\n",
      "            </i>\n",
      "           </a>\n",
      "          </li>\n",
      "          <li>\n",
      "           <a href=\"https://soundcloud.com/nplus_1\">\n",
      "            <i class=\"fa fa-soundcloud\">\n",
      "            </i>\n",
      "           </a>\n",
      "          </li>\n",
      "          <li>\n",
      "           <a href=\"/rss\">\n",
      "            <i class=\"fa fa-rss\">\n",
      "            </i>\n",
      "           </a>\n",
      "          </li>\n",
      "         </ul>\n",
      "        </nav>\n",
      "        <div class=\"partners\">\n",
      "         <!-- Rating@Mail.ru counter -->\n",
      "         <script type=\"text/javascript\">\n",
      "          var _tmr = window._tmr || (window._tmr = []);\n",
      "_tmr.push({id: \"3084572\", type: \"pageView\", start: (new Date()).getTime()});\n",
      "(function (d, w, id) {\n",
      "  if (d.getElementById(id)) return;\n",
      "  var ts = d.createElement(\"script\"); ts.type = \"text/javascript\"; ts.async = true; ts.id = id;\n",
      "  ts.src = \"https://top-fwz1.mail.ru/js/code.js\";\n",
      "  var f = function () {var s = d.getElementsByTagName(\"script\")[0]; s.parentNode.insertBefore(ts, s);};\n",
      "  if (w.opera == \"[object Opera]\") { d.addEventListener(\"DOMContentLoaded\", f, false); } else { f(); }\n",
      "})(document, window, \"topmailru-code\");\n",
      "         </script>\n",
      "         <noscript>\n",
      "          <div>\n",
      "           <img alt=\"Top.Mail.Ru\" src=\"https://top-fwz1.mail.ru/counter?id=3084572;js=na\" style=\"border:0;position:absolute;left:-9999px;\"/>\n",
      "          </div>\n",
      "         </noscript>\n",
      "         <!-- //Rating@Mail.ru counter -->\n",
      "        </div>\n",
      "       </div>\n",
      "      </div>\n",
      "     </footer>\n",
      "     <!-- / footer -->\n",
      "    </div>\n",
      "   </div>\n",
      "  </div>\n",
      "  <!-- Google Tag Manager -->\n",
      "  <script>\n",
      "   (function(w,d,s,l,i){w[l]=w[l]||[];w[l].push({'gtm.start':\n",
      "new Date().getTime(),event:'gtm.js'});var f=d.getElementsByTagName(s)[0],\n",
      "j=d.createElement(s),dl=l!='dataLayer'?'&l='+l:'';j.async=true;j.src=\n",
      "'https://www.googletagmanager.com/gtm.js?id='+i+dl;f.parentNode.insertBefore(j,f);\n",
      "})(window,document,'script','dataLayer','GTM-MNJC58');\n",
      "  </script>\n",
      "  <!-- End Google Tag Manager -->\n",
      "  <!-- Google Tag Manager (noscript) -->\n",
      "  <noscript>\n",
      "   <iframe height=\"0\" src=\"https://www.googletagmanager.com/ns.html?id=GTM-MNJC58\" style=\"display:none;visibility:hidden\" width=\"0\">\n",
      "   </iframe>\n",
      "  </noscript>\n",
      "  <!-- End Google Tag Manager (noscript) -->\n",
      "  <noscript>\n",
      "   <div>\n",
      "    <img alt=\"\" src=\"//mc.yandex.ru/watch/29654565\" style=\"position:absolute; left:-9999px;\"/>\n",
      "   </div>\n",
      "  </noscript>\n",
      "  <script src=\"/js/lib/js.cookie.js\">\n",
      "  </script>\n",
      "  <script src=\"/js/lib/jquery.swap.js\">\n",
      "  </script>\n",
      "  <script src=\"/js/lib/swiper.jquery.min.js\">\n",
      "  </script>\n",
      "  <script src=\"/js/lib/svg.js\">\n",
      "  </script>\n",
      "  <script src=\"/js/lib/jquery.mobile-events.min.js\">\n",
      "  </script>\n",
      "  <script src=\"/js/lib/social-likes.min.js\">\n",
      "  </script>\n",
      "  <script src=\"/js/lib/jquery.sticky.js\">\n",
      "  </script>\n",
      "  <!--   project scripts -->\n",
      "  <script src=\"/js/main.min.js?v=1632760428\">\n",
      "  </script>\n",
      "  <!-- / project scripts -->\n",
      "  <!-- Quantcast Tag -->\n",
      "  <script type=\"text/javascript\">\n",
      "   var _qevents = _qevents || [];\n",
      "\n",
      "(function() {\n",
      "var elem = document.createElement('script');\n",
      "elem.src = (document.location.protocol == \"https:\" ? \"https://secure\" : \"http://edge\") + \".quantserve.com/quant.js\";\n",
      "elem.async = true;\n",
      "elem.type = \"text/javascript\";\n",
      "var scpt = document.getElementsByTagName('script')[0];\n",
      "scpt.parentNode.insertBefore(elem, scpt);\n",
      "})();\n",
      "\n",
      "_qevents.push({\n",
      "qacct:\"p-s3ftDEFzEW5x7\"\n",
      "});\n",
      "  </script>\n",
      "  <noscript>\n",
      "   <div style=\"display:none;\">\n",
      "    <img alt=\"Quantcast\" border=\"0\" height=\"1\" src=\"//pixel.quantserve.com/pixel/p-s3ftDEFzEW5x7.gif\" width=\"1\"/>\n",
      "   </div>\n",
      "  </noscript>\n",
      "  <!-- End Quantcast tag -->\n",
      " </body>\n",
      "</html>\n"
     ]
    }
   ],
=======
   "execution_count": null,
   "metadata": {},
   "outputs": [],
>>>>>>> Stashed changes
=======
   "execution_count": null,
   "metadata": {},
   "outputs": [],
>>>>>>> Stashed changes
   "source": [
    "print(soup.prettify())"
   ]
  },
  {
   "cell_type": "markdown",
   "metadata": {},
   "source": [
    "В такой выдаче ориентироваться гораздо удобнее (но при желании, то же можно увидеть в браузере, на большом экране)."
   ]
  },
  {
   "cell_type": "markdown",
   "metadata": {},
   "source": [
    "Чтобы сгрузить все новости с главной страницы сайта, нужно собрать все ссылки на страницы с этими новостями. Ссылки в html-файле всегда заключены в тэг `<a></a>` и имеют атрибут `href`. Посмотрим на кусочки кода, соответствующие всем ссылкам на главной странице сайта:"
   ]
  },
  {
   "cell_type": "code",
<<<<<<< Updated upstream
<<<<<<< Updated upstream
   "execution_count": 48,
=======
   "execution_count": 6,
>>>>>>> Stashed changes
=======
   "execution_count": 6,
>>>>>>> Stashed changes
   "metadata": {},
   "outputs": [
    {
     "name": "stdout",
     "output_type": "stream",
     "text": [
      "#\n",
      "/\n",
      "#\n",
      "#\n",
      "/rubric/astronomy\n",
      "/rubric/physics\n",
      "/rubric/biology\n",
      "/rubric/robots-drones\n",
<<<<<<< Updated upstream
<<<<<<< Updated upstream
      "/theme/explainatorium\n",
      "/theme/bookshelf\n",
      "/theme/Courses\n",
      "/theme/coronavirus-history\n",
      "/theme/offline\n",
=======
=======
>>>>>>> Stashed changes
      "/theme/oops\n",
      "/theme/economy-literature\n",
      "/theme/hayabusa\n",
      "/theme/art-of-integration\n",
<<<<<<< Updated upstream
>>>>>>> Stashed changes
=======
>>>>>>> Stashed changes
      "/\n",
      "#\n",
      "/rubric/astronomy\n",
      "/rubric/physics\n",
      "/rubric/biology\n",
      "/rubric/robots-drones\n",
      "#\n",
<<<<<<< Updated upstream
<<<<<<< Updated upstream
      "/theme/explainatorium\n",
      "/theme/bookshelf\n",
      "/theme/Courses\n",
      "/theme/coronavirus-history\n",
      "/theme/offline\n",
      "https://nplus1.ru/blog/2021/09/27/Its-The-end-of-the-world\n",
      "https://nplus1.ru/blog/2021/09/27/Its-The-end-of-the-world\n",
      "https://nplus1.ru/blog/2021/09/23/cosmological-koans\n",
      "https://nplus1.ru/blog/2021/09/21/the-French-Revolution\n",
      "https://nplus1.ru/blog/2021/09/16/lone-survivors\n",
      "https://nplus1.ru/blog/2021/09/14/bones-inside-and-out\n",
      "https://nplus1.ru/blog/2021/09/09/13lost\n",
      "https://nplus1.ru/blog/2021/09/08/when-the-earth-had-two-moons\n",
      "https://nplus1.ru/blog/2021/09/06/stress-pain-and-opioids\n",
      "https://nplus1.ru/blog/2021/08/27/infinite-powers\n",
      "https://nplus1.ru/blog/2021/09/28/unsere-welt-neu-denken\n",
      "/news/2021/09/28/desmodus-rotundus\n",
      "/news/2021/09/28/starlink-geo\n",
      "/news/2021/09/28/grs-hubble\n",
      "/news/2021/09/28/twins-methylation\n",
      "/news/2021/09/28/block3\n",
      "/news/2021/09/28/wasp-127-clouds\n",
      "/news/2021/09/28/merlin\n",
      "/material/2021/09/28/animals-have-it\n",
      "/rubric/partners\n",
      "/theme/nosmoke\n",
      "/news/2021/09/28/tissue-or-landscape\n",
      "/rubric/astronomy\n",
      "/theme/bellezza\n",
      "/news/2021/09/28/dolmen-spain\n",
      "/news/2021/09/28/life-covid\n",
      "/news/2021/09/28/hawc\n",
      "/news/2021/09/28/seated-burials\n",
      "/news/2021/09/28/archaehierax-sylvestris\n",
      "/news/2021/09/28/spicomellus-afer\n",
      "/blog/2021/09/28/unsere-welt-neu-denken\n",
      "/blog/2021/09/27/Its-The-end-of-the-world\n",
      "/material/2021/09/24/worms\n",
      "/rubric/mezzanine\n",
      "/material/2021/09/21/apy-13\n",
      "/rubric/astronomy\n",
      "/theme/aphoto\n",
      "/news/2021/09/27/SED\n",
      "/news/2021/09/27/darpa-subt\n",
      "/news/2021/09/27/plocepasser-mahali\n",
      "/news/2021/09/27/ch-6\n",
      "/news/2021/09/27/shutdown-of-southern-ocean-convection\n",
      "/news/2021/09/27/lasker-2021\n",
      "/blog/2021/09/23/cosmological-koans\n",
      "/blog/2021/09/21/the-French-Revolution\n",
      "/material/2021/09/20/who-is-oetzi\n",
      "/rubric/archaeology\n",
      "/news/2021/09/17/penguin-test\n",
      "/rubric/zoology\n",
      "/news/2021/09/24/magic-people-voodoo-people\n",
      "/news/2021/09/21/raman-transfer\n",
      "/material/2021/09/23/vtb-devops\n",
      "/news/2021/09/23/single-phonon-evidence\n",
      "/news/2021/09/22/100ms-coherence\n",
      "/news/2021/09/24/quantum-limit-planet\n",
      "/news/2021/09/22/single-photon-nonlinear\n",
      "/news/2021/09/24/it-hears-you\n",
      "/news/2021/09/24/circular-resonance\n",
      "/news/2021/09/27/optical-levitation\n",
      "https://nplus1.ru/blog/2021/09/27/Its-The-end-of-the-world\n",
      "https://nplus1.ru/blog/2021/09/27/Its-The-end-of-the-world\n",
      "https://nplus1.ru/blog/2021/09/23/cosmological-koans\n",
      "https://nplus1.ru/blog/2021/09/21/the-French-Revolution\n",
      "https://nplus1.ru/blog/2021/09/16/lone-survivors\n",
      "https://nplus1.ru/blog/2021/09/14/bones-inside-and-out\n",
      "https://nplus1.ru/blog/2021/09/09/13lost\n",
      "https://nplus1.ru/blog/2021/09/08/when-the-earth-had-two-moons\n",
      "https://nplus1.ru/blog/2021/09/06/stress-pain-and-opioids\n",
      "https://nplus1.ru/blog/2021/08/27/infinite-powers\n",
      "https://nplus1.ru/blog/2021/09/28/unsere-welt-neu-denken\n",
      "/\n",
      "/about\n",
      "https://nplus.pro\n",
=======
=======
>>>>>>> Stashed changes
      "/theme/oops\n",
      "/theme/economy-literature\n",
      "/theme/hayabusa\n",
      "/theme/art-of-integration\n",
      "https://nplus1.ru/blog/2019/03/27/five-years-deadline\n",
      "https://nplus1.ru/blog/2019/03/27/five-years-deadline\n",
      "https://nplus1.ru/blog/2019/03/26/limb-183\n",
      "https://nplus1.ru/blog/2019/03/25/ben-franklin-effect\n",
      "https://nplus1.ru/blog/2019/03/22/a-history-of-private-life\n",
      "https://nplus1.ru/blog/2019/03/22/spanish-princess\n",
      "https://nplus1.ru/blog/2019/03/21/climate-change-of-the-dead\n",
      "https://nplus1.ru/blog/2019/03/21/half-fathers\n",
      "https://nplus1.ru/blog/2019/03/20/coins-manufactering\n",
      "https://nplus1.ru/blog/2019/03/18/map-of-the-universe\n",
      "https://nplus1.ru/blog/2019/03/28/what-about-labioldentals\n",
      "/news/2019/03/31/first\n",
      "/news/2019/03/30/very-big-boulder-on-Bennu\n",
      "/news/2019/03/30/PSP-two-flyby\n",
      "/news/2019/03/30/functional-brain-map\n",
      "/news/2019/03/30/seizure-odour\n",
      "/news/2019/03/30/id-capsule\n",
      "/news/2019/03/29/mars-helicopter-fly-now\n",
      "/material/2019/03/29/psycho-batman\n",
      "/rubric/mezzanine\n",
      "/news/2019/03/29/ABRACADABRA\n",
      "/news/2019/03/29/nz-apple-picker\n",
      "/news/2019/03/29/i-know-kung-fu\n",
      "/news/2019/03/29/warming-leads-to-cruelty\n",
      "/news/2019/03/29/ghost-faces\n",
      "/news/2019/03/29/language-storage\n",
      "/blog/2019/03/29/the-revolutionary-genius-of-plants\n",
      "/blog/2019/03/28/what-about-labioldentals\n",
      "/material/2019/03/28/head-transplantation\n",
      "/rubric/medicine\n",
      "/material/2019/03/27/tetanus\n",
      "/rubric/medicine\n",
      "/news/2019/03/29/island-building\n",
      "/news/2019/03/29/deep-water-mars\n",
      "/news/2019/03/29/curaxins\n",
      "/news/2019/03/29/inflation-falsification\n",
      "/news/2019/03/29/sooo-tiny\n",
      "/news/2019/03/29/small-moons-of-Saturn\n",
      "/blog/2019/03/27/five-years-deadline\n",
      "/blog/2019/03/26/limb-183\n",
      "/news/2019/03/26/learning-languages\n",
      "/rubric/partners\n",
      "/material/2019/03/25/120-element\n",
      "/rubric/physics\n",
      "/theme/phys\n",
      "/news/2019/03/26/dark-system\n",
      "/news/2019/03/29/language-storage\n",
      "/news/2019/03/27/schizo-genes\n",
      "/news/2019/03/29/curaxins\n",
      "/news/2019/03/29/inflation-falsification\n",
      "/news/2019/03/26/efremovka-ancient-solar-flare\n",
      "/news/2019/03/29/ABRACADABRA\n",
      "/news/2019/03/27/exoplanet-interferometry\n",
      "/news/2019/03/26/quantum-radiation-pressure-noise\n",
      "/news/2019/03/29/ghost-faces\n",
      "https://nplus1.ru/blog/2019/03/27/five-years-deadline\n",
      "https://nplus1.ru/blog/2019/03/27/five-years-deadline\n",
      "https://nplus1.ru/blog/2019/03/26/limb-183\n",
      "https://nplus1.ru/blog/2019/03/25/ben-franklin-effect\n",
      "https://nplus1.ru/blog/2019/03/22/a-history-of-private-life\n",
      "https://nplus1.ru/blog/2019/03/22/spanish-princess\n",
      "https://nplus1.ru/blog/2019/03/21/climate-change-of-the-dead\n",
      "https://nplus1.ru/blog/2019/03/21/half-fathers\n",
      "https://nplus1.ru/blog/2019/03/20/coins-manufactering\n",
      "https://nplus1.ru/blog/2019/03/18/map-of-the-universe\n",
      "https://nplus1.ru/blog/2019/03/28/what-about-labioldentals\n",
      "/\n",
      "/about\n",
<<<<<<< Updated upstream
>>>>>>> Stashed changes
=======
>>>>>>> Stashed changes
      "/adv\n",
      "/rules\n",
      "/vacancy\n",
      "/difficult\n",
      "https://nplus1.ru/personal-data-policy\n",
      "#\n",
      "https://t.me/nplusone\n",
      "http://vk.com/nplusone\n",
      "https://www.facebook.com/nplusone\n",
      "https://twitter.com/nplusodin\n",
      "https://ok.ru/nplus1\n",
      "https://soundcloud.com/nplus_1\n",
      "/rss\n"
     ]
    }
   ],
   "source": [
<<<<<<< Updated upstream
<<<<<<< Updated upstream
    "# find_all позволяет найти все нужные нам теги, возвращает в виде списка\n",
    "#print(soup.find_all('a'))\n",
    "\n",
=======
>>>>>>> Stashed changes
=======
>>>>>>> Stashed changes
    "for link in soup.find_all('a'):\n",
    "    print(link.get('href'))"
   ]
  },
  {
   "cell_type": "markdown",
   "metadata": {},
   "source": [
    "Ссылок много. Но нам нужны только новости – ссылки, которые начинаются со слова `/news`. Добавим условие: будем выбирать только те ссылки, в которых есть `/news`. Создадим пустой список `urls` и будем добавлять в него только ссылки, которые удовлетворяют этому условию."
   ]
  },
  {
   "cell_type": "code",
<<<<<<< Updated upstream
<<<<<<< Updated upstream
   "execution_count": 49,
=======
   "execution_count": 7,
>>>>>>> Stashed changes
=======
   "execution_count": 7,
>>>>>>> Stashed changes
   "metadata": {},
   "outputs": [
    {
     "data": {
      "text/plain": [
<<<<<<< Updated upstream
<<<<<<< Updated upstream
       "['/news/2021/09/28/desmodus-rotundus',\n",
       " '/news/2021/09/28/starlink-geo',\n",
       " '/news/2021/09/28/grs-hubble',\n",
       " '/news/2021/09/28/twins-methylation',\n",
       " '/news/2021/09/28/block3',\n",
       " '/news/2021/09/28/wasp-127-clouds',\n",
       " '/news/2021/09/28/merlin',\n",
       " '/news/2021/09/28/tissue-or-landscape',\n",
       " '/news/2021/09/28/dolmen-spain',\n",
       " '/news/2021/09/28/life-covid',\n",
       " '/news/2021/09/28/hawc',\n",
       " '/news/2021/09/28/seated-burials',\n",
       " '/news/2021/09/28/archaehierax-sylvestris',\n",
       " '/news/2021/09/28/spicomellus-afer',\n",
       " '/news/2021/09/27/SED',\n",
       " '/news/2021/09/27/darpa-subt',\n",
       " '/news/2021/09/27/plocepasser-mahali',\n",
       " '/news/2021/09/27/ch-6',\n",
       " '/news/2021/09/27/shutdown-of-southern-ocean-convection',\n",
       " '/news/2021/09/27/lasker-2021',\n",
       " '/news/2021/09/17/penguin-test',\n",
       " '/news/2021/09/24/magic-people-voodoo-people',\n",
       " '/news/2021/09/21/raman-transfer',\n",
       " '/news/2021/09/23/single-phonon-evidence',\n",
       " '/news/2021/09/22/100ms-coherence',\n",
       " '/news/2021/09/24/quantum-limit-planet',\n",
       " '/news/2021/09/22/single-photon-nonlinear',\n",
       " '/news/2021/09/24/it-hears-you',\n",
       " '/news/2021/09/24/circular-resonance',\n",
       " '/news/2021/09/27/optical-levitation']"
      ]
     },
     "execution_count": 49,
=======
=======
>>>>>>> Stashed changes
       "['/news/2019/03/31/first',\n",
       " '/news/2019/03/30/very-big-boulder-on-Bennu',\n",
       " '/news/2019/03/30/PSP-two-flyby',\n",
       " '/news/2019/03/30/functional-brain-map',\n",
       " '/news/2019/03/30/seizure-odour',\n",
       " '/news/2019/03/30/id-capsule',\n",
       " '/news/2019/03/29/mars-helicopter-fly-now',\n",
       " '/news/2019/03/29/ABRACADABRA',\n",
       " '/news/2019/03/29/nz-apple-picker',\n",
       " '/news/2019/03/29/i-know-kung-fu',\n",
       " '/news/2019/03/29/warming-leads-to-cruelty',\n",
       " '/news/2019/03/29/ghost-faces',\n",
       " '/news/2019/03/29/language-storage',\n",
       " '/news/2019/03/29/island-building',\n",
       " '/news/2019/03/29/deep-water-mars',\n",
       " '/news/2019/03/29/curaxins',\n",
       " '/news/2019/03/29/inflation-falsification',\n",
       " '/news/2019/03/29/sooo-tiny',\n",
       " '/news/2019/03/29/small-moons-of-Saturn',\n",
       " '/news/2019/03/26/learning-languages',\n",
       " '/news/2019/03/26/dark-system',\n",
       " '/news/2019/03/29/language-storage',\n",
       " '/news/2019/03/27/schizo-genes',\n",
       " '/news/2019/03/29/curaxins',\n",
       " '/news/2019/03/29/inflation-falsification',\n",
       " '/news/2019/03/26/efremovka-ancient-solar-flare',\n",
       " '/news/2019/03/29/ABRACADABRA',\n",
       " '/news/2019/03/27/exoplanet-interferometry',\n",
       " '/news/2019/03/26/quantum-radiation-pressure-noise',\n",
       " '/news/2019/03/29/ghost-faces']"
      ]
     },
     "execution_count": 7,
<<<<<<< Updated upstream
>>>>>>> Stashed changes
=======
>>>>>>> Stashed changes
     "metadata": {},
     "output_type": "execute_result"
    }
   ],
   "source": [
    "urls = []\n",
    "\n",
    "for link in soup.find_all('a'):\n",
    "    if '/news' in link.get('href'):\n",
    "        urls.append(link.get('href'))\n",
    "urls"
   ]
  },
  {
   "cell_type": "markdown",
   "metadata": {},
   "source": [
    "Ссылки, которые у нас есть в списке `urls`, относительные: они неполные, начало ссылки (название сайта) отсутствует. Давайте превратим их в абсолютные ‒ склеим с ссылкой https://nplus1.ru."
   ]
  },
  {
   "cell_type": "code",
<<<<<<< Updated upstream
<<<<<<< Updated upstream
   "execution_count": 52,
=======
   "execution_count": 8,
>>>>>>> Stashed changes
=======
   "execution_count": 8,
>>>>>>> Stashed changes
   "metadata": {},
   "outputs": [
    {
     "data": {
      "text/plain": [
<<<<<<< Updated upstream
<<<<<<< Updated upstream
       "['https://nplus1.ru/news/2021/09/28/desmodus-rotundus',\n",
       " 'https://nplus1.ru/news/2021/09/28/starlink-geo',\n",
       " 'https://nplus1.ru/news/2021/09/28/grs-hubble',\n",
       " 'https://nplus1.ru/news/2021/09/28/twins-methylation',\n",
       " 'https://nplus1.ru/news/2021/09/28/block3',\n",
       " 'https://nplus1.ru/news/2021/09/28/wasp-127-clouds',\n",
       " 'https://nplus1.ru/news/2021/09/28/merlin',\n",
       " 'https://nplus1.ru/news/2021/09/28/tissue-or-landscape',\n",
       " 'https://nplus1.ru/news/2021/09/28/dolmen-spain',\n",
       " 'https://nplus1.ru/news/2021/09/28/life-covid',\n",
       " 'https://nplus1.ru/news/2021/09/28/hawc',\n",
       " 'https://nplus1.ru/news/2021/09/28/seated-burials',\n",
       " 'https://nplus1.ru/news/2021/09/28/archaehierax-sylvestris',\n",
       " 'https://nplus1.ru/news/2021/09/28/spicomellus-afer',\n",
       " 'https://nplus1.ru/news/2021/09/27/SED',\n",
       " 'https://nplus1.ru/news/2021/09/27/darpa-subt',\n",
       " 'https://nplus1.ru/news/2021/09/27/plocepasser-mahali',\n",
       " 'https://nplus1.ru/news/2021/09/27/ch-6',\n",
       " 'https://nplus1.ru/news/2021/09/27/shutdown-of-southern-ocean-convection',\n",
       " 'https://nplus1.ru/news/2021/09/27/lasker-2021',\n",
       " 'https://nplus1.ru/news/2021/09/17/penguin-test',\n",
       " 'https://nplus1.ru/news/2021/09/24/magic-people-voodoo-people',\n",
       " 'https://nplus1.ru/news/2021/09/21/raman-transfer',\n",
       " 'https://nplus1.ru/news/2021/09/23/single-phonon-evidence',\n",
       " 'https://nplus1.ru/news/2021/09/22/100ms-coherence',\n",
       " 'https://nplus1.ru/news/2021/09/24/quantum-limit-planet',\n",
       " 'https://nplus1.ru/news/2021/09/22/single-photon-nonlinear',\n",
       " 'https://nplus1.ru/news/2021/09/24/it-hears-you',\n",
       " 'https://nplus1.ru/news/2021/09/24/circular-resonance',\n",
       " 'https://nplus1.ru/news/2021/09/27/optical-levitation']"
      ]
     },
     "execution_count": 52,
=======
=======
>>>>>>> Stashed changes
       "['https://nplus1.ru/news/2019/03/31/first',\n",
       " 'https://nplus1.ru/news/2019/03/30/very-big-boulder-on-Bennu',\n",
       " 'https://nplus1.ru/news/2019/03/30/PSP-two-flyby',\n",
       " 'https://nplus1.ru/news/2019/03/30/functional-brain-map',\n",
       " 'https://nplus1.ru/news/2019/03/30/seizure-odour',\n",
       " 'https://nplus1.ru/news/2019/03/30/id-capsule',\n",
       " 'https://nplus1.ru/news/2019/03/29/mars-helicopter-fly-now',\n",
       " 'https://nplus1.ru/news/2019/03/29/ABRACADABRA',\n",
       " 'https://nplus1.ru/news/2019/03/29/nz-apple-picker',\n",
       " 'https://nplus1.ru/news/2019/03/29/i-know-kung-fu',\n",
       " 'https://nplus1.ru/news/2019/03/29/warming-leads-to-cruelty',\n",
       " 'https://nplus1.ru/news/2019/03/29/ghost-faces',\n",
       " 'https://nplus1.ru/news/2019/03/29/language-storage',\n",
       " 'https://nplus1.ru/news/2019/03/29/island-building',\n",
       " 'https://nplus1.ru/news/2019/03/29/deep-water-mars',\n",
       " 'https://nplus1.ru/news/2019/03/29/curaxins',\n",
       " 'https://nplus1.ru/news/2019/03/29/inflation-falsification',\n",
       " 'https://nplus1.ru/news/2019/03/29/sooo-tiny',\n",
       " 'https://nplus1.ru/news/2019/03/29/small-moons-of-Saturn',\n",
       " 'https://nplus1.ru/news/2019/03/26/learning-languages',\n",
       " 'https://nplus1.ru/news/2019/03/26/dark-system',\n",
       " 'https://nplus1.ru/news/2019/03/29/language-storage',\n",
       " 'https://nplus1.ru/news/2019/03/27/schizo-genes',\n",
       " 'https://nplus1.ru/news/2019/03/29/curaxins',\n",
       " 'https://nplus1.ru/news/2019/03/29/inflation-falsification',\n",
       " 'https://nplus1.ru/news/2019/03/26/efremovka-ancient-solar-flare',\n",
       " 'https://nplus1.ru/news/2019/03/29/ABRACADABRA',\n",
       " 'https://nplus1.ru/news/2019/03/27/exoplanet-interferometry',\n",
       " 'https://nplus1.ru/news/2019/03/26/quantum-radiation-pressure-noise',\n",
       " 'https://nplus1.ru/news/2019/03/29/ghost-faces']"
      ]
     },
     "execution_count": 8,
<<<<<<< Updated upstream
>>>>>>> Stashed changes
=======
>>>>>>> Stashed changes
     "metadata": {},
     "output_type": "execute_result"
    }
   ],
   "source": [
    "full_urls = []\n",
    "\n",
    "for u in urls:\n",
    "    res = 'https://nplus1.ru' + u\n",
    "    full_urls.append(res) \n",
    "\n",
    "full_urls"
   ]
  },
  {
   "cell_type": "markdown",
   "metadata": {},
   "source": [
    "Теперь наша задача сводится к следующему: изучить одну страницу с новостью, научиться из нее вытаскивать текст и всю необходимую информацию, а потом применить весь набор действий к каждой ссылке из `full_urls` в цикле. Посмотрим на новость с индексом 1, у вас может быть другая, новости обновляются."
   ]
  },
  {
   "cell_type": "code",
<<<<<<< Updated upstream
<<<<<<< Updated upstream
   "execution_count": 53,
=======
   "execution_count": 9,
>>>>>>> Stashed changes
=======
   "execution_count": 9,
>>>>>>> Stashed changes
   "metadata": {},
   "outputs": [],
   "source": [
    "url0 = full_urls[1]\n",
    "\n",
    "page0 = requests.get(url0)\n",
    "soup0 = BeautifulSoup(page0.text, 'lxml')"
   ]
  },
  {
   "cell_type": "markdown",
   "metadata": {},
   "source": [
    "В коде каждой страницы с новостью есть часть с мета-информацией: датой, именем автора и проч. Такая информация окружена тэгом `<meta></meta>`. Посмотрим:"
   ]
  },
  {
   "cell_type": "code",
<<<<<<< Updated upstream
<<<<<<< Updated upstream
   "execution_count": 54,
=======
   "execution_count": 10,
>>>>>>> Stashed changes
=======
   "execution_count": 10,
>>>>>>> Stashed changes
   "metadata": {},
   "outputs": [
    {
     "data": {
      "text/plain": [
       "[<meta charset=\"utf-8\"/>,\n",
       " <meta content=\"ie=edge\" http-equiv=\"x-ua-compatible\"/>,\n",
       " <meta content=\"width=device-width, initial-scale=1\" name=\"viewport\"/>,\n",
       " <meta content=\"yes\" name=\"apple-mobile-web-app-capable\"/>,\n",
       " <meta content=\"black\" name=\"apple-mobile-web-app-status-bar-style\"/>,\n",
<<<<<<< Updated upstream
<<<<<<< Updated upstream
       " <meta content=\"7991d7eb02d759f05b9050e111a7e3eb\" name=\"wmail-verification\"/>,\n",
       " <meta content=\"2021-09-28\" itemprop=\"datePublished\"/>,\n",
       " <meta content=\"Григорий Копиев\" name=\"mediator_author\"/>,\n",
       " <meta content=\"При этом содержимое сигналов знать не нужно\" name=\"description\"/>,\n",
       " <meta content=\"Григорий Копиев\" name=\"author\"/>,\n",
       " <meta content=\"\" name=\"copyright\"/>,\n",
       " <meta content=\"Сигналы Starlink и высотомер использовали для геолокации с точностью в несколько метров\" property=\"og:title\"/>,\n",
       " <meta content=\"https://nplus1.ru/images/2021/09/28/2a1416aad48a2558b34213a18602872a.png\" property=\"og:image\"/>,\n",
       " <meta content=\"https://nplus1.ru/news/2021/09/28/starlink-geo\" property=\"og:url\"/>,\n",
       " <meta content=\"При этом содержимое сигналов знать не нужно\" property=\"og:description\"/>,\n",
       " <meta content=\"summary_large_image\" name=\"twitter:card\"/>,\n",
       " <meta content=\"@nplusodin\" name=\"twitter:site\"/>,\n",
       " <meta content=\"Сигналы Starlink и высотомер использовали для геолокации с точностью в несколько метров\" name=\"twitter:title\"/>,\n",
       " <meta content=\"При этом содержимое сигналов знать не нужно\" name=\"twitter:description\"/>,\n",
       " <meta content=\"https://nplus1.ru/images/2021/09/28/2a1416aad48a2558b34213a18602872a.png\" name=\"twitter:image\"/>,\n",
       " <meta content=\"8c90b02c84ac3b72\" name=\"yandex-verification\"/>]"
      ]
     },
     "execution_count": 54,
=======
=======
>>>>>>> Stashed changes
       " <meta content=\"2019-03-30\" itemprop=\"datePublished\"/>,\n",
       " <meta content=\"Александр Войтюк\" name=\"mediator_author\"/>,\n",
       " <meta content=\"В создании стереопары принял участие астрофизик и гитарист группы Queen Брайан Мэй\" name=\"description\"/>,\n",
       " <meta content=\"Александр Войтюк\" name=\"author\"/>,\n",
       " <meta content=\"\" name=\"copyright\"/>,\n",
       " <meta content=\"OSIRIS-REx показал 52-метровую скалу на поверхности Бенну\" property=\"og:title\"/>,\n",
       " <meta content=\"https://nplus1.ru/images/2019/03/30/e784de84c7da53249343a3d0e3a124b3.gif\" property=\"og:image\"/>,\n",
       " <meta content=\"https://nplus1.ru/news/2019/03/30/very-big-boulder-on-Bennu\" property=\"og:url\"/>,\n",
       " <meta content=\"В создании стереопары принял участие астрофизик и гитарист группы Queen Брайан Мэй\" property=\"og:description\"/>,\n",
       " <meta content=\"summary_large_image\" name=\"twitter:card\"/>,\n",
       " <meta content=\"@nplusodin\" name=\"twitter:site\"/>,\n",
       " <meta content=\"OSIRIS-REx показал 52-метровую скалу на поверхности Бенну\" name=\"twitter:title\"/>,\n",
       " <meta content=\"В создании стереопары принял участие астрофизик и гитарист группы Queen Брайан Мэй\" name=\"twitter:description\"/>,\n",
       " <meta content=\"https://nplus1.ru/images/2019/03/30/e784de84c7da53249343a3d0e3a124b3.gif\" name=\"twitter:image\"/>,\n",
       " <meta content=\"8c90b02c84ac3b72\" name=\"yandex-verification\"/>]"
      ]
     },
     "execution_count": 10,
<<<<<<< Updated upstream
>>>>>>> Stashed changes
=======
>>>>>>> Stashed changes
     "metadata": {},
     "output_type": "execute_result"
    }
   ],
   "source": [
    "soup0.find_all('meta')"
   ]
  },
  {
   "cell_type": "markdown",
   "metadata": {},
   "source": [
    "Из этого списка нам нужны части с именем автора, датой, заголовком и кратким описанием. Воспользуемся поиском по атрибуту `name`. Передадим функции `find_all()` в качестве аргумента словарь с названием и значением атрибута: "
   ]
  },
  {
   "cell_type": "code",
<<<<<<< Updated upstream
<<<<<<< Updated upstream
   "execution_count": 55,
=======
   "execution_count": 11,
>>>>>>> Stashed changes
=======
   "execution_count": 11,
>>>>>>> Stashed changes
   "metadata": {},
   "outputs": [
    {
     "data": {
      "text/plain": [
<<<<<<< Updated upstream
<<<<<<< Updated upstream
       "[<meta content=\"Григорий Копиев\" name=\"author\"/>]"
      ]
     },
     "execution_count": 55,
=======
=======
>>>>>>> Stashed changes
       "[<meta content=\"Александр Войтюк\" name=\"author\"/>]"
      ]
     },
     "execution_count": 11,
<<<<<<< Updated upstream
>>>>>>> Stashed changes
=======
>>>>>>> Stashed changes
     "metadata": {},
     "output_type": "execute_result"
    }
   ],
   "source": [
    "soup0.find_all('meta', {'name' : 'author'}) # например, автор"
   ]
  },
  {
   "cell_type": "markdown",
   "metadata": {},
   "source": [
    "Теперь выберем единственный элемент полученного списка (с индексом 0):"
   ]
  },
  {
   "cell_type": "code",
<<<<<<< Updated upstream
<<<<<<< Updated upstream
   "execution_count": 56,
=======
   "execution_count": 12,
>>>>>>> Stashed changes
=======
   "execution_count": 12,
>>>>>>> Stashed changes
   "metadata": {},
   "outputs": [
    {
     "data": {
      "text/plain": [
<<<<<<< Updated upstream
<<<<<<< Updated upstream
       "<meta content=\"Григорий Копиев\" name=\"author\"/>"
      ]
     },
     "execution_count": 56,
=======
=======
>>>>>>> Stashed changes
       "<meta content=\"Александр Войтюк\" name=\"author\"/>"
      ]
     },
     "execution_count": 12,
<<<<<<< Updated upstream
>>>>>>> Stashed changes
=======
>>>>>>> Stashed changes
     "metadata": {},
     "output_type": "execute_result"
    }
   ],
   "source": [
    "soup0.find_all('meta', {'name' : 'author'})[0]"
   ]
  },
  {
   "cell_type": "markdown",
   "metadata": {},
   "source": [
    "Нам нужно вытащить из этого объекта `content` – имя автора. Посмотрим на атрибуты:"
   ]
  },
  {
   "cell_type": "code",
<<<<<<< Updated upstream
<<<<<<< Updated upstream
   "execution_count": 57,
=======
   "execution_count": 13,
>>>>>>> Stashed changes
=======
   "execution_count": 13,
>>>>>>> Stashed changes
   "metadata": {},
   "outputs": [
    {
     "data": {
      "text/plain": [
<<<<<<< Updated upstream
<<<<<<< Updated upstream
       "{'name': 'author', 'content': 'Григорий Копиев'}"
      ]
     },
     "execution_count": 57,
=======
=======
>>>>>>> Stashed changes
       "{'name': 'author', 'content': 'Александр Войтюк'}"
      ]
     },
     "execution_count": 13,
<<<<<<< Updated upstream
>>>>>>> Stashed changes
=======
>>>>>>> Stashed changes
     "metadata": {},
     "output_type": "execute_result"
    }
   ],
   "source": [
    "soup0.find_all('meta', {'name' : 'author'})[0].attrs"
   ]
  },
  {
   "cell_type": "markdown",
   "metadata": {},
   "source": [
    "Как получить отсюда `content`? Очень просто, ведь это словарь! А доставать из словаря значение по ключу мы умеем."
   ]
  },
  {
   "cell_type": "code",
<<<<<<< Updated upstream
<<<<<<< Updated upstream
   "execution_count": 58,
=======
   "execution_count": 14,
>>>>>>> Stashed changes
=======
   "execution_count": 14,
>>>>>>> Stashed changes
   "metadata": {},
   "outputs": [
    {
     "data": {
      "text/plain": [
<<<<<<< Updated upstream
<<<<<<< Updated upstream
       "'Григорий Копиев'"
      ]
     },
     "execution_count": 58,
=======
=======
>>>>>>> Stashed changes
       "'Александр Войтюк'"
      ]
     },
     "execution_count": 14,
<<<<<<< Updated upstream
>>>>>>> Stashed changes
=======
>>>>>>> Stashed changes
     "metadata": {},
     "output_type": "execute_result"
    }
   ],
   "source": [
    "author = soup0.find_all('meta', {'name' : 'author'})[0].attrs['content']\n",
    "author"
   ]
  },
  {
   "cell_type": "markdown",
   "metadata": {},
   "source": [
    "Аналогичным образом извлечем дату, заголовок и описание."
   ]
  },
  {
   "cell_type": "code",
<<<<<<< Updated upstream
<<<<<<< Updated upstream
   "execution_count": 59,
=======
   "execution_count": 15,
>>>>>>> Stashed changes
=======
   "execution_count": 15,
>>>>>>> Stashed changes
   "metadata": {},
   "outputs": [],
   "source": [
    "date = soup0.find_all('meta', {'itemprop' : 'datePublished'})[0].attrs['content']\n",
    "title = soup0.find_all('meta', {'property' : 'og:title'})[0].attrs['content']\n",
    "description = soup0.find_all('meta', {'name' : 'description'})[0].attrs['content']"
   ]
  },
  {
   "cell_type": "markdown",
   "metadata": {},
   "source": [
    "Осталось вытащить рубрики и сложность текста. Если мы посмотрим на исходный код страницы, мы увидим, что нужная нам информация находится в тэгах `<p></p>`:"
   ]
  },
  {
   "cell_type": "code",
<<<<<<< Updated upstream
<<<<<<< Updated upstream
   "execution_count": 60,
=======
   "execution_count": 16,
>>>>>>> Stashed changes
=======
   "execution_count": 16,
>>>>>>> Stashed changes
   "metadata": {},
   "outputs": [
    {
     "data": {
      "text/plain": [
       "[<p class=\"table\">\n",
<<<<<<< Updated upstream
<<<<<<< Updated upstream
       " <a data-rubric=\"cosmonautics\" href=\"/rubric/cosmonautics\">Космонавтика</a>\n",
       " <a data-rubric=\"communications\" href=\"/rubric/communications\">Связь</a>\n",
       " </p>,\n",
       " <p class=\"table\">\n",
       " <a href=\"/news/2021/09/28\">\n",
       " <time content=\"2021-09-28\" data-unix=\"1632847928\" itemprop=\"datePublished\">\n",
       " <span>19:52</span>\n",
       " <span>28 Сен. 2021</span>\n",
       " </time>\n",
       " </a>\n",
       " </p>,\n",
       " <p class=\"table\">\n",
       " <a href=\"/difficult/3.5\">\n",
       " <span>Сложность</span>\n",
       " <span class=\"difficult-value\">3.5</span>\n",
       " </a>\n",
       " </p>,\n",
       " <p class=\"title\"></p>,\n",
       " <p class=\"credits\">Joe Khalife et al. / IEEE Transactions on Aerospace and Electronic Systems, 2021</p>,\n",
       " <p>Американские инженеры показали, что сигналы интернет-спутников Starlink можно использовать для геолокации с помощью любительского радиооборудования. Записав сигналы шести пролетающих спутников, они рассчитали местоположение в пространстве с ошибкой в 33,5 метра, а при использовании высотомера и позиционировании на плоскости ошибка уменьшилась до 7,7 метра. Статья <a href=\"https://ieeexplore.ieee.org/document/9541006\" rel=\"nofollow\" target=\"_blank\">опубликована</a> в <i>IEEE Transactions on Aerospace and Electronic Systems</i>, а также <a href=\"https://webcache.googleusercontent.com/search?q=cache:20iKbTwIgKkJ:kassas.eng.uci.edu/papers/Kassas_The_first_carrier_phase_tracking_and_positioning_results_with_Starlink_LEO_satellite_Signals.pdf\" rel=\"nofollow\" target=\"_blank\">доступна</a> на сайте Калифорнийского университета в Ирвайне.</p>,\n",
       " <p>GPS, ГЛОНАСС и другие глобальные спутниковые навигационные системы работают следующим образом. Находясь на орбите, спутники транслируют сигнал, содержащий в себе данные о времени его испускания. Получив этот сигнал, приемник может сравнить его с собственным временем и по скорости распространения радиоволн рассчитать расстояние до спутника. А получив сигналы от хотя бы трех спутников, он может рассчитать свое местоположение. Спутники GPS и ГЛОНАСС находятся на высоте 19-20 тысяч километров, поэтому сигнал доходит с не очень высокой мощностью и исследователи уже довольно давно изучают возможность использования низкоорбитальных аппаратов, расположенных намного ближе к Земле.</p>,\n",
       " <p>В последние годы толчок этому направлению дали новые большие группировки интернет-спутников, такие как Starlink, OneWeb и несколько планируемых, в том числе <a href=\"https://nplus1.ru/news/2019/04/05/amazon\" target=\"_blank\">Kuiper</a> от Amazon. Потенциально близкое расположение к поверхности Земли и мощный принимаемый сигнал могут повысить качество спутниковой навигации, но фактически существующие системы не «заточены» под такое использование, поэтому классический метод с приемом сигналов о времени с ними не работает. Ранее исследователи предлагали альтернативные методы, для которых необязательно знать содержимое сигналов, но к Starlink их пока не применяли.<br/></p>,\n",
       " <p>Исследователи под руководством Захера Кассаса (Zaher Kassas) из Калифорнийского университета в Ирвайне научились рассчитывать местоположение по сигналам Starlink, не имея информации о его содержимом. Они обнаружили, что в сигнале спутников на частоте 11,325 гигагерц есть девять несущих пиков сигнала. Авторы решили рассчитывать местоположение с помощью отслеживания фазы несущей, метода, используемого для повышения точности GPS-измерений до десятков сантиметров. Они дополнили его адаптивным фильтром Калмана для подстройки частоты из-за допплеровского смещения сигнала от спутников.</p>,\n",
       " <p></p>,\n",
       " <p class=\"title\">Сигнал Starlink в Ku-диапазоне</p>,\n",
       " <p class=\"credits\">Joe Khalife et al. / IEEE Transactions on Aerospace and Electronic Systems, 2021</p>,\n",
       " <p></p>,\n",
       " <p class=\"title\">Пролеты спутников и ошибки в определении координат</p>,\n",
       " <p class=\"credits\">Joe Khalife et al. / IEEE Transactions on Aerospace and Electronic Systems, 2021</p>,\n",
       " <p>Одна из проблем использования GPS и его аналогов в больших городах заключается в том, что сигнал отражается от зданий, поэтому расчеты происходят с ошибками. В прошлом году Google <a href=\"https://nplus1.ru/news/2020/12/08/3d-aided-gps\" target=\"_blank\">начала</a> добавлять в Android модели зданий в некоторых городах, чтобы учитывать их при расчете координат.<br/></p>,\n",
       " <p><i>Григорий Копиев</i><br/></p>,\n",
       " <p>Нашли опечатку? Выделите фрагмент и нажмите Ctrl+Enter.</p>,\n",
       " <p class=\"subtitle\">Что мы узнали о вредных привычках благодаря животным</p>,\n",
       " <p>Коэффициент сложности</p>,\n",
       " <p>Коэффициент сложности</p>,\n",
       " <p>Коэффициент сложности</p>,\n",
       " <p>Коэффициент сложности</p>,\n",
       " <p>Коэффициент сложности</p>,\n",
       " <p>Коэффициент сложности</p>,\n",
       " <p>Коэффициент сложности</p>,\n",
       " <p>Коэффициент сложности</p>,\n",
       " <p>Коэффициент сложности</p>,\n",
       " <p>Коэффициент сложности</p>,\n",
       " <p>© 2021 <i>N + 1</i> Интернет-издание   Свидетельство о регистрации СМИ Эл № ФС77-67614</p>,\n",
       " <p>Использование всех текстовых материалов без изменений в некоммерческих целях разрешается со ссылкой на <i>N + 1</i>. \n",
       "                         Все аудиовизуальные произведения являются собственностью своих авторов и правообладателей и используются \n",
       "                         только в образовательных и информационных целях. Если вы являетесь собственником того или иного произведения \n",
       "                         и не согласны с его размещением на нашем сайте, пожалуйста, напишите на kirill@nplus1.ru</p>,\n",
       " <p>Материалы, опубликованные в разделе «Блоги», отражают позиции их авторов, которые могут не совпадать с мнением редакции.</p>,\n",
       " <p>Сайт может содержать контент, не предназначенный для лиц младше 18 лет.</p>,\n",
       " <p>\n",
       " <a class=\"pd\" href=\"https://nplus1.ru/personal-data-policy\">Политика обработки персональных данных пользователей сайта</a>\n",
       " </p>,\n",
       " <p>\n",
       " <script async=\"\" src=\"//s.luxupcdnc.com/t/consent_195458.js\" type=\"text/javascript\"></script>\n",
       " <a href=\"#\" onclick=\"if(window.__lxG__consent__ !== undefined) {window.__lxG__consent__.showConsent()} else {alert('This function works only for users from the European Economic Area (EEA).')}; return false\">Change privacy settings</a>\n",
       " </p>,\n",
       " <p>\n",
       " </p>]"
      ]
     },
     "execution_count": 60,
=======
=======
>>>>>>> Stashed changes
       " <a data-rubric=\"astronomy\" href=\"/rubric/astronomy\">Астрономия</a>\n",
       " </p>, <p class=\"table\">\n",
       " <a href=\"/news/2019/03/30\">\n",
       " <time content=\"2019-03-30\" data-unix=\"1553957085\" itemprop=\"datePublished\">\n",
       " <span>17:44</span>\n",
       " <span>30 Март 2019</span>\n",
       " </time>\n",
       " </a>\n",
       " </p>, <p class=\"table\">\n",
       " <a href=\"/difficult/2.3\">\n",
       " <span>Сложность</span>\n",
       " <span class=\"difficult-value\">2.3</span>\n",
       " </a>\n",
       " </p>, <p class=\"title\"></p>, <p class=\"credits\">NASA/Goddard/University of Arizona/Roman Tkachenko</p>, <p>Исследователи из команды миссии OSIRIS-REx создали стереопару, благодаря которой можно ощутить в объеме 52-метровую скалу на поверхности астероида Бенну. Подобные изображения помогут в выборе места для забора пробы грунта с астероида, <a href=\"https://www.asteroidmission.org/bennus-boulder-1-stereo-pair-stereoscope-version/\" rel=\"nofollow\" target=\"_blank\" title=\"Link: https://www.asteroidmission.org/bennus-boulder-1-stereo-pair-stereoscope-version/\">сообщается</a> на сайте миссии.</p>, <p>Старт автоматической межпланетной станции OSIRIS-REx <a href=\"https://nplus1.ru/news/2016/09/09/osiris-start\" target=\"_blank\">состоялся</a> в сентябре 2016 года. Главная цель миссии — изучение 500-метрового околоземного астероида <a href=\"https://ru.wikipedia.org/wiki/(101955)_%D0%91%D0%B5%D0%BD%D0%BD%D1%83\" rel=\"nofollow\" target=\"_blank\" title=\"Link: https://ru.wikipedia.org/wiki/(101955)_%D0%91%D0%B5%D0%BD%D0%BD%D1%83\">(101955) Бенну</a>, относящегося к спектральному <a href=\"https://ru.wikipedia.org/wiki/%D0%90%D1%81%D1%82%D0%B5%D1%80%D0%BE%D0%B8%D0%B4_%D0%BA%D0%BB%D0%B0%D1%81%D1%81%D0%B0_B\" rel=\"nofollow\" target=\"_blank\" title=\"Link: https://ru.wikipedia.org/wiki/%D0%90%D1%81%D1%82%D0%B5%D1%80%D0%BE%D0%B8%D0%B4_%D0%BA%D0%BB%D0%B0%D1%81%D1%81%D0%B0_B\">классу В</a>. Станция <a href=\"https://nplus1.ru/news/2018/12/03/arrival-to-bennu\" target=\"_blank\">достигла</a> своей цели 3 декабря 2018 года, после чего начала изучение состава грунта при помощи спектрометров. Ожидается, что в начале июля 2020 года станция сблизится с поверхностью астероида и при помощи специального манипулятора соберет с нее 60 граммов пыли и фрагментов породы. После этого в марте 2021 года космический аппарат отправится к Земле и сбросит капсулу с грунтом в сентябре 2023 года.</p>, <p>Фотографии валуна на астероиде, из которых было смонтирована стереопара, были получены 1 и 2 декабря 2018 года бортовой камерой PolyCam во время фазы финального сближения OSIRIS-Rex с астероидом. Размер скалы — 52 метра, а находится она в южном полушарии астероида. Скала уходит вглубь поверхности и может быть выступающей частью одного из фрагментов родительского тела астероида. </p>, <p>Примечательно, что в работе принял участие Брайан Мэй — гитарист рок-группы Queen и астрофизик, который в январе официально вошел в состав команды миссии и будет в дальнейшем создавать подобные изображения для помощи в выборе места забора пробы грунта с Бенну. Вторым ученым, работающим над проектом, стала астрофизик Клаудия Манцони (Claudia Manzoni).</p>, <p></p>, <p class=\"title\"></p>, <p class=\"credits\">NASA/Goddard/University of Arizona</p>, <p>Исследование астероида Бенну может дать важную информацию о формировании и эволюции Солнечной системы, включая и ответ на вопрос о том, какие малые тела могут быть ответственны за поставку аминокислот и воды на молодую Землю. О том, что уже узнали ученые об астероиде, читайте в нашем специальном материале <a href=\"https://nplus1.ru/material/2019/03/20/about-Bennu\" target=\"_blank\" title=\"Link: https://nplus1.ru/material/2019/03/20/about-Bennu\">«Небесное тело алмазной формы»</a>.</p>, <p><i>Александр Войтюк</i></p>, <p><br/></p>, <p>Нашли опечатку? Выделите фрагмент и нажмите Ctrl+Enter.</p>, <p class=\"subtitle\">Загляни в душу самому известному персонажу DC Comics</p>, <p>Коэффициент сложности</p>, <p>Коэффициент сложности</p>, <p>Коэффициент сложности</p>, <p>Коэффициент сложности</p>, <p>Коэффициент сложности</p>, <p>Коэффициент сложности</p>, <p>Коэффициент сложности</p>, <p>Коэффициент сложности</p>, <p>Коэффициент сложности</p>, <p>Коэффициент сложности</p>, <p>© 2019 N+1 Интернет-издание   Свидетельство о регистрации СМИ Эл № ФС77-67614</p>, <p>Использование всех текстовых материалов без изменений в некоммерческих целях разрешается со ссылкой на N+1. \n",
       "                         Все аудиовизуальные произведения являются собственностью своих авторов и правообладателей и используются \n",
       "                         только в образовательных и информационных целях. Если вы являетесь собственником того или иного произведения \n",
       "                         и не согласны с его размещением на нашем сайте, пожалуйста, напишите на kirill@nplus1.ru</p>, <p>Материалы, опубликованные в разделе «Блоги», отражают позиции их авторов, которые могут не совпадать с мнением редакции.</p>, <p>Сайт может содержать контент, не предназначенный для лиц младше 18 лет.</p>, <p>\n",
       " <a class=\"pd\" href=\"https://nplus1.ru/personal-data-policy\">Политика обработки персональных данных пользователей сайта</a>\n",
       " </p>, <p>\n",
       " <script async=\"\" src=\"//s.luxupcdnc.com/t/consent_195458.js\" type=\"text/javascript\"></script>\n",
       " <a href=\"#\" onclick=\"if(window.__lxG__consent__ !== undefined) {window.__lxG__consent__.showConsent()} else {alert('This function works only for users from the European Economic Area (EEA).')}; return false\">Change privacy settings</a>\n",
       " </p>, <p>\n",
       " </p>]"
      ]
     },
     "execution_count": 16,
<<<<<<< Updated upstream
>>>>>>> Stashed changes
=======
>>>>>>> Stashed changes
     "metadata": {},
     "output_type": "execute_result"
    }
   ],
   "source": [
    "soup0.find_all('p')"
   ]
  },
  {
   "cell_type": "markdown",
   "metadata": {},
   "source": [
    "Выберем из полученного списка первый элемент и найдем в нем все тэги `<a>`:"
   ]
  },
  {
   "cell_type": "code",
<<<<<<< Updated upstream
<<<<<<< Updated upstream
   "execution_count": 61,
=======
   "execution_count": 17,
>>>>>>> Stashed changes
=======
   "execution_count": 17,
>>>>>>> Stashed changes
   "metadata": {},
   "outputs": [
    {
     "data": {
      "text/plain": [
<<<<<<< Updated upstream
<<<<<<< Updated upstream
       "[<a data-rubric=\"cosmonautics\" href=\"/rubric/cosmonautics\">Космонавтика</a>,\n",
       " <a data-rubric=\"communications\" href=\"/rubric/communications\">Связь</a>]"
      ]
     },
     "execution_count": 61,
=======
=======
>>>>>>> Stashed changes
       "[<a data-rubric=\"astronomy\" href=\"/rubric/astronomy\">Астрономия</a>]"
      ]
     },
     "execution_count": 17,
<<<<<<< Updated upstream
>>>>>>> Stashed changes
=======
>>>>>>> Stashed changes
     "metadata": {},
     "output_type": "execute_result"
    }
   ],
   "source": [
    "soup0.find_all('p')[0].find_all('a')"
   ]
  },
  {
   "cell_type": "markdown",
   "metadata": {},
   "source": [
    "Получился список из одного элемента. Применим списковые включения – вытащим из каждого элемента (их могло бы быть больше) текст и поместим его в новый список `rubrics`."
   ]
  },
  {
   "cell_type": "code",
<<<<<<< Updated upstream
<<<<<<< Updated upstream
   "execution_count": 62,
=======
   "execution_count": 18,
>>>>>>> Stashed changes
=======
   "execution_count": 18,
>>>>>>> Stashed changes
   "metadata": {},
   "outputs": [
    {
     "data": {
      "text/plain": [
<<<<<<< Updated upstream
<<<<<<< Updated upstream
       "['Космонавтика', 'Связь']"
      ]
     },
     "execution_count": 62,
=======
=======
>>>>>>> Stashed changes
       "['Астрономия']"
      ]
     },
     "execution_count": 18,
<<<<<<< Updated upstream
>>>>>>> Stashed changes
=======
>>>>>>> Stashed changes
     "metadata": {},
     "output_type": "execute_result"
    }
   ],
   "source": [
    "rubrics = [r.text for r in soup0.find_all('p')[0].find_all('a')]\n",
    "rubrics"
   ]
  },
  {
   "cell_type": "markdown",
   "metadata": {},
   "source": [
    "Осталась только сложность. Возьмем соответствующий кусок кода:"
   ]
  },
  {
   "cell_type": "code",
<<<<<<< Updated upstream
<<<<<<< Updated upstream
   "execution_count": 63,
=======
   "execution_count": 19,
>>>>>>> Stashed changes
=======
   "execution_count": 19,
>>>>>>> Stashed changes
   "metadata": {},
   "outputs": [
    {
     "data": {
      "text/plain": [
<<<<<<< Updated upstream
<<<<<<< Updated upstream
       "[<span class=\"difficult-value\">3.5</span>]"
      ]
     },
     "execution_count": 63,
=======
=======
>>>>>>> Stashed changes
       "[<span class=\"difficult-value\">2.3</span>]"
      ]
     },
     "execution_count": 19,
<<<<<<< Updated upstream
>>>>>>> Stashed changes
=======
>>>>>>> Stashed changes
     "metadata": {},
     "output_type": "execute_result"
    }
   ],
   "source": [
    "soup0.find_all('span', {'class' : 'difficult-value'})"
   ]
  },
  {
   "cell_type": "markdown",
   "metadata": {},
   "source": [
    "И выберем оттуда текст."
   ]
  },
  {
   "cell_type": "code",
<<<<<<< Updated upstream
<<<<<<< Updated upstream
   "execution_count": 64,
=======
   "execution_count": 20,
>>>>>>> Stashed changes
=======
   "execution_count": 20,
>>>>>>> Stashed changes
   "metadata": {},
   "outputs": [
    {
     "data": {
      "text/plain": [
<<<<<<< Updated upstream
<<<<<<< Updated upstream
       "'3.5'"
      ]
     },
     "execution_count": 64,
=======
=======
>>>>>>> Stashed changes
       "'2.3'"
      ]
     },
     "execution_count": 20,
<<<<<<< Updated upstream
>>>>>>> Stashed changes
=======
>>>>>>> Stashed changes
     "metadata": {},
     "output_type": "execute_result"
    }
   ],
   "source": [
    "diff = soup0.find_all('span', {'class' : 'difficult-value'})[0].text\n",
    "diff"
   ]
  },
  {
   "cell_type": "markdown",
   "metadata": {},
   "source": [
    "Теперь перейдем к тексту самой новости. Как можно заметить, текст сохранен в абзацах `<p></p>`, причем безо всяких атрибутов. Сообщим Python, что нас интересуют куски с пустым атрибутом `class`:"
   ]
  },
  {
   "cell_type": "code",
<<<<<<< Updated upstream
<<<<<<< Updated upstream
   "execution_count": 65,
=======
   "execution_count": 21,
>>>>>>> Stashed changes
=======
   "execution_count": 21,
>>>>>>> Stashed changes
   "metadata": {},
   "outputs": [],
   "source": [
    "text_list = soup0.find_all('p', {'class' : None})"
   ]
  },
  {
   "cell_type": "markdown",
   "metadata": {},
   "source": [
    "«Выцепим» все тексты (без тэгов) из полученного списка:"
   ]
  },
  {
   "cell_type": "code",
<<<<<<< Updated upstream
<<<<<<< Updated upstream
   "execution_count": 66,
=======
   "execution_count": 22,
>>>>>>> Stashed changes
=======
   "execution_count": 22,
>>>>>>> Stashed changes
   "metadata": {},
   "outputs": [],
   "source": [
    "text = [t.text for t in text_list]"
   ]
  },
  {
   "cell_type": "markdown",
   "metadata": {},
   "source": [
    "Склеим все элементы списка `text` через пробел:"
   ]
  },
  {
   "cell_type": "code",
<<<<<<< Updated upstream
<<<<<<< Updated upstream
   "execution_count": 70,
=======
   "execution_count": 23,
>>>>>>> Stashed changes
=======
   "execution_count": 23,
>>>>>>> Stashed changes
   "metadata": {},
   "outputs": [
    {
     "data": {
      "text/plain": [
<<<<<<< Updated upstream
<<<<<<< Updated upstream
       "'Американские инженеры показали, что сигналы интернет-спутников Starlink можно использовать для геолокации с\\xa0помощью любительского радиооборудования. Записав сигналы шести пролетающих спутников, они рассчитали местоположение в\\xa0пространстве с\\xa0ошибкой в\\xa033,5\\xa0метра, а\\xa0при использовании высотомера и\\xa0позиционировании на\\xa0плоскости ошибка уменьшилась до\\xa07,7\\xa0метра. Статья опубликована в\\xa0IEEE Transactions on\\xa0Aerospace and Electronic Systems, а\\xa0также доступна на\\xa0сайте Калифорнийского университета в\\xa0Ирвайне. GPS, ГЛОНАСС и\\xa0другие глобальные спутниковые навигационные системы работают следующим образом. Находясь на\\xa0орбите, спутники транслируют сигнал, содержащий в\\xa0себе данные о\\xa0времени его испускания. Получив этот сигнал, приемник может сравнить его с\\xa0собственным временем и\\xa0по\\xa0скорости распространения радиоволн рассчитать расстояние до\\xa0спутника. А\\xa0получив сигналы от\\xa0хотя\\xa0бы трех спутников, он\\xa0может рассчитать свое местоположение. Спутники GPS и\\xa0ГЛОНАСС находятся на\\xa0высоте 19-20 тысяч километров, поэтому сигнал доходит с\\xa0не\\xa0очень высокой мощностью и\\xa0исследователи уже довольно давно изучают возможность использования низкоорбитальных аппаратов, расположенных намного ближе к\\xa0Земле. В\\xa0последние годы толчок этому направлению дали новые большие группировки интернет-спутников, такие как Starlink, OneWeb и\\xa0несколько планируемых, в\\xa0том числе Kuiper от\\xa0Amazon. Потенциально близкое расположение к\\xa0поверхности Земли и\\xa0мощный принимаемый сигнал могут повысить качество спутниковой навигации, но\\xa0фактически существующие системы не\\xa0«заточены» под такое использование, поэтому классический метод с\\xa0приемом сигналов о\\xa0времени с\\xa0ними не\\xa0работает. Ранее исследователи предлагали альтернативные методы, для которых необязательно знать содержимое сигналов, но\\xa0к\\xa0Starlink их\\xa0пока не\\xa0применяли. Исследователи под руководством Захера Кассаса (Zaher Kassas) из\\xa0Калифорнийского университета в\\xa0Ирвайне научились рассчитывать местоположение по\\xa0сигналам Starlink, не\\xa0имея информации о\\xa0его содержимом. Они обнаружили, что в\\xa0сигнале спутников на\\xa0частоте 11,325 гигагерц есть девять несущих пиков сигнала. Авторы решили рассчитывать местоположение с\\xa0помощью отслеживания фазы несущей, метода, используемого для повышения точности GPS-измерений до\\xa0десятков сантиметров. Они дополнили его адаптивным фильтром Калмана для подстройки частоты из-за допплеровского смещения сигнала от\\xa0спутников.   Одна из\\xa0проблем использования GPS и\\xa0его аналогов в\\xa0больших городах заключается в\\xa0том, что сигнал отражается от\\xa0зданий, поэтому расчеты происходят с\\xa0ошибками. В\\xa0прошлом году Google начала добавлять в\\xa0Android модели зданий в\\xa0некоторых городах, чтобы учитывать их\\xa0при расчете координат. Григорий Копиев Нашли опечатку? Выделите фрагмент и нажмите Ctrl+Enter. Коэффициент сложности Коэффициент сложности Коэффициент сложности Коэффициент сложности Коэффициент сложности Коэффициент сложности Коэффициент сложности Коэффициент сложности Коэффициент сложности Коэффициент сложности © 2021 N\\xa0+\\xa01 Интернет-издание \\xa0 Свидетельство о регистрации СМИ Эл № ФС77-67614 Использование всех текстовых материалов без изменений в некоммерческих целях разрешается со ссылкой на N\\xa0+\\xa01. \\n                        Все аудиовизуальные произведения являются собственностью своих авторов и правообладателей и используются \\n                        только в образовательных и информационных целях. Если вы являетесь собственником того или иного произведения \\n                        и не согласны с его размещением на нашем сайте, пожалуйста, напишите на kirill@nplus1.ru Материалы, опубликованные в разделе «Блоги», отражают позиции их авторов, которые могут не совпадать с мнением редакции. Сайт может содержать контент, не предназначенный для лиц младше 18 лет. \\nПолитика обработки персональных данных пользователей сайта\\n \\n\\nChange privacy settings\\n \\n'"
      ]
     },
     "execution_count": 70,
=======
=======
>>>>>>> Stashed changes
       "'Исследователи из команды миссии OSIRIS-REx создали стереопару, благодаря которой можно ощутить в объеме 52-метровую скалу на поверхности астероида Бенну. Подобные изображения помогут в выборе места для забора пробы грунта с астероида, сообщается\\xa0на сайте миссии. Старт автоматической межпланетной станции OSIRIS-REx состоялся в сентябре 2016 года. Главная цель миссии — изучение 500-метрового околоземного астероида\\xa0(101955) Бенну, относящегося к спектральному классу В. Станция достигла своей цели 3 декабря 2018 года, после чего начала изучение состава грунта при помощи спектрометров. Ожидается, что в начале июля 2020 года станция сблизится с поверхностью астероида и при помощи специального манипулятора соберет с нее 60 граммов пыли и фрагментов породы. После этого в марте 2021 года космический аппарат отправится к Земле и сбросит капсулу с грунтом в сентябре 2023 года. Фотографии валуна на астероиде, из которых было смонтирована стереопара, были получены 1 и 2 декабря 2018 года бортовой камерой PolyCam во время фазы финального сближения OSIRIS-Rex с астероидом. Размер скалы — 52 метра, а находится она в южном полушарии астероида. Скала уходит вглубь поверхности и может быть выступающей частью одного из фрагментов родительского тела астероида.\\xa0 Примечательно, что в работе принял участие Брайан Мэй — гитарист рок-группы Queen и астрофизик, который в январе официально вошел в состав команды миссии и будет в дальнейшем создавать подобные изображения для помощи в выборе места забора пробы грунта с Бенну. Вторым ученым, работающим над проектом, стала астрофизик Клаудия Манцони (Claudia Manzoni).  Исследование астероида Бенну может дать важную информацию о формировании и эволюции Солнечной системы, включая и ответ на вопрос о том, какие малые тела могут быть ответственны за поставку аминокислот и воды на молодую Землю. О том, что уже узнали ученые об астероиде, читайте в нашем специальном материале «Небесное тело алмазной формы». Александр Войтюк  Нашли опечатку? Выделите фрагмент и нажмите Ctrl+Enter. Коэффициент сложности Коэффициент сложности Коэффициент сложности Коэффициент сложности Коэффициент сложности Коэффициент сложности Коэффициент сложности Коэффициент сложности Коэффициент сложности Коэффициент сложности © 2019 N+1 Интернет-издание \\xa0 Свидетельство о регистрации СМИ Эл № ФС77-67614 Использование всех текстовых материалов без изменений в некоммерческих целях разрешается со ссылкой на N+1. \\n                        Все аудиовизуальные произведения являются собственностью своих авторов и правообладателей и используются \\n                        только в образовательных и информационных целях. Если вы являетесь собственником того или иного произведения \\n                        и не согласны с его размещением на нашем сайте, пожалуйста, напишите на kirill@nplus1.ru Материалы, опубликованные в разделе «Блоги», отражают позиции их авторов, которые могут не совпадать с мнением редакции. Сайт может содержать контент, не предназначенный для лиц младше 18 лет. \\nПолитика обработки персональных данных пользователей сайта\\n \\n\\nChange privacy settings\\n \\n'"
      ]
     },
     "execution_count": 23,
<<<<<<< Updated upstream
>>>>>>> Stashed changes
=======
>>>>>>> Stashed changes
     "metadata": {},
     "output_type": "execute_result"
    }
   ],
   "source": [
    "final_text = ' '.join(text)\n",
    "final_text"
   ]
  },
  {
   "cell_type": "markdown",
   "metadata": {},
   "source": [
    "Все здорово, только мешают отступы-переходы на новую строку `\\n`. Заменим их на пробелы с помощью метода `.replace`:"
   ]
  },
  {
   "cell_type": "code",
<<<<<<< Updated upstream
<<<<<<< Updated upstream
   "execution_count": 71,
=======
   "execution_count": 24,
>>>>>>> Stashed changes
=======
   "execution_count": 24,
>>>>>>> Stashed changes
   "metadata": {},
   "outputs": [],
   "source": [
    "final_text = final_text.replace('\\n', ' ')"
   ]
  },
  {
   "cell_type": "markdown",
   "metadata": {},
   "source": [
    "Не прошло и двух пар, как мы разобрались со всем :) Теперь осталось совсем чуть-чуть. Написать готовую функцию для всех проделанных нами действий и применить ее в цикле для всех ссылок в списке `full_urls`. Напишем! Аргументом функции будет ссылка на новость, а возвращать она будет текст новости и всю необходимую информацию (дата, автор, сложность и проч.). Скопируем все строки кода выше."
   ]
  },
  {
   "cell_type": "code",
<<<<<<< Updated upstream
<<<<<<< Updated upstream
   "execution_count": 72,
=======
   "execution_count": 25,
>>>>>>> Stashed changes
=======
   "execution_count": 25,
>>>>>>> Stashed changes
   "metadata": {},
   "outputs": [],
   "source": [
    "def GetNews(url0):\n",
    "    \"\"\"\n",
    "    Returns a tuple with url0, date, author, description, title, final_text, rubrics, diff.\n",
    "    Parameters:\n",
    "    \n",
    "    url0 is a link to the news (string)\n",
    "    \"\"\"\n",
    "    page0 = requests.get(url0)\n",
    "    soup0 = BeautifulSoup(page0.text, 'lxml')\n",
    "    author = soup0.find_all('meta', {'name' : 'author'})[0].attrs['content']\n",
    "    date = soup0.find_all('meta', {'itemprop' : 'datePublished'})[0].attrs['content']\n",
    "    title = soup0.find_all('meta', {'property' : 'og:title'})[0].attrs['content']\n",
    "    description = soup0.find_all('meta', {'name' : 'description'})[0].attrs['content']\n",
    "    rubrics = [r.text for r in soup0.find_all('p')[0].find_all('a')]\n",
    "    diff = soup0.find_all('span', {'class' : 'difficult-value'})[0].text\n",
    "    text_list = soup0.find_all('p', {'class' : None})\n",
    "    text = [t.text for t in text_list]\n",
    "    final_text = ' '.join(text)\n",
    "    final_text = final_text.replace('\\n', ' ')\n",
    "    \n",
    "    return url0, date, author, description, title, final_text, rubrics, diff"
   ]
  },
  {
   "cell_type": "markdown",
   "metadata": {},
   "source": [
    "Уфф. Осталось применить ее в цикле. Но давайте не будем спешить: импортируем функцию `sleep` для задержки, чтобы на каждой итерации цикла, прежде чем перейти к следующей новости, Python ждал несколько секунд. Во-первых, это нужно, чтобы сайт «не понял», чтобы мы его грабим, да еще автоматически. Во-вторых, с небольшой задержкой всегда есть гарантия, что страница прогрузится (сейчас это пока не очень важно, но особенно актуально будет, когда будем обсуждать встраивание в браузер с Selenium). Приступим."
   ]
  },
  {
   "cell_type": "code",
<<<<<<< Updated upstream
<<<<<<< Updated upstream
   "execution_count": 73,
=======
   "execution_count": 26,
>>>>>>> Stashed changes
=======
   "execution_count": 26,
>>>>>>> Stashed changes
   "metadata": {},
   "outputs": [],
   "source": [
    "from time import sleep"
   ]
  },
  {
   "cell_type": "code",
<<<<<<< Updated upstream
<<<<<<< Updated upstream
   "execution_count": 74,
=======
   "execution_count": 27,
>>>>>>> Stashed changes
=======
   "execution_count": 27,
>>>>>>> Stashed changes
   "metadata": {},
   "outputs": [],
   "source": [
    "news = [] # это будет список из кортежей, в которых будут храниться данные по каждой новости\n",
    "\n",
    "for link in full_urls:\n",
    "    res = GetNews(link)\n",
    "    news.append(res)\n",
    "    sleep(3) # задержка в 3 секунды"
   ]
  },
  {
   "cell_type": "markdown",
   "metadata": {},
   "source": [
    "Так теперь выглядит первый элемент списка:"
   ]
  },
  {
   "cell_type": "code",
<<<<<<< Updated upstream
<<<<<<< Updated upstream
   "execution_count": 75,
=======
   "execution_count": 28,
>>>>>>> Stashed changes
=======
   "execution_count": 28,
>>>>>>> Stashed changes
   "metadata": {},
   "outputs": [
    {
     "data": {
      "text/plain": [
<<<<<<< Updated upstream
<<<<<<< Updated upstream
       "('https://nplus1.ru/news/2021/09/28/desmodus-rotundus',\n",
       " '2021-09-28',\n",
       " 'Сергей Коленов',\n",
       " 'Ранее считалось, что дружеские связи этих рукокрылых проявляются лишь в местах отдыха.',\n",
       " 'Самки обыкновенных вампиров попили крови вместе с подругами и родственницами',\n",
       " 'Зоологи выяснили, что самки обыкновенных вампиров регулярно пьют кровь вместе с\\xa0подругами и\\xa0родственницами. Ранее считалось, что дружеские связи этих рукокрылых проявляются лишь внутри колоний, во\\xa0время отдыха. По\\xa0мнению авторов исследования, совместное кормление кровью одних и\\xa0тех\\xa0же жертв укрепляет связи между вампирами\\xa0— а\\xa0также позволяет сэкономить энергию, необходимую для прокусывания кожи, и\\xa0при необходимости дать отпор конкуренту из\\xa0чужой колонии. Результаты исследования опубликованы в\\xa0статье для журнала PloS Biology. Обыкновенные вампиры (Desmodus rotundus) давно стали излюбленным объектом изучения зоологов. Дело в\\xa0том, что для отдыха в\\xa0светлое время суток самки этих летучих мышей собираются большими группами, члены которых делятся друг с\\xa0другом добытой кровью и\\xa0формируют крепкие дружеские связи. Ученые надеются, что, наблюдая за\\xa0вампирами, они смогут больше узнать об\\xa0эволюции социальности, в\\xa0том числе у\\xa0людей. Команда специалистов под руководством Джеральда Картера (Gerald Carter) из\\xa0Университета штата Огайо и\\xa0Смитсоновского института тропических исследований изучает социальное поведение обыкновенных вампиров уже много лет. За\\xa0это время исследователям удалось, например, выяснить, что в\\xa0сообществах вампиров-самок отсутствует строгая иерархия, а\\xa0подруги заботятся о\\xa0детенышах друг друга. Кроме того, заболевшие особи поддерживают социальное дистанцирование. Картер и\\xa0его соавтор Саймон Риппергер (Simon P. Ripperger) обратили внимание, что большинство работ о\\xa0социальности вампиров посвящены тому, как эти рукокрылые ведут себя внутри колоний, где проводят светлое время суток. О\\xa0взаимоотношениях вампиров за\\xa0пределами мест отдыха известно намного меньше. Лишь в\\xa0некоторых публикациях есть упоминания о\\xa0том, что самки вампиров, связанные дружескими отношениями, вместе отправляют за\\xa0пищей, во\\xa0время ее\\xa0поиска держатся небольшими компаниями от\\xa0двух до\\xa0шести особей и\\xa0даже сосут кровь одних и\\xa0тех\\xa0же животных.  В\\xa0попытке выяснить, действительно\\xa0ли обыкновенные вампиры ищут еду и\\xa0кормятся вместе с\\xa0друзьями, Картер и\\xa0Риппергер пометили датчиками сближения 50\\xa0самок вампиров из\\xa0округа Толе в\\xa0Панаме.\\xa027\\xa0из\\xa0них поймали в\\xa0дикой природе и\\xa0сразу\\xa0же выпустили, оснастив меткой. Еще 23\\xa0самки перед выпуском провели 21\\xa0месяц в\\xa0лаборатории или родились в\\xa0неволе. Благодаря датчикам ученые получили возможность отслеживать встречи вампиров как на\\xa0месте отдыха, так и\\xa0во\\xa0время кормления. Чтобы облегчить наблюдение за\\xa0вампирами, их\\xa0снабдили стабильным источником питания. В\\xa0течение пяти ночей в\\xa0сентябре 2017 года зоологи сгоняли стадо из\\xa0примерно ста коров в\\xa0загон, расположенный в\\xa0300 метрах от\\xa0дерева, в\\xa0дупле которого в\\xa0светлое время суток держалась интересовавшая их\\xa0колония из\\xa0200-250\\xa0вампиров. На\\xa0протяжении еще четырех ночей в\\xa0течение периода исследования скот пасся свободно. Как выяснили Картер и\\xa0Риппергер, обыкновенные вампиры почти никогда не\\xa0вылетают с\\xa0места отдыха одновременно с\\xa0друзьями или другими сородичами. Однако порой они воссоединяются друг с\\xa0другом за\\xa0пределами колонии, когда кормятся на\\xa0одном и\\xa0том\\xa0же животном. В\\xa0общей сложности авторы зафксировали 586 таких встреч, которые в\\xa0среднем длились около секунды\\xa0— намного меньше, чем взаимодействия во\\xa0время отдыха. Ни\\xa0одна из\\xa0встреч во\\xa0время кормления не\\xa0заняла более получаса. Во\\xa0взаимодействиях вне колонии поучаствовала 151 пара самок. Члены 45\\xa0таких пар встречались друг с\\xa0другом больше одного раза. Исследователи выявили положительную корреляцию между степенью родства и\\xa0вероятностью, что две особи столкнутся во\\xa0время кормления (p<0,0001). Кроме того, они выяснили, что близкие родственники, встретившиеся вне колонии, проводят рядом особенно много времени (в\\xa0среднем девять секунд против одной секунды для самок, не\\xa0связанных родством). Дружеские отношения между вампирами также повышают вероятность совместного кормления. Самки, склонные проводить больше времени друг с\\xa0другом во\\xa0время отдыха, чаще встречаются вне колонии и\\xa0дольше держатся рядом. А\\xa0самые общительные особи, которые поддерживают контакт со\\xa0значительным количеством сородичей на\\xa0месте отдыха, также чаще встречаются с\\xa0ними за\\xa0пределами колонии. Особое внимание Картер и\\xa0Риппергер уделили самкам вампиров, которые перед выпуском около двух лет прожили в\\xa0неволе. Оказалось, что наличие дружеских связей, сформировавшихся в\\xa0лаборатории, положительно коррелирует с\\xa0вероятностью совместного кормления. При этом в\\xa0неволе, где вампиров кормят кровью из\\xa0фонтанчика, они не\\xa0демонстрируют склонности кормиться вместе с\\xa0друзьями. Во\\xa0время работ в\\xa0округе Толе исследователи лишь дважды собственными глазами видели кормление пары летучих мышей на\\xa0одной корове. Чтобы непосредственно понаблюдать за\\xa0этим процессом, авторы вооружились инфракрасными камерами и\\xa0отправились на\\xa0ферму в\\xa0округе Ла\\xa0Чоррера. В\\xa0результате они смогли запечатлеть 14\\xa0случаев совместного кормления вампиров. В\\xa0некоторых случаях рукокрылые вели себя дружелюбно, но\\xa0иногда вступали в\\xa0конфликт, причем более ожесточенный, чем можно наблюдать во\\xa0время кормления в\\xa0неволе (вероятно, это были представители разных колоний, не\\xa0связанные родственными и\\xa0дружескими узами).  Ученым также удалось записать ультразвуковые сигналы, которые вампиры издавали при кормлении. Два типа криков уже были знакомы специалистам: нисходящий сигнал, который эти летучие мыши производят в\\xa0колониях, а\\xa0также жужжание, сопровождающее конфликты особей. Однако помимо них исследователи также выявили еще один, неизвестный ранее сигнал, который на\\xa0спектрограмме напоминает английскую букву «n». Его издавали вампиры, встретившиеся на\\xa0одной корове. Картер и\\xa0Риппергер не\\xa0обнаружили подтверждений, что вампиры из\\xa0одной колонии вместе ищут жертв. Тем не\\xa0менее эти рукокрылые регулярно встречаются во\\xa0время кормления, причем предпочитают питаться вместе с\\xa0друзьями и\\xa0родственниками (представители многих других видов животных, от птиц до дельфинов и приматов, также предпочитают кормиться вместе с друзьями). Поскольку прокусить кожу коровы довольно трудно, одна особь в\\xa0паре может пить кровь из\\xa0отверстия, которое уже проделала ее\\xa0подруга. Это менее затратный способ поделиться едой, чем срыгнуть проглоченную кровь товарищу, оставшемуся в\\xa0колонии. Также пара самок-подруг с\\xa0большей вероятностью даст отпор конкурентам из\\xa0других колоний, чем одиночная особь. Авторы предполагают, что совместное кормление укрепляет дружеские связи между самками вампиров\\xa0— а в\\xa0некоторых случаях дает им\\xa0начало. Например, если две особи предпочитают определенный вид добычи, они с\\xa0высокой вероятностью встретятся на\\xa0одной и\\xa0той\\xa0же жертве, после чего их\\xa0дружба продолжит развиваться на\\xa0месте отдыха. С\\xa0другой стороны, если две самки подружились внутри колонии, они, скорее всего, предпочтут пить кровь одних и\\xa0тех\\xa0же животных. В\\xa0последние годы зоологи получают все больше данных о\\xa0дружбе между дикими животными. Среди видов, которые заводят друзей на\\xa0долгие годы, такие разные существа, как темноперые серые акулы (Carcharhinus amblyrhynchos), жирафы (Giraffa camelopardalis) и\\xa0четыре вида фламинго.\\xa0 Сергей Коленов Нашли опечатку? Выделите фрагмент и нажмите Ctrl+Enter. Коэффициент сложности Коэффициент сложности Коэффициент сложности Коэффициент сложности Коэффициент сложности Коэффициент сложности Коэффициент сложности Коэффициент сложности Коэффициент сложности Коэффициент сложности © 2021 N\\xa0+\\xa01 Интернет-издание \\xa0 Свидетельство о регистрации СМИ Эл № ФС77-67614 Использование всех текстовых материалов без изменений в некоммерческих целях разрешается со ссылкой на N\\xa0+\\xa01.                          Все аудиовизуальные произведения являются собственностью своих авторов и правообладателей и используются                          только в образовательных и информационных целях. Если вы являетесь собственником того или иного произведения                          и не согласны с его размещением на нашем сайте, пожалуйста, напишите на kirill@nplus1.ru Материалы, опубликованные в разделе «Блоги», отражают позиции их авторов, которые могут не совпадать с мнением редакции. Сайт может содержать контент, не предназначенный для лиц младше 18 лет.  Политика обработки персональных данных пользователей сайта    Change privacy settings   ',\n",
       " ['Зоология'],\n",
       " '4.1')"
      ]
     },
     "execution_count": 75,
=======
=======
>>>>>>> Stashed changes
       "('https://nplus1.ru/news/2019/03/31/first',\n",
       " '2019-03-31',\n",
       " 'Илья Ферапонтов',\n",
       " 'Он должен заменить легкий транспортник Ан-26',\n",
       " 'Транспортный самолет Ил-112В совершил первый полет',\n",
       " 'Российский военно-транспортный самолет Ил-112В совершил первый полет, сообщает Авиационный комплекс имени Ильюшина. Испытания прошли на\\xa0аэродроме воронежского авиазавода ПАО «ВАСО», командиром экипажа был шеф-пилот ПАО «Ил» Герой России Николай Куимов. Первый полет стал завершением цикла аэродромной отработки, в\\xa0ходе которой были проведены испытания всех систем, в\\xa0том числе пробежки по\\xa0аэродрому. Полет прошел в\\xa0штатном режиме. В\\xa0воздухе Ил-112В сопровождал самолет-лаборатория Ил-114ЛЛ. Ил-112В в\\xa0перспективе должен заменить легкий транспортник Ан-26. Он\\xa0будет использоваться для перевозки и\\xa0десантирования легкой техники, грузов и\\xa0бойцов, его грузоподъемность\\xa0— около пяти тонн. Самолет сможет развивать скорость до\\xa0550 километров в\\xa0час и\\xa0совершать полеты на\\xa0расстояние до\\xa03,4 тысячи километров, а\\xa0при взлете с\\xa0грунтовых аэродромов и\\xa0максимальной загрузкой\\xa0— до 1,2 тысячи километров. Транспортник сможет взлетать с\\xa0взлетно-посадочных полос длиной не\\xa0более 900\\xa0метров. Пробег Ил-112В при посадке составит около 600\\xa0метров. Ранее Министерство обороны России объявляло о\\xa0намерении приобрести 62\\xa0самолета этого типа до\\xa02020\\xa0года, однако в августе 2018 года появилась информация о планах заказать не менее 100 машин. Сергей Кузнецов Нашли опечатку? Выделите фрагмент и нажмите Ctrl+Enter. Коэффициент сложности Коэффициент сложности Коэффициент сложности Коэффициент сложности Коэффициент сложности Коэффициент сложности Коэффициент сложности Коэффициент сложности Коэффициент сложности Коэффициент сложности © 2019 N+1 Интернет-издание \\xa0 Свидетельство о регистрации СМИ Эл № ФС77-67614 Использование всех текстовых материалов без изменений в некоммерческих целях разрешается со ссылкой на N+1.                          Все аудиовизуальные произведения являются собственностью своих авторов и правообладателей и используются                          только в образовательных и информационных целях. Если вы являетесь собственником того или иного произведения                          и не согласны с его размещением на нашем сайте, пожалуйста, напишите на kirill@nplus1.ru Материалы, опубликованные в разделе «Блоги», отражают позиции их авторов, которые могут не совпадать с мнением редакции. Сайт может содержать контент, не предназначенный для лиц младше 18 лет.  Политика обработки персональных данных пользователей сайта    Change privacy settings   ',\n",
       " ['Авиация'],\n",
       " '1.2')"
      ]
     },
     "execution_count": 28,
<<<<<<< Updated upstream
>>>>>>> Stashed changes
=======
>>>>>>> Stashed changes
     "metadata": {},
     "output_type": "execute_result"
    }
   ],
   "source": [
    "news[0]"
   ]
  },
  {
   "cell_type": "markdown",
   "metadata": {},
   "source": [
    "Импортируем `pandas` и создадим датафрейм из списка кортежей: "
   ]
  },
  {
   "cell_type": "code",
<<<<<<< Updated upstream
<<<<<<< Updated upstream
   "execution_count": 76,
=======
   "execution_count": 29,
>>>>>>> Stashed changes
=======
   "execution_count": 29,
>>>>>>> Stashed changes
   "metadata": {},
   "outputs": [],
   "source": [
    "import pandas as pd"
   ]
  },
  {
   "cell_type": "code",
<<<<<<< Updated upstream
<<<<<<< Updated upstream
   "execution_count": 77,
=======
   "execution_count": 30,
>>>>>>> Stashed changes
=======
   "execution_count": 30,
>>>>>>> Stashed changes
   "metadata": {},
   "outputs": [],
   "source": [
    "df = pd.DataFrame(news)"
   ]
  },
  {
   "cell_type": "code",
<<<<<<< Updated upstream
<<<<<<< Updated upstream
   "execution_count": 78,
=======
   "execution_count": 31,
>>>>>>> Stashed changes
=======
   "execution_count": 31,
>>>>>>> Stashed changes
   "metadata": {},
   "outputs": [
    {
     "data": {
      "text/html": [
       "<div>\n",
       "<style scoped>\n",
       "    .dataframe tbody tr th:only-of-type {\n",
       "        vertical-align: middle;\n",
       "    }\n",
       "\n",
       "    .dataframe tbody tr th {\n",
       "        vertical-align: top;\n",
       "    }\n",
       "\n",
       "    .dataframe thead th {\n",
       "        text-align: right;\n",
       "    }\n",
       "</style>\n",
       "<table border=\"1\" class=\"dataframe\">\n",
       "  <thead>\n",
       "    <tr style=\"text-align: right;\">\n",
       "      <th></th>\n",
       "      <th>0</th>\n",
       "      <th>1</th>\n",
       "      <th>2</th>\n",
       "      <th>3</th>\n",
       "      <th>4</th>\n",
       "      <th>5</th>\n",
       "      <th>6</th>\n",
       "      <th>7</th>\n",
       "    </tr>\n",
       "  </thead>\n",
       "  <tbody>\n",
       "    <tr>\n",
       "      <th>0</th>\n",
<<<<<<< Updated upstream
<<<<<<< Updated upstream
       "      <td>https://nplus1.ru/news/2021/09/28/desmodus-rot...</td>\n",
       "      <td>2021-09-28</td>\n",
       "      <td>Сергей Коленов</td>\n",
       "      <td>Ранее считалось, что дружеские связи этих руко...</td>\n",
       "      <td>Самки обыкновенных вампиров попили крови вмест...</td>\n",
       "      <td>Зоологи выяснили, что самки обыкновенных вампи...</td>\n",
       "      <td>[Зоология]</td>\n",
       "      <td>4.1</td>\n",
       "    </tr>\n",
       "    <tr>\n",
       "      <th>1</th>\n",
       "      <td>https://nplus1.ru/news/2021/09/28/starlink-geo</td>\n",
       "      <td>2021-09-28</td>\n",
       "      <td>Григорий Копиев</td>\n",
       "      <td>При этом содержимое сигналов знать не нужно</td>\n",
       "      <td>Сигналы Starlink и высотомер использовали для ...</td>\n",
       "      <td>Американские инженеры показали, что сигналы ин...</td>\n",
       "      <td>[Космонавтика, Связь]</td>\n",
       "      <td>3.5</td>\n",
=======
=======
>>>>>>> Stashed changes
       "      <td>https://nplus1.ru/news/2019/03/31/first</td>\n",
       "      <td>2019-03-31</td>\n",
       "      <td>Илья Ферапонтов</td>\n",
       "      <td>Он должен заменить легкий транспортник Ан-26</td>\n",
       "      <td>Транспортный самолет Ил-112В совершил первый п...</td>\n",
       "      <td>Российский военно-транспортный самолет Ил-112В...</td>\n",
       "      <td>[Авиация]</td>\n",
       "      <td>1.2</td>\n",
       "    </tr>\n",
       "    <tr>\n",
       "      <th>1</th>\n",
       "      <td>https://nplus1.ru/news/2019/03/30/very-big-bou...</td>\n",
       "      <td>2019-03-30</td>\n",
       "      <td>Александр Войтюк</td>\n",
       "      <td>В создании стереопары принял участие астрофизи...</td>\n",
       "      <td>OSIRIS-REx показал 52-метровую скалу на поверх...</td>\n",
       "      <td>Исследователи из команды миссии OSIRIS-REx соз...</td>\n",
       "      <td>[Астрономия]</td>\n",
       "      <td>2.3</td>\n",
<<<<<<< Updated upstream
>>>>>>> Stashed changes
=======
>>>>>>> Stashed changes
       "    </tr>\n",
       "  </tbody>\n",
       "</table>\n",
       "</div>"
      ],
      "text/plain": [
       "                                                   0           1  \\\n",
<<<<<<< Updated upstream
<<<<<<< Updated upstream
       "0  https://nplus1.ru/news/2021/09/28/desmodus-rot...  2021-09-28   \n",
       "1     https://nplus1.ru/news/2021/09/28/starlink-geo  2021-09-28   \n",
       "\n",
       "                 2                                                  3  \\\n",
       "0   Сергей Коленов  Ранее считалось, что дружеские связи этих руко...   \n",
       "1  Григорий Копиев        При этом содержимое сигналов знать не нужно   \n",
       "\n",
       "                                                   4  \\\n",
       "0  Самки обыкновенных вампиров попили крови вмест...   \n",
       "1  Сигналы Starlink и высотомер использовали для ...   \n",
       "\n",
       "                                                   5                      6  \\\n",
       "0  Зоологи выяснили, что самки обыкновенных вампи...             [Зоология]   \n",
       "1  Американские инженеры показали, что сигналы ин...  [Космонавтика, Связь]   \n",
       "\n",
       "     7  \n",
       "0  4.1  \n",
       "1  3.5  "
      ]
     },
     "execution_count": 78,
=======
=======
>>>>>>> Stashed changes
       "0            https://nplus1.ru/news/2019/03/31/first  2019-03-31   \n",
       "1  https://nplus1.ru/news/2019/03/30/very-big-bou...  2019-03-30   \n",
       "\n",
       "                  2                                                  3  \\\n",
       "0   Илья Ферапонтов       Он должен заменить легкий транспортник Ан-26   \n",
       "1  Александр Войтюк  В создании стереопары принял участие астрофизи...   \n",
       "\n",
       "                                                   4  \\\n",
       "0  Транспортный самолет Ил-112В совершил первый п...   \n",
       "1  OSIRIS-REx показал 52-метровую скалу на поверх...   \n",
       "\n",
       "                                                   5             6    7  \n",
       "0  Российский военно-транспортный самолет Ил-112В...     [Авиация]  1.2  \n",
       "1  Исследователи из команды миссии OSIRIS-REx соз...  [Астрономия]  2.3  "
      ]
     },
     "execution_count": 31,
<<<<<<< Updated upstream
>>>>>>> Stashed changes
=======
>>>>>>> Stashed changes
     "metadata": {},
     "output_type": "execute_result"
    }
   ],
   "source": [
    "df.head(2)"
   ]
  },
  {
   "cell_type": "markdown",
   "metadata": {},
   "source": [
    "Переименуем столбцы в базе."
   ]
  },
  {
   "cell_type": "code",
<<<<<<< Updated upstream
<<<<<<< Updated upstream
   "execution_count": 79,
=======
   "execution_count": 32,
>>>>>>> Stashed changes
=======
   "execution_count": 32,
>>>>>>> Stashed changes
   "metadata": {},
   "outputs": [],
   "source": [
    "df.columns = ['link', 'date', 'author', 'desc', 'title', 'text', 'rubric', 'diffc']"
   ]
  },
  {
   "cell_type": "code",
<<<<<<< Updated upstream
<<<<<<< Updated upstream
   "execution_count": 80,
=======
   "execution_count": 33,
>>>>>>> Stashed changes
=======
   "execution_count": 33,
>>>>>>> Stashed changes
   "metadata": {},
   "outputs": [
    {
     "data": {
      "text/html": [
       "<div>\n",
       "<style scoped>\n",
       "    .dataframe tbody tr th:only-of-type {\n",
       "        vertical-align: middle;\n",
       "    }\n",
       "\n",
       "    .dataframe tbody tr th {\n",
       "        vertical-align: top;\n",
       "    }\n",
       "\n",
       "    .dataframe thead th {\n",
       "        text-align: right;\n",
       "    }\n",
       "</style>\n",
       "<table border=\"1\" class=\"dataframe\">\n",
       "  <thead>\n",
       "    <tr style=\"text-align: right;\">\n",
       "      <th></th>\n",
       "      <th>link</th>\n",
       "      <th>date</th>\n",
       "      <th>author</th>\n",
       "      <th>desc</th>\n",
       "      <th>title</th>\n",
       "      <th>text</th>\n",
       "      <th>rubric</th>\n",
       "      <th>diffc</th>\n",
       "    </tr>\n",
       "  </thead>\n",
       "  <tbody>\n",
       "    <tr>\n",
       "      <th>0</th>\n",
<<<<<<< Updated upstream
<<<<<<< Updated upstream
       "      <td>https://nplus1.ru/news/2021/09/28/desmodus-rot...</td>\n",
       "      <td>2021-09-28</td>\n",
       "      <td>Сергей Коленов</td>\n",
       "      <td>Ранее считалось, что дружеские связи этих руко...</td>\n",
       "      <td>Самки обыкновенных вампиров попили крови вмест...</td>\n",
       "      <td>Зоологи выяснили, что самки обыкновенных вампи...</td>\n",
       "      <td>[Зоология]</td>\n",
       "      <td>4.1</td>\n",
       "    </tr>\n",
       "    <tr>\n",
       "      <th>1</th>\n",
       "      <td>https://nplus1.ru/news/2021/09/28/starlink-geo</td>\n",
       "      <td>2021-09-28</td>\n",
       "      <td>Григорий Копиев</td>\n",
       "      <td>При этом содержимое сигналов знать не нужно</td>\n",
       "      <td>Сигналы Starlink и высотомер использовали для ...</td>\n",
       "      <td>Американские инженеры показали, что сигналы ин...</td>\n",
       "      <td>[Космонавтика, Связь]</td>\n",
       "      <td>3.5</td>\n",
=======
=======
>>>>>>> Stashed changes
       "      <td>https://nplus1.ru/news/2019/03/31/first</td>\n",
       "      <td>2019-03-31</td>\n",
       "      <td>Илья Ферапонтов</td>\n",
       "      <td>Он должен заменить легкий транспортник Ан-26</td>\n",
       "      <td>Транспортный самолет Ил-112В совершил первый п...</td>\n",
       "      <td>Российский военно-транспортный самолет Ил-112В...</td>\n",
       "      <td>[Авиация]</td>\n",
       "      <td>1.2</td>\n",
       "    </tr>\n",
       "    <tr>\n",
       "      <th>1</th>\n",
       "      <td>https://nplus1.ru/news/2019/03/30/very-big-bou...</td>\n",
       "      <td>2019-03-30</td>\n",
       "      <td>Александр Войтюк</td>\n",
       "      <td>В создании стереопары принял участие астрофизи...</td>\n",
       "      <td>OSIRIS-REx показал 52-метровую скалу на поверх...</td>\n",
       "      <td>Исследователи из команды миссии OSIRIS-REx соз...</td>\n",
       "      <td>[Астрономия]</td>\n",
       "      <td>2.3</td>\n",
<<<<<<< Updated upstream
>>>>>>> Stashed changes
=======
>>>>>>> Stashed changes
       "    </tr>\n",
       "  </tbody>\n",
       "</table>\n",
       "</div>"
      ],
      "text/plain": [
       "                                                link        date  \\\n",
<<<<<<< Updated upstream
<<<<<<< Updated upstream
       "0  https://nplus1.ru/news/2021/09/28/desmodus-rot...  2021-09-28   \n",
       "1     https://nplus1.ru/news/2021/09/28/starlink-geo  2021-09-28   \n",
       "\n",
       "            author                                               desc  \\\n",
       "0   Сергей Коленов  Ранее считалось, что дружеские связи этих руко...   \n",
       "1  Григорий Копиев        При этом содержимое сигналов знать не нужно   \n",
       "\n",
       "                                               title  \\\n",
       "0  Самки обыкновенных вампиров попили крови вмест...   \n",
       "1  Сигналы Starlink и высотомер использовали для ...   \n",
       "\n",
       "                                                text                 rubric  \\\n",
       "0  Зоологи выяснили, что самки обыкновенных вампи...             [Зоология]   \n",
       "1  Американские инженеры показали, что сигналы ин...  [Космонавтика, Связь]   \n",
       "\n",
       "  diffc  \n",
       "0   4.1  \n",
       "1   3.5  "
      ]
     },
     "execution_count": 80,
=======
=======
>>>>>>> Stashed changes
       "0            https://nplus1.ru/news/2019/03/31/first  2019-03-31   \n",
       "1  https://nplus1.ru/news/2019/03/30/very-big-bou...  2019-03-30   \n",
       "\n",
       "             author                                               desc  \\\n",
       "0   Илья Ферапонтов       Он должен заменить легкий транспортник Ан-26   \n",
       "1  Александр Войтюк  В создании стереопары принял участие астрофизи...   \n",
       "\n",
       "                                               title  \\\n",
       "0  Транспортный самолет Ил-112В совершил первый п...   \n",
       "1  OSIRIS-REx показал 52-метровую скалу на поверх...   \n",
       "\n",
       "                                                text        rubric diffc  \n",
       "0  Российский военно-транспортный самолет Ил-112В...     [Авиация]   1.2  \n",
       "1  Исследователи из команды миссии OSIRIS-REx соз...  [Астрономия]   2.3  "
      ]
     },
     "execution_count": 33,
<<<<<<< Updated upstream
>>>>>>> Stashed changes
=======
>>>>>>> Stashed changes
     "metadata": {},
     "output_type": "execute_result"
    }
   ],
   "source": [
    "df.head(2)"
   ]
  },
  {
   "cell_type": "markdown",
   "metadata": {},
   "source": [
    "Теперь внесем изменения: сделаем столбец `diffc` числовым – типа *float*."
   ]
  },
  {
   "cell_type": "code",
<<<<<<< Updated upstream
<<<<<<< Updated upstream
   "execution_count": 81,
=======
   "execution_count": 34,
>>>>>>> Stashed changes
=======
   "execution_count": 34,
>>>>>>> Stashed changes
   "metadata": {},
   "outputs": [],
   "source": [
    "df['diffc'] = [float(i) for i in df.diffc]"
   ]
  },
  {
   "cell_type": "markdown",
   "metadata": {},
   "source": [
    "Теперь сложность представлена в базе как количественный показатель, и описывать ее можно соответствующим образом:"
   ]
  },
  {
   "cell_type": "code",
<<<<<<< Updated upstream
<<<<<<< Updated upstream
   "execution_count": 82,
=======
   "execution_count": 35,
>>>>>>> Stashed changes
=======
   "execution_count": 35,
>>>>>>> Stashed changes
   "metadata": {},
   "outputs": [
    {
     "data": {
      "text/plain": [
       "count    30.000000\n",
<<<<<<< Updated upstream
<<<<<<< Updated upstream
       "mean      4.246667\n",
       "std       1.814640\n",
       "min       1.800000\n",
       "25%       2.875000\n",
       "50%       3.500000\n",
       "75%       5.050000\n",
       "max       8.300000\n",
       "Name: diffc, dtype: float64"
      ]
     },
     "execution_count": 82,
=======
=======
>>>>>>> Stashed changes
       "mean      4.416667\n",
       "std       2.370521\n",
       "min       1.100000\n",
       "25%       2.125000\n",
       "50%       4.900000\n",
       "75%       6.750000\n",
       "max       8.200000\n",
       "Name: diffc, dtype: float64"
      ]
     },
     "execution_count": 35,
<<<<<<< Updated upstream
>>>>>>> Stashed changes
=======
>>>>>>> Stashed changes
     "metadata": {},
     "output_type": "execute_result"
    }
   ],
   "source": [
    "df.diffc.describe()"
   ]
  },
  {
   "cell_type": "markdown",
   "metadata": {},
   "source": [
    "Теперь столбец со сложностью точно числовой. Можем даже построить для него гистограмму."
   ]
  },
  {
   "cell_type": "code",
<<<<<<< Updated upstream
<<<<<<< Updated upstream
   "execution_count": 83,
=======
   "execution_count": 36,
>>>>>>> Stashed changes
=======
   "execution_count": 36,
>>>>>>> Stashed changes
   "metadata": {},
   "outputs": [
    {
     "data": {
      "text/plain": [
<<<<<<< Updated upstream
<<<<<<< Updated upstream
       "<AxesSubplot:ylabel='Frequency'>"
      ]
     },
     "execution_count": 83,
=======
=======
>>>>>>> Stashed changes
       "<matplotlib.axes._subplots.AxesSubplot at 0x1174ce198>"
      ]
     },
     "execution_count": 36,
<<<<<<< Updated upstream
>>>>>>> Stashed changes
=======
>>>>>>> Stashed changes
     "metadata": {},
     "output_type": "execute_result"
    },
    {
     "data": {
<<<<<<< Updated upstream
<<<<<<< Updated upstream
      "image/png": "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\n",
=======
      "image/png": "iVBORw0KGgoAAAANSUhEUgAAAXwAAAD8CAYAAAB0IB+mAAAABHNCSVQICAgIfAhkiAAAAAlwSFlzAAALEgAACxIB0t1+/AAAADl0RVh0U29mdHdhcmUAbWF0cGxvdGxpYiB2ZXJzaW9uIDIuMi4yLCBodHRwOi8vbWF0cGxvdGxpYi5vcmcvhp/UCwAAD7dJREFUeJzt3XuMpXV9x/H3h10MLEJpy2gpMB1pDS0x5dLRamltBTUISGuvkmpSY90mtRZqG12MafUPG0ysl6bGut4viJGbsUJVTFVqYsFdRLkspl5WWVDBGl1A6gp++8ecbTawc/aZ3fnNM8Pv/UpO9jxnznl+H5bZzzzzO7/zPKkqJEmPfAeNHUCStDIsfEnqhIUvSZ2w8CWpExa+JHXCwpekTlj4ktQJC1+SOmHhS1In1o8dYE9HHXVUzc3NjR1DktaMrVu3freqZoY8d1UV/tzcHFu2bBk7hiStGUm+MfS5TulIUicsfEnqhIUvSZ2w8CWpExa+JHWiWeEnOSHJjXvcdia5oNV4kqTpmi3LrKovAycDJFkH3AFc2Wo8SdJ0KzWlcwbw1aoavF5UkrS8VqrwnwtcskJjSZL2ovknbZM8CjgXuHCRr28ENgLMzs62jiNplZvbdNVoY2+/6OzRxl4JK3GE/yzghqr6zt6+WFWbq2q+quZnZgadDkKStB9WovDPw+kcSRpd08JPsgF4BnBFy3EkSfvWdA6/qn4I/GzLMSRJw/hJW0nqhIUvSZ2w8CWpExa+JHXCwpekTlj4ktQJC1+SOmHhS1InLHxJ6oSFL0mdsPAlqRMWviR1wsKXpE5Y+JLUCQtfkjph4UtSJyx8SeqEhS9JnbDwJakTFr4kdcLCl6RONC38JEcmuSzJbUm2JXlKy/EkSYtb33j/bwI+VlV/mORRwIbG40mSFtGs8JMcATwV+DOAqtoF7Go1niRpupZH+McDdwPvSnISsBU4v6ru2/NJSTYCGwFmZ2f3e7C5TVftf9IDsP2is0cZV5KWquUc/nrgVOAtVXUKcB+w6aFPqqrNVTVfVfMzMzMN40hS31oW/g5gR1VdN9m+jIUfAJKkETQr/Kr6NnB7khMmD50B3NpqPEnSdK1X6bwEuHiyQudrwAsajydJWkTTwq+qG4H5lmNIkobxk7aS1AkLX5I6YeFLUicsfEnqhIUvSZ2w8CWpExa+JHXCwpekTlj4ktQJC1+SOmHhS1InLHxJ6oSFL0mdsPAlqRMWviR1wsKXpE5Y+JLUCQtfkjph4UtSJyx8SepE04uYJ9kO3AM8CDxQVV7QXJJG0rTwJ55WVd9dgXEkSVM4pSNJnWhd+AV8IsnWJBsbjyVJmqL1lM5pVXVnkscA1yS5raqu3fMJkx8EGwFmZ2cbx5GkfjU9wq+qOyd/3gVcCTxpL8/ZXFXzVTU/MzPTMo4kda1Z4Sc5LMnhu+8DzwRubjWeJGm6llM6jwWuTLJ7nA9U1ccajidJmqJZ4VfV14CTWu1fkrQ0LsuUpE5Y+JLUCQtfkjph4UtSJyx8SeqEhS9JnbDwJakTFr4kdcLCl6ROWPiS1IlBhZ/kCa2DSJLaGnqE/69Jrk/yl0mObJpIktTEoMKvqt8E/hQ4DtiS5ANJntE0mSRpWQ2ew6+q/wZeCbwc+G3gn5PcluT3W4WTJC2foXP4v5rkDcA24HTg2VX1K5P7b2iYT5K0TIaeD/9fgLcBr6iq+3c/OLle7SubJJMkLauhhX8WcH9VPQiQ5CDgkKr6YVW9r1k6SdKyGTqH/0ng0D22N0wekyStEUML/5Cqunf3xuT+hjaRJEktDC38+5Kcunsjya8B9095viRplRk6h38BcGmSOyfbRwN/0iaSJKmFQYVfVZ9P8svACUCA26rqx0Nem2QdsAW4o6rO2e+kkqQDMvQIH+CJwNzkNackoareO+B157Owfv+IpceTJC2XQYWf5H3ALwI3Ag9OHi5gauEnORY4G3gN8NL9jylJOlBDj/DngROrqpa4/zcCLwMOX+wJSTYCGwFmZ2eXuPvxzW26arSxt1909mhja2X4/aXlNHSVzs3Azy1lx0nOAe6qqq3TnldVm6tqvqrmZ2ZmljKEJGkJhh7hHwXcmuR64Ee7H6yqc6e85jTg3CRnAYcARyR5f1U9b7/TSpL229DCf9VSd1xVFwIXAiT5HeDvLHtJGs/QZZmfSfILwOOr6pNJNgDr2kaTJC2noadHfhFwGfDWyUPHAB8eOkhVfdo1+JI0rqFv2r6YhTn5nfD/F0N5TKtQkqTlN7Twf1RVu3ZvJFnPwjp8SdIaMbTwP5PkFcChk2vZXgr8W7tYkqTlNrTwNwF3AzcBfwFczcL1bSVJa8TQVTo/YeESh29rG0eS1MrQc+l8nb3M2VfV8cueSJLUxFLOpbPbIcAfAT+z/HEkSa0MmsOvqv/Z43ZHVb0ROL1xNknSMho6pXPqHpsHsXDEv+gZMCVJq8/QKZ1/2uP+A8B24I+XPY0kqZmhq3Se1jqIJKmtoVM6U69WVVWvX544kqRWlrJK54nARybbzwauBW5vEUqStPyWcgGUU6vqHoAkrwIurao/bxVMkrS8hp5aYRbYtcf2LmBu2dNIkpoZeoT/PuD6JFey8Inb5wDvbZZKkrTshq7SeU2Sfwd+a/LQC6rqC+1iSZKW29ApHYANwM6qehOwI8njGmWSJDUw9BKH/wC8nMlFyYGDgfe3CiVJWn5Dj/CfA5wL3AdQVXfiqRUkaU0ZWvi7qqqYnCI5yWH7ekGSQ5Jcn+SLSW5J8uoDCSpJOjBDC/9DSd4KHJnkRcAn2ffFUH4EnF5VJwEnA2cmefL+R5UkHYihq3ReN7mW7U7gBODvq+qafbymgHsnmwdPbl74XJJGss/CT7IO+HhVPR2YWvKLvHYr8EvAm6vquv1KKUk6YPss/Kp6MMkPk/xUVf1gKTuvqgeBk5McCVyZ5AlVdfOez0myEdgIMDs7u5TdayRzm64abeztF5092ti9GfP/s9oY+knb/wVuSnINk5U6AFX110NeXFXfT/Jp4Ezg5od8bTOwGWB+ft4pH0lqZGjhXzW5DZZkBvjxpOwPBZ4OvHaJ+SRJy2Rq4SeZrapvVtV79mPfRwPvmczjHwR8qKo+uj8hJUkHbl9H+B8GTgVIcnlV/cHQHVfVl4BTDiCbJGkZ7Wsdfva4f3zLIJKktvZV+LXIfUnSGrOvKZ2Tkuxk4Uj/0Ml9JttVVUc0TSdJWjZTC7+q1q1UEElSW0s5H74kaQ2z8CWpExa+JHXCwpekTlj4ktQJC1+SOmHhS1InLHxJ6oSFL0mdsPAlqRMWviR1wsKXpE5Y+JLUCQtfkjph4UtSJyx8SeqEhS9JnWhW+EmOS/KpJNuS3JLk/FZjSZL2bV/XtD0QDwB/W1U3JDkc2Jrkmqq6teGYkqRFNDvCr6pvVdUNk/v3ANuAY1qNJ0mabkXm8JPMAacA163EeJKkh2te+EkeDVwOXFBVO/fy9Y1JtiTZcvfdd7eOI0ndalr4SQ5moewvrqor9vacqtpcVfNVNT8zM9MyjiR1reUqnQDvALZV1etbjSNJGqblEf5pwPOB05PcOLmd1XA8SdIUzZZlVtVngbTavyRpafykrSR1wsKXpE5Y+JLUCQtfkjph4UtSJyx8SeqEhS9JnbDwJakTFr4kdcLCl6ROWPiS1AkLX5I6YeFLUicsfEnqhIUvSZ2w8CWpExa+JHXCwpekTlj4ktQJC1+SOmHhS1InmhV+kncmuSvJza3GkCQN1/II/93AmQ33L0lagmaFX1XXAt9rtX9J0tKsHztAko3ARoDZ2dmR06wtc5uuGjvCihvrv3n7RWePMq5W1iP9+2v0N22ranNVzVfV/MzMzNhxJOkRa/TClyStDAtfkjrRclnmJcDngBOS7EjywlZjSZL2rdmbtlV1Xqt9S5KWzikdSeqEhS9JnbDwJakTFr4kdcLCl6ROWPiS1AkLX5I6YeFLUicsfEnqhIUvSZ2w8CWpExa+JHXCwpekTlj4ktQJC1+SOmHhS1InLHxJ6oSFL0mdsPAlqRMWviR1omnhJzkzyZeTfCXJppZjSZKma1b4SdYBbwaeBZwInJfkxFbjSZKma3mE/yTgK1X1taraBXwQ+N2G40mSpmhZ+McAt++xvWPymCRpBOsb7jt7eawe9qRkI7Bxsnlvki8P3P9RwHf3M9tKWis5wayLymsP6OX+vbbxiMl6gN9fvzD0iS0Lfwdw3B7bxwJ3PvRJVbUZ2LzUnSfZUlXz+x9vZayVnGDWVszahlmXruWUzueBxyd5XJJHAc8FPtJwPEnSFM2O8KvqgSR/BXwcWAe8s6puaTWeJGm6llM6VNXVwNWNdr/kaaCRrJWcYNZWzNqGWZcoVQ97H1WS9AjkqRUkqRNrqvCTvDPJXUluHjvLviQ5LsmnkmxLckuS88fOtJgkhyS5PskXJ1lfPXamaZKsS/KFJB8dO8u+JNme5KYkNybZMnaexSQ5MsllSW6bfM8+ZexMe5PkhMnf5e7bziQXjJ1rMUn+ZvJv6uYklyQ5ZNQ8a2lKJ8lTgXuB91bVE8bOM02So4Gjq+qGJIcDW4Hfq6pbR472MEkCHFZV9yY5GPgscH5V/dfI0fYqyUuBeeCIqjpn7DzTJNkOzFfVql4vnuQ9wH9W1dsnq+o2VNX3x841zeT0LXcAv15V3xg7z0MlOYaFf0snVtX9ST4EXF1V7x4r05o6wq+qa4HvjZ1jiKr6VlXdMLl/D7CNVfpJ41pw72Tz4MltVR4JJDkWOBt4+9hZHimSHAE8FXgHQFXtWu1lP3EG8NXVWPZ7WA8cmmQ9sIG9fBZpJa2pwl+rkswBpwDXjZtkcZNpkhuBu4Brqmq1Zn0j8DLgJ2MHGaiATyTZOvlU+Wp0PHA38K7JVNnbkxw2dqgBngtcMnaIxVTVHcDrgG8C3wJ+UFWfGDOThd9YkkcDlwMXVNXOsfMspqoerKqTWfhE9JOSrLopsyTnAHdV1daxsyzBaVV1KgtnjX3xZFpytVkPnAq8papOAe4DVvXpzCfTTucCl46dZTFJfpqFE0Y+Dvh54LAkzxszk4Xf0GQ+/HLg4qq6Yuw8Q0x+lf80cObIUfbmNODcybz4B4HTk7x/3EjTVdWdkz/vAq5k4Syyq80OYMcev9VdxsIPgNXsWcANVfWdsYNM8XTg61V1d1X9GLgC+I0xA1n4jUzeCH0HsK2qXj92nmmSzCQ5cnL/UBa+UW8bN9XDVdWFVXVsVc2x8Ov8f1TVqEdM0yQ5bPKGPZMpkmcCq26FWVV9G7g9yQmTh84AVt3igoc4j1U8nTPxTeDJSTZM+uAMFt7LG82aKvwklwCfA05IsiPJC8fONMVpwPNZOArdvYTsrLFDLeJo4FNJvsTCOZCuqapVv+RxDXgs8NkkXwSuB66qqo+NnGkxLwEunnwPnAz848h5FpVkA/AMFo6YV63Jb0yXATcAN7HQt6N+4nZNLcuUJO2/NXWEL0nafxa+JHXCwpekTlj4ktQJC1+SOmHhS1InLHxJ6oSFL0md+D9ufvq0PExHdgAAAABJRU5ErkJggg==\n",
>>>>>>> Stashed changes
=======
      "image/png": "iVBORw0KGgoAAAANSUhEUgAAAXwAAAD8CAYAAAB0IB+mAAAABHNCSVQICAgIfAhkiAAAAAlwSFlzAAALEgAACxIB0t1+/AAAADl0RVh0U29mdHdhcmUAbWF0cGxvdGxpYiB2ZXJzaW9uIDIuMi4yLCBodHRwOi8vbWF0cGxvdGxpYi5vcmcvhp/UCwAAD7dJREFUeJzt3XuMpXV9x/H3h10MLEJpy2gpMB1pDS0x5dLRamltBTUISGuvkmpSY90mtRZqG12MafUPG0ysl6bGut4viJGbsUJVTFVqYsFdRLkspl5WWVDBGl1A6gp++8ecbTawc/aZ3fnNM8Pv/UpO9jxnznl+H5bZzzzzO7/zPKkqJEmPfAeNHUCStDIsfEnqhIUvSZ2w8CWpExa+JHXCwpekTlj4ktQJC1+SOmHhS1In1o8dYE9HHXVUzc3NjR1DktaMrVu3freqZoY8d1UV/tzcHFu2bBk7hiStGUm+MfS5TulIUicsfEnqhIUvSZ2w8CWpExa+JHWiWeEnOSHJjXvcdia5oNV4kqTpmi3LrKovAycDJFkH3AFc2Wo8SdJ0KzWlcwbw1aoavF5UkrS8VqrwnwtcskJjSZL2ovknbZM8CjgXuHCRr28ENgLMzs62jiNplZvbdNVoY2+/6OzRxl4JK3GE/yzghqr6zt6+WFWbq2q+quZnZgadDkKStB9WovDPw+kcSRpd08JPsgF4BnBFy3EkSfvWdA6/qn4I/GzLMSRJw/hJW0nqhIUvSZ2w8CWpExa+JHXCwpekTlj4ktQJC1+SOmHhS1InLHxJ6oSFL0mdsPAlqRMWviR1wsKXpE5Y+JLUCQtfkjph4UtSJyx8SeqEhS9JnbDwJakTFr4kdcLCl6RONC38JEcmuSzJbUm2JXlKy/EkSYtb33j/bwI+VlV/mORRwIbG40mSFtGs8JMcATwV+DOAqtoF7Go1niRpupZH+McDdwPvSnISsBU4v6ru2/NJSTYCGwFmZ2f3e7C5TVftf9IDsP2is0cZV5KWquUc/nrgVOAtVXUKcB+w6aFPqqrNVTVfVfMzMzMN40hS31oW/g5gR1VdN9m+jIUfAJKkETQr/Kr6NnB7khMmD50B3NpqPEnSdK1X6bwEuHiyQudrwAsajydJWkTTwq+qG4H5lmNIkobxk7aS1AkLX5I6YeFLUicsfEnqhIUvSZ2w8CWpExa+JHXCwpekTlj4ktQJC1+SOmHhS1InLHxJ6oSFL0mdsPAlqRMWviR1wsKXpE5Y+JLUCQtfkjph4UtSJyx8SepE04uYJ9kO3AM8CDxQVV7QXJJG0rTwJ55WVd9dgXEkSVM4pSNJnWhd+AV8IsnWJBsbjyVJmqL1lM5pVXVnkscA1yS5raqu3fMJkx8EGwFmZ2cbx5GkfjU9wq+qOyd/3gVcCTxpL8/ZXFXzVTU/MzPTMo4kda1Z4Sc5LMnhu+8DzwRubjWeJGm6llM6jwWuTLJ7nA9U1ccajidJmqJZ4VfV14CTWu1fkrQ0LsuUpE5Y+JLUCQtfkjph4UtSJyx8SeqEhS9JnbDwJakTFr4kdcLCl6ROWPiS1IlBhZ/kCa2DSJLaGnqE/69Jrk/yl0mObJpIktTEoMKvqt8E/hQ4DtiS5ANJntE0mSRpWQ2ew6+q/wZeCbwc+G3gn5PcluT3W4WTJC2foXP4v5rkDcA24HTg2VX1K5P7b2iYT5K0TIaeD/9fgLcBr6iq+3c/OLle7SubJJMkLauhhX8WcH9VPQiQ5CDgkKr6YVW9r1k6SdKyGTqH/0ng0D22N0wekyStEUML/5Cqunf3xuT+hjaRJEktDC38+5Kcunsjya8B9095viRplRk6h38BcGmSOyfbRwN/0iaSJKmFQYVfVZ9P8svACUCA26rqx0Nem2QdsAW4o6rO2e+kkqQDMvQIH+CJwNzkNackoareO+B157Owfv+IpceTJC2XQYWf5H3ALwI3Ag9OHi5gauEnORY4G3gN8NL9jylJOlBDj/DngROrqpa4/zcCLwMOX+wJSTYCGwFmZ2eXuPvxzW26arSxt1909mhja2X4/aXlNHSVzs3Azy1lx0nOAe6qqq3TnldVm6tqvqrmZ2ZmljKEJGkJhh7hHwXcmuR64Ee7H6yqc6e85jTg3CRnAYcARyR5f1U9b7/TSpL229DCf9VSd1xVFwIXAiT5HeDvLHtJGs/QZZmfSfILwOOr6pNJNgDr2kaTJC2noadHfhFwGfDWyUPHAB8eOkhVfdo1+JI0rqFv2r6YhTn5nfD/F0N5TKtQkqTlN7Twf1RVu3ZvJFnPwjp8SdIaMbTwP5PkFcChk2vZXgr8W7tYkqTlNrTwNwF3AzcBfwFczcL1bSVJa8TQVTo/YeESh29rG0eS1MrQc+l8nb3M2VfV8cueSJLUxFLOpbPbIcAfAT+z/HEkSa0MmsOvqv/Z43ZHVb0ROL1xNknSMho6pXPqHpsHsXDEv+gZMCVJq8/QKZ1/2uP+A8B24I+XPY0kqZmhq3Se1jqIJKmtoVM6U69WVVWvX544kqRWlrJK54nARybbzwauBW5vEUqStPyWcgGUU6vqHoAkrwIurao/bxVMkrS8hp5aYRbYtcf2LmBu2dNIkpoZeoT/PuD6JFey8Inb5wDvbZZKkrTshq7SeU2Sfwd+a/LQC6rqC+1iSZKW29ApHYANwM6qehOwI8njGmWSJDUw9BKH/wC8nMlFyYGDgfe3CiVJWn5Dj/CfA5wL3AdQVXfiqRUkaU0ZWvi7qqqYnCI5yWH7ekGSQ5Jcn+SLSW5J8uoDCSpJOjBDC/9DSd4KHJnkRcAn2ffFUH4EnF5VJwEnA2cmefL+R5UkHYihq3ReN7mW7U7gBODvq+qafbymgHsnmwdPbl74XJJGss/CT7IO+HhVPR2YWvKLvHYr8EvAm6vquv1KKUk6YPss/Kp6MMkPk/xUVf1gKTuvqgeBk5McCVyZ5AlVdfOez0myEdgIMDs7u5TdayRzm64abeztF5092ti9GfP/s9oY+knb/wVuSnINk5U6AFX110NeXFXfT/Jp4Ezg5od8bTOwGWB+ft4pH0lqZGjhXzW5DZZkBvjxpOwPBZ4OvHaJ+SRJy2Rq4SeZrapvVtV79mPfRwPvmczjHwR8qKo+uj8hJUkHbl9H+B8GTgVIcnlV/cHQHVfVl4BTDiCbJGkZ7Wsdfva4f3zLIJKktvZV+LXIfUnSGrOvKZ2Tkuxk4Uj/0Ml9JttVVUc0TSdJWjZTC7+q1q1UEElSW0s5H74kaQ2z8CWpExa+JHXCwpekTlj4ktQJC1+SOmHhS1InLHxJ6oSFL0mdsPAlqRMWviR1wsKXpE5Y+JLUCQtfkjph4UtSJyx8SeqEhS9JnWhW+EmOS/KpJNuS3JLk/FZjSZL2bV/XtD0QDwB/W1U3JDkc2Jrkmqq6teGYkqRFNDvCr6pvVdUNk/v3ANuAY1qNJ0mabkXm8JPMAacA163EeJKkh2te+EkeDVwOXFBVO/fy9Y1JtiTZcvfdd7eOI0ndalr4SQ5moewvrqor9vacqtpcVfNVNT8zM9MyjiR1reUqnQDvALZV1etbjSNJGqblEf5pwPOB05PcOLmd1XA8SdIUzZZlVtVngbTavyRpafykrSR1wsKXpE5Y+JLUCQtfkjph4UtSJyx8SeqEhS9JnbDwJakTFr4kdcLCl6ROWPiS1AkLX5I6YeFLUicsfEnqhIUvSZ2w8CWpExa+JHXCwpekTlj4ktQJC1+SOmHhS1InmhV+kncmuSvJza3GkCQN1/II/93AmQ33L0lagmaFX1XXAt9rtX9J0tKsHztAko3ARoDZ2dmR06wtc5uuGjvCihvrv3n7RWePMq5W1iP9+2v0N22ranNVzVfV/MzMzNhxJOkRa/TClyStDAtfkjrRclnmJcDngBOS7EjywlZjSZL2rdmbtlV1Xqt9S5KWzikdSeqEhS9JnbDwJakTFr4kdcLCl6ROWPiS1AkLX5I6YeFLUicsfEnqhIUvSZ2w8CWpExa+JHXCwpekTlj4ktQJC1+SOmHhS1InLHxJ6oSFL0mdsPAlqRMWviR1omnhJzkzyZeTfCXJppZjSZKma1b4SdYBbwaeBZwInJfkxFbjSZKma3mE/yTgK1X1taraBXwQ+N2G40mSpmhZ+McAt++xvWPymCRpBOsb7jt7eawe9qRkI7Bxsnlvki8P3P9RwHf3M9tKWis5wayLymsP6OX+vbbxiMl6gN9fvzD0iS0Lfwdw3B7bxwJ3PvRJVbUZ2LzUnSfZUlXz+x9vZayVnGDWVszahlmXruWUzueBxyd5XJJHAc8FPtJwPEnSFM2O8KvqgSR/BXwcWAe8s6puaTWeJGm6llM6VNXVwNWNdr/kaaCRrJWcYNZWzNqGWZcoVQ97H1WS9AjkqRUkqRNrqvCTvDPJXUluHjvLviQ5LsmnkmxLckuS88fOtJgkhyS5PskXJ1lfPXamaZKsS/KFJB8dO8u+JNme5KYkNybZMnaexSQ5MsllSW6bfM8+ZexMe5PkhMnf5e7bziQXjJ1rMUn+ZvJv6uYklyQ5ZNQ8a2lKJ8lTgXuB91bVE8bOM02So4Gjq+qGJIcDW4Hfq6pbR472MEkCHFZV9yY5GPgscH5V/dfI0fYqyUuBeeCIqjpn7DzTJNkOzFfVql4vnuQ9wH9W1dsnq+o2VNX3x841zeT0LXcAv15V3xg7z0MlOYaFf0snVtX9ST4EXF1V7x4r05o6wq+qa4HvjZ1jiKr6VlXdMLl/D7CNVfpJ41pw72Tz4MltVR4JJDkWOBt4+9hZHimSHAE8FXgHQFXtWu1lP3EG8NXVWPZ7WA8cmmQ9sIG9fBZpJa2pwl+rkswBpwDXjZtkcZNpkhuBu4Brqmq1Zn0j8DLgJ2MHGaiATyTZOvlU+Wp0PHA38K7JVNnbkxw2dqgBngtcMnaIxVTVHcDrgG8C3wJ+UFWfGDOThd9YkkcDlwMXVNXOsfMspqoerKqTWfhE9JOSrLopsyTnAHdV1daxsyzBaVV1KgtnjX3xZFpytVkPnAq8papOAe4DVvXpzCfTTucCl46dZTFJfpqFE0Y+Dvh54LAkzxszk4Xf0GQ+/HLg4qq6Yuw8Q0x+lf80cObIUfbmNODcybz4B4HTk7x/3EjTVdWdkz/vAq5k4Syyq80OYMcev9VdxsIPgNXsWcANVfWdsYNM8XTg61V1d1X9GLgC+I0xA1n4jUzeCH0HsK2qXj92nmmSzCQ5cnL/UBa+UW8bN9XDVdWFVXVsVc2x8Ov8f1TVqEdM0yQ5bPKGPZMpkmcCq26FWVV9G7g9yQmTh84AVt3igoc4j1U8nTPxTeDJSTZM+uAMFt7LG82aKvwklwCfA05IsiPJC8fONMVpwPNZOArdvYTsrLFDLeJo4FNJvsTCOZCuqapVv+RxDXgs8NkkXwSuB66qqo+NnGkxLwEunnwPnAz848h5FpVkA/AMFo6YV63Jb0yXATcAN7HQt6N+4nZNLcuUJO2/NXWEL0nafxa+JHXCwpekTlj4ktQJC1+SOmHhS1InLHxJ6oSFL0md+D9ufvq0PExHdgAAAABJRU5ErkJggg==\n",
>>>>>>> Stashed changes
      "text/plain": [
       "<Figure size 432x288 with 1 Axes>"
      ]
     },
<<<<<<< Updated upstream
<<<<<<< Updated upstream
     "metadata": {
      "needs_background": "light"
     },
=======
     "metadata": {},
>>>>>>> Stashed changes
=======
     "metadata": {},
>>>>>>> Stashed changes
     "output_type": "display_data"
    }
   ],
   "source": [
    "%matplotlib inline\n",
    "df.diffc.plot.hist()"
   ]
  },
  {
   "cell_type": "markdown",
   "metadata": {},
   "source": [
    "Объединим рубрики в *text* в одну строку через запятую:"
   ]
  },
  {
   "cell_type": "code",
<<<<<<< Updated upstream
<<<<<<< Updated upstream
   "execution_count": 84,
=======
   "execution_count": 37,
>>>>>>> Stashed changes
=======
   "execution_count": 37,
>>>>>>> Stashed changes
   "metadata": {},
   "outputs": [],
   "source": [
    "df['rubric'] = [','.join(r) for r in df.rubric]"
   ]
  },
  {
   "cell_type": "markdown",
   "metadata": {},
   "source": [
    "Давайте почистим текст новостей – уберем оттуда текст, не относящийся к новостям. Найдем лишнее:"
   ]
  },
  {
   "cell_type": "code",
<<<<<<< Updated upstream
<<<<<<< Updated upstream
   "execution_count": 85,
   "metadata": {},
   "outputs": [
    {
     "data": {
      "text/plain": [
       "'Зоологи выяснили, что самки обыкновенных вампиров регулярно пьют кровь вместе с\\xa0подругами и\\xa0родственницами. Ранее считалось, что дружеские связи этих рукокрылых проявляются лишь внутри колоний, во\\xa0время отдыха. По\\xa0мнению авторов исследования, совместное кормление кровью одних и\\xa0тех\\xa0же жертв укрепляет связи между вампирами\\xa0— а\\xa0также позволяет сэкономить энергию, необходимую для прокусывания кожи, и\\xa0при необходимости дать отпор конкуренту из\\xa0чужой колонии. Результаты исследования опубликованы в\\xa0статье для журнала PloS Biology. Обыкновенные вампиры (Desmodus rotundus) давно стали излюбленным объектом изучения зоологов. Дело в\\xa0том, что для отдыха в\\xa0светлое время суток самки этих летучих мышей собираются большими группами, члены которых делятся друг с\\xa0другом добытой кровью и\\xa0формируют крепкие дружеские связи. Ученые надеются, что, наблюдая за\\xa0вампирами, они смогут больше узнать об\\xa0эволюции социальности, в\\xa0том числе у\\xa0людей. Команда специалистов под руководством Джеральда Картера (Gerald Carter) из\\xa0Университета штата Огайо и\\xa0Смитсоновского института тропических исследований изучает социальное поведение обыкновенных вампиров уже много лет. За\\xa0это время исследователям удалось, например, выяснить, что в\\xa0сообществах вампиров-самок отсутствует строгая иерархия, а\\xa0подруги заботятся о\\xa0детенышах друг друга. Кроме того, заболевшие особи поддерживают социальное дистанцирование. Картер и\\xa0его соавтор Саймон Риппергер (Simon P. Ripperger) обратили внимание, что большинство работ о\\xa0социальности вампиров посвящены тому, как эти рукокрылые ведут себя внутри колоний, где проводят светлое время суток. О\\xa0взаимоотношениях вампиров за\\xa0пределами мест отдыха известно намного меньше. Лишь в\\xa0некоторых публикациях есть упоминания о\\xa0том, что самки вампиров, связанные дружескими отношениями, вместе отправляют за\\xa0пищей, во\\xa0время ее\\xa0поиска держатся небольшими компаниями от\\xa0двух до\\xa0шести особей и\\xa0даже сосут кровь одних и\\xa0тех\\xa0же животных.  В\\xa0попытке выяснить, действительно\\xa0ли обыкновенные вампиры ищут еду и\\xa0кормятся вместе с\\xa0друзьями, Картер и\\xa0Риппергер пометили датчиками сближения 50\\xa0самок вампиров из\\xa0округа Толе в\\xa0Панаме.\\xa027\\xa0из\\xa0них поймали в\\xa0дикой природе и\\xa0сразу\\xa0же выпустили, оснастив меткой. Еще 23\\xa0самки перед выпуском провели 21\\xa0месяц в\\xa0лаборатории или родились в\\xa0неволе. Благодаря датчикам ученые получили возможность отслеживать встречи вампиров как на\\xa0месте отдыха, так и\\xa0во\\xa0время кормления. Чтобы облегчить наблюдение за\\xa0вампирами, их\\xa0снабдили стабильным источником питания. В\\xa0течение пяти ночей в\\xa0сентябре 2017 года зоологи сгоняли стадо из\\xa0примерно ста коров в\\xa0загон, расположенный в\\xa0300 метрах от\\xa0дерева, в\\xa0дупле которого в\\xa0светлое время суток держалась интересовавшая их\\xa0колония из\\xa0200-250\\xa0вампиров. На\\xa0протяжении еще четырех ночей в\\xa0течение периода исследования скот пасся свободно. Как выяснили Картер и\\xa0Риппергер, обыкновенные вампиры почти никогда не\\xa0вылетают с\\xa0места отдыха одновременно с\\xa0друзьями или другими сородичами. Однако порой они воссоединяются друг с\\xa0другом за\\xa0пределами колонии, когда кормятся на\\xa0одном и\\xa0том\\xa0же животном. В\\xa0общей сложности авторы зафксировали 586 таких встреч, которые в\\xa0среднем длились около секунды\\xa0— намного меньше, чем взаимодействия во\\xa0время отдыха. Ни\\xa0одна из\\xa0встреч во\\xa0время кормления не\\xa0заняла более получаса. Во\\xa0взаимодействиях вне колонии поучаствовала 151 пара самок. Члены 45\\xa0таких пар встречались друг с\\xa0другом больше одного раза. Исследователи выявили положительную корреляцию между степенью родства и\\xa0вероятностью, что две особи столкнутся во\\xa0время кормления (p<0,0001). Кроме того, они выяснили, что близкие родственники, встретившиеся вне колонии, проводят рядом особенно много времени (в\\xa0среднем девять секунд против одной секунды для самок, не\\xa0связанных родством). Дружеские отношения между вампирами также повышают вероятность совместного кормления. Самки, склонные проводить больше времени друг с\\xa0другом во\\xa0время отдыха, чаще встречаются вне колонии и\\xa0дольше держатся рядом. А\\xa0самые общительные особи, которые поддерживают контакт со\\xa0значительным количеством сородичей на\\xa0месте отдыха, также чаще встречаются с\\xa0ними за\\xa0пределами колонии. Особое внимание Картер и\\xa0Риппергер уделили самкам вампиров, которые перед выпуском около двух лет прожили в\\xa0неволе. Оказалось, что наличие дружеских связей, сформировавшихся в\\xa0лаборатории, положительно коррелирует с\\xa0вероятностью совместного кормления. При этом в\\xa0неволе, где вампиров кормят кровью из\\xa0фонтанчика, они не\\xa0демонстрируют склонности кормиться вместе с\\xa0друзьями. Во\\xa0время работ в\\xa0округе Толе исследователи лишь дважды собственными глазами видели кормление пары летучих мышей на\\xa0одной корове. Чтобы непосредственно понаблюдать за\\xa0этим процессом, авторы вооружились инфракрасными камерами и\\xa0отправились на\\xa0ферму в\\xa0округе Ла\\xa0Чоррера. В\\xa0результате они смогли запечатлеть 14\\xa0случаев совместного кормления вампиров. В\\xa0некоторых случаях рукокрылые вели себя дружелюбно, но\\xa0иногда вступали в\\xa0конфликт, причем более ожесточенный, чем можно наблюдать во\\xa0время кормления в\\xa0неволе (вероятно, это были представители разных колоний, не\\xa0связанные родственными и\\xa0дружескими узами).  Ученым также удалось записать ультразвуковые сигналы, которые вампиры издавали при кормлении. Два типа криков уже были знакомы специалистам: нисходящий сигнал, который эти летучие мыши производят в\\xa0колониях, а\\xa0также жужжание, сопровождающее конфликты особей. Однако помимо них исследователи также выявили еще один, неизвестный ранее сигнал, который на\\xa0спектрограмме напоминает английскую букву «n». Его издавали вампиры, встретившиеся на\\xa0одной корове. Картер и\\xa0Риппергер не\\xa0обнаружили подтверждений, что вампиры из\\xa0одной колонии вместе ищут жертв. Тем не\\xa0менее эти рукокрылые регулярно встречаются во\\xa0время кормления, причем предпочитают питаться вместе с\\xa0друзьями и\\xa0родственниками (представители многих других видов животных, от птиц до дельфинов и приматов, также предпочитают кормиться вместе с друзьями). Поскольку прокусить кожу коровы довольно трудно, одна особь в\\xa0паре может пить кровь из\\xa0отверстия, которое уже проделала ее\\xa0подруга. Это менее затратный способ поделиться едой, чем срыгнуть проглоченную кровь товарищу, оставшемуся в\\xa0колонии. Также пара самок-подруг с\\xa0большей вероятностью даст отпор конкурентам из\\xa0других колоний, чем одиночная особь. Авторы предполагают, что совместное кормление укрепляет дружеские связи между самками вампиров\\xa0— а в\\xa0некоторых случаях дает им\\xa0начало. Например, если две особи предпочитают определенный вид добычи, они с\\xa0высокой вероятностью встретятся на\\xa0одной и\\xa0той\\xa0же жертве, после чего их\\xa0дружба продолжит развиваться на\\xa0месте отдыха. С\\xa0другой стороны, если две самки подружились внутри колонии, они, скорее всего, предпочтут пить кровь одних и\\xa0тех\\xa0же животных. В\\xa0последние годы зоологи получают все больше данных о\\xa0дружбе между дикими животными. Среди видов, которые заводят друзей на\\xa0долгие годы, такие разные существа, как темноперые серые акулы (Carcharhinus amblyrhynchos), жирафы (Giraffa camelopardalis) и\\xa0четыре вида фламинго.\\xa0 Сергей Коленов Нашли опечатку? Выделите фрагмент и нажмите Ctrl+Enter. Коэффициент сложности Коэффициент сложности Коэффициент сложности Коэффициент сложности Коэффициент сложности Коэффициент сложности Коэффициент сложности Коэффициент сложности Коэффициент сложности Коэффициент сложности © 2021 N\\xa0+\\xa01 Интернет-издание \\xa0 Свидетельство о регистрации СМИ Эл № ФС77-67614 Использование всех текстовых материалов без изменений в некоммерческих целях разрешается со ссылкой на N\\xa0+\\xa01.                          Все аудиовизуальные произведения являются собственностью своих авторов и правообладателей и используются                          только в образовательных и информационных целях. Если вы являетесь собственником того или иного произведения                          и не согласны с его размещением на нашем сайте, пожалуйста, напишите на kirill@nplus1.ru Материалы, опубликованные в разделе «Блоги», отражают позиции их авторов, которые могут не совпадать с мнением редакции. Сайт может содержать контент, не предназначенный для лиц младше 18 лет.  Политика обработки персональных данных пользователей сайта    Change privacy settings   '"
      ]
     },
     "execution_count": 85,
     "metadata": {},
     "output_type": "execute_result"
    }
   ],
=======
   "execution_count": null,
   "metadata": {},
   "outputs": [],
>>>>>>> Stashed changes
=======
   "execution_count": null,
   "metadata": {},
   "outputs": [],
>>>>>>> Stashed changes
   "source": [
    "df.text[0]"
   ]
  },
  {
   "cell_type": "markdown",
   "metadata": {},
   "source": [
    "Лишний текст находится после фразы 'Нашли опечатку?'. Так давайте будем разбивать строки по этой фразе с помощью метода `.split()` и брать все, что до нее (элемент с индексом 0)."
   ]
  },
  {
   "cell_type": "code",
<<<<<<< Updated upstream
<<<<<<< Updated upstream
   "execution_count": 86,
=======
   "execution_count": 38,
>>>>>>> Stashed changes
=======
   "execution_count": 38,
>>>>>>> Stashed changes
   "metadata": {},
   "outputs": [],
   "source": [
    "df['clean_text'] = [t.split('Нашли опечатку?')[0] for t in df.text]"
   ]
  },
  {
   "cell_type": "markdown",
   "metadata": {},
   "source": [
    "Осталось только заменить непонятные символы `\\xa0` на пробелы:"
   ]
  },
  {
   "cell_type": "code",
<<<<<<< Updated upstream
<<<<<<< Updated upstream
   "execution_count": 87,
=======
   "execution_count": 39,
>>>>>>> Stashed changes
=======
   "execution_count": 39,
>>>>>>> Stashed changes
   "metadata": {},
   "outputs": [],
   "source": [
    "df['clean_text'] = [t.replace(\"\\xa0\", \" \") for t in df.clean_text]"
   ]
  },
  {
   "cell_type": "code",
<<<<<<< Updated upstream
<<<<<<< Updated upstream
   "execution_count": 88,
=======
   "execution_count": 40,
>>>>>>> Stashed changes
=======
   "execution_count": 40,
>>>>>>> Stashed changes
   "metadata": {},
   "outputs": [
    {
     "data": {
      "text/plain": [
<<<<<<< Updated upstream
<<<<<<< Updated upstream
       "'Зоологи выяснили, что самки обыкновенных вампиров регулярно пьют кровь вместе с подругами и родственницами. Ранее считалось, что дружеские связи этих рукокрылых проявляются лишь внутри колоний, во время отдыха. По мнению авторов исследования, совместное кормление кровью одних и тех же жертв укрепляет связи между вампирами — а также позволяет сэкономить энергию, необходимую для прокусывания кожи, и при необходимости дать отпор конкуренту из чужой колонии. Результаты исследования опубликованы в статье для журнала PloS Biology. Обыкновенные вампиры (Desmodus rotundus) давно стали излюбленным объектом изучения зоологов. Дело в том, что для отдыха в светлое время суток самки этих летучих мышей собираются большими группами, члены которых делятся друг с другом добытой кровью и формируют крепкие дружеские связи. Ученые надеются, что, наблюдая за вампирами, они смогут больше узнать об эволюции социальности, в том числе у людей. Команда специалистов под руководством Джеральда Картера (Gerald Carter) из Университета штата Огайо и Смитсоновского института тропических исследований изучает социальное поведение обыкновенных вампиров уже много лет. За это время исследователям удалось, например, выяснить, что в сообществах вампиров-самок отсутствует строгая иерархия, а подруги заботятся о детенышах друг друга. Кроме того, заболевшие особи поддерживают социальное дистанцирование. Картер и его соавтор Саймон Риппергер (Simon P. Ripperger) обратили внимание, что большинство работ о социальности вампиров посвящены тому, как эти рукокрылые ведут себя внутри колоний, где проводят светлое время суток. О взаимоотношениях вампиров за пределами мест отдыха известно намного меньше. Лишь в некоторых публикациях есть упоминания о том, что самки вампиров, связанные дружескими отношениями, вместе отправляют за пищей, во время ее поиска держатся небольшими компаниями от двух до шести особей и даже сосут кровь одних и тех же животных.  В попытке выяснить, действительно ли обыкновенные вампиры ищут еду и кормятся вместе с друзьями, Картер и Риппергер пометили датчиками сближения 50 самок вампиров из округа Толе в Панаме. 27 из них поймали в дикой природе и сразу же выпустили, оснастив меткой. Еще 23 самки перед выпуском провели 21 месяц в лаборатории или родились в неволе. Благодаря датчикам ученые получили возможность отслеживать встречи вампиров как на месте отдыха, так и во время кормления. Чтобы облегчить наблюдение за вампирами, их снабдили стабильным источником питания. В течение пяти ночей в сентябре 2017 года зоологи сгоняли стадо из примерно ста коров в загон, расположенный в 300 метрах от дерева, в дупле которого в светлое время суток держалась интересовавшая их колония из 200-250 вампиров. На протяжении еще четырех ночей в течение периода исследования скот пасся свободно. Как выяснили Картер и Риппергер, обыкновенные вампиры почти никогда не вылетают с места отдыха одновременно с друзьями или другими сородичами. Однако порой они воссоединяются друг с другом за пределами колонии, когда кормятся на одном и том же животном. В общей сложности авторы зафксировали 586 таких встреч, которые в среднем длились около секунды — намного меньше, чем взаимодействия во время отдыха. Ни одна из встреч во время кормления не заняла более получаса. Во взаимодействиях вне колонии поучаствовала 151 пара самок. Члены 45 таких пар встречались друг с другом больше одного раза. Исследователи выявили положительную корреляцию между степенью родства и вероятностью, что две особи столкнутся во время кормления (p<0,0001). Кроме того, они выяснили, что близкие родственники, встретившиеся вне колонии, проводят рядом особенно много времени (в среднем девять секунд против одной секунды для самок, не связанных родством). Дружеские отношения между вампирами также повышают вероятность совместного кормления. Самки, склонные проводить больше времени друг с другом во время отдыха, чаще встречаются вне колонии и дольше держатся рядом. А самые общительные особи, которые поддерживают контакт со значительным количеством сородичей на месте отдыха, также чаще встречаются с ними за пределами колонии. Особое внимание Картер и Риппергер уделили самкам вампиров, которые перед выпуском около двух лет прожили в неволе. Оказалось, что наличие дружеских связей, сформировавшихся в лаборатории, положительно коррелирует с вероятностью совместного кормления. При этом в неволе, где вампиров кормят кровью из фонтанчика, они не демонстрируют склонности кормиться вместе с друзьями. Во время работ в округе Толе исследователи лишь дважды собственными глазами видели кормление пары летучих мышей на одной корове. Чтобы непосредственно понаблюдать за этим процессом, авторы вооружились инфракрасными камерами и отправились на ферму в округе Ла Чоррера. В результате они смогли запечатлеть 14 случаев совместного кормления вампиров. В некоторых случаях рукокрылые вели себя дружелюбно, но иногда вступали в конфликт, причем более ожесточенный, чем можно наблюдать во время кормления в неволе (вероятно, это были представители разных колоний, не связанные родственными и дружескими узами).  Ученым также удалось записать ультразвуковые сигналы, которые вампиры издавали при кормлении. Два типа криков уже были знакомы специалистам: нисходящий сигнал, который эти летучие мыши производят в колониях, а также жужжание, сопровождающее конфликты особей. Однако помимо них исследователи также выявили еще один, неизвестный ранее сигнал, который на спектрограмме напоминает английскую букву «n». Его издавали вампиры, встретившиеся на одной корове. Картер и Риппергер не обнаружили подтверждений, что вампиры из одной колонии вместе ищут жертв. Тем не менее эти рукокрылые регулярно встречаются во время кормления, причем предпочитают питаться вместе с друзьями и родственниками (представители многих других видов животных, от птиц до дельфинов и приматов, также предпочитают кормиться вместе с друзьями). Поскольку прокусить кожу коровы довольно трудно, одна особь в паре может пить кровь из отверстия, которое уже проделала ее подруга. Это менее затратный способ поделиться едой, чем срыгнуть проглоченную кровь товарищу, оставшемуся в колонии. Также пара самок-подруг с большей вероятностью даст отпор конкурентам из других колоний, чем одиночная особь. Авторы предполагают, что совместное кормление укрепляет дружеские связи между самками вампиров — а в некоторых случаях дает им начало. Например, если две особи предпочитают определенный вид добычи, они с высокой вероятностью встретятся на одной и той же жертве, после чего их дружба продолжит развиваться на месте отдыха. С другой стороны, если две самки подружились внутри колонии, они, скорее всего, предпочтут пить кровь одних и тех же животных. В последние годы зоологи получают все больше данных о дружбе между дикими животными. Среди видов, которые заводят друзей на долгие годы, такие разные существа, как темноперые серые акулы (Carcharhinus amblyrhynchos), жирафы (Giraffa camelopardalis) и четыре вида фламинго.  Сергей Коленов '"
      ]
     },
     "execution_count": 88,
=======
=======
>>>>>>> Stashed changes
       "'Российский военно-транспортный самолет Ил-112В совершил первый полет, сообщает Авиационный комплекс имени Ильюшина. Испытания прошли на аэродроме воронежского авиазавода ПАО «ВАСО», командиром экипажа был шеф-пилот ПАО «Ил» Герой России Николай Куимов. Первый полет стал завершением цикла аэродромной отработки, в ходе которой были проведены испытания всех систем, в том числе пробежки по аэродрому. Полет прошел в штатном режиме. В воздухе Ил-112В сопровождал самолет-лаборатория Ил-114ЛЛ. Ил-112В в перспективе должен заменить легкий транспортник Ан-26. Он будет использоваться для перевозки и десантирования легкой техники, грузов и бойцов, его грузоподъемность — около пяти тонн. Самолет сможет развивать скорость до 550 километров в час и совершать полеты на расстояние до 3,4 тысячи километров, а при взлете с грунтовых аэродромов и максимальной загрузкой — до 1,2 тысячи километров. Транспортник сможет взлетать с взлетно-посадочных полос длиной не более 900 метров. Пробег Ил-112В при посадке составит около 600 метров. Ранее Министерство обороны России объявляло о намерении приобрести 62 самолета этого типа до 2020 года, однако в августе 2018 года появилась информация о планах заказать не менее 100 машин. Сергей Кузнецов '"
      ]
     },
     "execution_count": 40,
<<<<<<< Updated upstream
>>>>>>> Stashed changes
=======
>>>>>>> Stashed changes
     "metadata": {},
     "output_type": "execute_result"
    }
   ],
   "source": [
    "df.clean_text[0]"
   ]
  },
  {
   "cell_type": "markdown",
   "metadata": {},
   "source": [
    "Всё! Сохраняем датафрейм в файл. Для разнообразия сохраним в Excel:"
   ]
  },
  {
   "cell_type": "code",
<<<<<<< Updated upstream
<<<<<<< Updated upstream
   "execution_count": 89,
=======
   "execution_count": 41,
>>>>>>> Stashed changes
=======
   "execution_count": 41,
>>>>>>> Stashed changes
   "metadata": {},
   "outputs": [],
   "source": [
    "df.to_excel('nplus-news.xlsx')"
   ]
<<<<<<< Updated upstream
<<<<<<< Updated upstream
  },
  {
   "cell_type": "code",
   "execution_count": null,
   "metadata": {},
   "outputs": [],
   "source": []
=======
>>>>>>> Stashed changes
=======
>>>>>>> Stashed changes
  }
 ],
 "metadata": {
  "kernelspec": {
   "display_name": "Python 3",
   "language": "python",
   "name": "python3"
  },
  "language_info": {
   "codemirror_mode": {
    "name": "ipython",
    "version": 3
   },
   "file_extension": ".py",
   "mimetype": "text/x-python",
   "name": "python",
   "nbconvert_exporter": "python",
   "pygments_lexer": "ipython3",
   "version": "3.8.8"
  }
 },
 "nbformat": 4,
 "nbformat_minor": 2
}
