{
 "cells": [
  {
   "cell_type": "code",
   "execution_count": 11,
   "id": "f3068b50",
   "metadata": {},
   "outputs": [
    {
     "data": {
      "text/plain": [
       "(-0.8510732744595819, 2.8767471702429197)"
      ]
     },
     "execution_count": 11,
     "metadata": {},
     "output_type": "execute_result"
    }
   ],
   "source": [
    "from math import cos, sin, pi\n",
    "\n",
    "class dekart:\n",
    "    def __init__(self, ro, phi):\n",
    "        self.ro = ro\n",
    "        self.phi = phi\n",
    "        \n",
    "    def __eq__(self, other):\n",
    "        return (abs(self.ro * cos(self.phi) - other.ro * cos(other.phi)) < 0.00001) and (abs(self.ro * sin(self.phi) - other.ro * sin(other.phi)))\n",
    "    \n",
    "    def __lt__(self, other):\n",
    "        return self.ro < other.ro\n",
    "    \n",
    "    def xy(self):\n",
    "        #x = self.ro * cos(self.phi)\n",
    "        #y = self.ro * sin(self.phi)\n",
    "        return self.ro * cos(self.phi),self.ro * sin(self.phi)\n",
    "    \n",
    "    def __repr__(self):\n",
    "        return f'{self.ro},{self.phi}, {self.ro * cos(self.phi)}, {self.ro * sin(self.phi)}'\n",
    "    \n",
    "    \n",
    "a = dekart(3,360)\n",
    "b = a.xy\n",
    "b()\n",
    "#print(a)\n",
    "        "
   ]
  },
  {
   "cell_type": "code",
   "execution_count": null,
   "id": "30c03eec",
   "metadata": {},
   "outputs": [],
   "source": []
  }
 ],
 "metadata": {
  "kernelspec": {
   "display_name": "Python 3",
   "language": "python",
   "name": "python3"
  },
  "language_info": {
   "codemirror_mode": {
    "name": "ipython",
    "version": 3
   },
   "file_extension": ".py",
   "mimetype": "text/x-python",
   "name": "python",
   "nbconvert_exporter": "python",
   "pygments_lexer": "ipython3",
   "version": "3.8.8"
  }
 },
 "nbformat": 4,
 "nbformat_minor": 5
}
