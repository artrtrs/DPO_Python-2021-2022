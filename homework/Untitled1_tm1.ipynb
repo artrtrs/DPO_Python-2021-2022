{
 "cells": [
  {
   "cell_type": "code",
   "execution_count": 41,
   "id": "660849c1",
   "metadata": {},
   "outputs": [
    {
     "data": {
      "text/plain": [
       "\"['Plan',{'InStock','OnOrder','Commissioned','Committed'}]=N:IF(NUMBR(!Year)<NUMBR(DB('SystemSettings','CurrentYear','String')),['Actual'],Continue);\""
      ]
     },
     "execution_count": 41,
     "metadata": {},
     "output_type": "execute_result"
    }
   ],
   "source": [
    "import re\n",
    "\n",
    "#f = open('tm1rules.rux', 'r', encoding = 'utf8')\n",
    "\n",
    "#for idx in range(len(surnames)):\n",
    "#    f.write(f'{surnames[idx]},{ages[idx]}\\n')\n",
    "\n",
    "#s = f.read()\n",
    "\n",
    "#f.close()\n",
    "\n",
    "#s\n",
    "\n",
    "with open('tm1rules.csv') as f:\n",
    "    contents = f.readlines()\n",
    "\n",
    "f.close\n",
    "\n",
    "contents\n",
    "\n",
    "i = 0\n",
    "\n",
    "for i in range(len(contents)):\n",
    "    contents[i] = re.sub('\\s+','',contents[i].strip())\n",
    "\n",
    "contents\n",
    "\n",
    "''.join(contents)\n"
   ]
  },
  {
   "cell_type": "code",
   "execution_count": null,
   "id": "5456e0b3",
   "metadata": {},
   "outputs": [],
   "source": []
  },
  {
   "cell_type": "code",
   "execution_count": null,
   "id": "efb84876",
   "metadata": {},
   "outputs": [],
   "source": []
  }
 ],
 "metadata": {
  "kernelspec": {
   "display_name": "Python 3",
   "language": "python",
   "name": "python3"
  },
  "language_info": {
   "codemirror_mode": {
    "name": "ipython",
    "version": 3
   },
   "file_extension": ".py",
   "mimetype": "text/x-python",
   "name": "python",
   "nbconvert_exporter": "python",
   "pygments_lexer": "ipython3",
   "version": "3.8.8"
  }
 },
 "nbformat": 4,
 "nbformat_minor": 5
}
