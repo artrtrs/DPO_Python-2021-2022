{
 "cells": [
  {
   "cell_type": "code",
   "execution_count": 1,
   "id": "1db631b3",
   "metadata": {},
   "outputs": [
    {
     "data": {
      "text/plain": [
       "<Response [403]>"
      ]
     },
     "execution_count": 1,
     "metadata": {},
     "output_type": "execute_result"
    }
   ],
   "source": [
    "# парсим мемы по статье https://habr.com/ru/company/ods/blog/346632/\n",
    "\n",
    "import requests      # Библиотека для отправки запросов\n",
    "import numpy as np   # Библиотека для матриц, векторов и линала\n",
    "import pandas as pd  # Библиотека для табличек\n",
    "import time          # Библиотека для тайм-менеджмента\n",
    "\n",
    "page_link = 'http://knowyourmeme.com/memes/all/page/1'\n",
    "response = requests.get(page_link)\n",
    "response"
   ]
  },
  {
   "cell_type": "code",
   "execution_count": 2,
   "id": "0096007d",
   "metadata": {},
   "outputs": [
    {
     "name": "stdout",
     "output_type": "stream",
     "text": [
      "User-Agent: python-requests/2.25.1\n",
      "Accept-Encoding: gzip, deflate\n",
      "Accept: */*\n",
      "Connection: keep-alive\n"
     ]
    }
   ],
   "source": [
    "for key, value in response.request.headers.items():\n",
    "    print(key+\": \"+value)"
   ]
  },
  {
   "cell_type": "code",
   "execution_count": 4,
   "id": "cf994266",
   "metadata": {},
   "outputs": [],
   "source": [
    "# подгрузим один из методов этой библиотеки\n",
    "from fake_useragent import UserAgent\n",
    "#UserAgent().chrome"
   ]
  },
  {
   "cell_type": "code",
   "execution_count": 5,
   "id": "8d60a0c5",
   "metadata": {},
   "outputs": [
    {
     "data": {
      "text/plain": [
       "'Mozilla/5.0 (Macintosh; U; Intel Mac OS X 10_6_7; ja-jp) AppleWebKit/533.20.25 (KHTML, like Gecko) Version/5.0.4 Safari/533.20.27'"
      ]
     },
     "execution_count": 5,
     "metadata": {},
     "output_type": "execute_result"
    }
   ],
   "source": [
    "UserAgent().safari"
   ]
  },
  {
   "cell_type": "code",
   "execution_count": 6,
   "id": "34af65eb",
   "metadata": {},
   "outputs": [
    {
     "data": {
      "text/plain": [
       "<Response [200]>"
      ]
     },
     "execution_count": 6,
     "metadata": {},
     "output_type": "execute_result"
    }
   ],
   "source": [
    "response = requests.get(page_link, headers={'User-Agent': UserAgent().safari})\n",
    "response"
   ]
  },
  {
   "cell_type": "code",
   "execution_count": 7,
   "id": "7107debb",
   "metadata": {},
   "outputs": [
    {
     "data": {
      "text/plain": [
       "b'<!DOCTYPE html>\\n<html xmlns:fb=\\'https://www.facebook.com/2008/fbml\\' xmlns=\\'https://www.w3.org/1999/xhtml\\'>\\n<head>\\n<meta content=\\'text/html; charset=utf-8\\' http-equiv=\\'Content-Type\\'>\\n<script type=\"text/javascript\">window.NREUM||(NREUM={});NREUM.info={\"beacon\":\"bam-cell.nr-data.net\",\"errorBeacon\":\"bam-cell.nr-data.net\",\"licenseKey\":\"c1a6d52f38\",\"applicationID\":\"31165848\",\"transactionName\":\"dFdfRUpeWglTQB8GDUNKWFRLHlcJWg==\",\"queueTime\":0,\"applicationTime\":57,\"agent\":\"\"}</script>\\n<script type=\"text/javascript\">(window.NREUM||(NREUM={})).init={ajax:{deny_list:[\"bam-cell.nr-data.net\"]}};(window.NREUM||(NREUM={})).loader_config={licenseKey:\"c1a6d52f38\",applicationID:\"31165848\"};window.NREUM||(NREUM={}),__nr_require=function(t,e,n){function r(n){if(!e[n]){var i=e[n]={exports:{}};t[n][0].call(i.exports,function(e){var i=t[n][1][e];return r(i||e)},i,i.exports)}return e[n].exports}if(\"function\"==typeof __nr_require)return __nr_require;for(var i=0;i<n.length;i++)r(n[i]);return r}({1:[function(t,e,'"
      ]
     },
     "execution_count": 7,
     "metadata": {},
     "output_type": "execute_result"
    }
   ],
   "source": [
    "html = response.content\n",
    "html[:1000]"
   ]
  },
  {
   "cell_type": "code",
   "execution_count": 8,
   "id": "ae076dcc",
   "metadata": {},
   "outputs": [],
   "source": [
    "from bs4 import BeautifulSoup"
   ]
  },
  {
   "cell_type": "code",
   "execution_count": 10,
   "id": "e2e803ef",
   "metadata": {},
   "outputs": [],
   "source": [
    "soup = BeautifulSoup(html,'html.parser') # В опции также можно указать lxml,\n",
    "                                         # если предварительно установить одноименный пакет"
   ]
  },
  {
   "cell_type": "code",
   "execution_count": 11,
   "id": "d4f27c76",
   "metadata": {},
   "outputs": [
    {
     "data": {
      "text/plain": [
       "<!DOCTYPE html>\n",
       "\n",
       "<html xmlns=\"https://www.w3.org/1999/xhtml\" xmlns:fb=\"https://www.facebook.com/2008/fbml\">\n",
       "<head>\n",
       "<meta content=\"text/html; charset=utf-8\" http-equiv=\"Content-Type\"/>\n",
       "<script type=\"text/javascript\">window.NREUM||(NREUM={});NREUM.info={\"beacon\":\"bam-cell.nr-data.net\",\"errorBeacon\":\"bam-cell.nr-data.net\",\"licenseKey\":\"c1a6d52f38\",\"applicationID\":\"31165848\",\"transactionName\":\"dFdfRUpeWglTQB8GDUNKWFRLHlcJWg==\",\"queueTime\":0,\"applicationTime\":57,\"agent\":\"\"}</script>\n",
       "<script type=\"text/javascript\">(window.NREUM||(NREUM={})).init={ajax:{deny_list:[\"bam-cell.nr-data.net\"]}};(window.NREUM||(NREUM={})).loader_config={licenseKey:\"c1a6d52f38\",applicationID:\"31165848\"};window.NREUM||(NREUM={}),__nr_require=function(t,e,n){function r(n){if(!e[n]){var i=e[n]={exports:{}};t[n][0].call(i.exports,function(e){var i=t[n][1][e];return r(i||e)},i,i.exports)}return e[n].exports}if(\"function\"==typeof __nr_require)return __nr_require;for(var i=0;i<n.length;i++)r(n[i]);return r}({1:[function(t,e,n){function r(){}function i(t,e,n){return function(){return o(t,[u.now()].concat(f(arguments)),e?null:this,n),e?void 0:this}}var o=t(\"handle\"),a=t(8),f=t(9),c=t(\"ee\").get(\"tracer\"),u=t(\"loader\"),s=NREUM;\"undefined\"==typeof window.newrelic&&(newrelic=s);var d=[\"setPageViewName\",\"setCustomAttribute\",\"setErrorHandler\",\"finished\",\"addToTrace\",\"inlineHit\",\"addRelease\"],p=\"api-\",l=p+\"ixn-\";a(d,function(t,e){s[e]=i(p+e,!0,\"api\")}),s.addPageAction=i(p+\"addPageAction\",!0),s.setCurrentRouteName=i(p+\"routeName\",!0),e.exports=newrelic,s.interaction=function(){return(new r).get()};var m=r.prototype={createTracer:function(t,e){var n={},r=this,i=\"function\"==typeof e;return o(l+\"tracer\",[u.now(),t,n],r),function(){if(c.emit((i?\"\":\"no-\")+\"fn-start\",[u.now(),r,i],n),i)try{return e.apply(this,arguments)}catch(t){throw c.emit(\"fn-err\",[arguments,this,t],n),t}finally{c.emit(\"fn-end\",[u.now()],n)}}}};a(\"actionText,setName,setAttribute,save,ignore,onEnd,getContext,end,get\".split(\",\"),function(t,e){m[e]=i(l+e)}),newrelic.noticeError=function(t,e){\"string\"==typeof t&&(t=new Error(t)),o(\"err\",[t,u.now(),!1,e])}},{}],2:[function(t,e,n){function r(t){if(NREUM.init){for(var e=NREUM.init,n=t.split(\".\"),r=0;r<n.length-1;r++)if(e=e[n[r]],\"object\"!=typeof e)return;return e=e[n[n.length-1]]}}e.exports={getConfiguration:r}},{}],3:[function(t,e,n){function r(){return f.exists&&performance.now?Math.round(performance.now()):(o=Math.max((new Date).getTime(),o))-a}function i(){return o}var o=(new Date).getTime(),a=o,f=t(10);e.exports=r,e.exports.offset=a,e.exports.getLastTimestamp=i},{}],4:[function(t,e,n){function r(t){return!(!t||!t.protocol||\"file:\"===t.protocol)}e.exports=r},{}],5:[function(t,e,n){function r(t,e){var n=t.getEntries();n.forEach(function(t){\"first-paint\"===t.name?d(\"timing\",[\"fp\",Math.floor(t.startTime)]):\"first-contentful-paint\"===t.name&&d(\"timing\",[\"fcp\",Math.floor(t.startTime)])})}function i(t,e){var n=t.getEntries();n.length>0&&d(\"lcp\",[n[n.length-1]])}function o(t){t.getEntries().forEach(function(t){t.hadRecentInput||d(\"cls\",[t])})}function a(t){if(t instanceof m&&!g){var e=Math.round(t.timeStamp),n={type:t.type};e<=p.now()?n.fid=p.now()-e:e>p.offset&&e<=Date.now()?(e-=p.offset,n.fid=p.now()-e):e=p.now(),g=!0,d(\"timing\",[\"fi\",e,n])}}function f(t){\"hidden\"===t&&d(\"pageHide\",[p.now()])}if(!(\"init\"in NREUM&&\"page_view_timing\"in NREUM.init&&\"enabled\"in NREUM.init.page_view_timing&&NREUM.init.page_view_timing.enabled===!1)){var c,u,s,d=t(\"handle\"),p=t(\"loader\"),l=t(7),m=NREUM.o.EV;if(\"PerformanceObserver\"in window&&\"function\"==typeof window.PerformanceObserver){c=new PerformanceObserver(r);try{c.observe({entryTypes:[\"paint\"]})}catch(v){}u=new PerformanceObserver(i);try{u.observe({entryTypes:[\"largest-contentful-paint\"]})}catch(v){}s=new PerformanceObserver(o);try{s.observe({type:\"layout-shift\",buffered:!0})}catch(v){}}if(\"addEventListener\"in document){var g=!1,h=[\"click\",\"keydown\",\"mousedown\",\"pointerdown\",\"touchstart\"];h.forEach(function(t){document.addEventListener(t,a,!1)})}l(f)}},{}],6:[function(t,e,n){function r(t,e){if(!i)return!1;if(t!==i)return!1;if(!e)return!0;if(!o)return!1;for(var n=o.split(\".\"),r=e.split(\".\"),a=0;a<r.length;a++)if(r[a]!==n[a])return!1;return!0}var i=null,o=null,a=/Version\\/(\\S+)\\s+Safari/;if(navigator.userAgent){var f=navigator.userAgent,c=f.match(a);c&&f.indexOf(\"Chrome\")===-1&&f.indexOf(\"Chromium\")===-1&&(i=\"Safari\",o=c[1])}e.exports={agent:i,version:o,match:r}},{}],7:[function(t,e,n){function r(t){function e(){t(a&&document[a]?document[a]:document[i]?\"hidden\":\"visible\")}\"addEventListener\"in document&&o&&document.addEventListener(o,e,!1)}e.exports=r;var i,o,a;\"undefined\"!=typeof document.hidden?(i=\"hidden\",o=\"visibilitychange\",a=\"visibilityState\"):\"undefined\"!=typeof document.msHidden?(i=\"msHidden\",o=\"msvisibilitychange\"):\"undefined\"!=typeof document.webkitHidden&&(i=\"webkitHidden\",o=\"webkitvisibilitychange\",a=\"webkitVisibilityState\")},{}],8:[function(t,e,n){function r(t,e){var n=[],r=\"\",o=0;for(r in t)i.call(t,r)&&(n[o]=e(r,t[r]),o+=1);return n}var i=Object.prototype.hasOwnProperty;e.exports=r},{}],9:[function(t,e,n){function r(t,e,n){e||(e=0),\"undefined\"==typeof n&&(n=t?t.length:0);for(var r=-1,i=n-e||0,o=Array(i<0?0:i);++r<i;)o[r]=t[e+r];return o}e.exports=r},{}],10:[function(t,e,n){e.exports={exists:\"undefined\"!=typeof window.performance&&window.performance.timing&&\"undefined\"!=typeof window.performance.timing.navigationStart}},{}],ee:[function(t,e,n){function r(){}function i(t){function e(t){return t&&t instanceof r?t:t?u(t,c,a):a()}function n(n,r,i,o,a){if(a!==!1&&(a=!0),!l.aborted||o){t&&a&&t(n,r,i);for(var f=e(i),c=v(n),u=c.length,s=0;s<u;s++)c[s].apply(f,r);var p=d[w[n]];return p&&p.push([b,n,r,f]),f}}function o(t,e){y[t]=v(t).concat(e)}function m(t,e){var n=y[t];if(n)for(var r=0;r<n.length;r++)n[r]===e&&n.splice(r,1)}function v(t){return y[t]||[]}function g(t){return p[t]=p[t]||i(n)}function h(t,e){l.aborted||s(t,function(t,n){e=e||\"feature\",w[n]=e,e in d||(d[e]=[])})}var y={},w={},b={on:o,addEventListener:o,removeEventListener:m,emit:n,get:g,listeners:v,context:e,buffer:h,abort:f,aborted:!1};return b}function o(t){return u(t,c,a)}function a(){return new r}function f(){(d.api||d.feature)&&(l.aborted=!0,d=l.backlog={})}var c=\"nr@context\",u=t(\"gos\"),s=t(8),d={},p={},l=e.exports=i();e.exports.getOrSetContext=o,l.backlog=d},{}],gos:[function(t,e,n){function r(t,e,n){if(i.call(t,e))return t[e];var r=n();if(Object.defineProperty&&Object.keys)try{return Object.defineProperty(t,e,{value:r,writable:!0,enumerable:!1}),r}catch(o){}return t[e]=r,r}var i=Object.prototype.hasOwnProperty;e.exports=r},{}],handle:[function(t,e,n){function r(t,e,n,r){i.buffer([t],r),i.emit(t,e,n)}var i=t(\"ee\").get(\"handle\");e.exports=r,r.ee=i},{}],id:[function(t,e,n){function r(t){var e=typeof t;return!t||\"object\"!==e&&\"function\"!==e?-1:t===window?0:a(t,o,function(){return i++})}var i=1,o=\"nr@id\",a=t(\"gos\");e.exports=r},{}],loader:[function(t,e,n){function r(){if(!R++){var t=M.info=NREUM.info,e=v.getElementsByTagName(\"script\")[0];if(setTimeout(u.abort,3e4),!(t&&t.licenseKey&&t.applicationID&&e))return u.abort();c(E,function(e,n){t[e]||(t[e]=n)});var n=a();f(\"mark\",[\"onload\",n+M.offset],null,\"api\"),f(\"timing\",[\"load\",n]);var r=v.createElement(\"script\");0===t.agent.indexOf(\"http://\")||0===t.agent.indexOf(\"https://\")?r.src=t.agent:r.src=l+\"://\"+t.agent,e.parentNode.insertBefore(r,e)}}function i(){\"complete\"===v.readyState&&o()}function o(){f(\"mark\",[\"domContent\",a()+M.offset],null,\"api\")}var a=t(3),f=t(\"handle\"),c=t(8),u=t(\"ee\"),s=t(6),d=t(4),p=t(2),l=p.getConfiguration(\"ssl\")===!1?\"http\":\"https\",m=window,v=m.document,g=\"addEventListener\",h=\"attachEvent\",y=m.XMLHttpRequest,w=y&&y.prototype,b=!d(m.location);NREUM.o={ST:setTimeout,SI:m.setImmediate,CT:clearTimeout,XHR:y,REQ:m.Request,EV:m.Event,PR:m.Promise,MO:m.MutationObserver};var x=\"\"+location,E={beacon:\"bam.nr-data.net\",errorBeacon:\"bam.nr-data.net\",agent:\"js-agent.newrelic.com/nr-1211.min.js\"},O=y&&w&&w[g]&&!/CriOS/.test(navigator.userAgent),M=e.exports={offset:a.getLastTimestamp(),now:a,origin:x,features:{},xhrWrappable:O,userAgent:s,disabled:b};if(!b){t(1),t(5),v[g]?(v[g](\"DOMContentLoaded\",o,!1),m[g](\"load\",r,!1)):(v[h](\"onreadystatechange\",i),m[h](\"onload\",r)),f(\"mark\",[\"firstbyte\",a.getLastTimestamp()],null,\"api\");var R=0}},{}],\"wrap-function\":[function(t,e,n){function r(t,e){function n(e,n,r,c,u){function nrWrapper(){var o,a,s,p;try{a=this,o=d(arguments),s=\"function\"==typeof r?r(o,a):r||{}}catch(l){i([l,\"\",[o,a,c],s],t)}f(n+\"start\",[o,a,c],s,u);try{return p=e.apply(a,o)}catch(m){throw f(n+\"err\",[o,a,m],s,u),m}finally{f(n+\"end\",[o,a,p],s,u)}}return a(e)?e:(n||(n=\"\"),nrWrapper[p]=e,o(e,nrWrapper,t),nrWrapper)}function r(t,e,r,i,o){r||(r=\"\");var f,c,u,s=\"-\"===r.charAt(0);for(u=0;u<e.length;u++)c=e[u],f=t[c],a(f)||(t[c]=n(f,s?c+r:r,i,c,o))}function f(n,r,o,a){if(!m||e){var f=m;m=!0;try{t.emit(n,r,o,e,a)}catch(c){i([c,n,r,o],t)}m=f}}return t||(t=s),n.inPlace=r,n.flag=p,n}function i(t,e){e||(e=s);try{e.emit(\"internal-error\",t)}catch(n){}}function o(t,e,n){if(Object.defineProperty&&Object.keys)try{var r=Object.keys(t);return r.forEach(function(n){Object.defineProperty(e,n,{get:function(){return t[n]},set:function(e){return t[n]=e,e}})}),e}catch(o){i([o],n)}for(var a in t)l.call(t,a)&&(e[a]=t[a]);return e}function a(t){return!(t&&t instanceof Function&&t.apply&&!t[p])}function f(t,e){var n=e(t);return n[p]=t,o(t,n,s),n}function c(t,e,n){var r=t[e];t[e]=f(r,n)}function u(){for(var t=arguments.length,e=new Array(t),n=0;n<t;++n)e[n]=arguments[n];return e}var s=t(\"ee\"),d=t(9),p=\"nr@original\",l=Object.prototype.hasOwnProperty,m=!1;e.exports=r,e.exports.wrapFunction=f,e.exports.wrapInPlace=c,e.exports.argsToArray=u},{}]},{},[\"loader\"]);</script>\n",
       "<meta content=\"All Entries\" property=\"og:title\">\n",
       "<meta content=\"Know Your Meme\" property=\"og:site_name\"/>\n",
       "<meta content=\"https://s.kym-cdn.com/assets/kym-logo-large.png\" property=\"og:image\"/>\n",
       "<meta content=\"600\" property=\"og:image:width\"/>\n",
       "<meta content=\"315\" property=\"og:image:height\"/>\n",
       "<meta content=\"article\" property=\"og:type\"/>\n",
       "<meta content=\"104675392961482\" property=\"fb:app_id\"/>\n",
       "<meta content=\"88519108736\" property=\"fb:pages\"/>\n",
       "<meta content=\"https://www.facebook.com/knowyourmeme\" property=\"article:publisher\"/>\n",
       "<meta content=\"summary_large_image\" name=\"twitter:card\"/>\n",
       "<meta content=\"@knowyourmeme\" name=\"twitter:site\"/>\n",
       "<meta content=\"@knowyourmeme\" name=\"twitter:creator\"/>\n",
       "<meta content=\"All Entries\" name=\"twitter:title\"/>\n",
       "<meta content=\"Know Your Meme | Our confirmed section features over 1,000 entries on a wide range of Internet-related topics carefully researched and verified by the research staff.\" name=\"twitter:description\"/>\n",
       "<meta content=\"https://s.kym-cdn.com/assets/kym-logo-large.png\" name=\"twitter:image\"/>\n",
       "<meta content=\"Know Your Meme | Our confirmed section features over 1,000 entries on a wide range of Internet-related topics carefully researched and verified by the research staff.\" name=\"description\"/>\n",
       "<meta content=\"https://knowyourmeme.com/memes/all/page/1\" property=\"og:url\"/>\n",
       "<meta content=\"Know Your Meme | Our confirmed section features over 1,000 entries on a wide range of Internet-related topics carefully researched and verified by the research staff.\" property=\"og:description\"/>\n",
       "<meta content=\"unsafe-url\" name=\"referrer\"/>\n",
       "<link href=\"/assets/favicons/apple-icon-57x57.png\" rel=\"apple-touch-icon\" sizes=\"57x57\"/><link href=\"/assets/favicons/apple-icon-60x60.png\" rel=\"apple-touch-icon\" sizes=\"60x60\"/><link href=\"/assets/favicons/apple-icon-72x72.png\" rel=\"apple-touch-icon\" sizes=\"72x72\"/><link href=\"/assets/favicons/apple-icon-76x76.png\" rel=\"apple-touch-icon\" sizes=\"76x76\"/><link href=\"/assets/favicons/apple-icon-114x114.png\" rel=\"apple-touch-icon\" sizes=\"114x114\"/><link href=\"/assets/favicons/apple-icon-120x120.png\" rel=\"apple-touch-icon\" sizes=\"120x120\"/><link href=\"/assets/favicons/apple-icon-144x144.png\" rel=\"apple-touch-icon\" sizes=\"144x144\"/><link href=\"/assets/favicons/apple-icon-152x152.png\" rel=\"apple-touch-icon\" sizes=\"152x152\"/><link href=\"/assets/favicons/apple-icon-180x180.png\" rel=\"apple-touch-icon\" sizes=\"180x180\"/><link href=\"/assets/favicons/android-icon-192x192.png\" rel=\"icon\" sizes=\"192x192\" type=\"image/png\"/><link href=\"/assets/favicons/favicon-32x32.png\" rel=\"icon\" sizes=\"32x32\" type=\"image/png\"/><link href=\"/assets/favicons/favicon-96x96.png\" rel=\"icon\" sizes=\"96x96\" type=\"image/png\"/><link href=\"/assets/favicons/favicon-16x16.png\" rel=\"icon\" sizes=\"16x16\" type=\"image/png\"/>\n",
       "<title>All Entries | Know Your Meme</title>\n",
       "<link href=\"https://s.kym-cdn.com/assets/desktop-34ab2ceab2480e243efd4ebf81a5435a.css\" media=\"screen\" rel=\"stylesheet\" type=\"text/css\"/>\n",
       "<script src=\"https://s.kym-cdn.com/assets/desktop-0042409d17ae1673d48a8260c7171e21.js\" type=\"text/javascript\"></script>\n",
       "<script> (function(i,s,o,g,r,a,m){i['GoogleAnalyticsObject']=r;i[r]=i[r]||function(){ (i[r].q=i[r].q||[]).push(arguments)},i[r].l=1*new Date();a=s.createElement(o), m=s.getElementsByTagName(o)[0];a.async=1;a.src=g;m.parentNode.insertBefore(a,m) })(window,document,'script','https://www.google-analytics.com/analytics.js','ga'); ga('create', 'UA-15176568-9', 'auto', { 'useAmpClientId': true }); ga('set', 'dimension1', \"entries-all\"); ga('set', 'dimension2', \"false\"); ga('set', 'dimension3', \"false\"); ga('set', 'dimension4', \"false\"); ga('set', 'dimension5', \"false\"); ga('set', 'dimension6', \"\"); ga('send', 'pageview'); </script>\n",
       "<script type=\"text/javascript\">\n",
       "(function(w,d,s,l,i){w[l]=w[l]||[];w[l].push({'gtm.start':\n",
       "new Date().getTime(),event:'gtm.js'});var f=d.getElementsByTagName(s)[0],\n",
       "j=d.createElement(s),dl=l!='dataLayer'?'&l='+l:'';j.async=true;j.src=\n",
       "'https://www.googletagmanager.com/gtm.js?id='+i+dl;f.parentNode.insertBefore(j,f);\n",
       "})(window,document,'script','dataLayer','GTM-W7N8H86');\n",
       "</script>\n",
       "<link href=\"/newsfeed.rss\" rel=\"alternate\" title=\"Know Your Meme News Feed\" type=\"application/rss+xml\"/>\n",
       "<link href=\"/news.rss\" rel=\"alternate\" title=\"Know Your Meme News\" type=\"application/rss+xml\"/>\n",
       "<link href=\"/editorials.rss\" rel=\"alternate\" title=\"Know Your Meme Blog\" type=\"application/rss+xml\"/>\n",
       "<link href=\"/memes.rss\" rel=\"alternate\" title=\"Know Your Meme Latest Featured Entries\" type=\"application/rss+xml\"/>\n",
       "<link href=\"/memes/submissions.rss\" rel=\"alternate\" title=\"Know Your Meme Latest Submitted Entries\" type=\"application/rss+xml\"/>\n",
       "<link href=\"/photos.rss\" rel=\"alternate\" title=\"Know Your Meme Latest Images\" type=\"application/rss+xml\"/>\n",
       "<link href=\"https://knowyourmeme.com/memes/all/page/1\" rel=\"canonical\"/>\n",
       "<script type=\"text/javascript\">\n",
       "    (function() {\n",
       "      var _sf_async_config = window._sf_async_config = (window._sf_async_config || {});\n",
       "\n",
       "      _sf_async_config.uid = 6425;\n",
       "      \n",
       "        _sf_async_config.domain = 'knowyourmeme.com';\n",
       "      _sf_async_config.useCanonical = true;\n",
       "      _sf_async_config.useCanonicalDomain = true;\n",
       "\n",
       "      _sf_async_config.flickerControl = false;\n",
       "      _sf_async_config.sections = 'Entry Galleries';\n",
       "      _sf_async_config.authors = '';\n",
       "\n",
       "      var _cbq = window._cbq = (window._cbq || []);\n",
       "      _cbq.push(['_acct', 'anon']);\n",
       "\n",
       "      function loadChartbeat() {\n",
       "        var e = document.createElement('script');\n",
       "        var n = document.getElementsByTagName('script')[0];\n",
       "        e.type = 'text/javascript';\n",
       "        e.async = true;\n",
       "        e.src = '//static.chartbeat.com/js/chartbeat.js';\n",
       "        n.parentNode.insertBefore(e, n);\n",
       "      }\n",
       "\n",
       "      loadChartbeat();\n",
       "    })();\n",
       "  </script>\n",
       "<script src=\"https://www.zergnet.com/zerg-inf-multi.js\" type=\"text/javascript\"></script>\n",
       "<script> (function(h,o,t,j,a,r){ h.hj=h.hj||function(){(h.hj.q=h.hj.q||[]).push(arguments)}; h._hjSettings={hjid:1004046,hjsv:6}; a=o.getElementsByTagName('head')[0]; r=o.createElement('script');r.async=1; r.src=t+h._hjSettings.hjid+j+h._hjSettings.hjsv; a.appendChild(r); })(window,document,'https://static.hotjar.com/c/hotjar-','.js?sv='); </script>\n",
       "<meta content=\"3fa925d06e2f3c4af076ced1e6e951cf\" name=\"p:domain_verify\"/>\n",
       "<script async=\"true\" type=\"text/javascript\"> var elem = document.createElement('script'); elem.src = 'https://quantcast.mgr.consensu.org/cmp.js'; elem.async = true; elem.type = 'text/javascript'; var scpt = document.getElementsByTagName('script')[0]; scpt.parentNode.insertBefore(elem, scpt); (function() { var gdprAppliesGlobally = true; function addFrame() { if (!window.frames['__cmpLocator']) { if (document.body) { var body = document.body; var iframe = document.createElement('iframe'); iframe.style = 'display:none'; iframe.name = '__cmpLocator'; body.appendChild(iframe); } else { setTimeout(addFrame, 5); } } } addFrame(); function cmpMsgHandler(event) { var msgIsString = typeof event.data === 'string'; var json; if (msgIsString) { json = event.data.indexOf('__cmpCall') != -1 ? JSON.parse(event.data) : {}; } else { json = event.data; } if (json.__cmpCall) { var i = json.__cmpCall; window.__cmp(i.command, i.parameter, function(retValue, success) { var returnMsg = { '__cmpReturn': { 'returnValue': retValue, 'success': success, 'callId': i.callId } }; event.source.postMessage(msgIsString ? JSON.stringify(returnMsg) : returnMsg, '*'); }); } } window.__cmp = function(c) { var b = arguments; if (!b.length) { return __cmp.a; } else if (b[0] === 'ping') { b[2]({ 'gdprAppliesGlobally': gdprAppliesGlobally, 'cmpLoaded': false }, true); } else if (c == '__cmp') { return false; } else { if (typeof __cmp.a === 'undefined') { __cmp.a = []; } __cmp.a.push([].slice.apply(b)); } }; window.__cmp.gdprAppliesGlobally = gdprAppliesGlobally; window.__cmp.msgHandler = cmpMsgHandler; if (window.addEventListener) { window.addEventListener('message', cmpMsgHandler, false); } else { window.attachEvent('onmessage', cmpMsgHandler); } })(); window.__cmp('init', { 'Language': 'en', 'Initial Screen Reject Button Text': 'I do not accept', 'Initial Screen Accept Button Text': 'I accept', 'Purpose Screen Body Text': 'You can set your consent preferences and determine how you want your data to be used based on the purposes below. You may set your preferences for us independently from those of third-party partners. Each purpose has a description so that you know how we and partners use your data.', 'Vendor Screen Body Text': 'You can set consent preferences for each individual third-party company below. Expand each company list item to see what purposes they use data for to help make your choices. In some cases, companies may disclose that they use your data without asking for your consent, based on their legitimate interests. You can click on their privacy policies for more information and to opt out.', 'Vendor Screen Accept All Button Text': 'Accept all', 'Vendor Screen Reject All Button Text': 'Reject all', 'Initial Screen Body Text': 'We and our partners use technology such as cookies on our site to personalise content and ads, provide social media features, and analyse our traffic. Click below to consent to the use of this technology across the web. You can change your mind and change your consent choices at anytime by returning to this site.', 'Initial Screen Body Text Option': 1, 'Publisher Name': 'Know Your Meme', 'Publisher Logo': 'https://s.kym-cdn.com/assets/kym-logo-large.png', 'Publisher Purpose IDs': [1, 2, 3, 5], 'Publisher Purpose Legitimate Interest IDs': [1, 2, 5], 'Display UI': 'inEU', 'No Option': false, 'Display Persistent Consent Link': false }); </script>\n",
       "<script type=\"text/javascript\">\n",
       "window.suggestmeyes_loaded = true;\n",
       "</script>\n",
       "</meta></head>\n",
       "<body class=\"cols guest entries entries_all production\" data-ad-page-type=\"Misc\" data-controller-action=\"entries-all\" data-demonetized=\"false\" data-layout=\"desktop\" data-nsfw=\"false\">\n",
       "<div data-exclude=\"ugc\" data-script=\"https://media.complex.com/common/cmnUNT.js\" data-silo=\"s_pop\" data-site=\"knowyourmeme\" data-tier=\"to,t2,subhome\" data-zone=\"misc\" id=\"complex-data\"></div>\n",
       "<div data-headerscript=\"https://ads.blogherads.com/sk/12/122/1226456/26277/header.js\" data-script=\"https://ads.blogherads.com/static/blogherads.js\" id=\"shemedia-data\"></div>\n",
       "<div data-sticky=\"kym_ros_sticky\" id=\"dfp-data\"></div>\n",
       "<script type=\"text/javascript\"> (function() { function async_load(script_url) { var protocol = ('https:' == document.location.protocol ? 'https://' : 'http://'); var scr = document.createElement('script'); scr.src = protocol + script_url; var position = document.getElementsByTagName('script')[0]; position.parentNode.insertBefore(scr, position); } jQuery(document).ready(function() { async_load('literally-media.videoplayerhub.com/galleryplayer.js'); }); })(); </script>\n",
       "<noscript>\n",
       "<iframe height=\"0\" src=\"https://www.googletagmanager.com/ns.html?id=GTM-W7N8H86\" style=\"display:none;visibility:hidden\" width=\"0\"></iframe>\n",
       "</noscript>\n",
       "<div id=\"container\">\n",
       "<div class=\"longcat wrap\">\n",
       "<div id=\"global-message\"> <aside class=\"flash rel flash_notice\"> <p><a class=\"internal-link\" href=\"/editorials/know-your-meme-with-the-this-day-in-meme-history-newsletter\">Know Your Meme's 'This Day In Meme History' newsletter kicks off October 25th. Learn more and sign up here!</a></p> </aside> </div>\n",
       "<div class=\"rel\" id=\"omgkym\">\n",
       "<script type=\"text/javascript\"> window.fbAsyncInit = function() { FB.init({ appId: '104675392961482', status: false, xfbml: true, version: 'v3.3' }); $(document).trigger('fb-loaded'); }; (function(d, s, id) { var js, fjs = d.getElementsByTagName(s)[0]; if (d.getElementById(id)) return; js = d.createElement(s); js.id = id; js.src = 'https://connect.facebook.net/en_US/sdk.js'; fjs.parentNode.insertBefore(js, fjs); }(document, 'script', 'facebook-jssdk')); </script> <script type=\"text/javascript\"> (function() { var po = document.createElement('script'); po.type = 'text/javascript'; po.async = true; po.src = 'https://apis.google.com/js/plusone.js'; var s = document.getElementsByTagName('script')[0]; s.parentNode.insertBefore(po, s); })(); </script> <script async=\"\" data-pin-build=\"parsePins\" defer=\"\" src=\"https://assets.pinterest.com/js/pinit.js\" type=\"text/javascript\"></script> <script> window.twttr = (function(d, s, id) { var js, fjs = d.getElementsByTagName(s)[0], t = window.twttr || {}; if (d.getElementById(id)) return t; js = d.createElement(s); js.id = id; js.src = 'https://platform.twitter.com/widgets.js'; fjs.parentNode.insertBefore(js, fjs); t._e = []; t.ready = function(f) { t._e.push(f); }; return t; }(document, 'script', 'twitter-wjs')); </script> <header class=\"c\" id=\"mast\"> <div class=\"left\" id=\"logo\"> <a href=\"/\" title=\"Know Your Meme\"></a> </div> <div class=\"right\" id=\"search\"> <form action=\"/search\" id=\"search_form\" method=\"get\"> <input id=\"sort\" name=\"sort\" type=\"hidden\" value=\"newest\"/> <input autocapitalize=\"off\" autocorrect=\"off\" class=\"search-box\" id=\"search_box\" name=\"q\" placeholder=\"Search the database…\" type=\"text\" value=\"\"/><button id=\"search-submit\" type=\"submit\"></button></form> <div class=\"advanced-search-protips\"> <a href=\"/editorials/kym-database-search-operators\">Advanced Search Protips</a> </div> </div> <div class=\"right rel\" id=\"mast_links\"> <nav class=\"abs\" id=\"secondary_nav\"> <ul class=\"horiz\"> <li> <a href=\"/about\" rel=\"nofollow\">About</a> </li> <li> <a href=\"/editorials/rules-and-guidelines/\" id=\"rules_link\" rel=\"nofollow\"> <strong>Rules</strong> </a> </li> <li> <a href=\"/chat\" rel=\"nofollow\">Chat</a> </li> <li> <a class=\"random_button\" href=\"/random\" rel=\"nofollow\">Random</a> </li> <li> <a href=\"/activity\" rel=\"nofollow\">Activity</a> </li> </ul> </nav> <aside class=\"x_brt6 c abs\"> <p class=\"welcome\"> Welcome! <a class=\"b\" href=\"/login\" rel=\"nofollow\">Login</a> or <a class=\"b\" href=\"/signup\" rel=\"nofollow\">signup</a> now! </p> </aside> </div> </header>\n",
       "<nav id=\"navigation\"> <ul id=\"navigation-links\"> <li class=\"top-level\"> <a href=\"/\">Home</a> </li> <li class=\"top-level\"> <a href=\"/memes\">Memes</a> <ul class=\"dropdown\"> <li> <a href=\"/memes\">Confirmed</a> </li> <li> <a href=\"/memes/submissions\">Submissions</a> </li> <li> <a href=\"/memes/researching\">Researching</a> </li> <li> <a href=\"/memes/newsworthy\">Newsworthy</a> </li> <li> <a href=\"/memes/popular\">Popular</a> </li> <li> <a href=\"/memes/deadpool\">Deadpool</a> </li> <li> <a href=\"/memes/all\">All</a> </li> <li> <hr/> </li> <li> <a href=\"/memes/new?guidelines=1\" rel=\"nofollow\">Submit an Entry</a> </li> </ul> </li> <li class=\"top-level\"> <a href=\"/categories\">Categories</a> <ul class=\"dropdown\"> <li> <a href=\"/categories/culture\">Cultures</a> </li> <li> <a href=\"/categories/event\">Events</a> </li> <li> <a href=\"/categories/meme\">Memes</a> </li> <li> <a href=\"/categories/person\">People</a> </li> <li> <a href=\"/categories/site\">Sites</a> </li> <li> <a href=\"/categories/subculture\">Subcultures</a> </li> </ul> </li> <li class=\"top-level\"> <a href=\"//news.knowyourmeme.com:443/news\">News</a> </li> <li class=\"top-level\"> <a href=\"/photos\">Images</a> <ul class=\"dropdown\"> <li> <a href=\"/photos/trending\">Trending</a> </li> <li> <a href=\"/photos/most-commented\">Most Commented</a> </li> <li> <a href=\"/photos/most-favorited\">Most Favorited</a> </li> <li> <a href=\"/photos/most-liked\">Most Liked</a> </li> <li> <a href=\"/photos/least-liked\">Least Liked</a> </li> <li> <a href=\"/photos/most-viewed\">Most Viewed</a> </li> <li> <a href=\"/photos\">All</a> </li> <li> <hr/> </li> <li> <a href=\"/photos/templates\">Templates</a> </li> <li> <hr/> </li> <li> <a href=\"/photos/new\" rel=\"nofollow\">Upload an Image</a> </li> </ul> </li> <li class=\"top-level\"> <a href=\"/videos\">Videos</a> <ul class=\"dropdown\"> <li> <a href=\"/videos/trending\">Trending</a> </li> <li> <a href=\"/videos/most-commented\">Most Commented</a> </li> <li> <a href=\"/videos/most-favorited\">Most Favorited</a> </li> <li> <a href=\"/videos/most-liked\">Most Liked</a> </li> <li> <a href=\"/videos/most-viewed\">Most Viewed</a> </li> <li> <a href=\"/videos\">All</a> </li> <li> <hr/> </li> <li> <a href=\"/videos/new\" rel=\"nofollow\">Upload a Video</a> </li> </ul> </li> <li class=\"top-level\"> <a href=\"/forums\">Forums</a> <ul class=\"dropdown\"> <li> <a href=\"/forums/section/discussion\" rel=\"nofollow\">Discussion</a> </li> <li> <a href=\"/forums/general\">   General </a></li> <li> <a href=\"/forums/meme-research\">   Meme Research </a></li> <li> <a href=\"/forums/serious-debate\">   Serious Debate </a></li> <li> <a href=\"/forums/q-a\">   Q &amp; A </a></li> <li> <hr/> </li> <li> <a href=\"/forums/section/media\" rel=\"nofollow\">Media</a> </li> <li> <a href=\"/forums/video-games\">   Video Games </a></li> <li> <a href=\"/forums/moving-images\">   Moving Images </a></li> <li> <a href=\"/forums/books-comics\">   Books &amp; Comics </a></li> <li> <a href=\"/forums/music\">   Music </a></li> <li> <a href=\"/forums/websites\">   Websites </a></li> <li> <hr/> </li> <li> <a href=\"/forums/section/fun\" rel=\"nofollow\">Fun!</a> </li> <li> <a href=\"/forums/creative\">   Creative </a></li> <li> <a href=\"/forums/forum-games\">   Forum Games </a></li> <li> <a href=\"/forums/just-for-fun\">   Just For Fun </a></li> <li> <a href=\"/forums/riff-raff\">   Riff-Raff </a></li> <li> <a href=\"/forums/memeory-lane\">   Memeory Lane </a></li> <li> <hr/> </li> <li> <a href=\"/forums/section/maintenance\" rel=\"nofollow\">Maintenance</a> </li> <li> <a href=\"/forums/report-problems\">   Report Problems </a></li> <li> <a href=\"/forums/announcements\">   Announcements </a></li> <li> <a href=\"/forums/suggest-ideas\">   Suggest Ideas </a></li> <li> <hr/> </li> <li> <a href=\"/forums/all\" rel=\"nofollow\">All</a> </li> </ul> </li> <li class=\"top-level\"> <a href=\"/editorials\">Editorials</a> <ul class=\"dropdown\"> <li> <a href=\"/editorials/interviews\">Interviews</a> </li> <li> <a href=\"/editorials/in-the-media\">In the Media</a> </li> <li> <a href=\"/editorials/white-papers\">White Papers</a> </li> <li> <a href=\"/editorials/episode-notes\">Episode Notes</a> </li> <li> <a href=\"/editorials/behind-the-scenes\">Behind the Scenes</a> </li> <li> <a href=\"/editorials/meme-review\">Meme Review</a> </li> <li> <a href=\"/editorials/collections\">Collections</a> </li> <li> <a href=\"/editorials/poll\">Poll</a> </li> <li> <a href=\"/editorials/guides\">Guides</a> </li> <li> <a href=\"/editorials/meme-insider\">Meme Insider</a> </li> <li> <a href=\"/editorials/insights\">Insights</a> </li> <li> <a href=\"/editorials\">All</a> </li> </ul> </li> <li class=\"top-level\"> <a href=\"/episodes\">Episodes</a> </li> <li class=\"top-level\"> <a href=\"https://memeinsider.com/?utm_source=knowyourmeme.com&amp;utm_medium=header\" target=\"blank\">Meme Insider</a> </li> </ul> </nav>\n",
       "<section id=\"leaderboard\"> <ul> <li data-index=\"1\"> <article class=\"rel c entry\" id=\"newsfeed_lb_13970\"> <a class=\"photo left\" href=\"/memes/you-should-kill-yourself-now\" target=\"_self\"><img alt=\"Low Tier God's 'You Should Kill Yourself... Now!' Rant Generates Reactions And Wholesome Recaptions\" data-src=\"https://i.kym-cdn.com/featured_items/icons/wide/000/013/970/5f1.jpg\" height=\"112\" src=\"https://s.kym-cdn.com/assets/blank-b3f96f160b75b1b49b426754ba188fe8.gif\" title=\"Low Tier God's 'You Should Kill Yourself... Now!' Rant Generates Reactions And Wholesome Recaptions\" width=\"198\"/> <div class=\"info abs\"> <div class=\"c\"> Low Tier God's 'You Should Kill Yourself... Now!' Rant Generates Reactions And Wholesome Recaptions </div> </div> </a></article> </li> <li data-index=\"2\"> <article class=\"rel c entry\" id=\"newsfeed_lb_13969\"> <a class=\"photo left\" href=\"/memes/events/alec-baldwin-accidental-shooting-of-halyna-hutchins\" target=\"_self\"><img alt=\"Alec Baldwin Accidentally Shooting Two Crewmembers, With One Dying, Has Become A Meme In Record Time\" data-src=\"https://i.kym-cdn.com/featured_items/icons/wide/000/013/969/8675309.jpg\" height=\"112\" src=\"https://s.kym-cdn.com/assets/blank-b3f96f160b75b1b49b426754ba188fe8.gif\" title=\"Alec Baldwin Accidentally Shooting Two Crewmembers, With One Dying, Has Become A Meme In Record Time\" width=\"198\"/> <div class=\"info abs\"> <div class=\"c\"> Alec Baldwin Accidentally Shooting Two Crewmembers, With One Dying, Has Become A Meme In Record Time </div> </div> </a></article> </li> <li data-index=\"3\"> <article class=\"rel c entry\" id=\"newsfeed_lb_13968\"> <a class=\"photo left\" href=\"/memes/meet-me-at-our-spot-by-the-anxiety\" target=\"_self\"><img alt=\"TikTok Dance Trend Inspired By Willow Smith's Meet Me At Our Spot.\" data-src=\"https://i.kym-cdn.com/featured_items/icons/wide/000/013/968/tco_-_2021-10-22T120139.144.jpg\" height=\"112\" src=\"https://s.kym-cdn.com/assets/blank-b3f96f160b75b1b49b426754ba188fe8.gif\" title=\"TikTokers Catching A Vibe With Dance Trend Inspired By Willow Smith's 'Meet Me At Our Spot'\" width=\"198\"/> <div class=\"info abs\"> <div class=\"c\"> TikTokers Catching A Vibe With Dance Trend Inspired By Willow Smith's 'Meet Me At Our Spot' </div> </div> </a></article> </li> <li data-index=\"4\"> <article class=\"rel c entry\" id=\"newsfeed_lb_13967\"> <a class=\"photo left\" href=\"/memes/i-know-it-smell-crazy-in-there\" target=\"_self\"><img alt=\"'I Know It Smell Crazy In There' Captures Scents Which Can Travel Through The Screen\" data-src=\"https://i.kym-cdn.com/featured_items/icons/wide/000/013/967/d95.jpg\" height=\"112\" src=\"https://s.kym-cdn.com/assets/blank-b3f96f160b75b1b49b426754ba188fe8.gif\" title=\"'I Know It Smell Crazy In There' Captures Scents Which Can Travel Through The Screen\" width=\"198\"/> <div class=\"info abs\"> <div class=\"c\"> 'I Know It Smell Crazy In There' Captures Scents Which Can Travel Through The Screen </div> </div> </a></article> </li> <li data-index=\"5\"> <article class=\"rel c entry\" id=\"newsfeed_lb_13966\"> <a class=\"photo left\" href=\"/memes/violent-impulses\" target=\"_self\"><img alt=\"Violent Impulses Portrayed By Images Of Orange Tabby Cats In This Growing Meme Format\" data-src=\"https://i.kym-cdn.com/featured_items/icons/wide/000/013/966/4ce.jpg\" height=\"112\" src=\"https://s.kym-cdn.com/assets/blank-b3f96f160b75b1b49b426754ba188fe8.gif\" title=\"Violent Impulses Portrayed By Images Of Orange Tabby Cats In This Growing Meme Format\" width=\"198\"/> <div class=\"info abs\"> <div class=\"c\"> Violent Impulses Portrayed By Images Of Orange Tabby Cats In This Growing Meme Format </div> </div> </a></article> </li> </ul> </section> <section id=\"trending-bar\"> <h5 class=\"left\"> Also Trending: </h5> <a href=\"/memes/people/jontron--2\" title=\"JonTron\">JonTron</a> <a href=\"/memes/events/blfc-hallway-cum-pizza\" title=\"Furry C*m Pizza (NSFW)\">Furry C*m Pizza (NSFW)</a> <a href=\"/memes/events/alec-baldwin-accidental-shooting-of-halyna-hutchins\" title=\"Alec Baldwin Accidental Shooting of Halyna Hutchins\">Alec Baldwin Accidental Shooting of Halyna Hutchins</a> <a href=\"/memes/events/sidequesttherapys-trauma-dump-video\" title=\"Sidequesttherapy's &quot;Trauma Dump&quot; Video\">Sidequesttherapy's \"Trauma Dump\" Video</a> <a href=\"/memes/sus\" title=\"Sus\">Sus</a> <a href=\"/memes/people/keemstar\" title=\"Keemstar\">Keemstar</a> </section>\n",
       "</div>\n",
       "</div>\n",
       "</div>\n",
       "<div class=\"header-unit-wrapper shemedia-ad-wrapper\"> <div class=\"ad-container-div\"> <div class=\"shemedia-header-unit shemedia-ad\" data-name=\"kym_entry_top_leaderboard_desktop\" data-shemedia-size=\"flexbanner\" id=\"kym_entry_top_leaderboard_desktop\"> <div id=\"kym_entry_top_leaderboard_desktop\"></div> </div> </div> </div>\n",
       "<div class=\"x_brb6 c\" id=\"content\">\n",
       "<div class=\"\" id=\"maru\">\n",
       "<div class=\"c\" id=\"section_header_wrap\">\n",
       "<header class=\"c\" id=\"section_header\">\n",
       "<hgroup class=\"left\"> <h1> All Entries </h1> <br/> <p>Browsing all 29,397 meme entries.</p> <br/> </hgroup> <p class=\"right\"> <a class=\"button large red\" href=\"/memes/new?guidelines=1\" rel=\"nofollow\">+ Add an Entry</a> </p> <div class=\"homepage-share\"> <div class=\"facebook-homepage-like\"> <div class=\"like-text\">Like us on Facebook!</div> <div class=\"fb-like\" data-href=\"https://facebook.com/knowyourmeme\" data-position=\"header\" data-ref=\"page-like\" data-send=\"false\" data-show-faces=\"false\" data-width=\"475\"></div> </div> </div>\n",
       "</header>\n",
       "</div>\n",
       "<div id=\"flashes\"> </div>\n",
       "<nav>\n",
       "<ul class=\"tabs\" id=\"entry-gallery-tabs\">\n",
       "<li>\n",
       "<a href=\"/memes\">Confirmed</a>\n",
       "</li>\n",
       "<li>\n",
       "<a href=\"/memes/submissions\">Submissions</a>\n",
       "</li>\n",
       "<li>\n",
       "<a href=\"/memes/researching\">Researching</a>\n",
       "</li>\n",
       "<li>\n",
       "<a href=\"/memes/newsworthy\">Newsworthy</a>\n",
       "</li>\n",
       "<li>\n",
       "<a href=\"/memes/popular\">Most Popular</a>\n",
       "</li>\n",
       "<li>\n",
       "<a href=\"/memes/deadpool\">Deadpool</a>\n",
       "</li>\n",
       "<li class=\"current\">\n",
       "<a href=\"/memes/all\">All Entries</a>\n",
       "</li>\n",
       "</ul>\n",
       "</nav>\n",
       "<div id=\"infinite-scroll-wrapper\">\n",
       "<section id=\"entries\">\n",
       "<div class=\"entry-sort-options\">\n",
       "<p>\n",
       "<span class=\"entry-sort-link-text\">Sorted by:</span>\n",
       "<a class=\"type-sort-link selected sort-link-tooltip\" href=\"/memes/all\" title=\"Show newest entries added to the site first\">Newest</a>\n",
       "<a class=\"type-sort-link sort-link-tooltip\" href=\"/memes/all?sort=oldest\" title=\"Show oldest entries added to the site first\">Oldest</a>\n",
       "<a class=\"type-sort-link\" href=\"/memes/all?sort=views\">Views</a>\n",
       "<a class=\"type-sort-link sort-link-tooltip\" href=\"/memes/all?sort=chronological\" title=\"Show oldest entries by year first\">Chronological</a>\n",
       "<a class=\"type-sort-link sort-link-tooltip\" href=\"/memes/all?sort=reverse-chronological\" title=\"Show newest entries by year first\">Reverse Chronological</a>\n",
       "<a class=\"type-sort-link\" href=\"/memes/all?sort=comments\">Comments</a>\n",
       "<a class=\"type-sort-link\" href=\"/memes/all?sort=images\">Images</a>\n",
       "<a class=\"type-sort-link\" href=\"/memes/all?sort=videos\">Videos</a>\n",
       "</p>\n",
       "</div>\n",
       "<div class=\"item_listings\" id=\"entries_list\">\n",
       "<table class=\"entry_list\"> <tbody class=\"entry-grid-body infinite\"> <tr> <td class=\"entry_38670\"> <a class=\"photo\" href=\"/memes/and-im-kanye-west\"><img alt=\"And I'm Kanye West\" data-src=\"https://i.kym-cdn.com/entries/icons/medium/000/038/670/andimkanyewest.jpeg\" src=\"https://s.kym-cdn.com/assets/blank-b3f96f160b75b1b49b426754ba188fe8.gif\" title=\"And I'm Kanye West\"/> <div class=\"entry-labels\"> <span class=\"label label-submission\"> Submission </span> </div> </a><h2> <a href=\"/memes/and-im-kanye-west\">And I'm Kanye West</a> </h2> </td> <td class=\"entry_38669\"> <a class=\"photo\" href=\"/memes/things-ive-hit-with-my-car\"><img alt=\"Screenshots of the openings of two videos about hitting things with your car\" data-src=\"https://i.kym-cdn.com/entries/icons/medium/000/038/669/8675309.jpg\" src=\"https://s.kym-cdn.com/assets/blank-b3f96f160b75b1b49b426754ba188fe8.gif\" title=\"Things I've Hit With My Car\"/> <div class=\"entry-labels\"> <span class=\"label label-submission\"> Submission </span> </div> </a><h2> <a href=\"/memes/things-ive-hit-with-my-car\">Things I've Hit With My Car</a> </h2> </td> <td class=\"entry_38668\"> <a class=\"photo\" href=\"/memes/hey-nerd-i-kissed-your-girlfriend-last-night\"><img alt=\"Hey Nerd, I Kissed Your Girlfriend Last Night\" data-src=\"https://i.kym-cdn.com/entries/icons/medium/000/038/668/cover5.jpg\" src=\"https://s.kym-cdn.com/assets/blank-b3f96f160b75b1b49b426754ba188fe8.gif\" title=\"Hey Nerd, I Kissed Your Girlfriend Last Night\"/> <div class=\"entry-labels\"> <span class=\"label label-submission\"> Submission </span> </div> </a><h2> <a href=\"/memes/hey-nerd-i-kissed-your-girlfriend-last-night\">Hey Nerd, I Kissed Your Girlfriend Last Night</a> </h2> </td> <td class=\"entry_38667\"> <a class=\"photo\" href=\"/memes/broccoli-in-hot-tub\"><img alt=\"Broccoli In Hot Tub\" data-src=\"https://i.kym-cdn.com/entries/icons/medium/000/038/667/tco_-_2021-10-25T163043.660.jpg\" src=\"https://s.kym-cdn.com/assets/blank-b3f96f160b75b1b49b426754ba188fe8.gif\" title=\"Broccoli In Hot Tub\"/> <div class=\"entry-labels\"> <span class=\"label label-submission\"> Submission </span> </div> </a><h2> <a href=\"/memes/broccoli-in-hot-tub\">Broccoli In Hot Tub</a> </h2> </td> </tr> <tr> <td class=\"entry_38666\"> <a class=\"photo\" href=\"/memes/how-does-it-feel-to-live-my-dream\"><img alt=\"How Does It Feel To Live My Dream\" data-src=\"https://i.kym-cdn.com/entries/icons/medium/000/038/666/tco_-_2021-10-25T141554.456.jpg\" src=\"https://s.kym-cdn.com/assets/blank-b3f96f160b75b1b49b426754ba188fe8.gif\" title=\"How Does It Feel To Live My Dream\"/> <div class=\"entry-labels\"> <span class=\"label label-submission\"> Submission </span> </div> </a><h2> <a href=\"/memes/how-does-it-feel-to-live-my-dream\">How Does It Feel To Live My Dream</a> </h2> </td> <td class=\"entry_38665\"> <a class=\"photo\" href=\"/memes/dj-khaled-playing-guitar\"><img alt=\"bob marley dj khaled guitar\" data-src=\"https://i.kym-cdn.com/entries/icons/medium/000/038/665/Screen_Shot_2021-10-25_at_12.25.43_PM.png\" src=\"https://s.kym-cdn.com/assets/blank-b3f96f160b75b1b49b426754ba188fe8.gif\" title=\"DJ Khaled Playing Guitar\"/> <div class=\"entry-labels\"> <span class=\"label label-submission\"> Submission </span> </div> </a><h2> <a href=\"/memes/dj-khaled-playing-guitar\">DJ Khaled Playing Guitar</a> </h2> </td> <td class=\"entry_38664\"> <a class=\"photo\" href=\"/memes/salam-dari-binjai\"><img alt=\"Salam Dari Binjai\" data-src=\"https://i.kym-cdn.com/entries/icons/medium/000/038/664/cover_salam_dari_binjai.jpg\" src=\"https://s.kym-cdn.com/assets/blank-b3f96f160b75b1b49b426754ba188fe8.gif\" title=\"Salam Dari Binjai\"/> <div class=\"entry-labels\"> <span class=\"label label-submission\"> Submission </span> </div> </a><h2> <a href=\"/memes/salam-dari-binjai\">Salam Dari Binjai</a> </h2> </td> <td class=\"entry_38663\"> <a class=\"photo\" href=\"/memes/people/francis-bourgeois\"><img alt=\"Screenshots from Francis Bourgeois TikToks\" data-src=\"https://i.kym-cdn.com/entries/icons/medium/000/038/663/francisheader.jpg\" src=\"https://s.kym-cdn.com/assets/blank-b3f96f160b75b1b49b426754ba188fe8.gif\" title=\"Francis Bourgeois\"/> <div class=\"entry-labels\"> <span class=\"label label-submission\"> Submission </span> <span class=\"label\" style=\"background: #d32f2e; color: white;\">Person</span> </div> </a><h2> <a href=\"/memes/people/francis-bourgeois\">Francis Bourgeois</a> </h2> </td> </tr> <tr> <td colspan=\"4\"> <div class=\"combo-wrapper\"> <div class=\"combo-left\"> <a class=\"promotion-widget\" data-name=\"Youtooz Promo\" href=\"https://youtooz.com/collections/meme?utm_source=knowyourmeme&amp;utm_medium=banner&amp;utm_campaign=memecollection\" target=\"_blank\"><img alt=\"Youtooz Promo\" data-src=\"https://i.kym-cdn.com/promotions/images/wide/000/000/023/132.png\" height=\"250\" src=\"https://s.kym-cdn.com/assets/blank-b3f96f160b75b1b49b426754ba188fe8.gif\" title=\"Youtooz Promo\" width=\"350\"/> </a></div> <div class=\"combo-right\"> <div class=\"rectangle-unit-wrapper shemedia-ad-wrapper\"> <div class=\"ad-container-div\"> <div class=\"shemedia-rectangle-unit shemedia-ad\" data-name=\"kym_entry_incontent_mediumrect_desktop_01\" data-options='{\"containerId\":\"kym_entry_incontent_mediumrect_desktop_01\",\"lazyLoad\":false}' data-shemedia-size=\"medrec\" id=\"kym_entry_incontent_mediumrect_desktop_01\"></div> </div> </div> </div> <div class=\"clearfix\"></div> </div> </td> </tr> <tr> <td class=\"entry_38662\"> <a class=\"photo\" href=\"/memes/hyperborea\"><img alt=\"Hyperborea\" data-src=\"https://i.kym-cdn.com/entries/icons/medium/000/038/662/hyperborea-exodus.jpg\" src=\"https://s.kym-cdn.com/assets/blank-b3f96f160b75b1b49b426754ba188fe8.gif\" title=\"Hyperborea\"/> <div class=\"entry-labels\"> <span class=\"label label-submission\"> Submission </span> </div> </a><h2> <a href=\"/memes/hyperborea\">Hyperborea</a> </h2> </td> <td class=\"entry_38661\"> <a class=\"photo\" href=\"/memes/prank-him-john\"><img alt=\"Prank Him John\" data-src=\"https://i.kym-cdn.com/entries/icons/medium/000/038/661/tco_-_2021-10-25T115939.932.jpg\" src=\"https://s.kym-cdn.com/assets/blank-b3f96f160b75b1b49b426754ba188fe8.gif\" title=\"Prank Him John\"/> <div class=\"entry-labels\"> <span class=\"label label-submission\"> Submission </span> <span class=\"label label-nsfw\"> NSFW </span> </div> </a><h2> <a href=\"/memes/prank-him-john\">Prank Him John</a> </h2> </td> <td class=\"entry_38659\"> <a class=\"photo\" href=\"/memes/recording-events-on-3ds\"><img alt=\"Recording Events On 3DS\" data-src=\"https://i.kym-cdn.com/entries/icons/medium/000/038/659/tco_-_2021-10-25T105034.131.jpg\" src=\"https://s.kym-cdn.com/assets/blank-b3f96f160b75b1b49b426754ba188fe8.gif\" title=\"Recording Events On 3DS\"/> <div class=\"entry-labels\"> <span class=\"label label-submission\"> Submission </span> </div> </a><h2> <a href=\"/memes/recording-events-on-3ds\">Recording Events On 3DS</a> </h2> </td> <td class=\"entry_38658\"> <a class=\"photo\" href=\"/memes/the-feminine-urge\"><img alt=\"the feminine urge to play dumb (strategically)\" data-src=\"https://i.kym-cdn.com/entries/icons/medium/000/038/658/feminineurgeheader.jpg\" src=\"https://s.kym-cdn.com/assets/blank-b3f96f160b75b1b49b426754ba188fe8.gif\" title=\"The Feminine Urge\"/> <div class=\"entry-labels\"> <span class=\"label label-submission\"> Submission </span> </div> </a><h2> <a href=\"/memes/the-feminine-urge\">The Feminine Urge</a> </h2> </td> </tr> <tr> <td class=\"entry_38657\"> <a class=\"photo\" href=\"/memes/subcultures/lao-gan-ma\"><img alt=\"Lao Gan Ma\" data-src=\"https://i.kym-cdn.com/entries/icons/medium/000/038/657/lao_gan_ma.jpg\" src=\"https://s.kym-cdn.com/assets/blank-b3f96f160b75b1b49b426754ba188fe8.gif\" title=\"Lao Gan Ma\"/> <div class=\"entry-labels\"> <span class=\"label label-submission\"> Submission </span> <span class=\"label\" style=\"background: #5d1cb1; color: white;\">Subculture</span> </div> </a><h2> <a href=\"/memes/subcultures/lao-gan-ma\">Lao Gan Ma</a> </h2> </td> <td class=\"entry_38655\"> <a class=\"photo\" href=\"/memes/events/blfc-hallway-cum-pizza\"><img alt=\"BLFC Hallway Cum Pizza\" data-src=\"https://i.kym-cdn.com/entries/icons/medium/000/038/655/cover1.jpg\" src=\"https://s.kym-cdn.com/assets/blank-b3f96f160b75b1b49b426754ba188fe8.gif\" title=\"BLFC Hallway Cum Pizza\"/> <div class=\"entry-labels\"> <span class=\"label label-submission\"> Submission </span> <span class=\"label\" style=\"background: #0b6a40; color: white;\">Event</span> <span class=\"label label-nsfw\"> NSFW </span> </div> </a><h2> <a href=\"/memes/events/blfc-hallway-cum-pizza\">BLFC Hallway Cum Pizza</a> </h2> </td> <td class=\"entry_38653\"> <a class=\"photo\" href=\"/memes/events/alec-baldwin-accidental-shooting-of-halyna-hutchins\"><img alt=\"Alec Baldwin and Halyna Hutchins, referencing the accidental shooting on the set of the movie Rust in October 2021.\" data-src=\"https://i.kym-cdn.com/entries/icons/medium/000/038/653/8675309.jpg\" src=\"https://s.kym-cdn.com/assets/blank-b3f96f160b75b1b49b426754ba188fe8.gif\" title=\"Alec Baldwin Accidental Shooting of Halyna Hutchins\"/> <div class=\"entry-labels\"> <span class=\"label label-submission\"> Submission </span> <span class=\"label\" style=\"background: #0b6a40; color: white;\">Event</span> </div> </a><h2> <a href=\"/memes/events/alec-baldwin-accidental-shooting-of-halyna-hutchins\">Alec Baldwin Accidental Shooting of Halyna Hutchins</a> </h2> </td> <td class=\"entry_38652\"> <a class=\"photo\" href=\"/memes/meet-me-at-our-spot-by-the-anxiety\"><img alt='\"Meet Me At Our Spot\" By THE ANXIETY' data-src=\"https://i.kym-cdn.com/entries/icons/medium/000/038/652/tco_-_2021-10-22T120139.144.jpg\" src=\"https://s.kym-cdn.com/assets/blank-b3f96f160b75b1b49b426754ba188fe8.gif\" title='\"Meet Me At Our Spot\" By THE ANXIETY'/> <div class=\"entry-labels\"> <span class=\"label label-submission\"> Submission </span> </div> </a><h2> <a href=\"/memes/meet-me-at-our-spot-by-the-anxiety\">\"Meet Me At Our Spot\" By THE ANXIETY</a> </h2> </td> </tr> </tbody> </table>\n",
       "</div>\n",
       "<aside><div class=\"pagination_bottom c\"><div class=\"pagination\"><span class=\"previous_page disabled\">Previous</span> <em class=\"current\">1</em> <a href=\"/memes/all/page/2\" rel=\"next\">2</a> <a href=\"/memes/all/page/3\">3</a> <a href=\"/memes/all/page/4\">4</a> <a href=\"/memes/all/page/5\">5</a> <a href=\"/memes/all/page/6\">6</a> <a href=\"/memes/all/page/7\">7</a> <a href=\"/memes/all/page/8\">8</a> <a href=\"/memes/all/page/9\">9</a> <span class=\"gap\"></span> <a href=\"/memes/all/page/1837\">1837</a> <a href=\"/memes/all/page/1838\">1838</a> <a class=\"next_page\" href=\"/memes/all/page/2\" rel=\"next\">Next</a></div></div></aside>\n",
       "</section>\n",
       "</div>\n",
       "</div>\n",
       "<aside class=\"right\" id=\"sidebar\">\n",
       "<div class=\"sidebar_box c\" id=\"entry-categories-sidebar\"> <h3> <a data-category=\"Heading\" href=\"/categories\">Entry Categories</a> </h3> <a class=\"sidebar-category-badge\" data-category=\"Events\" href=\"/categories/event\" style=\"background: #0b6a40; color: white;\">Events <span>2,441</span></a> <a class=\"sidebar-category-badge\" data-category=\"Memes\" href=\"/categories/meme\" style=\"background: #220a51; color: white;\">Memes <span>21,962</span></a> <a class=\"sidebar-category-badge\" data-category=\"People\" href=\"/categories/person\" style=\"background: #d32f2e; color: white;\">People <span>1,917</span></a> <a class=\"sidebar-category-badge\" data-category=\"Sites\" href=\"/categories/site\" style=\"background: #e09f02; color: white;\">Sites <span>635</span></a> <a class=\"sidebar-category-badge\" data-category=\"Subcultures\" href=\"/categories/subculture\" style=\"background: #5d1cb1; color: white;\">Subcultures <span>2,217</span></a> </div> <div class=\"rectangle-unit-wrapper shemedia-ad-wrapper\"> <div class=\"ad-container-div\"> <div class=\"shemedia-rectangle-unit shemedia-ad\" data-name=\"kym_entry_mediumrect_desktop_1\" data-options='{\"containerId\":\"kym_entry_mediumrect_desktop_1\",\"lazyLoad\":true}' data-shemedia-size=\"flexrec\" id=\"kym_entry_mediumrect_desktop_1\"></div> </div> </div> <div class=\"sidebar_box c\" id=\"popular_galleries\"> <h3> Today's Top Image Galleries </h3> <table> <tr class=\"row-1\"> <td> <a href=\"/memes/ankha-zone/photos/trending\" rel=\"nofollow\"><img alt=\"ankha zone \" class=\"top-gallery-thumbnail\" data-src=\"https://i.kym-cdn.com/entries/icons/mobile/000/038/299/images-2021-09-11T082939.336.jpg\" height=\"90\" src=\"https://s.kym-cdn.com/assets/blank-b3f96f160b75b1b49b426754ba188fe8.gif\" width=\"144\"/></a> <h4> <a href=\"/memes/ankha-zone/photos/trending\" rel=\"nofollow\">Ankha Zone</a> </h4> </td> <td> <a href=\"/memes/activision-blizzard-lawsuit/photos/trending\" rel=\"nofollow\"><img alt=\"Picture of Blizzard Entertainment studios gate in california.\" class=\"top-gallery-thumbnail\" data-src=\"https://i.kym-cdn.com/entries/icons/mobile/000/037/840/sd.jpg\" height=\"90\" src=\"https://s.kym-cdn.com/assets/blank-b3f96f160b75b1b49b426754ba188fe8.gif\" width=\"144\"/></a> <h4> <a href=\"/memes/activision-blizzard-lawsuit/photos/trending\" rel=\"nofollow\">Activision-Blizzard Lawsuit</a> </h4> </td> </tr> <tr class=\"row-2\"> <td> <a href=\"/memes/happyroadkill/photos/trending\" rel=\"nofollow\"><img alt=\"Happyroadkill\" class=\"top-gallery-thumbnail\" data-src=\"https://i.kym-cdn.com/entries/icons/mobile/000/037/399/bd3bf0_8f3495cd05b24211bb28874b6f570a23_mv2.jpg\" height=\"90\" src=\"https://s.kym-cdn.com/assets/blank-b3f96f160b75b1b49b426754ba188fe8.gif\" width=\"144\"/></a> <h4> <a href=\"/memes/happyroadkill/photos/trending\" rel=\"nofollow\">Happyroadkill</a> </h4> </td> <td> <a href=\"/memes/deltarune/photos/trending\" rel=\"nofollow\"><img alt=\"delatrune logo\" class=\"top-gallery-thumbnail\" data-src=\"https://i.kym-cdn.com/entries/icons/mobile/000/027/550/Deltarune.jpg\" height=\"90\" src=\"https://s.kym-cdn.com/assets/blank-b3f96f160b75b1b49b426754ba188fe8.gif\" width=\"144\"/></a> <h4> <a href=\"/memes/deltarune/photos/trending\" rel=\"nofollow\">Deltarune</a> </h4> </td> </tr> </table> </div> <div class=\"sidebar_box c\" id=\"researching-entries\"> <h3> <a href=\"/memes/researching\">Researching Now</a> </h3> <a href=\"/memes/ogey-rrat\" rel=\"nofollow\"><img alt=\"Ogey_kym\" class=\"gallery_icon\" data-src=\"https://i.kym-cdn.com/entries/icons/tiny/000/038/647/ogey_KYM.jpg\" height=\"42\" src=\"https://s.kym-cdn.com/assets/blank-b3f96f160b75b1b49b426754ba188fe8.gif\" width=\"42\"/></a> <div class=\"topic\"> <h6> <a href=\"/memes/ogey-rrat\" rel=\"nofollow\">Ogey Rrat</a> </h6> <div class=\"stats\"> <dl> <dd class=\"views\" title=\"687 views\"> <a href=\"/memes/ogey-rrat\" rel=\"nofollow\">687 views</a> </dd> </dl> </div> </div> <div class=\"c\"></div> <a href=\"/memes/vaas-montenegro\" rel=\"nofollow\"><img alt=\"Cover5\" class=\"gallery_icon\" data-src=\"https://i.kym-cdn.com/entries/icons/tiny/000/038/383/cover5.jpg\" height=\"42\" src=\"https://s.kym-cdn.com/assets/blank-b3f96f160b75b1b49b426754ba188fe8.gif\" width=\"42\"/></a> <div class=\"topic\"> <h6> <a href=\"/memes/vaas-montenegro\" rel=\"nofollow\">Vaas Montenegro</a> </h6> <div class=\"stats\"> <dl> <dd class=\"views\" title=\"1,145 views\"> <a href=\"/memes/vaas-montenegro\" rel=\"nofollow\">1,145 views</a> </dd> </dl> </div> </div> <div class=\"c\"></div> <a href=\"/memes/people/nick-lutsko\" rel=\"nofollow\"><img alt=\"Nk\" class=\"gallery_icon\" data-src=\"https://i.kym-cdn.com/entries/icons/tiny/000/038/369/nk.jpg\" height=\"42\" src=\"https://s.kym-cdn.com/assets/blank-b3f96f160b75b1b49b426754ba188fe8.gif\" width=\"42\"/></a> <div class=\"topic\"> <h6> <a href=\"/memes/people/nick-lutsko\" rel=\"nofollow\">Nick Lutsko</a> </h6> <div class=\"stats\"> <dl> <dd class=\"views\" title=\"853 views\"> <a href=\"/memes/people/nick-lutsko\" rel=\"nofollow\">853 views</a> </dd> </dl> </div> </div> <div class=\"c\"></div> <a href=\"/memes/man-loses-last-bit-of-hope\" rel=\"nofollow\"><img alt=\"Lasthope\" class=\"gallery_icon\" data-src=\"https://i.kym-cdn.com/entries/icons/tiny/000/038/325/lasthope.jpg\" height=\"42\" src=\"https://s.kym-cdn.com/assets/blank-b3f96f160b75b1b49b426754ba188fe8.gif\" width=\"42\"/></a> <div class=\"topic\"> <h6> <a href=\"/memes/man-loses-last-bit-of-hope\" rel=\"nofollow\">Man Loses Last Bit Of Hope</a> </h6> <div class=\"stats\"> <dl> <dd class=\"views\" title=\"3,336 views\"> <a href=\"/memes/man-loses-last-bit-of-hope\" rel=\"nofollow\">3,336 views</a> </dd> </dl> </div> </div> <div class=\"c\"></div> <a href=\"/memes/mime-thinking-hard\" rel=\"nofollow\"><img alt=\"Think-emoji\" class=\"gallery_icon\" data-src=\"https://i.kym-cdn.com/entries/icons/tiny/000/038/312/think-emoji.jpeg\" height=\"42\" src=\"https://s.kym-cdn.com/assets/blank-b3f96f160b75b1b49b426754ba188fe8.gif\" width=\"42\"/></a> <div class=\"topic\"> <h6> <a href=\"/memes/mime-thinking-hard\" rel=\"nofollow\">Mime Thinking Hard</a> </h6> <div class=\"stats\"> <dl> <dd class=\"views\" title=\"2,169 views\"> <a href=\"/memes/mime-thinking-hard\" rel=\"nofollow\">2,169 views</a> </dd> </dl> </div> </div> <div class=\"c\"></div> </div> <div class=\"sticky-sidebar\"> <div class=\"rectangle-unit-wrapper shemedia-ad-wrapper\"> <div class=\"ad-container-div\"> <div class=\"shemedia-rectangle-unit shemedia-ad\" data-name=\"kym_entry_mediumrect_sticky_desktop\" data-options='{\"lazyLoad\":true}' data-shemedia-size=\"flexrec\" id=\"kym_entry_mediumrect_sticky_desktop\"></div> </div> </div> <div class=\"like_box\"> <div class=\"fb-page fb-page-like-sidebar\" data-adapt-container-width=\"false\" data-hide-cover=\"true\" data-href=\"https://www.facebook.com/knowyourmeme\" data-position=\"like-box\" data-show-facepile=\"false\" data-small-header=\"true\" data-width=\"300\"></div> </div> <div id=\"disable-infinite-scroll-button\"> <a class=\"large green button\" href=\"javascript:;\">Infinite Scroll <i class=\"fa fa-check-square-o\"></i> </a></div> <div class=\"privacy-policy\"> <a href=\"/privacy\" rel=\"nofollow\" target=\"_blank\">Privacy Policy</a> </div> </div>\n",
       "</aside>\n",
       "</div>\n",
       "<script async=\"\" data-cfasync=\"false\" src=\"https://api.b2c.com/api/init-40069ffybbzfqiynrkd.js\"></script> <noscript> <img src=\"https://api.b2c.com/api/noscript-40069ffybbzfqiynrkd.gif\"/> </noscript>\n",
       "<footer id=\"footer\"> <div class=\"wrap\"> <table id=\"footer_boxes\"> <tr> <td class=\"footer_box\"> <h5>About KYM</h5> <ul> <li> <a href=\"/about\">Our Story</a> </li> <li> <a href=\"/editorials/rules-and-guidelines/\">Site Rules</a> </li> <li> <a href=\"/credits\">Credits</a> </li> <li> <a href=\"/contact\">Contact</a> </li> </ul> </td> <td class=\"footer_box\"> <h5>Meme DB</h5> <ul> <li> <a href=\"/memes\">Memes</a> </li> <li> <a href=\"/episodes\">Episodes</a> </li> <li> <a href=\"/editorials\">Editorials</a> </li> <li> <a href=\"/photos\">Images</a> </li> <li> <a href=\"/videos\">Videos</a> </li> </ul> </td> <td class=\"footer_box\"> <h5>KYM News</h5> <ul> <li> <a href=\"/news\">Newsfeed</a> </li> <li> <a href=\"/news/staff\">Staff</a> </li> <li> <a href=\"/news/contact\">Contact</a> </li> </ul> </td> <td class=\"footer_box\"> <h5>Extras!</h5> <ul> <li> <a href=\"/chat\" rel=\"nofollow\">Chat</a> </li> <li> <a href=\"/forums\">Forums</a> </li> <li> <a href=\"/editorials/the-style-guide\">Style Guide</a> </li> <li> <a href=\"/subscribe\">RSS Feeds</a> </li> </ul> </td> <td class=\"footer_box\"> <h5>KYM Social</h5> <ul> <li> <a href=\"https://www.facebook.com/knowyourmeme\" rel=\"nofollow\" target=\"_blank\">Facebook</a> </li> <li> <a href=\"https://www.pinterest.com/knowyourmeme/\" rel=\"nofollow\" target=\"_blank\">Pinterest</a> </li> <li> <a href=\"https://twitter.com/knowyourmeme\" rel=\"nofollow\" target=\"_blank\">Twitter</a> </li> <li> <a href=\"https://www.youtube.com/user/KnowYourMeme\" rel=\"nofollow\" target=\"_blank\">YouTube</a> </li> <li> <a href=\"http://tumblr.knowyourmeme.com\" rel=\"nofollow\" target=\"_blank\">Tumblr</a> </li> </ul> </td> </tr> </table> </div> </footer> <div id=\"sub_network_footer_wrapper\"> <div id=\"subnetworkfooter\"> <p class=\"footerlinks\"> <strong> Legal Information: </strong> <a href=\"/\" rel=\"nofollow\" target=\"_blank\">Know Your Meme ®</a> is a trademark of <a href=\"http://literally.media\" rel=\"nofollow\" target=\"_blank\">Literally Media Ltd.</a> By using this site, you are agreeing by the site's <a href=\"/terms-of-service\" rel=\"nofollow\" target=\"_blank\">terms of use</a> and <a href=\"/privacy\" rel=\"nofollow\" target=\"_blank\">privacy policy</a> and <a href=\"/dmca\" rel=\"nofollow\" target=\"_blank\">DMCA policy</a>. <br/> © 2007-2021 <a href=\"http://literally.media\" target=\"_blank\">Literally Media Ltd.</a> </p> </div> </div>\n",
       "<div class=\"hide\"> <div id=\"login_signup_form\"> <h3>Word Up! You must login or signup first!</h3> <table> <tr> <td class=\"login\"> <h6>Already a memeber?</h6> <p><a class=\"large red button\" href=\"/login\" rel=\"nofollow\">Login Now!</a></p> </td> <td class=\"signup\"> <h6>Don't have an account?</h6> <p><a class=\"large red button\" href=\"/signup\" rel=\"nofollow\">Sign up Now!</a></p> </td> </tr> </table> </div> </div> <div class=\"hide\"> <div id=\"abm\"> <a href=\"/whitelist-us\" id=\"abm-image-link\" rel=\"nofollow\" target=\"_blank\"><img alt=\"Abm\" data-src=\"https://s.kym-cdn.com/assets/abm-5e4f6f4a89609dcba11dbc32772815cc.png\" height=\"800\" id=\"abm-image\" src=\"https://s.kym-cdn.com/assets/blank-b3f96f160b75b1b49b426754ba188fe8.gif\" width=\"800\"> </img></a><p> <a href=\"javascript:;\" id=\"abm-close-text\" rel=\"nofollow\">No thanks, take me back to the meme zone!</a> </p> </div> </div> <script type=\"text/javascript\">var _qevents = _qevents || []; (function() { var elem = document.createElement('script'); elem.src = (document.location.protocol == \"https:\" ? \"https://secure\" : \"http://edge\") + \".quantserve.com/quant.js\"; elem.async = true; elem.type = \"text/javascript\"; var scpt = document.getElementsByTagName('script')[0]; scpt.parentNode.insertBefore(elem, scpt); })(); _qevents.push([{ qacct:\"p-byLmeZUvD2jyq\" }]);</script> <noscript> <div style=\"display: none;\"> <img alt=\"Quantcast\" border=\"0\" height=\"1\" src=\"https://pixel.quantserve.com/pixel?a.1=p-75z9nhQwNH4Ek&amp;a.2=p-149W7Ang9fLCQ\" style=\"display: none;\" width=\"1\"/> </div> </noscript> <script type=\"text/javascript\">var _comscore = _comscore || []; _comscore.push({ c1: \"2\", c2: \"6685975\" }); (function() { var s = document.createElement(\"script\"), el = document.getElementsByTagName(\"script\")[0]; s.async = true; s.src = (document.location.protocol == \"https:\" ? \"https://sb\" : \"http://b\") + \".scorecardresearch.com/beacon.js\"; el.parentNode.insertBefore(s, el); })();</script> <noscript> <img src=\"https://sb.scorecardresearch.com/p?c1=2&amp;c2=6685975&amp;cv=2.0&amp;cj=1\"/> </noscript> <div class=\"chartbeat-sections\" data-sections=\"Entry Galleries\"></div> <script> function sendToGoogleAnalytics({name, delta, id}) { console.log(name); ga('send', 'event', { eventCategory: 'Web Vitals', eventAction: name, eventLabel: id, eventValue: Math.round(name === 'CLS' ? delta * 1000 : delta), nonInteraction: true, transport: 'beacon', }); } (function() { var script = document.createElement('script'); script.src = 'https://unpkg.com/web-vitals'; script.onload = function() { webVitals.getCLS(sendToGoogleAnalytics); webVitals.getFID(sendToGoogleAnalytics); webVitals.getLCP(sendToGoogleAnalytics); }; document.getElementsByTagName(\"head\")[0].appendChild(script); }()) </script>\n",
       "<div class=\"social-data\" data-media=\"https://s.kym-cdn.com/assets/kym-logo-large.png\" data-url=\"https://knowyourmeme.com/memes/all/page/1\"></div>\n",
       "<div class=\"complex-ad-wrapper adhesion hide\"> <div class=\"adhesion-dismissal\"> <a href=\"#\" id=\"adhesion_dismiss\">Close [X]</a> </div> <div class=\"complex-ad\" data-complex=\"false\" data-dfp-name=\"kym_adhesion_desktop\" data-dfp-size=\"[728, 90]\" data-options='{\"containerId\":\"kym_adhesion\",\"keywords\":\"userLoggedIn\"}' id=\"kym_adhesion\"></div> </div>\n",
       "<div class=\"complex-ad-wrapper\"> <div class=\"complex-ad\" data-complex=\"false\" data-dfp-name=\"kym_richmedia\" data-dfp-size=\"[1, 1]\" data-options='{\"containerId\":\"kym_richmedia\"}' id=\"kym_richmedia\"></div> </div>\n",
       "<script async=\"\" src=\"https://confiant-integrations.global.ssl.fastly.net/1LTHH6xASXMDHFRDP1KqXZl59ww/gpt_and_prebid/config.js\"></script>\n",
       "</body>\n",
       "</html>"
      ]
     },
     "execution_count": 11,
     "metadata": {},
     "output_type": "execute_result"
    }
   ],
   "source": [
    "soup"
   ]
  },
  {
   "cell_type": "code",
   "execution_count": 12,
   "id": "2a21fe3a",
   "metadata": {},
   "outputs": [
    {
     "data": {
      "text/plain": [
       "<title>All Entries | Know Your Meme</title>"
      ]
     },
     "execution_count": 12,
     "metadata": {},
     "output_type": "execute_result"
    }
   ],
   "source": [
    "soup.html.head.title"
   ]
  },
  {
   "cell_type": "code",
   "execution_count": 13,
   "id": "51293218",
   "metadata": {},
   "outputs": [
    {
     "data": {
      "text/plain": [
       "'All Entries | Know Your Meme'"
      ]
     },
     "execution_count": 13,
     "metadata": {},
     "output_type": "execute_result"
    }
   ],
   "source": [
    "soup.html.head.title.text"
   ]
  },
  {
   "cell_type": "code",
   "execution_count": 14,
   "id": "d789b5dd",
   "metadata": {},
   "outputs": [
    {
     "data": {
      "text/plain": [
       "<a class=\"photo left\" href=\"/memes/you-should-kill-yourself-now\" target=\"_self\"><img alt=\"Low Tier God's 'You Should Kill Yourself... Now!' Rant Generates Reactions And Wholesome Recaptions\" data-src=\"https://i.kym-cdn.com/featured_items/icons/wide/000/013/970/5f1.jpg\" height=\"112\" src=\"https://s.kym-cdn.com/assets/blank-b3f96f160b75b1b49b426754ba188fe8.gif\" title=\"Low Tier God's 'You Should Kill Yourself... Now!' Rant Generates Reactions And Wholesome Recaptions\" width=\"198\"/> <div class=\"info abs\"> <div class=\"c\"> Low Tier God's 'You Should Kill Yourself... Now!' Rant Generates Reactions And Wholesome Recaptions </div> </div> </a>"
      ]
     },
     "execution_count": 14,
     "metadata": {},
     "output_type": "execute_result"
    }
   ],
   "source": [
    "obj = soup.find('a', attrs = {'class':'photo'})\n",
    "obj"
   ]
  },
  {
   "cell_type": "code",
   "execution_count": 15,
   "id": "2cc4cac5",
   "metadata": {},
   "outputs": [
    {
     "data": {
      "text/plain": [
       "<a class=\"photo\" href=\"/memes/and-im-kanye-west\"><img alt=\"And I'm Kanye West\" data-src=\"https://i.kym-cdn.com/entries/icons/medium/000/038/670/andimkanyewest.jpeg\" src=\"https://s.kym-cdn.com/assets/blank-b3f96f160b75b1b49b426754ba188fe8.gif\" title=\"And I'm Kanye West\"/> <div class=\"entry-labels\"> <span class=\"label label-submission\"> Submission </span> </div> </a>"
      ]
     },
     "execution_count": 15,
     "metadata": {},
     "output_type": "execute_result"
    }
   ],
   "source": [
    "obj = soup.find(lambda tag: tag.name == 'a' and tag.get('class') == ['photo'])\n",
    "obj"
   ]
  },
  {
   "cell_type": "code",
   "execution_count": 26,
   "id": "6209c4f7",
   "metadata": {},
   "outputs": [
    {
     "data": {
      "text/plain": [
       "'/memes/and-im-kanye-west'"
      ]
     },
     "execution_count": 26,
     "metadata": {},
     "output_type": "execute_result"
    }
   ],
   "source": [
    "obj.attrs['href']"
   ]
  },
  {
   "cell_type": "code",
   "execution_count": 27,
   "id": "f93bcbd9",
   "metadata": {},
   "outputs": [
    {
     "name": "stdout",
     "output_type": "stream",
     "text": [
      "Тип данных до вытаскивания ссылки: <class 'bs4.element.Tag'>\n",
      "Тип данных после вытаскивания ссылки: <class 'str'>\n"
     ]
    }
   ],
   "source": [
    "print(\"Тип данных до вытаскивания ссылки:\", type(obj))\n",
    "print(\"Тип данных после вытаскивания ссылки:\", type(obj.attrs['href']))"
   ]
  },
  {
   "cell_type": "code",
   "execution_count": 28,
   "id": "0952cfb7",
   "metadata": {},
   "outputs": [
    {
     "data": {
      "text/plain": [
       "[<a class=\"photo\" href=\"/memes/and-im-kanye-west\"><img alt=\"And I'm Kanye West\" data-src=\"https://i.kym-cdn.com/entries/icons/medium/000/038/670/andimkanyewest.jpeg\" src=\"https://s.kym-cdn.com/assets/blank-b3f96f160b75b1b49b426754ba188fe8.gif\" title=\"And I'm Kanye West\"/> <div class=\"entry-labels\"> <span class=\"label label-submission\"> Submission </span> </div> </a>,\n",
       " <a class=\"photo\" href=\"/memes/things-ive-hit-with-my-car\"><img alt=\"Screenshots of the openings of two videos about hitting things with your car\" data-src=\"https://i.kym-cdn.com/entries/icons/medium/000/038/669/8675309.jpg\" src=\"https://s.kym-cdn.com/assets/blank-b3f96f160b75b1b49b426754ba188fe8.gif\" title=\"Things I've Hit With My Car\"/> <div class=\"entry-labels\"> <span class=\"label label-submission\"> Submission </span> </div> </a>,\n",
       " <a class=\"photo\" href=\"/memes/hey-nerd-i-kissed-your-girlfriend-last-night\"><img alt=\"Hey Nerd, I Kissed Your Girlfriend Last Night\" data-src=\"https://i.kym-cdn.com/entries/icons/medium/000/038/668/cover5.jpg\" src=\"https://s.kym-cdn.com/assets/blank-b3f96f160b75b1b49b426754ba188fe8.gif\" title=\"Hey Nerd, I Kissed Your Girlfriend Last Night\"/> <div class=\"entry-labels\"> <span class=\"label label-submission\"> Submission </span> </div> </a>]"
      ]
     },
     "execution_count": 28,
     "metadata": {},
     "output_type": "execute_result"
    }
   ],
   "source": [
    "meme_links = soup.findAll(lambda tag: tag.name == 'a' and tag.get('class') == ['photo'])\n",
    "meme_links[:3]"
   ]
  },
  {
   "cell_type": "code",
   "execution_count": 29,
   "id": "ccab90ce",
   "metadata": {},
   "outputs": [
    {
     "data": {
      "text/plain": [
       "['/memes/and-im-kanye-west',\n",
       " '/memes/things-ive-hit-with-my-car',\n",
       " '/memes/hey-nerd-i-kissed-your-girlfriend-last-night',\n",
       " '/memes/broccoli-in-hot-tub',\n",
       " '/memes/how-does-it-feel-to-live-my-dream',\n",
       " '/memes/dj-khaled-playing-guitar',\n",
       " '/memes/salam-dari-binjai',\n",
       " '/memes/people/francis-bourgeois',\n",
       " '/memes/hyperborea',\n",
       " '/memes/prank-him-john']"
      ]
     },
     "execution_count": 29,
     "metadata": {},
     "output_type": "execute_result"
    }
   ],
   "source": [
    "meme_links = [link.attrs['href'] for link in meme_links]\n",
    "meme_links[:10]"
   ]
  },
  {
   "cell_type": "code",
   "execution_count": 33,
   "id": "f4cf25ab",
   "metadata": {},
   "outputs": [],
   "source": [
    "def getPageLinks(page_number):\n",
    "    \"\"\"\n",
    "        Возвращает список ссылок на мемы, полученный с текущей страницы\n",
    "\n",
    "        page_number: int/string\n",
    "            номер страницы для парсинга\n",
    "\n",
    "    \"\"\"\n",
    "    # составляем ссылку на страницу поиска\n",
    "    page_link = 'http://knowyourmeme.com/memes/all/page/{}'.format(page_number)\n",
    "\n",
    "    # запрашиваем данные по ней\n",
    "    response = requests.get(page_link, headers={'User-Agent': UserAgent().safari})\n",
    "\n",
    "    if not response.ok:\n",
    "        # если сервер нам отказал, вернем пустой лист для текущей страницы\n",
    "        return []\n",
    "\n",
    "    # получаем содержимое страницы и переводим в суп\n",
    "    html = response.content\n",
    "    soup = BeautifulSoup(html,'html.parser')\n",
    "\n",
    "    # наконец, ищем ссылки на мемы и очищаем их от ненужных тэгов\n",
    "    meme_links = soup.findAll(lambda tag: tag.name == 'a' and tag.get('class') == ['photo'])\n",
    "    meme_links = ['http://knowyourmeme.com' + link.attrs['href'] for link in meme_links]\n",
    "\n",
    "    return meme_links"
   ]
  },
  {
   "cell_type": "code",
   "execution_count": 34,
   "id": "17572f4b",
   "metadata": {},
   "outputs": [
    {
     "data": {
      "text/plain": [
       "['http://knowyourmeme.com/memes/and-im-kanye-west',\n",
       " 'http://knowyourmeme.com/memes/things-ive-hit-with-my-car']"
      ]
     },
     "execution_count": 34,
     "metadata": {},
     "output_type": "execute_result"
    }
   ],
   "source": [
    "meme_links = getPageLinks(1)\n",
    "meme_links[:2]"
   ]
  },
  {
   "cell_type": "code",
   "execution_count": 75,
   "id": "c91482b1",
   "metadata": {},
   "outputs": [],
   "source": [
    "# Теперь собираем информацию о самих мемах\n",
    "\n",
    "meme_page = 'http://knowyourmeme.com/memes/doge'\n",
    "response = requests.get(meme_page, headers={'User-Agent': UserAgent().safari})\n",
    "html = response.content\n",
    "soup = BeautifulSoup(html,'html.parser')\n",
    "#soup"
   ]
  },
  {
   "cell_type": "code",
   "execution_count": 103,
   "id": "c92e90b1",
   "metadata": {},
   "outputs": [
    {
     "data": {
      "text/plain": [
       "(1771, 102, 925, 13787515)"
      ]
     },
     "execution_count": 103,
     "metadata": {},
     "output_type": "execute_result"
    }
   ],
   "source": [
    "#views = soup.find('aside',attrs={'class':'stats'})\n",
    "images = soup.find_all('aside')[0].find_all('a')[0].find('span').text\n",
    "videos = soup.find_all('aside')[0].find_all('a')[1].find('span').text\n",
    "comments = soup.find_all('aside')[0].find_all('a')[2].find('span').text\n",
    "views = soup.find_all('aside')[0].find_all('div')[3].find('span').text\n",
    "\n",
    "images = int(images.replace(',', ''))\n",
    "videos = int(videos.replace(',', ''))\n",
    "comments = int(comments.replace(',', ''))\n",
    "views = int(views.replace(',', ''))\n",
    "#print(views)\n",
    "images, videos, comments,views\n"
   ]
  },
  {
   "cell_type": "code",
   "execution_count": 106,
   "id": "93409595",
   "metadata": {},
   "outputs": [],
   "source": [
    "def getStats(soup):\n",
    "    \"\"\"\n",
    "        Возвращает очищенное число просмотров/коментариев/...\n",
    "\n",
    "        soup: объект bs4.BeautifulSoup \n",
    "            суп текущей страницы\n",
    "\n",
    "        stats: string\n",
    "            views/videos/photos/comments\n",
    "\n",
    "    \"\"\"\n",
    "    \n",
    "    images = soup.find_all('aside')[0].find_all('a')[0].find('span').text\n",
    "    videos = soup.find_all('aside')[0].find_all('a')[1].find('span').text\n",
    "    comments = soup.find_all('aside')[0].find_all('a')[2].find('span').text\n",
    "    views = soup.find_all('aside')[0].find_all('div')[3].find('span').text\n",
    "    \n",
    "    images = int(images.replace(',', ''))\n",
    "    videos = int(videos.replace(',', ''))\n",
    "    comments = int(comments.replace(',', ''))\n",
    "    views = int(views.replace(',', ''))\n",
    "\n",
    "    #obj = soup.find('dd', attrs={'class':stats})\n",
    "    #obj = obj.find('a').text\n",
    "    #obj = int(obj.replace(',', ''))\n",
    "    \n",
    "    return images, videos, comments,views\n",
    "\n",
    "    #return obj"
   ]
  },
  {
   "cell_type": "code",
   "execution_count": 111,
   "id": "464d1b8a",
   "metadata": {},
   "outputs": [],
   "source": [
    "meme_page = 'https://knowyourmeme.com/memes/ankha-zone'\n",
    "response = requests.get(meme_page, headers={'User-Agent': UserAgent().safari})\n",
    "html = response.content\n",
    "soup = BeautifulSoup(html,'html.parser')\n",
    "\n",
    "test = getStats(soup)"
   ]
  },
  {
   "cell_type": "code",
   "execution_count": 112,
   "id": "df099283",
   "metadata": {},
   "outputs": [
    {
     "data": {
      "text/plain": [
       "(24, 34, 144, 1136328)"
      ]
     },
     "execution_count": 112,
     "metadata": {},
     "output_type": "execute_result"
    }
   ],
   "source": [
    "test"
   ]
  },
  {
   "cell_type": "code",
   "execution_count": null,
   "id": "30d988ec",
   "metadata": {},
   "outputs": [],
   "source": []
  }
 ],
 "metadata": {
  "kernelspec": {
   "display_name": "Python 3",
   "language": "python",
   "name": "python3"
  },
  "language_info": {
   "codemirror_mode": {
    "name": "ipython",
    "version": 3
   },
   "file_extension": ".py",
   "mimetype": "text/x-python",
   "name": "python",
   "nbconvert_exporter": "python",
   "pygments_lexer": "ipython3",
   "version": "3.8.8"
  }
 },
 "nbformat": 4,
 "nbformat_minor": 5
}
